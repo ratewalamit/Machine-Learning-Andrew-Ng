{
 "cells": [
  {
   "cell_type": "markdown",
   "id": "209f200a",
   "metadata": {},
   "source": [
    "# Optional Lab: Cost Function for Logistic Regression\n",
    "\n",
    "## Goals\n",
    "In this lab, you will:\n",
    "- examine the implementation and utilize the cost function for logistic regression."
   ]
  },
  {
   "cell_type": "code",
   "execution_count": 1,
   "id": "5f33225d",
   "metadata": {
    "execution": {
     "iopub.execute_input": "2023-08-28T16:11:21.445934Z",
     "iopub.status.busy": "2023-08-28T16:11:21.445239Z",
     "iopub.status.idle": "2023-08-28T16:11:23.893148Z",
     "shell.execute_reply": "2023-08-28T16:11:23.891353Z"
    }
   },
   "outputs": [
    {
     "ename": "ModuleNotFoundError",
     "evalue": "No module named 'lab_utils_common'",
     "output_type": "error",
     "traceback": [
      "\u001b[0;31m---------------------------------------------------------------------------\u001b[0m",
      "\u001b[0;31mModuleNotFoundError\u001b[0m                       Traceback (most recent call last)",
      "Cell \u001b[0;32mIn[1], line 4\u001b[0m\n\u001b[1;32m      2\u001b[0m get_ipython()\u001b[38;5;241m.\u001b[39mrun_line_magic(\u001b[38;5;124m'\u001b[39m\u001b[38;5;124mmatplotlib\u001b[39m\u001b[38;5;124m'\u001b[39m, \u001b[38;5;124m'\u001b[39m\u001b[38;5;124mwidget\u001b[39m\u001b[38;5;124m'\u001b[39m)\n\u001b[1;32m      3\u001b[0m \u001b[38;5;28;01mimport\u001b[39;00m \u001b[38;5;21;01mmatplotlib\u001b[39;00m\u001b[38;5;21;01m.\u001b[39;00m\u001b[38;5;21;01mpyplot\u001b[39;00m \u001b[38;5;28;01mas\u001b[39;00m \u001b[38;5;21;01mplt\u001b[39;00m\n\u001b[0;32m----> 4\u001b[0m \u001b[38;5;28;01mfrom\u001b[39;00m \u001b[38;5;21;01mlab_utils_common\u001b[39;00m \u001b[38;5;28;01mimport\u001b[39;00m  plot_data, sigmoid, dlc\n\u001b[1;32m      5\u001b[0m plt\u001b[38;5;241m.\u001b[39mstyle\u001b[38;5;241m.\u001b[39muse(\u001b[38;5;124m'\u001b[39m\u001b[38;5;124m./deeplearning.mplstyle\u001b[39m\u001b[38;5;124m'\u001b[39m)\n",
      "\u001b[0;31mModuleNotFoundError\u001b[0m: No module named 'lab_utils_common'"
     ]
    }
   ],
   "source": [
    "import numpy as np\n",
    "%matplotlib widget\n",
    "import matplotlib.pyplot as plt\n",
    "from lab_utils_common import  plot_data, sigmoid, dlc\n",
    "plt.style.use('./deeplearning.mplstyle')"
   ]
  },
  {
   "cell_type": "markdown",
   "id": "1bcf0188",
   "metadata": {},
   "source": [
    "## Dataset \n",
    "Let's start with the same dataset as was used in the decision boundary lab."
   ]
  },
  {
   "cell_type": "code",
   "execution_count": 2,
   "id": "1533d0ca",
   "metadata": {
    "execution": {
     "iopub.execute_input": "2023-08-28T16:11:23.899617Z",
     "iopub.status.busy": "2023-08-28T16:11:23.899073Z",
     "iopub.status.idle": "2023-08-28T16:11:23.907565Z",
     "shell.execute_reply": "2023-08-28T16:11:23.905734Z"
    },
    "tags": []
   },
   "outputs": [],
   "source": [
    "X_train = np.array([[0.5, 1.5], [1,1], [1.5, 0.5], [3, 0.5], [2, 2], [1, 2.5]])  #(m,n)\n",
    "y_train = np.array([0, 0, 0, 1, 1, 1])                                           #(m,)"
   ]
  },
  {
   "cell_type": "markdown",
   "id": "3ec090ea",
   "metadata": {},
   "source": [
    "We will use a helper function to plot this data. The data points with label $y=1$ are shown as red crosses, while the data points with label $y=0$ are shown as blue circles."
   ]
  },
  {
   "cell_type": "code",
   "execution_count": 3,
   "id": "e954aa8f",
   "metadata": {
    "execution": {
     "iopub.execute_input": "2023-08-28T16:11:23.914185Z",
     "iopub.status.busy": "2023-08-28T16:11:23.913602Z",
     "iopub.status.idle": "2023-08-28T16:11:24.152511Z",
     "shell.execute_reply": "2023-08-28T16:11:24.150001Z"
    }
   },
   "outputs": [
    {
     "ename": "NameError",
     "evalue": "name 'plot_data' is not defined",
     "output_type": "error",
     "traceback": [
      "\u001b[0;31m---------------------------------------------------------------------------\u001b[0m",
      "\u001b[0;31mNameError\u001b[0m                                 Traceback (most recent call last)",
      "Cell \u001b[0;32mIn[3], line 2\u001b[0m\n\u001b[1;32m      1\u001b[0m fig,ax \u001b[38;5;241m=\u001b[39m plt\u001b[38;5;241m.\u001b[39msubplots(\u001b[38;5;241m1\u001b[39m,\u001b[38;5;241m1\u001b[39m,figsize\u001b[38;5;241m=\u001b[39m(\u001b[38;5;241m4\u001b[39m,\u001b[38;5;241m4\u001b[39m))\n\u001b[0;32m----> 2\u001b[0m \u001b[43mplot_data\u001b[49m(X_train, y_train, ax)\n\u001b[1;32m      4\u001b[0m \u001b[38;5;66;03m# Set both axes to be from 0-4\u001b[39;00m\n\u001b[1;32m      5\u001b[0m ax\u001b[38;5;241m.\u001b[39maxis([\u001b[38;5;241m0\u001b[39m, \u001b[38;5;241m4\u001b[39m, \u001b[38;5;241m0\u001b[39m, \u001b[38;5;241m3.5\u001b[39m])\n",
      "\u001b[0;31mNameError\u001b[0m: name 'plot_data' is not defined"
     ]
    },
    {
     "data": {
      "application/vnd.jupyter.widget-view+json": {
       "model_id": "1ada16b0e0db419bbda47c45646698d2",
       "version_major": 2,
       "version_minor": 0
      },
      "image/png": "[encoded data removed]",
      "text/html": [
       "\n",
       "            <div style=\"display: inline-block;\">\n",
       "                <div class=\"jupyter-widgets widget-label\" style=\"text-align: center;\">\n",
       "                    Figure\n",
       "                </div>\n",
       "                <img src='data:image/png;base64,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' width=400.0/>\n",
       "            </div>\n",
       "        "
      ],
      "text/plain": [
       "Canvas(toolbar=Toolbar(toolitems=[('Home', 'Reset original view', 'home', 'home'), ('Back', 'Back to previous …"
      ]
     },
     "metadata": {},
     "output_type": "display_data"
    }
   ],
   "source": [
    "fig,ax = plt.subplots(1,1,figsize=(4,4))\n",
    "plot_data(X_train, y_train, ax)\n",
    "\n",
    "# Set both axes to be from 0-4\n",
    "ax.axis([0, 4, 0, 3.5])\n",
    "ax.set_ylabel('$x_1$', fontsize=12)\n",
    "ax.set_xlabel('$x_0$', fontsize=12)\n",
    "plt.show()"
   ]
  },
  {
   "cell_type": "markdown",
   "id": "925ebe3c",
   "metadata": {},
   "source": [
    "## Cost function\n",
    "\n",
    "In a previous lab, you developed the *logistic loss* function. Recall, loss is defined to apply to one example. Here you combine the losses to form the **cost**, which includes all the examples.\n",
    "\n",
    "\n",
    "Recall that for logistic regression, the cost function is of the form \n",
    "\n",
    "$$ J(\\mathbf{w},b) = \\frac{1}{m} \\sum_{i=0}^{m-1} \\left[ loss(f_{\\mathbf{w},b}(\\mathbf{x}^{(i)}), y^{(i)}) \\right] \\tag{1}$$\n",
    "\n",
    "where\n",
    "* $loss(f_{\\mathbf{w},b}(\\mathbf{x}^{(i)}), y^{(i)})$ is the cost for a single data point, which is:\n",
    "\n",
    "    $$loss(f_{\\mathbf{w},b}(\\mathbf{x}^{(i)}), y^{(i)}) = -y^{(i)} \\log\\left(f_{\\mathbf{w},b}\\left( \\mathbf{x}^{(i)} \\right) \\right) - \\left( 1 - y^{(i)}\\right) \\log \\left( 1 - f_{\\mathbf{w},b}\\left( \\mathbf{x}^{(i)} \\right) \\right) \\tag{2}$$\n",
    "    \n",
    "*  where m is the number of training examples in the data set and:\n",
    "$$\n",
    "\\begin{align}\n",
    "  f_{\\mathbf{w},b}(\\mathbf{x^{(i)}}) &= g(z^{(i)})\\tag{3} \\\\\n",
    "  z^{(i)} &= \\mathbf{w} \\cdot \\mathbf{x}^{(i)}+ b\\tag{4} \\\\\n",
    "  g(z^{(i)}) &= \\frac{1}{1+e^{-z^{(i)}}}\\tag{5} \n",
    "\\end{align}\n",
    "$$\n",
    " "
   ]
  },
  {
   "cell_type": "markdown",
   "id": "59e03553",
   "metadata": {},
   "source": [
    "<a name='ex-02'></a>\n",
    "#### Code Description\n",
    "\n",
    "The algorithm for `compute_cost_logistic` loops over all the examples calculating the loss for each example and accumulating the total.\n",
    "\n",
    "Note that the variables X and y are not scalar values but matrices of shape ($m, n$) and ($𝑚$,) respectively, where  $𝑛$ is the number of features and $𝑚$ is the number of training examples.\n"
   ]
  },
  {
   "cell_type": "code",
   "execution_count": 4,
   "id": "861f61f2",
   "metadata": {
    "execution": {
     "iopub.execute_input": "2023-08-28T16:11:24.161641Z",
     "iopub.status.busy": "2023-08-28T16:11:24.160868Z",
     "iopub.status.idle": "2023-08-28T16:11:24.178444Z",
     "shell.execute_reply": "2023-08-28T16:11:24.175955Z"
    }
   },
   "outputs": [],
   "source": [
    "def compute_cost_logistic(X, y, w, b):\n",
    "    \"\"\"\n",
    "    Computes cost\n",
    "\n",
    "    Args:\n",
    "      X (ndarray (m,n)): Data, m examples with n features\n",
    "      y (ndarray (m,)) : target values\n",
    "      w (ndarray (n,)) : model parameters  \n",
    "      b (scalar)       : model parameter\n",
    "      \n",
    "    Returns:\n",
    "      cost (scalar): cost\n",
    "    \"\"\"\n",
    "\n",
    "    m = X.shape[0]\n",
    "    cost = 0.0\n",
    "    for i in range(m):\n",
    "        z_i = np.dot(X[i],w) + b\n",
    "        f_wb_i = sigmoid(z_i)\n",
    "        cost +=  -y[i]*np.log(f_wb_i) - (1-y[i])*np.log(1-f_wb_i)\n",
    "             \n",
    "    cost = cost / m\n",
    "    return cost\n"
   ]
  },
  {
   "cell_type": "markdown",
   "id": "e3b9728f",
   "metadata": {},
   "source": [
    "Check the implementation of the cost function using the cell below."
   ]
  },
  {
   "cell_type": "code",
   "execution_count": 5,
   "id": "5d295189",
   "metadata": {
    "execution": {
     "iopub.execute_input": "2023-08-28T16:11:24.187543Z",
     "iopub.status.busy": "2023-08-28T16:11:24.186793Z",
     "iopub.status.idle": "2023-08-28T16:11:24.260500Z",
     "shell.execute_reply": "2023-08-28T16:11:24.258515Z"
    }
   },
   "outputs": [
    {
     "ename": "NameError",
     "evalue": "name 'sigmoid' is not defined",
     "output_type": "error",
     "traceback": [
      "\u001b[0;31m---------------------------------------------------------------------------\u001b[0m",
      "\u001b[0;31mNameError\u001b[0m                                 Traceback (most recent call last)",
      "Cell \u001b[0;32mIn[5], line 3\u001b[0m\n\u001b[1;32m      1\u001b[0m w_tmp \u001b[38;5;241m=\u001b[39m np\u001b[38;5;241m.\u001b[39marray([\u001b[38;5;241m1\u001b[39m,\u001b[38;5;241m1\u001b[39m])\n\u001b[1;32m      2\u001b[0m b_tmp \u001b[38;5;241m=\u001b[39m \u001b[38;5;241m-\u001b[39m\u001b[38;5;241m3\u001b[39m\n\u001b[0;32m----> 3\u001b[0m \u001b[38;5;28mprint\u001b[39m(\u001b[43mcompute_cost_logistic\u001b[49m\u001b[43m(\u001b[49m\u001b[43mX_train\u001b[49m\u001b[43m,\u001b[49m\u001b[43m \u001b[49m\u001b[43my_train\u001b[49m\u001b[43m,\u001b[49m\u001b[43m \u001b[49m\u001b[43mw_tmp\u001b[49m\u001b[43m,\u001b[49m\u001b[43m \u001b[49m\u001b[43mb_tmp\u001b[49m\u001b[43m)\u001b[49m)\n",
      "Cell \u001b[0;32mIn[4], line 19\u001b[0m, in \u001b[0;36mcompute_cost_logistic\u001b[0;34m(X, y, w, b)\u001b[0m\n\u001b[1;32m     17\u001b[0m \u001b[38;5;28;01mfor\u001b[39;00m i \u001b[38;5;129;01min\u001b[39;00m \u001b[38;5;28mrange\u001b[39m(m):\n\u001b[1;32m     18\u001b[0m     z_i \u001b[38;5;241m=\u001b[39m np\u001b[38;5;241m.\u001b[39mdot(X[i],w) \u001b[38;5;241m+\u001b[39m b\n\u001b[0;32m---> 19\u001b[0m     f_wb_i \u001b[38;5;241m=\u001b[39m \u001b[43msigmoid\u001b[49m(z_i)\n\u001b[1;32m     20\u001b[0m     cost \u001b[38;5;241m+\u001b[39m\u001b[38;5;241m=\u001b[39m  \u001b[38;5;241m-\u001b[39my[i]\u001b[38;5;241m*\u001b[39mnp\u001b[38;5;241m.\u001b[39mlog(f_wb_i) \u001b[38;5;241m-\u001b[39m (\u001b[38;5;241m1\u001b[39m\u001b[38;5;241m-\u001b[39my[i])\u001b[38;5;241m*\u001b[39mnp\u001b[38;5;241m.\u001b[39mlog(\u001b[38;5;241m1\u001b[39m\u001b[38;5;241m-\u001b[39mf_wb_i)\n\u001b[1;32m     22\u001b[0m cost \u001b[38;5;241m=\u001b[39m cost \u001b[38;5;241m/\u001b[39m m\n",
      "\u001b[0;31mNameError\u001b[0m: name 'sigmoid' is not defined"
     ]
    }
   ],
   "source": [
    "w_tmp = np.array([1,1])\n",
    "b_tmp = -3\n",
    "print(compute_cost_logistic(X_train, y_train, w_tmp, b_tmp))"
   ]
  },
  {
   "cell_type": "markdown",
   "id": "651b10db",
   "metadata": {},
   "source": [
    "**Expected output**: 0.3668667864055175"
   ]
  },
  {
   "cell_type": "markdown",
   "id": "e25f5779",
   "metadata": {},
   "source": [
    "## Example\n",
    "Now, let's see what the cost function output is for a different value of $w$. \n",
    "\n",
    "* In a previous lab, you plotted the decision boundary for  $b = -3, w_0 = 1, w_1 = 1$. That is, you had `w = np.array([-3,1,1])`.\n",
    "\n",
    "* Let's say you want to see if $b = -4, w_0 = 1, w_1 = 1$, or `w = np.array([-4,1,1])` provides a better model.\n",
    "\n",
    "Let's first plot the decision boundary for these two different $b$ values to see which one fits the data better.\n",
    "\n",
    "* For $b = -3, w_0 = 1, w_1 = 1$, we'll plot $-3 + x_0+x_1 = 0$ (shown in blue)\n",
    "* For $b = -4, w_0 = 1, w_1 = 1$, we'll plot $-4 + x_0+x_1 = 0$ (shown in magenta)"
   ]
  },
  {
   "cell_type": "code",
   "execution_count": 6,
   "id": "a9c96792",
   "metadata": {
    "execution": {
     "iopub.execute_input": "2023-08-28T16:11:24.267683Z",
     "iopub.status.busy": "2023-08-28T16:11:24.266999Z",
     "iopub.status.idle": "2023-08-28T16:11:24.493655Z",
     "shell.execute_reply": "2023-08-28T16:11:24.491191Z"
    }
   },
   "outputs": [
    {
     "ename": "NameError",
     "evalue": "name 'dlc' is not defined",
     "output_type": "error",
     "traceback": [
      "\u001b[0;31m---------------------------------------------------------------------------\u001b[0m",
      "\u001b[0;31mNameError\u001b[0m                                 Traceback (most recent call last)",
      "Cell \u001b[0;32mIn[6], line 12\u001b[0m\n\u001b[1;32m     10\u001b[0m fig,ax \u001b[38;5;241m=\u001b[39m plt\u001b[38;5;241m.\u001b[39msubplots(\u001b[38;5;241m1\u001b[39m, \u001b[38;5;241m1\u001b[39m, figsize\u001b[38;5;241m=\u001b[39m(\u001b[38;5;241m4\u001b[39m,\u001b[38;5;241m4\u001b[39m))\n\u001b[1;32m     11\u001b[0m \u001b[38;5;66;03m# Plot the decision boundary\u001b[39;00m\n\u001b[0;32m---> 12\u001b[0m ax\u001b[38;5;241m.\u001b[39mplot(x0,x1, c\u001b[38;5;241m=\u001b[39m\u001b[43mdlc\u001b[49m[\u001b[38;5;124m\"\u001b[39m\u001b[38;5;124mdlblue\u001b[39m\u001b[38;5;124m\"\u001b[39m], label\u001b[38;5;241m=\u001b[39m\u001b[38;5;124m\"\u001b[39m\u001b[38;5;124m$b$=-3\u001b[39m\u001b[38;5;124m\"\u001b[39m)\n\u001b[1;32m     13\u001b[0m ax\u001b[38;5;241m.\u001b[39mplot(x0,x1_other, c\u001b[38;5;241m=\u001b[39mdlc[\u001b[38;5;124m\"\u001b[39m\u001b[38;5;124mdlmagenta\u001b[39m\u001b[38;5;124m\"\u001b[39m], label\u001b[38;5;241m=\u001b[39m\u001b[38;5;124m\"\u001b[39m\u001b[38;5;124m$b$=-4\u001b[39m\u001b[38;5;124m\"\u001b[39m)\n\u001b[1;32m     14\u001b[0m ax\u001b[38;5;241m.\u001b[39maxis([\u001b[38;5;241m0\u001b[39m, \u001b[38;5;241m4\u001b[39m, \u001b[38;5;241m0\u001b[39m, \u001b[38;5;241m4\u001b[39m])\n",
      "\u001b[0;31mNameError\u001b[0m: name 'dlc' is not defined"
     ]
    },
    {
     "data": {
      "application/vnd.jupyter.widget-view+json": {
       "model_id": "9cee3f026fb4474ebef0bdd65cc15a7c",
       "version_major": 2,
       "version_minor": 0
      },
      "image/png": "[encoded data removed]",
      "text/html": [
       "\n",
       "            <div style=\"display: inline-block;\">\n",
       "                <div class=\"jupyter-widgets widget-label\" style=\"text-align: center;\">\n",
       "                    Figure\n",
       "                </div>\n",
       "                <img src='data:image/png;base64,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' width=400.0/>\n",
       "            </div>\n",
       "        "
      ],
      "text/plain": [
       "Canvas(toolbar=Toolbar(toolitems=[('Home', 'Reset original view', 'home', 'home'), ('Back', 'Back to previous …"
      ]
     },
     "metadata": {},
     "output_type": "display_data"
    }
   ],
   "source": [
    "import matplotlib.pyplot as plt\n",
    "\n",
    "# Choose values between 0 and 6\n",
    "x0 = np.arange(0,6)\n",
    "\n",
    "# Plot the two decision boundaries\n",
    "x1 = 3 - x0\n",
    "x1_other = 4 - x0\n",
    "\n",
    "fig,ax = plt.subplots(1, 1, figsize=(4,4))\n",
    "# Plot the decision boundary\n",
    "ax.plot(x0,x1, c=dlc[\"dlblue\"], label=\"$b$=-3\")\n",
    "ax.plot(x0,x1_other, c=dlc[\"dlmagenta\"], label=\"$b$=-4\")\n",
    "ax.axis([0, 4, 0, 4])\n",
    "\n",
    "# Plot the original data\n",
    "plot_data(X_train,y_train,ax)\n",
    "ax.axis([0, 4, 0, 4])\n",
    "ax.set_ylabel('$x_1$', fontsize=12)\n",
    "ax.set_xlabel('$x_0$', fontsize=12)\n",
    "plt.legend(loc=\"upper right\")\n",
    "plt.title(\"Decision Boundary\")\n",
    "plt.show()"
   ]
  },
  {
   "cell_type": "markdown",
   "id": "2ea1a449",
   "metadata": {},
   "source": [
    "You can see from this plot that `w = np.array([-4,1,1])` is a worse model for the training data. Let's see if the cost function implementation reflects this."
   ]
  },
  {
   "cell_type": "code",
   "execution_count": 7,
   "id": "5ec9377f",
   "metadata": {
    "execution": {
     "iopub.execute_input": "2023-08-28T16:11:24.512031Z",
     "iopub.status.busy": "2023-08-28T16:11:24.511281Z",
     "iopub.status.idle": "2023-08-28T16:11:24.587421Z",
     "shell.execute_reply": "2023-08-28T16:11:24.585512Z"
    }
   },
   "outputs": [
    {
     "ename": "NameError",
     "evalue": "name 'sigmoid' is not defined",
     "output_type": "error",
     "traceback": [
      "\u001b[0;31m---------------------------------------------------------------------------\u001b[0m",
      "\u001b[0;31mNameError\u001b[0m                                 Traceback (most recent call last)",
      "Cell \u001b[0;32mIn[7], line 6\u001b[0m\n\u001b[1;32m      3\u001b[0m w_array2 \u001b[38;5;241m=\u001b[39m np\u001b[38;5;241m.\u001b[39marray([\u001b[38;5;241m1\u001b[39m,\u001b[38;5;241m1\u001b[39m])\n\u001b[1;32m      4\u001b[0m b_2 \u001b[38;5;241m=\u001b[39m \u001b[38;5;241m-\u001b[39m\u001b[38;5;241m4\u001b[39m\n\u001b[0;32m----> 6\u001b[0m \u001b[38;5;28mprint\u001b[39m(\u001b[38;5;124m\"\u001b[39m\u001b[38;5;124mCost for b = -3 : \u001b[39m\u001b[38;5;124m\"\u001b[39m, \u001b[43mcompute_cost_logistic\u001b[49m\u001b[43m(\u001b[49m\u001b[43mX_train\u001b[49m\u001b[43m,\u001b[49m\u001b[43m \u001b[49m\u001b[43my_train\u001b[49m\u001b[43m,\u001b[49m\u001b[43m \u001b[49m\u001b[43mw_array1\u001b[49m\u001b[43m,\u001b[49m\u001b[43m \u001b[49m\u001b[43mb_1\u001b[49m\u001b[43m)\u001b[49m)\n\u001b[1;32m      7\u001b[0m \u001b[38;5;28mprint\u001b[39m(\u001b[38;5;124m\"\u001b[39m\u001b[38;5;124mCost for b = -4 : \u001b[39m\u001b[38;5;124m\"\u001b[39m, compute_cost_logistic(X_train, y_train, w_array2, b_2))\n",
      "Cell \u001b[0;32mIn[4], line 19\u001b[0m, in \u001b[0;36mcompute_cost_logistic\u001b[0;34m(X, y, w, b)\u001b[0m\n\u001b[1;32m     17\u001b[0m \u001b[38;5;28;01mfor\u001b[39;00m i \u001b[38;5;129;01min\u001b[39;00m \u001b[38;5;28mrange\u001b[39m(m):\n\u001b[1;32m     18\u001b[0m     z_i \u001b[38;5;241m=\u001b[39m np\u001b[38;5;241m.\u001b[39mdot(X[i],w) \u001b[38;5;241m+\u001b[39m b\n\u001b[0;32m---> 19\u001b[0m     f_wb_i \u001b[38;5;241m=\u001b[39m \u001b[43msigmoid\u001b[49m(z_i)\n\u001b[1;32m     20\u001b[0m     cost \u001b[38;5;241m+\u001b[39m\u001b[38;5;241m=\u001b[39m  \u001b[38;5;241m-\u001b[39my[i]\u001b[38;5;241m*\u001b[39mnp\u001b[38;5;241m.\u001b[39mlog(f_wb_i) \u001b[38;5;241m-\u001b[39m (\u001b[38;5;241m1\u001b[39m\u001b[38;5;241m-\u001b[39my[i])\u001b[38;5;241m*\u001b[39mnp\u001b[38;5;241m.\u001b[39mlog(\u001b[38;5;241m1\u001b[39m\u001b[38;5;241m-\u001b[39mf_wb_i)\n\u001b[1;32m     22\u001b[0m cost \u001b[38;5;241m=\u001b[39m cost \u001b[38;5;241m/\u001b[39m m\n",
      "\u001b[0;31mNameError\u001b[0m: name 'sigmoid' is not defined"
     ]
    }
   ],
   "source": [
    "w_array1 = np.array([1,1])\n",
    "b_1 = -3\n",
    "w_array2 = np.array([1,1])\n",
    "b_2 = -4\n",
    "\n",
    "print(\"Cost for b = -3 : \", compute_cost_logistic(X_train, y_train, w_array1, b_1))\n",
    "print(\"Cost for b = -4 : \", compute_cost_logistic(X_train, y_train, w_array2, b_2))"
   ]
  },
  {
   "cell_type": "markdown",
   "id": "d05644a0",
   "metadata": {},
   "source": [
    "**Expected output**\n",
    "\n",
    "Cost for b = -3 :  0.3668667864055175\n",
    "\n",
    "Cost for b = -4 :  0.5036808636748461\n",
    "\n",
    "\n",
    "You can see the cost function behaves as expected and the cost for `w = np.array([-4,1,1])` is indeed higher than the cost for `w = np.array([-3,1,1])`"
   ]
  },
  {
   "cell_type": "markdown",
   "id": "34874ec3",
   "metadata": {},
   "source": [
    "## Congratulations!\n",
    "In this lab you examined and utilized the cost function for logistic regression."
   ]
  },
  {
   "cell_type": "code",
   "execution_count": null,
   "id": "5e717972",
   "metadata": {},
   "outputs": [],
   "source": []
  }
 ],
 "metadata": {
  "kernelspec": {
   "display_name": "Python 3",
   "language": "python",
   "name": "python3"
  },
  "language_info": {
   "codemirror_mode": {
    "name": "ipython",
    "version": 3
   },
   "file_extension": ".py",
   "mimetype": "text/x-python",
   "name": "python",
   "nbconvert_exporter": "python",
   "pygments_lexer": "ipython3",
   "version": "3.10.12"
  },
  "widgets": {
   "application/vnd.jupyter.widget-state+json": {
    "state": {
     "1a39eb194ab245f0a5a177687e407037": {
      "model_module": "@jupyter-widgets/base",
      "model_module_version": "2.0.0",
      "model_name": "LayoutModel",
      "state": {
       "_model_module": "@jupyter-widgets/base",
       "_model_module_version": "2.0.0",
       "_model_name": "LayoutModel",
       "_view_count": null,
       "_view_module": "@jupyter-widgets/base",
       "_view_module_version": "2.0.0",
       "_view_name": "LayoutView",
       "align_content": null,
       "align_items": null,
       "align_self": null,
       "border_bottom": null,
       "border_left": null,
       "border_right": null,
       "border_top": null,
       "bottom": null,
       "display": null,
       "flex": null,
       "flex_flow": null,
       "grid_area": null,
       "grid_auto_columns": null,
       "grid_auto_flow": null,
       "grid_auto_rows": null,
       "grid_column": null,
       "grid_gap": null,
       "grid_row": null,
       "grid_template_areas": null,
       "grid_template_columns": null,
       "grid_template_rows": null,
       "height": null,
       "justify_content": null,
       "justify_items": null,
       "left": null,
       "margin": null,
       "max_height": null,
       "max_width": null,
       "min_height": null,
       "min_width": null,
       "object_fit": null,
       "object_position": null,
       "order": null,
       "overflow": null,
       "padding": null,
       "right": null,
       "top": null,
       "visibility": null,
       "width": null
      }
     },
     "1ada16b0e0db419bbda47c45646698d2": {
      "model_module": "jupyter-matplotlib",
      "model_module_version": "^0.11",
      "model_name": "MPLCanvasModel",
      "state": {
       "_cursor": "pointer",
       "_data_url": "data:image/png;base64,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",
       "_dom_classes": [],
       "_figure_label": "Figure",
       "_image_mode": "full",
       "_message": "",
       "_model_module": "jupyter-matplotlib",
       "_model_module_version": "^0.11",
       "_model_name": "MPLCanvasModel",
       "_rubberband_height": 0,
       "_rubberband_width": 0,
       "_rubberband_x": 0,
       "_rubberband_y": 0,
       "_size": [
        400.0,
        400.0
       ],
       "_view_count": null,
       "_view_module": "jupyter-matplotlib",
       "_view_module_version": "^0.11",
       "_view_name": "MPLCanvasView",
       "capture_scroll": false,
       "footer_visible": true,
       "header_visible": true,
       "layout": "IPY_MODEL_d698b89d1f324d939b749e3e47e17a3c",
       "pan_zoom_throttle": 33.0,
       "resizable": true,
       "tabbable": null,
       "toolbar": "IPY_MODEL_7c02314c84794de2b00b5948e71b7071",
       "toolbar_position": "left",
       "toolbar_visible": "fade-in-fade-out",
       "tooltip": null
      }
     },
     "443a46f533c2434cb970a5ace5dafb31": {
      "model_module": "@jupyter-widgets/base",
      "model_module_version": "2.0.0",
      "model_name": "LayoutModel",
      "state": {
       "_model_module": "@jupyter-widgets/base",
       "_model_module_version": "2.0.0",
       "_model_name": "LayoutModel",
       "_view_count": null,
       "_view_module": "@jupyter-widgets/base",
       "_view_module_version": "2.0.0",
       "_view_name": "LayoutView",
       "align_content": null,
       "align_items": null,
       "align_self": null,
       "border_bottom": null,
       "border_left": null,
       "border_right": null,
       "border_top": null,
       "bottom": null,
       "display": null,
       "flex": null,
       "flex_flow": null,
       "grid_area": null,
       "grid_auto_columns": null,
       "grid_auto_flow": null,
       "grid_auto_rows": null,
       "grid_column": null,
       "grid_gap": null,
       "grid_row": null,
       "grid_template_areas": null,
       "grid_template_columns": null,
       "grid_template_rows": null,
       "height": null,
       "justify_content": null,
       "justify_items": null,
       "left": null,
       "margin": null,
       "max_height": null,
       "max_width": null,
       "min_height": null,
       "min_width": null,
       "object_fit": null,
       "object_position": null,
       "order": null,
       "overflow": null,
       "padding": null,
       "right": null,
       "top": null,
       "visibility": null,
       "width": null
      }
     },
     "5b5c371cb6304916a418dd6ab4de1ee6": {
      "model_module": "jupyter-matplotlib",
      "model_module_version": "^0.11",
      "model_name": "ToolbarModel",
      "state": {
       "_current_action": "",
       "_dom_classes": [],
       "_model_module": "jupyter-matplotlib",
       "_model_module_version": "^0.11",
       "_model_name": "ToolbarModel",
       "_view_count": null,
       "_view_module": "jupyter-matplotlib",
       "_view_module_version": "^0.11",
       "_view_name": "ToolbarView",
       "button_style": "",
       "collapsed": true,
       "layout": "IPY_MODEL_7f402db39644415582e689132f565cbd",
       "orientation": "vertical",
       "tabbable": null,
       "toolitems": [
        [
         "Home",
         "Reset original view",
         "home",
         "home"
        ],
        [
         "Back",
         "Back to previous view",
         "arrow-left",
         "back"
        ],
        [
         "Forward",
         "Forward to next view",
         "arrow-right",
         "forward"
        ],
        [
         "Pan",
         "Left button pans, Right button zooms\nx/y fixes axis, CTRL fixes aspect",
         "arrows",
         "pan"
        ],
        [
         "Zoom",
         "Zoom to rectangle\nx/y fixes axis",
         "square-o",
         "zoom"
        ],
        [
         "Download",
         "Download plot",
         "floppy-o",
         "save_figure"
        ]
       ],
       "tooltip": null
      }
     },
     "7c02314c84794de2b00b5948e71b7071": {
      "model_module": "jupyter-matplotlib",
      "model_module_version": "^0.11",
      "model_name": "ToolbarModel",
      "state": {
       "_current_action": "",
       "_dom_classes": [],
       "_model_module": "jupyter-matplotlib",
       "_model_module_version": "^0.11",
       "_model_name": "ToolbarModel",
       "_view_count": null,
       "_view_module": "jupyter-matplotlib",
       "_view_module_version": "^0.11",
       "_view_name": "ToolbarView",
       "button_style": "",
       "collapsed": true,
       "layout": "IPY_MODEL_7e40074ac6ab45349de07a54e82dc619",
       "orientation": "vertical",
       "tabbable": null,
       "toolitems": [
        [
         "Home",
         "Reset original view",
         "home",
         "home"
        ],
        [
         "Back",
         "Back to previous view",
         "arrow-left",
         "back"
        ],
        [
         "Forward",
         "Forward to next view",
         "arrow-right",
         "forward"
        ],
        [
         "Pan",
         "Left button pans, Right button zooms\nx/y fixes axis, CTRL fixes aspect",
         "arrows",
         "pan"
        ],
        [
         "Zoom",
         "Zoom to rectangle\nx/y fixes axis",
         "square-o",
         "zoom"
        ],
        [
         "Download",
         "Download plot",
         "floppy-o",
         "save_figure"
        ]
       ],
       "tooltip": null
      }
     },
     "7e40074ac6ab45349de07a54e82dc619": {
      "model_module": "@jupyter-widgets/base",
      "model_module_version": "2.0.0",
      "model_name": "LayoutModel",
      "state": {
       "_model_module": "@jupyter-widgets/base",
       "_model_module_version": "2.0.0",
       "_model_name": "LayoutModel",
       "_view_count": null,
       "_view_module": "@jupyter-widgets/base",
       "_view_module_version": "2.0.0",
       "_view_name": "LayoutView",
       "align_content": null,
       "align_items": null,
       "align_self": null,
       "border_bottom": null,
       "border_left": null,
       "border_right": null,
       "border_top": null,
       "bottom": null,
       "display": null,
       "flex": null,
       "flex_flow": null,
       "grid_area": null,
       "grid_auto_columns": null,
       "grid_auto_flow": null,
       "grid_auto_rows": null,
       "grid_column": null,
       "grid_gap": null,
       "grid_row": null,
       "grid_template_areas": null,
       "grid_template_columns": null,
       "grid_template_rows": null,
       "height": null,
       "justify_content": null,
       "justify_items": null,
       "left": null,
       "margin": null,
       "max_height": null,
       "max_width": null,
       "min_height": null,
       "min_width": null,
       "object_fit": null,
       "object_position": null,
       "order": null,
       "overflow": null,
       "padding": null,
       "right": null,
       "top": null,
       "visibility": null,
       "width": null
      }
     },
     "7f402db39644415582e689132f565cbd": {
      "model_module": "@jupyter-widgets/base",
      "model_module_version": "2.0.0",
      "model_name": "LayoutModel",
      "state": {
       "_model_module": "@jupyter-widgets/base",
       "_model_module_version": "2.0.0",
       "_model_name": "LayoutModel",
       "_view_count": null,
       "_view_module": "@jupyter-widgets/base",
       "_view_module_version": "2.0.0",
       "_view_name": "LayoutView",
       "align_content": null,
       "align_items": null,
       "align_self": null,
       "border_bottom": null,
       "border_left": null,
       "border_right": null,
       "border_top": null,
       "bottom": null,
       "display": null,
       "flex": null,
       "flex_flow": null,
       "grid_area": null,
       "grid_auto_columns": null,
       "grid_auto_flow": null,
       "grid_auto_rows": null,
       "grid_column": null,
       "grid_gap": null,
       "grid_row": null,
       "grid_template_areas": null,
       "grid_template_columns": null,
       "grid_template_rows": null,
       "height": null,
       "justify_content": null,
       "justify_items": null,
       "left": null,
       "margin": null,
       "max_height": null,
       "max_width": null,
       "min_height": null,
       "min_width": null,
       "object_fit": null,
       "object_position": null,
       "order": null,
       "overflow": null,
       "padding": null,
       "right": null,
       "top": null,
       "visibility": null,
       "width": null
      }
     },
     "932ebf4e37814a6e9f35e7c03064c0d1": {
      "model_module": "jupyter-matplotlib",
      "model_module_version": "^0.11",
      "model_name": "ToolbarModel",
      "state": {
       "_current_action": "",
       "_dom_classes": [],
       "_model_module": "jupyter-matplotlib",
       "_model_module_version": "^0.11",
       "_model_name": "ToolbarModel",
       "_view_count": null,
       "_view_module": "jupyter-matplotlib",
       "_view_module_version": "^0.11",
       "_view_name": "ToolbarView",
       "button_style": "",
       "collapsed": true,
       "layout": "IPY_MODEL_e027a205cc054462b9f92069f1799187",
       "orientation": "vertical",
       "tabbable": null,
       "toolitems": [
        [
         "Home",
         "Reset original view",
         "home",
         "home"
        ],
        [
         "Back",
         "Back to previous view",
         "arrow-left",
         "back"
        ],
        [
         "Forward",
         "Forward to next view",
         "arrow-right",
         "forward"
        ],
        [
         "Pan",
         "Left button pans, Right button zooms\nx/y fixes axis, CTRL fixes aspect",
         "arrows",
         "pan"
        ],
        [
         "Zoom",
         "Zoom to rectangle\nx/y fixes axis",
         "square-o",
         "zoom"
        ],
        [
         "Download",
         "Download plot",
         "floppy-o",
         "save_figure"
        ]
       ],
       "tooltip": null
      }
     },
     "9cee3f026fb4474ebef0bdd65cc15a7c": {
      "model_module": "jupyter-matplotlib",
      "model_module_version": "^0.11",
      "model_name": "MPLCanvasModel",
      "state": {
       "_cursor": "pointer",
       "_data_url": "data:image/png;base64,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",
       "_dom_classes": [],
       "_figure_label": "Figure",
       "_image_mode": "full",
       "_message": "",
       "_model_module": "jupyter-matplotlib",
       "_model_module_version": "^0.11",
       "_model_name": "MPLCanvasModel",
       "_rubberband_height": 0,
       "_rubberband_width": 0,
       "_rubberband_x": 0,
       "_rubberband_y": 0,
       "_size": [
        400.0,
        400.0
       ],
       "_view_count": null,
       "_view_module": "jupyter-matplotlib",
       "_view_module_version": "^0.11",
       "_view_name": "MPLCanvasView",
       "capture_scroll": false,
       "footer_visible": true,
       "header_visible": true,
       "layout": "IPY_MODEL_1a39eb194ab245f0a5a177687e407037",
       "pan_zoom_throttle": 33.0,
       "resizable": true,
       "tabbable": null,
       "toolbar": "IPY_MODEL_932ebf4e37814a6e9f35e7c03064c0d1",
       "toolbar_position": "left",
       "toolbar_visible": "fade-in-fade-out",
       "tooltip": null
      }
     },
     "bacbb0e8965548fca24d740ed3dee21a": {
      "model_module": "jupyter-matplotlib",
      "model_module_version": "^0.11",
      "model_name": "ToolbarModel",
      "state": {
       "_current_action": "",
       "_dom_classes": [],
       "_model_module": "jupyter-matplotlib",
       "_model_module_version": "^0.11",
       "_model_name": "ToolbarModel",
       "_view_count": null,
       "_view_module": "jupyter-matplotlib",
       "_view_module_version": "^0.11",
       "_view_name": "ToolbarView",
       "button_style": "",
       "collapsed": true,
       "layout": "IPY_MODEL_443a46f533c2434cb970a5ace5dafb31",
       "orientation": "vertical",
       "tabbable": null,
       "toolitems": [
        [
         "Home",
         "Reset original view",
         "home",
         "home"
        ],
        [
         "Back",
         "Back to previous view",
         "arrow-left",
         "back"
        ],
        [
         "Forward",
         "Forward to next view",
         "arrow-right",
         "forward"
        ],
        [
         "Pan",
         "Left button pans, Right button zooms\nx/y fixes axis, CTRL fixes aspect",
         "arrows",
         "pan"
        ],
        [
         "Zoom",
         "Zoom to rectangle\nx/y fixes axis",
         "square-o",
         "zoom"
        ],
        [
         "Download",
         "Download plot",
         "floppy-o",
         "save_figure"
        ]
       ],
       "tooltip": null
      }
     },
     "d698b89d1f324d939b749e3e47e17a3c": {
      "model_module": "@jupyter-widgets/base",
      "model_module_version": "2.0.0",
      "model_name": "LayoutModel",
      "state": {
       "_model_module": "@jupyter-widgets/base",
       "_model_module_version": "2.0.0",
       "_model_name": "LayoutModel",
       "_view_count": null,
       "_view_module": "@jupyter-widgets/base",
       "_view_module_version": "2.0.0",
       "_view_name": "LayoutView",
       "align_content": null,
       "align_items": null,
       "align_self": null,
       "border_bottom": null,
       "border_left": null,
       "border_right": null,
       "border_top": null,
       "bottom": null,
       "display": null,
       "flex": null,
       "flex_flow": null,
       "grid_area": null,
       "grid_auto_columns": null,
       "grid_auto_flow": null,
       "grid_auto_rows": null,
       "grid_column": null,
       "grid_gap": null,
       "grid_row": null,
       "grid_template_areas": null,
       "grid_template_columns": null,
       "grid_template_rows": null,
       "height": null,
       "justify_content": null,
       "justify_items": null,
       "left": null,
       "margin": null,
       "max_height": null,
       "max_width": null,
       "min_height": null,
       "min_width": null,
       "object_fit": null,
       "object_position": null,
       "order": null,
       "overflow": null,
       "padding": null,
       "right": null,
       "top": null,
       "visibility": null,
       "width": null
      }
     },
     "e027a205cc054462b9f92069f1799187": {
      "model_module": "@jupyter-widgets/base",
      "model_module_version": "2.0.0",
      "model_name": "LayoutModel",
      "state": {
       "_model_module": "@jupyter-widgets/base",
       "_model_module_version": "2.0.0",
       "_model_name": "LayoutModel",
       "_view_count": null,
       "_view_module": "@jupyter-widgets/base",
       "_view_module_version": "2.0.0",
       "_view_name": "LayoutView",
       "align_content": null,
       "align_items": null,
       "align_self": null,
       "border_bottom": null,
       "border_left": null,
       "border_right": null,
       "border_top": null,
       "bottom": null,
       "display": null,
       "flex": null,
       "flex_flow": null,
       "grid_area": null,
       "grid_auto_columns": null,
       "grid_auto_flow": null,
       "grid_auto_rows": null,
       "grid_column": null,
       "grid_gap": null,
       "grid_row": null,
       "grid_template_areas": null,
       "grid_template_columns": null,
       "grid_template_rows": null,
       "height": null,
       "justify_content": null,
       "justify_items": null,
       "left": null,
       "margin": null,
       "max_height": null,
       "max_width": null,
       "min_height": null,
       "min_width": null,
       "object_fit": null,
       "object_position": null,
       "order": null,
       "overflow": null,
       "padding": null,
       "right": null,
       "top": null,
       "visibility": null,
       "width": null
      }
     }
    },
    "version_major": 2,
    "version_minor": 0
   }
  }
 },
 "nbformat": 4,
 "nbformat_minor": 5
}
