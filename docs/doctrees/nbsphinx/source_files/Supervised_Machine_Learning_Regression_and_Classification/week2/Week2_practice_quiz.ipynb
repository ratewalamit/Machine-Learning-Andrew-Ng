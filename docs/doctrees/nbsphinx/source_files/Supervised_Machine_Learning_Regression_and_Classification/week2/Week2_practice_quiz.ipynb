{
 "cells": [
  {
   "cell_type": "markdown",
   "id": "9c89a8e7",
   "metadata": {},
   "source": [
    "## Weak-2"
   ]
  },
  {
   "cell_type": "markdown",
   "id": "ae5c8d6b",
   "metadata": {},
   "source": [
    "### Practice Quiz - 1"
   ]
  },
  {
   "cell_type": "markdown",
   "id": "83ba8488",
   "metadata": {},
   "source": [
    "<figure>\n",
    "            <center> <img src=\"Practice_quiz/ss1.png\"  alt='missing' width=\"800\"  ><center/>\n",
    "<figure/>"
   ]
  },
  {
   "cell_type": "markdown",
   "id": "3676b431",
   "metadata": {},
   "source": [
    "### Practice Quiz - 2"
   ]
  },
  {
   "cell_type": "markdown",
   "id": "370c8fb0",
   "metadata": {},
   "source": [
    "<figure>\n",
    "    <center> <img src=\"Practice_quiz/ss2.png\"  alt='missing' width=\"800\"  ><center/>\n",
    "<figure/>"
   ]
  },
  {
   "cell_type": "markdown",
   "id": "bb76966b",
   "metadata": {},
   "source": [
    "### Practice Quiz - 3"
   ]
  },
  {
   "cell_type": "markdown",
   "id": "8983ae28",
   "metadata": {},
   "source": [
    "<figure>\n",
    "    <center> <img src=\"Practice_quiz/ss3.png\"  alt='missing' width=\"800\"  ><center/>\n",
    "<figure/>"
   ]
  }
 ],
 "metadata": {
  "kernelspec": {
   "display_name": "Python 3 (ipykernel)",
   "language": "python",
   "name": "python3"
  },
  "language_info": {
   "codemirror_mode": {
    "name": "ipython",
    "version": 3
   },
   "file_extension": ".py",
   "mimetype": "text/x-python",
   "name": "python",
   "nbconvert_exporter": "python",
   "pygments_lexer": "ipython3",
   "version": "3.10.6"
  }
 },
 "nbformat": 4,
 "nbformat_minor": 5
}
