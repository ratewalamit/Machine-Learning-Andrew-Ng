{
 "cells": [
  {
   "cell_type": "markdown",
   "id": "f95ab16b",
   "metadata": {},
   "source": [
    "# Unsupervised_Learning\n",
    "**(Recommenders_Reinforcement_Learning)**"
   ]
  },
  {
   "cell_type": "code",
   "execution_count": 2,
   "id": "1c4d11f6",
   "metadata": {},
   "outputs": [],
   "source": []
  },
  {
   "cell_type": "code",
   "execution_count": null,
   "id": "b3d001e8",
   "metadata": {},
   "outputs": [],
   "source": []
  }
 ],
 "metadata": {
  "kernelspec": {
   "display_name": "Python 3 (ipykernel)",
   "language": "python",
   "name": "python3"
  },
  "language_info": {
   "codemirror_mode": {
    "name": "ipython",
    "version": 3
   },
   "file_extension": ".py",
   "mimetype": "text/x-python",
   "name": "python",
   "nbconvert_exporter": "python",
   "pygments_lexer": "ipython3",
   "version": "3.10.6"
  }
 },
 "nbformat": 4,
 "nbformat_minor": 5
}
