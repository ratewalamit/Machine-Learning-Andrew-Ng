{
 "cells": [
  {
   "cell_type": "markdown",
   "id": "cd2c88d2",
   "metadata": {
    "jp-MarkdownHeadingCollapsed": true
   },
   "source": [
    "<hr style=\"height: 3px; background-color: black;\">\n"
   ]
  },
  {
   "cell_type": "markdown",
   "id": "83159574",
   "metadata": {},
   "source": [
    "# Advanced_Learning_Algorithms"
   ]
  },
  {
   "cell_type": "markdown",
   "id": "a24c793c",
   "metadata": {},
   "source": [
    "#### **(Convolutional Neural Networks)**"
   ]
  },
  {
   "cell_type": "markdown",
   "id": "d846f923",
   "metadata": {},
   "source": [
    "<hr style=\"height: 3px; background-color: black;\">\n",
    "<div style=\"margin-bottom: 4vh;\"> </div>    \n"
   ]
  }
 ],
 "metadata": {
  "kernelspec": {
   "display_name": "Python 3 (ipykernel)",
   "language": "python",
   "name": "python3"
  },
  "language_info": {
   "codemirror_mode": {
    "name": "ipython",
    "version": 3
   },
   "file_extension": ".py",
   "mimetype": "text/x-python",
   "name": "python",
   "nbconvert_exporter": "python",
   "pygments_lexer": "ipython3",
   "version": "3.10.12"
  }
 },
 "nbformat": 4,
 "nbformat_minor": 5
}
