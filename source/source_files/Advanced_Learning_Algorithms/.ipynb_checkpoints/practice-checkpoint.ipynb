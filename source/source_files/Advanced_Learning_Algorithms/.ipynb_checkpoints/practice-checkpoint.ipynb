{
 "cells": [
  {
   "cell_type": "markdown",
   "id": "09540ba4",
   "metadata": {},
   "source": [
    "<hr style=\"height:3px;background-color:black;\">\n",
    "<div style=\"margin-bottom: 4vh;\"></div>"
   ]
  },
  {
   "cell_type": "markdown",
   "id": "39848fd2",
   "metadata": {},
   "source": [
    "## Practice Quiz"
   ]
  },
  {
   "cell_type": "markdown",
   "id": "5204d418",
   "metadata": {},
   "source": [
    "<center> <img src=\"week1/Practice_quiz/Practice-Quiz-Neural-Networks-Implementation-in-python/ss1.png\" style=\"width:100vw;padding:10px 20px;\"> </img></center>\n"
   ]
  },
  {
   "cell_type": "markdown",
   "id": "442f2a86",
   "metadata": {},
   "source": [
    "<center> <img src=\"week1/Practice_quiz/Practice-Quiz-Neural-Networks-Implementation-in-python/ss2.png\" style=\"width:100vw;padding:10px 20px;\"> </img></center>\n"
   ]
  },
  {
   "cell_type": "markdown",
   "id": "2a0f79f9",
   "metadata": {},
   "source": [
    "<center> <img src=\"week1/Practice_quiz/Practice-Quiz-Neural-Networks-Implementation-in-python/ss3.png\" style=\"width:100vw;padding:10px 20px;\"> </img></center>\n"
   ]
  },
  {
   "cell_type": "markdown",
   "id": "d1f232a5",
   "metadata": {},
   "source": [
    "<center> <img src=\"week1/Practice_quiz/Practicequiz-Neuralnetworkmodel/ss1.png\" style=\"width:100vw;padding:10px 20px;\"> </img></center>\n"
   ]
  },
  {
   "cell_type": "markdown",
   "id": "4fc30364",
   "metadata": {},
   "source": [
    "<center> <img src=\"week1/Practice_quiz/Practicequiz-Neuralnetworkmodel/ss2.png\" style=\"width:100vw;padding:10px 20px;\"> </img></center>\n"
   ]
  },
  {
   "cell_type": "markdown",
   "id": "e933db5d",
   "metadata": {},
   "source": [
    "<center> <img src=\"week1/Practice_quiz/Practicequiz-Neuralnetworksintuition/ss1.png\" style=\"width:100vw;padding:10px 20px;\"> </img></center>\n"
   ]
  },
  {
   "cell_type": "markdown",
   "id": "f3e05310",
   "metadata": {},
   "source": [
    "<center> <img src=\"week1/Practice_quiz/Practicequiz-TensorFlowimplementation/ss1.png\"\" style=\"width:100vw;padding:10px 20px;\"> </img></center>\n"
   ]
  },
  {
   "cell_type": "markdown",
   "id": "cdfc4710",
   "metadata": {},
   "source": [
    "<center> <img src=\"week1/Practice_quiz/Practicequiz-TensorFlowimplementation/ss2.png\"\" style=\"width:100vw;padding:10px 20px;\"> </img></center>\n"
   ]
  },
  {
   "cell_type": "code",
   "execution_count": null,
   "id": "d5fe9b98",
   "metadata": {},
   "outputs": [],
   "source": []
  }
 ],
 "metadata": {
  "kernelspec": {
   "display_name": "Python 3 (ipykernel)",
   "language": "python",
   "name": "python3"
  },
  "language_info": {
   "codemirror_mode": {
    "name": "ipython",
    "version": 3
   },
   "file_extension": ".py",
   "mimetype": "text/x-python",
   "name": "python",
   "nbconvert_exporter": "python",
   "pygments_lexer": "ipython3",
   "version": "3.10.12"
  }
 },
 "nbformat": 4,
 "nbformat_minor": 5
}
