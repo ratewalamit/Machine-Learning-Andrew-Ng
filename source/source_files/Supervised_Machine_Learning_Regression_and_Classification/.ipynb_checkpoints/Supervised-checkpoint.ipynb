{
 "cells": [
  {
   "cell_type": "markdown",
   "id": "e879e1cd",
   "metadata": {},
   "source": [
    "\n",
    "<hr style=\"height: 3px; background-color: black;\">\n"
   ]
  },
  {
   "cell_type": "markdown",
   "id": "f7a648ad",
   "metadata": {},
   "source": [
    "# Supervised_Machine_Learning"
   ]
  },
  {
   "cell_type": "markdown",
   "id": "f4258afb",
   "metadata": {},
   "source": [
    "**(Regression_and_Classification)**"
   ]
  },
  {
   "cell_type": "markdown",
   "id": "84f2d83f",
   "metadata": {},
   "source": [
    "<hr style=\"height: 3px; background-color: black;\">\n",
    "<div style=\"margin-bottom: 4vh;\"> </div>    "
   ]
  },
  {
   "cell_type": "markdown",
   "id": "9c89a8e7",
   "metadata": {},
   "source": [
    "## Module - 1"
   ]
  },
  {
   "cell_type": "markdown",
   "id": "61f5da69",
   "metadata": {},
   "source": [
    "<div style=\"margin-bottom: 8vh;\"> </div>   "
   ]
  },
  {
   "cell_type": "markdown",
   "id": "54a38366",
   "metadata": {},
   "source": [
    "<div style=\"margin-bottom: 5vh;\"> </div>   "
   ]
  },
  {
   "cell_type": "markdown",
   "id": "b1b21772",
   "metadata": {
    "pycharm": {
     "name": "#%% md\n"
    }
   },
   "source": [
    "### Optional Lab - W1:  Brief Introduction to Python and Jupyter Notebooks\n",
    "Welcome to the first optional lab! \n",
    "Optional labs are available to:\n",
    "- provide information - like this notebook\n",
    "- reinforce lecture material with hands-on examples\n",
    "- provide working examples of routines used in the graded labs"
   ]
  },
  {
   "cell_type": "markdown",
   "id": "90d41002",
   "metadata": {
    "pycharm": {
     "name": "#%% md\n"
    }
   },
   "source": [
    "#### Goals\n",
    "In this lab, you will:\n",
    "- Get a brief introduction to Jupyter notebooks\n",
    "- Take a tour of Jupyter notebooks\n",
    "- Learn the difference between markdown cells and code cells\n",
    "- Practice some basic python\n"
   ]
  },
  {
   "cell_type": "markdown",
   "id": "b66d184a",
   "metadata": {
    "pycharm": {
     "name": "#%% md\n"
    }
   },
   "source": [
    "The easiest way to become familiar with Jupyter notebooks is to take the tour available above in the Help menu:"
   ]
  },
  {
   "cell_type": "markdown",
   "id": "9d349233",
   "metadata": {
    "pycharm": {
     "name": "#%% md\n"
    }
   },
   "source": [
    "<figure>\n",
    "        <center> <img src=\"week1/Optional_Labs/images/C1W1L1_Tour.PNG\"  alt='missing' width=\"400\"  ><center/>\n",
    "<figure/>"
   ]
  },
  {
   "cell_type": "markdown",
   "id": "626efcef",
   "metadata": {
    "pycharm": {
     "name": "#%% md\n"
    }
   },
   "source": [
    "Jupyter notebooks have two types of cells that are used in this course. Cells such as this which contain documentation called `Markdown Cells`. The name is derived from the simple formatting language used in the cells. You will not be required to produce markdown cells. Its useful to understand the `cell pulldown` shown in graphic below. Occasionally, a cell will end up in the wrong mode and you may need to restore it to the right state:"
   ]
  },
  {
   "cell_type": "markdown",
   "id": "7628d4bb",
   "metadata": {
    "pycharm": {
     "name": "#%% md\n"
    }
   },
   "source": [
    "<figure>\n",
    "   <img src=\"week1/Optional_Labs/images/C1W1L1_Markdown.PNG\"  alt='missing' width=\"400\"  >\n",
    "<figure/>"
   ]
  },
  {
   "cell_type": "markdown",
   "id": "8fccc52e",
   "metadata": {
    "pycharm": {
     "name": "#%% md\n"
    }
   },
   "source": [
    "The other type of cell is the `code cell` where you will write your code:"
   ]
  },
  {
   "cell_type": "code",
   "execution_count": null,
   "id": "516171ee",
   "metadata": {
    "pycharm": {
     "name": "#%%\n"
    }
   },
   "outputs": [],
   "source": [
    "#This is  a 'Code' Cell\n",
    "print(\"This is  code cell\")"
   ]
  },
  {
   "cell_type": "markdown",
   "id": "595587c1",
   "metadata": {
    "pycharm": {
     "name": "#%% md\n"
    }
   },
   "source": [
    "### Python\n",
    "You can write your code in the code cells. \n",
    "To run the code, select the cell and either\n",
    "- hold the shift-key down and hit 'enter' or 'return'\n",
    "- click the 'run' arrow above\n",
    "<figure>\n",
    "    <img src=\"week1/Optional_Labs/images/C1W1L1_Run.PNG\"  width=\"800\"  >\n",
    "<figure/>\n",
    "\n",
    " "
   ]
  },
  {
   "cell_type": "markdown",
   "id": "b857a668",
   "metadata": {
    "pycharm": {
     "name": "#%% md\n"
    }
   },
   "source": [
    "#### Print statement\n",
    "Print statements will generally use the python f-string style.  \n",
    "Try creating your own print in the following cell.  \n",
    "Try both methods of running the cell."
   ]
  },
  {
   "cell_type": "code",
   "execution_count": null,
   "id": "0943898b",
   "metadata": {
    "pycharm": {
     "name": "#%%\n"
    }
   },
   "outputs": [],
   "source": [
    "# print statements\n",
    "variable = \"right in the strings!\"\n",
    "print(f\"f strings allow you to embed variables {variable}\")"
   ]
  },
  {
   "cell_type": "markdown",
   "id": "ae5c8d6b",
   "metadata": {},
   "source": [
    "### Practice Quiz "
   ]
  },
  {
   "cell_type": "markdown",
   "id": "fa60bfd4",
   "metadata": {},
   "source": [
    "#### Quiz - 1"
   ]
  },
  {
   "cell_type": "markdown",
   "id": "b882bed3",
   "metadata": {},
   "source": [
    "<figure>\n",
    "            <center> <img src=\"week1/Practice_quiz/ss1.png\"  alt='missing' width=\"800\"  ><center/>\n",
    "<figure/>"
   ]
  },
  {
   "cell_type": "markdown",
   "id": "3676b431",
   "metadata": {},
   "source": [
    "#### Quiz - 2"
   ]
  },
  {
   "cell_type": "markdown",
   "id": "8073f44a",
   "metadata": {},
   "source": [
    "<figure>\n",
    "    <center> <img src=\"week1/Practice_quiz/ss2.png\"  alt='missing' width=\"800\"  ><center/>\n",
    "<figure/>"
   ]
  },
  {
   "cell_type": "markdown",
   "id": "bb76966b",
   "metadata": {},
   "source": [
    "#### Quiz - 3"
   ]
  },
  {
   "cell_type": "markdown",
   "id": "8983ae28",
   "metadata": {},
   "source": [
    "<figure>\n",
    "    <center> <img src=\"week1/Practice_quiz/ss3.png\"  alt='missing' width=\"800\"  ><center/>\n",
    "<figure/>"
   ]
  },
  {
   "cell_type": "code",
   "execution_count": null,
   "id": "70f33b93",
   "metadata": {},
   "outputs": [],
   "source": [
    "#ignore these lines, these are added to load some data\n",
    "import sys,os\n",
    "proj_path=f\"{os.environ['HOME']}/my_web/Machine-Learning-Andrew-Ng\"\n",
    "sys.path.append(f\"{proj_path}/source/source_files/Supervised_Machine_Learning_Regression_and_Classification\")\n",
    "sys.path.append(f\"{proj_path}/source/source_files/Supervised_Machine_Learning_Regression_and_Classification/week1\")"
   ]
  },
  {
   "cell_type": "code",
   "execution_count": null,
   "id": "c4b22a53",
   "metadata": {},
   "outputs": [],
   "source": [
    "sys.path.append(f\"{proj_path}/source_files/Supervised_Machine_Learning_Regression_and_Classification/week2\")\n",
    "sys.path.append(f\"{proj_path}/source/source_files/Supervised_Machine_Learning_Regression_and_Classification/week3\")\n",
    "sys.path.append(f\"{proj_path}/source/source_files/Supervised_Machine_Learning_Regression_and_Classification/week2/C1W2A1\")\n",
    "sys.path.append(f\"{proj_path}/source/source_files/Supervised_Machine_Learning_Regression_and_Classification/week3/OptionalLabs\")\n",
    "sys.path.append(f\"{proj_path}/source/source_files/Supervised_Machine_Learning_Regression_and_Classification/week3/C1W3A1\")"
   ]
  },
  {
   "cell_type": "markdown",
   "id": "51ecaaed",
   "metadata": {},
   "source": [
    "<div style=\"margin-bottom: 8vh;\"> </div>  \n",
    "<hr style=\"height: 3px; background-color: black;\">\n",
    "<div style=\"margin-bottom: 10vh;\"> </div>  \n"
   ]
  },
  {
   "cell_type": "markdown",
   "id": "cd4c5e8c",
   "metadata": {},
   "source": [
    "## Module - 2"
   ]
  },
  {
   "cell_type": "markdown",
   "id": "8cc31b14",
   "metadata": {
    "pycharm": {
     "name": "#%% md\n"
    }
   },
   "source": [
    "### Optional Lab W2: Python, NumPy and Vectorization\n",
    "A brief introduction to some of the scientific computing used in this course. In particular the NumPy scientific computing package and its use with python.\n",
    "\n",
    "#### Outline\n",
    "- [1.1 Goals <a name='Goals'></a>](#toc_40015_1.1)\n",
    "- [1.2 Useful References <a name='Useful References'></a>](#toc_40015_1.2)\n",
    "- [2 Python and NumPy <a name='Python and NumPy'></a>](#toc_40015_2)\n",
    "- [3 Vectors <a name='Vectors'></a>](#toc_40015_3)\n",
    "- [3.1 Abstract <a name='Abstract'></a>](#toc_40015_3.1)\n",
    "- [3.2 NumPy Arrays <a name='NumPy Arrays'></a>](#toc_40015_3.2)\n",
    "- [3.3 Vector Creation <a name='Vector Creation'></a>](#toc_40015_3.3)\n",
    "- [3.4 Operations on Vectors <a name='Operations on Vectors'></a>](#toc_40015_3.4)\n",
    "- [4 Matrices <a name='Matrices'></a>](#toc_40015_4)\n",
    "- [4.1 Abstract <a name='Abstract'></a>](#toc_40015_4.1)\n",
    "- [4.2 NumPy Arrays <a name='NumPy Arrays'></a>](#toc_40015_4.2)\n",
    "- [4.3 Matrix Creation <a name='Matrix Creation'></a>](#toc_40015_4.3)\n",
    "- [4.4 Operations on Matrices <a name='Operations on Matrices'></a>](#toc_40015_4.4)\n"
   ]
  },
  {
   "cell_type": "code",
   "execution_count": null,
   "id": "af16092d",
   "metadata": {
    "pycharm": {
     "name": "#%%\n"
    }
   },
   "outputs": [],
   "source": [
    "import numpy as np    # it is an unofficial standard to use np for numpy\n",
    "import time"
   ]
  },
  {
   "cell_type": "markdown",
   "id": "e31e5856",
   "metadata": {
    "pycharm": {
     "name": "#%% md\n"
    }
   },
   "source": [
    "#### 1.1 Goals \n",
    "<a name=\"toc_40015_1.1\"></a>\n",
    "In this lab, you will:\n",
    "- Review the features of NumPy and Python that are used in Course 1"
   ]
  },
  {
   "cell_type": "markdown",
   "id": "a294dbb6",
   "metadata": {
    "pycharm": {
     "name": "#%% md\n"
    }
   },
   "source": [
    "#### 1.2 Useful References\n",
    "<a name=\"toc_40015_1.2\"></a>\n",
    "- NumPy Documentation including a basic introduction: [NumPy.org](https://NumPy.org/doc/stable/)\n",
    "- A challenging feature topic: [NumPy Broadcasting](https://NumPy.org/doc/stable/user/basics.broadcasting.html)\n"
   ]
  },
  {
   "cell_type": "markdown",
   "id": "d287556d",
   "metadata": {
    "pycharm": {
     "name": "#%% md\n"
    }
   },
   "source": [
    "#### 2 Python and NumPy <a name='Python and NumPy'></a>\n",
    "<a name=\"toc_40015_2\"></a>\n",
    "Python is the programming language we will be using in this course. It has a set of numeric data types and arithmetic operations. NumPy is a library that extends the base capabilities of python to add a richer data set including more numeric types, vectors, matrices, and many matrix functions. NumPy and python  work together fairly seamlessly. Python arithmetic operators work on NumPy data types and many NumPy functions will accept python data types.\n"
   ]
  },
  {
   "cell_type": "markdown",
   "id": "1b3b25f8",
   "metadata": {
    "pycharm": {
     "name": "#%% md\n"
    }
   },
   "source": [
    "#### 3 Vectors\n",
    "<a name=\"toc_40015_3\"></a>"
   ]
  },
  {
   "cell_type": "markdown",
   "id": "06629163",
   "metadata": {},
   "source": [
    "##### 3.1 Abstract\n",
    "<a name=\"toc_40015_3.1\"></a>\n",
    "\n",
    "<div style=\"float: right;margin-left: 10px;\">\n",
    "    <img src=\"week2/Optional_Labs/images/C1_W2_Lab04_Vectors.PNG\" alt=\"Image\" width=\"340px\">\n",
    "</div>\n",
    "<p>\n",
    "    Vectors, as you will use them in this course, are ordered arrays of numbers. In notation, vectors are denoted \n",
    "    with lower case bold letters such as $\\mathbf{x}$.  The elements of a vector are all the same type. A vector \n",
    "    does not, for example, contain both characters and numbers. The number of elements in the array is often \n",
    "    referred to as the *dimension* though mathematicians may prefer *rank*. The vector shown has a dimension of $n$. The elements of a vector can be referenced with an index. In math settings, indexes typically run from 1 to n. In computer science and these labs, indexing will typically run from 0 to n-1.  In notation, elements of a vector, when referenced individually will indicate the index in a subscript, for example, the $0^{th}$ element, of the vector $\\mathbf{x}$ is $x_0$. Note, the x is not bold in this case.  \n",
    "</p>\n"
   ]
  },
  {
   "cell_type": "markdown",
   "id": "5c72be13",
   "metadata": {
    "pycharm": {
     "name": "#%% md\n"
    }
   },
   "source": [
    "##### 3.2 NumPy Arrays\n",
    "<a name=\"toc_40015_3.2\"></a>\n",
    "\n",
    "NumPy's basic data structure is an indexable, n-dimensional *array* containing elements of the same type (`dtype`). Right away, you may notice we have overloaded the term 'dimension'. Above, it was the number of elements in the vector, here, dimension refers to the number of indexes of an array. A one-dimensional or 1-D array has one index. In Course 1, we will represent vectors as NumPy 1-D arrays. \n",
    "\n",
    " - 1-D array, shape (n,): n elements indexed [0] through [n-1]\n",
    " "
   ]
  },
  {
   "cell_type": "markdown",
   "id": "820cb64c",
   "metadata": {
    "pycharm": {
     "name": "#%% md\n"
    }
   },
   "source": [
    "##### 3.3 Vector Creation\n",
    "<a name=\"toc_40015_3.3\"></a>\n"
   ]
  },
  {
   "cell_type": "markdown",
   "id": "f25ad599",
   "metadata": {
    "pycharm": {
     "name": "#%% md\n"
    }
   },
   "source": [
    "Data creation routines in NumPy will generally have a first parameter which is the shape of the object. This can either be a single value for a 1-D result or a tuple (n,m,...) specifying the shape of the result. Below are examples of creating vectors using these routines."
   ]
  },
  {
   "cell_type": "code",
   "execution_count": null,
   "id": "b0fcbaa6",
   "metadata": {
    "pycharm": {
     "name": "#%%\n"
    }
   },
   "outputs": [],
   "source": [
    "# NumPy routines which allocate memory and fill arrays with value\n",
    "a = np.zeros(4);                print(f\"np.zeros(4) :   a = {a}, a shape = {a.shape}, a data type = {a.dtype}\")\n",
    "a = np.zeros((4,));             print(f\"np.zeros(4,) :  a = {a}, a shape = {a.shape}, a data type = {a.dtype}\")\n",
    "a = np.random.random_sample(4); print(f\"np.random.random_sample(4): a = {a}, a shape = {a.shape}, a data type = {a.dtype}\")"
   ]
  },
  {
   "cell_type": "markdown",
   "id": "f847f1d6",
   "metadata": {
    "pycharm": {
     "name": "#%% md\n"
    }
   },
   "source": [
    "Some data creation routines do not take a shape tuple:"
   ]
  },
  {
   "cell_type": "code",
   "execution_count": null,
   "id": "8434927e",
   "metadata": {
    "pycharm": {
     "name": "#%%\n"
    }
   },
   "outputs": [],
   "source": [
    "# NumPy routines which allocate memory and fill arrays with value but do not accept shape as input argument\n",
    "a = np.arange(4.);              print(f\"np.arange(4.):     a = {a}, a shape = {a.shape}, a data type = {a.dtype}\")\n",
    "a = np.random.rand(4);          print(f\"np.random.rand(4): a = {a}, a shape = {a.shape}, a data type = {a.dtype}\")"
   ]
  },
  {
   "cell_type": "markdown",
   "id": "7502f439",
   "metadata": {
    "pycharm": {
     "name": "#%% md\n"
    }
   },
   "source": [
    "values can be specified manually as well. "
   ]
  },
  {
   "cell_type": "code",
   "execution_count": null,
   "id": "7920cfb0",
   "metadata": {
    "pycharm": {
     "name": "#%%\n"
    }
   },
   "outputs": [],
   "source": [
    "# NumPy routines which allocate memory and fill with user specified values\n",
    "a = np.array([5,4,3,2]);  print(f\"np.array([5,4,3,2]):  a = {a},     a shape = {a.shape}, a data type = {a.dtype}\")\n",
    "a = np.array([5.,4,3,2]); print(f\"np.array([5.,4,3,2]): a = {a}, a shape = {a.shape}, a data type = {a.dtype}\")"
   ]
  },
  {
   "cell_type": "markdown",
   "id": "a5089a55",
   "metadata": {
    "pycharm": {
     "name": "#%% md\n"
    }
   },
   "source": [
    "These have all created a one-dimensional vector  `a` with four elements. `a.shape` returns the dimensions. Here we see a.shape = `(4,)` indicating a 1-d array with 4 elements.  "
   ]
  },
  {
   "cell_type": "markdown",
   "id": "6e199cfb",
   "metadata": {
    "pycharm": {
     "name": "#%% md\n"
    }
   },
   "source": [
    "##### 3.4 Operations on Vectors\n",
    "<a name=\"toc_40015_3.4\"></a>\n",
    "Let's explore some operations using vectors.\n",
    "\n",
    "###### 3.4.1 Indexing\n",
    "<a name=\"toc_40015_3.4.1\"></a>\n",
    "\n",
    "Elements of vectors can be accessed via indexing and slicing. NumPy provides a very complete set of indexing and slicing capabilities. We will explore only the basics needed for the course here. Reference [Slicing and Indexing](https://NumPy.org/doc/stable/reference/arrays.indexing.html) for more details.  \n",
    "**Indexing** means referring to *an element* of an array by its position within the array.  \n",
    "**Slicing** means getting a *subset* of elements from an array based on their indices.  \n",
    "NumPy starts indexing at zero so the 3rd element of an vector $\\mathbf{a}$ is `a[2]`."
   ]
  },
  {
   "cell_type": "code",
   "execution_count": null,
   "id": "0288f759",
   "metadata": {
    "pycharm": {
     "name": "#%%\n"
    }
   },
   "outputs": [],
   "source": [
    "#vector indexing operations on 1-D vectors\n",
    "a = np.arange(10)\n",
    "print(a)\n",
    "\n",
    "#access an element\n",
    "print(f\"a[2].shape: {a[2].shape} a[2]  = {a[2]}, Accessing an element returns a scalar\")\n",
    "\n",
    "# access the last element, negative indexes count from the end\n",
    "print(f\"a[-1] = {a[-1]}\")\n",
    "\n",
    "#indexs must be within the range of the vector or they will produce and error\n",
    "try:\n",
    "    c = a[10]\n",
    "except Exception as e:\n",
    "    print(\"The error message you'll see is:\")\n",
    "    print(e)"
   ]
  },
  {
   "cell_type": "markdown",
   "id": "b44f82ea",
   "metadata": {
    "pycharm": {
     "name": "#%% md\n"
    }
   },
   "source": [
    "###### 3.4.2 Slicing\n",
    "<a name=\"toc_40015_3.4.2\"></a>\n",
    "Slicing creates an array of indices using a set of three values (`start:stop:step`). A subset of values is also valid. Its use is best explained by example:"
   ]
  },
  {
   "cell_type": "code",
   "execution_count": null,
   "id": "83845c39",
   "metadata": {
    "pycharm": {
     "name": "#%%\n"
    }
   },
   "outputs": [],
   "source": [
    "#vector slicing operations\n",
    "a = np.arange(10)\n",
    "print(f\"a         = {a}\")\n",
    "\n",
    "#access 5 consecutive elements (start:stop:step)\n",
    "c = a[2:7:1];     print(\"a[2:7:1] = \", c)\n",
    "\n",
    "# access 3 elements separated by two \n",
    "c = a[2:7:2];     print(\"a[2:7:2] = \", c)\n",
    "\n",
    "# access all elements index 3 and above\n",
    "c = a[3:];        print(\"a[3:]    = \", c)\n",
    "\n",
    "# access all elements below index 3\n",
    "c = a[:3];        print(\"a[:3]    = \", c)\n",
    "\n",
    "# access all elements\n",
    "c = a[:];         print(\"a[:]     = \", c)"
   ]
  },
  {
   "cell_type": "markdown",
   "id": "b65f7c25",
   "metadata": {
    "pycharm": {
     "name": "#%% md\n"
    }
   },
   "source": [
    "###### 3.4.3 Single vector operations\n",
    "<a name=\"toc_40015_3.4.3\"></a>\n",
    "\n",
    "There are a number of useful operations that involve operations on a single vector."
   ]
  },
  {
   "cell_type": "code",
   "execution_count": null,
   "id": "3995a2bf",
   "metadata": {
    "pycharm": {
     "name": "#%%\n"
    }
   },
   "outputs": [],
   "source": [
    "a = np.array([1,2,3,4])\n",
    "print(f\"a             : {a}\")\n",
    "# negate elements of a\n",
    "b = -a \n",
    "print(f\"b = -a        : {b}\")\n",
    "\n",
    "# sum all elements of a, returns a scalar\n",
    "b = np.sum(a) \n",
    "print(f\"b = np.sum(a) : {b}\")\n",
    "\n",
    "b = np.mean(a)\n",
    "print(f\"b = np.mean(a): {b}\")\n",
    "\n",
    "b = a**2\n",
    "print(f\"b = a**2      : {b}\")"
   ]
  },
  {
   "cell_type": "markdown",
   "id": "c62e9d09",
   "metadata": {
    "pycharm": {
     "name": "#%% md\n"
    }
   },
   "source": [
    "###### 3.4.4 Vector Vector element-wise operations\n",
    "<a name=\"toc_40015_3.4.4\"></a>\n",
    "\n",
    "Most of the NumPy arithmetic, logical and comparison operations apply to vectors as well. These operators work on an element-by-element basis. For example \n",
    "$$ \\mathbf{a} + \\mathbf{b} = \\sum_{i=0}^{n-1} a_i + b_i $$"
   ]
  },
  {
   "cell_type": "code",
   "execution_count": null,
   "id": "67f333b8",
   "metadata": {
    "pycharm": {
     "name": "#%%\n"
    }
   },
   "outputs": [],
   "source": [
    "a = np.array([ 1, 2, 3, 4])\n",
    "b = np.array([-1,-2, 3, 4])\n",
    "print(f\"Binary operators work element wise: {a + b}\")"
   ]
  },
  {
   "cell_type": "markdown",
   "id": "8cdf2ddd",
   "metadata": {
    "pycharm": {
     "name": "#%% md\n"
    }
   },
   "source": [
    "Of course, for this to work correctly, the vectors must be of the same size:"
   ]
  },
  {
   "cell_type": "code",
   "execution_count": null,
   "id": "e57635ce",
   "metadata": {
    "pycharm": {
     "name": "#%%\n"
    }
   },
   "outputs": [],
   "source": [
    "#try a mismatched vector operation\n",
    "c = np.array([1, 2])\n",
    "try:\n",
    "    d = a + c\n",
    "except Exception as e:\n",
    "    print(\"The error message you'll see is:\")\n",
    "    print(e)"
   ]
  },
  {
   "cell_type": "markdown",
   "id": "cfb0d606",
   "metadata": {
    "pycharm": {
     "name": "#%% md\n"
    }
   },
   "source": [
    "###### 3.4.5 Scalar Vector operations\n",
    "<a name=\"toc_40015_3.4.5\"></a>\n",
    "\n",
    "Vectors can be 'scaled' by scalar values. A scalar value is just a number. The scalar multiplies all the elements of the vector."
   ]
  },
  {
   "cell_type": "code",
   "execution_count": null,
   "id": "e2b73115",
   "metadata": {
    "pycharm": {
     "name": "#%%\n"
    }
   },
   "outputs": [],
   "source": [
    "a = np.array([1, 2, 3, 4])\n",
    "\n",
    "# multiply a by a scalar\n",
    "b = 5 * a \n",
    "print(f\"b = 5 * a : {b}\")"
   ]
  },
  {
   "cell_type": "markdown",
   "id": "1c3e7528",
   "metadata": {
    "pycharm": {
     "name": "#%% md\n"
    }
   },
   "source": [
    "###### 3.4.6 Vector Vector dot product\n",
    "<a name=\"toc_40015_3.4.6\"></a>\n",
    "\n",
    "The dot product is a mainstay of Linear Algebra and NumPy. This is an operation used extensively in this course and should be well understood. The dot product is shown below."
   ]
  },
  {
   "cell_type": "markdown",
   "id": "3cdef5c6",
   "metadata": {
    "pycharm": {
     "name": "#%% md\n"
    }
   },
   "source": [
    "<img src=\"week2/Optional_Labs/images/C1_W2_Lab04_dot_notrans.gif\" width=800> "
   ]
  },
  {
   "cell_type": "markdown",
   "id": "931e9f38",
   "metadata": {
    "pycharm": {
     "name": "#%% md\n"
    }
   },
   "source": [
    "The dot product multiplies the values in two vectors element-wise and then sums the result.\n",
    "Vector dot product requires the dimensions of the two vectors to be the same. "
   ]
  },
  {
   "cell_type": "markdown",
   "id": "e82aefed",
   "metadata": {
    "pycharm": {
     "name": "#%% md\n"
    }
   },
   "source": [
    "Let's implement our own version of the dot product below:\n",
    "\n",
    "**Using a for loop**, implement a function which returns the dot product of two vectors. The function to return given inputs $a$ and $b$:\n",
    "$$ x = \\sum_{i=0}^{n-1} a_i b_i $$\n",
    "Assume both `a` and `b` are the same shape."
   ]
  },
  {
   "cell_type": "code",
   "execution_count": null,
   "id": "2244a080",
   "metadata": {
    "pycharm": {
     "name": "#%%\n"
    }
   },
   "outputs": [],
   "source": [
    "def my_dot(a, b): \n",
    "    \"\"\"\n",
    "   Compute the dot product of two vectors\n",
    " \n",
    "    Args:\n",
    "      a (ndarray (n,)):  input vector \n",
    "      b (ndarray (n,)):  input vector with same dimension as a\n",
    "    \n",
    "    Returns:\n",
    "      x (scalar): \n",
    "    \"\"\"\n",
    "    x=0\n",
    "    for i in range(a.shape[0]):\n",
    "        x = x + a[i] * b[i]\n",
    "    return x"
   ]
  },
  {
   "cell_type": "code",
   "execution_count": null,
   "id": "9b6538e4",
   "metadata": {
    "pycharm": {
     "name": "#%%\n"
    }
   },
   "outputs": [],
   "source": [
    "# test 1-D\n",
    "a = np.array([1, 2, 3, 4])\n",
    "b = np.array([-1, 4, 3, 2])\n",
    "print(f\"my_dot(a, b) = {my_dot(a, b)}\")"
   ]
  },
  {
   "cell_type": "markdown",
   "id": "630a7cbe",
   "metadata": {
    "pycharm": {
     "name": "#%% md\n"
    }
   },
   "source": [
    "Note, the dot product is expected to return a scalar value. \n",
    "\n",
    "Let's try the same operations using `np.dot`.  "
   ]
  },
  {
   "cell_type": "code",
   "execution_count": null,
   "id": "88bcc7dd",
   "metadata": {
    "pycharm": {
     "name": "#%%\n"
    }
   },
   "outputs": [],
   "source": [
    "# test 1-D\n",
    "a = np.array([1, 2, 3, 4])\n",
    "b = np.array([-1, 4, 3, 2])\n",
    "c = np.dot(a, b)\n",
    "print(f\"NumPy 1-D np.dot(a, b) = {c}, np.dot(a, b).shape = {c.shape} \") \n",
    "c = np.dot(b, a)\n",
    "print(f\"NumPy 1-D np.dot(b, a) = {c}, np.dot(a, b).shape = {c.shape} \")\n"
   ]
  },
  {
   "cell_type": "markdown",
   "id": "2c67c86c",
   "metadata": {
    "pycharm": {
     "name": "#%% md\n"
    }
   },
   "source": [
    "Above, you will note that the results for 1-D matched our implementation."
   ]
  },
  {
   "cell_type": "markdown",
   "id": "3eb11c85",
   "metadata": {
    "pycharm": {
     "name": "#%% md\n"
    }
   },
   "source": [
    "###### 3.4.7 The Need for Speed: vector vs for loop\n",
    "<a name=\"toc_40015_3.4.7\"></a>\n",
    "\n",
    "We utilized the NumPy  library because it improves speed memory efficiency. Let's demonstrate:"
   ]
  },
  {
   "cell_type": "code",
   "execution_count": null,
   "id": "c98551d6",
   "metadata": {
    "pycharm": {
     "name": "#%%\n"
    }
   },
   "outputs": [],
   "source": [
    "np.random.seed(1)\n",
    "a = np.random.rand(10000000)  # very large arrays\n",
    "b = np.random.rand(10000000)\n",
    "\n",
    "tic = time.time()  # capture start time\n",
    "c = np.dot(a, b)\n",
    "toc = time.time()  # capture end time\n",
    "\n",
    "print(f\"np.dot(a, b) =  {c:.4f}\")\n",
    "print(f\"Vectorized version duration: {1000*(toc-tic):.4f} ms \")\n",
    "\n",
    "tic = time.time()  # capture start time\n",
    "c = my_dot(a,b)\n",
    "toc = time.time()  # capture end time\n",
    "\n",
    "print(f\"my_dot(a, b) =  {c:.4f}\")\n",
    "print(f\"loop version duration: {1000*(toc-tic):.4f} ms \")\n",
    "\n",
    "del(a);del(b)  #remove these big arrays from memory"
   ]
  },
  {
   "cell_type": "markdown",
   "id": "2055b10b",
   "metadata": {
    "pycharm": {
     "name": "#%% md\n"
    }
   },
   "source": [
    "So, vectorization provides a large speed up in this example. This is because NumPy makes better use of available data parallelism in the underlying hardware. GPU's and modern CPU's implement Single Instruction, Multiple Data (SIMD) pipelines allowing multiple operations to be issued in parallel. This is critical in Machine Learning where the data sets are often very large."
   ]
  },
  {
   "cell_type": "markdown",
   "id": "765b86fd",
   "metadata": {
    "pycharm": {
     "name": "#%% md\n"
    }
   },
   "source": [
    "###### 3.4.8 Vector Vector operations in Course 1\n",
    "<a name=\"toc_12345_3.4.8\"></a>\n",
    "\n",
    "Vector Vector operations will appear frequently in course 1. Here is why:\n",
    "- Going forward, our examples will be stored in an array, `X_train` of dimension (m,n). This will be explained more in context, but here it is important to note it is a 2 Dimensional array or matrix (see next section on matrices).\n",
    "- `w` will be a 1-dimensional vector of shape (n,).\n",
    "- we will perform operations by looping through the examples, extracting each example to work on individually by indexing X. For example:`X[i]`\n",
    "- `X[i]` returns a value of shape (n,), a 1-dimensional vector. Consequently, operations involving `X[i]` are often vector-vector.  \n",
    "\n",
    "That is a somewhat lengthy explanation, but aligning and understanding the shapes of your operands is important when performing vector operations."
   ]
  },
  {
   "cell_type": "code",
   "execution_count": null,
   "id": "136ac32d",
   "metadata": {
    "pycharm": {
     "name": "#%%\n"
    }
   },
   "outputs": [],
   "source": [
    "# show common Course 1 example\n",
    "X = np.array([[1],[2],[3],[4]])\n",
    "w = np.array([2])\n",
    "c = np.dot(X[1], w)\n",
    "\n",
    "print(f\"X[1] has shape {X[1].shape}\")\n",
    "print(f\"w has shape {w.shape}\")\n",
    "print(f\"c has shape {c.shape}\")"
   ]
  },
  {
   "cell_type": "markdown",
   "id": "467493e4",
   "metadata": {
    "pycharm": {
     "name": "#%% md\n"
    }
   },
   "source": [
    "#### 4 Matrices\n",
    "<a name=\"toc_40015_4\"></a>\n"
   ]
  },
  {
   "cell_type": "markdown",
   "id": "05e32888",
   "metadata": {
    "pycharm": {
     "name": "#%% md\n"
    }
   },
   "source": [
    "##### 4.1 Abstract\n",
    "<a name=\"toc_40015_4.1\"></a>\n",
    "\n",
    "Matrices, are two dimensional arrays. The elements of a matrix are all of the same type. In notation, matrices are denoted with capitol, bold letter such as $\\mathbf{X}$. In this and other labs, `m` is often the number of rows and `n` the number of columns. The elements of a matrix can be referenced with a two dimensional index. In math settings, numbers in the index typically run from 1 to n. In computer science and these labs, indexing will run from 0 to n-1.  \n",
    "<figure>\n",
    "    <center> <img src=\"week2/Optional_Labs/images/C1_W2_Lab04_Matrices.PNG\"  alt='missing'  width=900><center/>\n",
    "    <figcaption> Generic Matrix Notation, 1st index is row, 2nd is column </figcaption>\n",
    "<figure/>"
   ]
  },
  {
   "cell_type": "markdown",
   "id": "a51a910a",
   "metadata": {
    "pycharm": {
     "name": "#%% md\n"
    }
   },
   "source": [
    "##### 4.2 NumPy Arrays\n",
    "<a name=\"toc_40015_4.2\"></a>\n",
    "\n",
    "NumPy's basic data structure is an indexable, n-dimensional *array* containing elements of the same type (`dtype`). These were described earlier. Matrices have a two-dimensional (2-D) index [m,n].\n",
    "\n",
    "In Course 1, 2-D matrices are used to hold training data. Training data is $m$ examples by $n$ features creating an (m,n) array. Course 1 does not do operations directly on matrices but typically extracts an example as a vector and operates on that. Below you will review: \n",
    "- data creation\n",
    "- slicing and indexing"
   ]
  },
  {
   "cell_type": "markdown",
   "id": "e01374f6",
   "metadata": {
    "pycharm": {
     "name": "#%% md\n"
    }
   },
   "source": [
    "##### 4.3 Matrix Creation\n",
    "<a name=\"toc_40015_4.3\"></a>\n",
    "\n",
    "The same functions that created 1-D vectors will create 2-D or n-D arrays. Here are some examples\n"
   ]
  },
  {
   "cell_type": "markdown",
   "id": "feee56e6",
   "metadata": {
    "pycharm": {
     "name": "#%% md\n"
    }
   },
   "source": [
    "Below, the shape tuple is provided to achieve a 2-D result. Notice how NumPy uses brackets to denote each dimension. Notice further than NumPy, when printing, will print one row per line.\n"
   ]
  },
  {
   "cell_type": "code",
   "execution_count": null,
   "id": "24caaead",
   "metadata": {
    "pycharm": {
     "name": "#%%\n"
    }
   },
   "outputs": [],
   "source": [
    "a = np.zeros((1, 5))                                       \n",
    "print(f\"a shape = {a.shape}, a = {a}\")                     \n",
    "\n",
    "a = np.zeros((2, 1))                                                                   \n",
    "print(f\"a shape = {a.shape}, a = {a}\") \n",
    "\n",
    "a = np.random.random_sample((1, 1))  \n",
    "print(f\"a shape = {a.shape}, a = {a}\") "
   ]
  },
  {
   "cell_type": "markdown",
   "id": "3c13b720",
   "metadata": {
    "pycharm": {
     "name": "#%% md\n"
    }
   },
   "source": [
    "One can also manually specify data. Dimensions are specified with additional brackets matching the format in the printing above."
   ]
  },
  {
   "cell_type": "code",
   "execution_count": null,
   "id": "7f1cac25",
   "metadata": {
    "pycharm": {
     "name": "#%%\n"
    }
   },
   "outputs": [],
   "source": [
    "# NumPy routines which allocate memory and fill with user specified values\n",
    "a = np.array([[5], [4], [3]]);   print(f\" a shape = {a.shape}, np.array: a = {a}\")\n",
    "a = np.array([[5],   # One can also\n",
    "              [4],   # separate values\n",
    "              [3]]); #into separate rows\n",
    "print(f\" a shape = {a.shape}, np.array: a = {a}\")"
   ]
  },
  {
   "cell_type": "markdown",
   "id": "fe1c6c42",
   "metadata": {
    "pycharm": {
     "name": "#%% md\n"
    }
   },
   "source": [
    "##### 4.4 Operations on Matrices\n",
    "<a name=\"toc_40015_4.4\"></a>\n",
    "\n",
    "Let's explore some operations using matrices."
   ]
  },
  {
   "cell_type": "markdown",
   "id": "5565daaa",
   "metadata": {
    "pycharm": {
     "name": "#%% md\n"
    }
   },
   "source": [
    "###### 4.4.1 Indexing\n",
    "\n",
    "<a name=\"toc_40015_4.4.1\"></a>\n"
   ]
  },
  {
   "cell_type": "markdown",
   "id": "40e55ab9",
   "metadata": {
    "pycharm": {
     "name": "#%% md\n"
    }
   },
   "source": [
    "Matrices include a second index. The two indexes describe [row, column]. Access can either return an element or a row/column. See below:"
   ]
  },
  {
   "cell_type": "code",
   "execution_count": null,
   "id": "265f9842",
   "metadata": {
    "pycharm": {
     "name": "#%%\n"
    }
   },
   "outputs": [],
   "source": [
    "#vector indexing operations on matrices\n",
    "a = np.arange(6).reshape(-1, 2)   #reshape is a convenient way to create matrices\n",
    "print(f\"a.shape: {a.shape}, \\na= {a}\")\n",
    "\n",
    "#access an element\n",
    "print(f\"\\na[2,0].shape:   {a[2, 0].shape}, a[2,0] = {a[2, 0]},     type(a[2,0]) = {type(a[2, 0])} Accessing an element returns a scalar\\n\")\n",
    "\n",
    "#access a row\n",
    "print(f\"a[2].shape:   {a[2].shape}, a[2]   = {a[2]}, type(a[2])   = {type(a[2])}\")"
   ]
  },
  {
   "cell_type": "markdown",
   "id": "8e745979",
   "metadata": {
    "pycharm": {
     "name": "#%% md\n"
    }
   },
   "source": [
    "It is worth drawing attention to the last example. Accessing a matrix by just specifying the row will return a *1-D vector*."
   ]
  },
  {
   "cell_type": "markdown",
   "id": "52fca803",
   "metadata": {
    "pycharm": {
     "name": "#%% md\n"
    }
   },
   "source": [
    "**Reshape**  \n",
    "The previous example used [reshape](https://numpy.org/doc/stable/reference/generated/numpy.reshape.html) to shape the array.  \n",
    "`a = np.arange(6).reshape(-1, 2) `   \n",
    "This line of code first created a *1-D Vector* of six elements. It then reshaped that vector into a *2-D* array using the reshape command. This could have been written:  \n",
    "`a = np.arange(6).reshape(3, 2) `  \n",
    "To arrive at the same 3 row, 2 column array.\n",
    "The -1 argument tells the routine to compute the number of rows given the size of the array and the number of columns.\n"
   ]
  },
  {
   "cell_type": "markdown",
   "id": "cf835ff3",
   "metadata": {
    "pycharm": {
     "name": "#%% md\n"
    }
   },
   "source": [
    "###### 4.4.2 Slicing\n",
    "<a name=\"toc_40015_4.4.2\"></a>\n",
    "\n",
    "Slicing creates an array of indices using a set of three values (`start:stop:step`). A subset of values is also valid. Its use is best explained by example:"
   ]
  },
  {
   "cell_type": "code",
   "execution_count": null,
   "id": "23cf9b36",
   "metadata": {
    "pycharm": {
     "name": "#%%\n"
    },
    "scrolled": true
   },
   "outputs": [],
   "source": [
    "#vector 2-D slicing operations\n",
    "a = np.arange(20).reshape(-1, 10)\n",
    "print(f\"a = \\n{a}\")\n",
    "\n",
    "#access 5 consecutive elements (start:stop:step)\n",
    "print(\"a[0, 2:7:1] = \", a[0, 2:7:1], \",  a[0, 2:7:1].shape =\", a[0, 2:7:1].shape, \"a 1-D array\")\n",
    "\n",
    "#access 5 consecutive elements (start:stop:step) in two rows\n",
    "print(\"a[:, 2:7:1] = \\n\", a[:, 2:7:1], \",  a[:, 2:7:1].shape =\", a[:, 2:7:1].shape, \"a 2-D array\")\n",
    "\n",
    "# access all elements\n",
    "print(\"a[:,:] = \\n\", a[:,:], \",  a[:,:].shape =\", a[:,:].shape)\n",
    "\n",
    "# access all elements in one row (very common usage)\n",
    "print(\"a[1,:] = \", a[1,:], \",  a[1,:].shape =\", a[1,:].shape, \"a 1-D array\")\n",
    "# same as\n",
    "print(\"a[1]   = \", a[1],   \",  a[1].shape   =\", a[1].shape, \"a 1-D array\")\n"
   ]
  },
  {
   "cell_type": "markdown",
   "id": "0f476739",
   "metadata": {},
   "source": [
    "### Practice Quiz "
   ]
  },
  {
   "cell_type": "markdown",
   "id": "b0c5db17",
   "metadata": {},
   "source": [
    "#### Quiz-1 "
   ]
  },
  {
   "cell_type": "markdown",
   "id": "83ba8488",
   "metadata": {},
   "source": [
    "<figure>\n",
    "            <center> <img src=\"week2/Practice_quiz/ss1.png\"  alt='missing' width=\"800\"  ><center/>\n",
    "<figure/>"
   ]
  },
  {
   "cell_type": "markdown",
   "id": "5c4a4f96",
   "metadata": {},
   "source": [
    "#### Quiz-2 "
   ]
  },
  {
   "cell_type": "markdown",
   "id": "370c8fb0",
   "metadata": {},
   "source": [
    "<figure>\n",
    "    <center> <img src=\"week2/Practice_quiz/ss2.png\"  alt='missing' width=\"800\"  ><center/>\n",
    "<figure/>"
   ]
  },
  {
   "cell_type": "markdown",
   "id": "6c4f683c",
   "metadata": {},
   "source": [
    "#### Quiz-3 "
   ]
  },
  {
   "cell_type": "markdown",
   "id": "73578188",
   "metadata": {},
   "source": [
    "<figure>\n",
    "    <center> <img src=\"week2/Practice_quiz/ss3.png\"  alt='missing' width=\"800\"  ><center/>\n",
    "<figure/>"
   ]
  },
  {
   "cell_type": "markdown",
   "id": "7342cf65",
   "metadata": {},
   "source": [
    "### Assignment W2: \n"
   ]
  },
  {
   "cell_type": "markdown",
   "id": "125cb99b",
   "metadata": {},
   "source": [
    "#### Practice Lab: Linear Regression\n",
    "\n",
    "Welcome to your first practice lab! In this lab, you will implement linear regression with one variable to predict profits for a restaurant franchise.\n",
    "\n",
    "\n",
    "##### Outline\n",
    "- [ 1 - Packages ](#1)\n",
    "- [ 2 - Linear regression with one variable ](#2)\n",
    "- [ 2.1 Problem Statement](#2.1)\n",
    "- [ 3  Dataset](#3)\n",
    "- [ 4 Refresher on linear regression](#4)\n",
    "- [ 5  Compute Cost](#5)\n",
    "  - [ Exercise 1](#ex01)\n",
    "- [ 6 Gradient descent ](#6)\n",
    "  - [ Exercise 2](#ex02)\n",
    "  - [ 6.1 Learning parameters using batch gradient descent ](#6.1)\n"
   ]
  },
  {
   "cell_type": "markdown",
   "id": "cfef5683",
   "metadata": {},
   "source": [
    "#### 1 - Packages \n",
    "<a name=\"1\"></a>\n",
    "\n",
    "First, let's run the cell below to import all the packages that you will need during this assignment.\n",
    "- [numpy](www.numpy.org) is the fundamental package for working with matrices in Python.\n",
    "- [matplotlib](http://matplotlib.org) is a famous library to plot graphs in Python.\n",
    "- ``utils.py`` contains helper functions for this assignment. You do not need to modify code in this file.\n"
   ]
  },
  {
   "cell_type": "code",
   "execution_count": null,
   "id": "7a97a5b5",
   "metadata": {},
   "outputs": [],
   "source": [
    "import sys\n",
    "#add modules from the path\n",
    "sys.path.append(\"/home/amitk/my_web/Machine-Learning-Andrew-Ng/source/source_files/Supervised_Machine_Learning_Regression_and_Classification/week2/C1W2A1\")\n",
    "\n",
    "import numpy as np\n",
    "import matplotlib.pyplot as plt\n",
    "\n",
    "from utils import *\n",
    "import copy\n",
    "import math\n",
    "%matplotlib inline \n",
    "#to show graphs inline"
   ]
  },
  {
   "cell_type": "markdown",
   "id": "f33c2c94",
   "metadata": {},
   "source": [
    "#### 2 -  Problem Statement\n",
    "\n",
    "Suppose you are the CEO of a restaurant franchise and are considering different cities for opening a new outlet.\n",
    "- You would like to expand your business to cities that may give your restaurant higher profits.\n",
    "- The chain already has restaurants in various cities and you have data for profits and populations from the cities.\n",
    "- You also have data on cities that are candidates for a new restaurant. \n",
    "    - For these cities, you have the city population.\n",
    "    \n",
    "Can you use the data to help you identify which cities may potentially give your business higher profits?\n",
    "\n",
    "#### 3 - Dataset\n",
    "\n",
    "You will start by loading the dataset for this task. \n",
    "- The `load_data()` function shown below loads the data into variables `x_train` and `y_train`\n",
    "  - `x_train` is the population of a city\n",
    "  - `y_train` is the profit of a restaurant in that city. A negative value for profit indicates a loss.   \n",
    "  - Both `X_train` and `y_train` are numpy arrays."
   ]
  },
  {
   "cell_type": "code",
   "execution_count": null,
   "id": "e45407d8",
   "metadata": {},
   "outputs": [],
   "source": [
    "# load the dataset\n",
    "x_train, y_train = load_data()"
   ]
  },
  {
   "cell_type": "markdown",
   "id": "e7e823ef",
   "metadata": {},
   "source": [
    "##### View the variables\n",
    "Before starting on any task, it is useful to get more familiar with your dataset.  \n",
    "- A good place to start is to just print out each variable and see what it contains.\n",
    "\n",
    "The code below prints the variable `x_train` and the type of the variable."
   ]
  },
  {
   "cell_type": "code",
   "execution_count": null,
   "id": "8946cc4e",
   "metadata": {},
   "outputs": [],
   "source": [
    "# print x_train\n",
    "print(\"Type of x_train:\",type(x_train))\n",
    "print(\"First five elements of x_train are:\\n\", x_train[:5]) "
   ]
  },
  {
   "cell_type": "markdown",
   "id": "15311d31",
   "metadata": {},
   "source": [
    "`x_train` is a numpy array that contains decimal values that are all greater than zero.\n",
    "- These values represent the city population times 10,000\n",
    "- For example, 6.1101 means that the population for that city is 61,101\n",
    "  \n",
    "Now, let's print `y_train`"
   ]
  },
  {
   "cell_type": "code",
   "execution_count": null,
   "id": "761c3dde",
   "metadata": {},
   "outputs": [],
   "source": [
    "# print y_train\n",
    "print(\"Type of y_train:\",type(y_train))\n",
    "print(\"First five elements of y_train are:\\n\", y_train[:5])  "
   ]
  },
  {
   "cell_type": "markdown",
   "id": "afef85eb",
   "metadata": {},
   "source": [
    "Similarly, `y_train` is a numpy array that has decimal values, some negative, some positive.\n",
    "- These represent your restaurant's average monthly profits in each city, in units of \\$10,000.\n",
    "  - For example, 17.592 represents \\$175,920 in average monthly profits for that city.\n",
    "  - -2.6807 represents -\\$26,807 in average monthly loss for that city."
   ]
  },
  {
   "cell_type": "markdown",
   "id": "c59be037",
   "metadata": {},
   "source": [
    "##### Check the dimensions of your variables\n",
    "\n",
    "Another useful way to get familiar with your data is to view its dimensions.\n",
    "\n",
    "Please print the shape of `x_train` and `y_train` and see how many training examples you have in your dataset."
   ]
  },
  {
   "cell_type": "code",
   "execution_count": null,
   "id": "daf8ad6f",
   "metadata": {},
   "outputs": [],
   "source": [
    "print ('The shape of x_train is:', x_train.shape)\n",
    "print ('The shape of y_train is: ', y_train.shape)\n",
    "print ('Number of training examples (m):', len(x_train))"
   ]
  },
  {
   "cell_type": "markdown",
   "id": "7b53aae0",
   "metadata": {},
   "source": [
    "The city population array has 97 data points, and the monthly average profits also has 97 data points. These are NumPy 1D arrays."
   ]
  },
  {
   "cell_type": "markdown",
   "id": "74f68cf9",
   "metadata": {},
   "source": [
    "##### Visualize your data\n",
    "\n",
    "It is often useful to understand the data by visualizing it. \n",
    "- For this dataset, you can use a scatter plot to visualize the data, since it has only two properties to plot (profit and population). \n",
    "- Many other problems that you will encounter in real life have more than two properties (for example, population, average household income, monthly profits, monthly sales).When you have more than two properties, you can still use a scatter plot to see the relationship between each pair of properties.\n"
   ]
  },
  {
   "cell_type": "code",
   "execution_count": null,
   "id": "d91036dd",
   "metadata": {},
   "outputs": [],
   "source": [
    "# Create a scatter plot of the data. To change the markers to red \"x\",\n",
    "# we used the 'marker' and 'c' parameters\n",
    "plt.scatter(x_train, y_train, marker='x', c='r') \n",
    "\n",
    "# Set the title\n",
    "plt.title(\"Profits vs. Population per city\")\n",
    "# Set the y-axis label\n",
    "plt.ylabel('Profit in $10,000')\n",
    "# Set the x-axis label\n",
    "plt.xlabel('Population of City in 10,000s')\n",
    "plt.show()"
   ]
  },
  {
   "cell_type": "markdown",
   "id": "ccced8c7",
   "metadata": {},
   "source": [
    "Your goal is to build a linear regression model to fit this data.\n",
    "- With this model, you can then input a new city's population, and have the model estimate your restaurant's potential monthly profits for that city."
   ]
  },
  {
   "cell_type": "markdown",
   "id": "0ed06b5d",
   "metadata": {},
   "source": [
    "#### 4 - Refresher on linear regression\n",
    "<a name=\"4\"></a>\n",
    "\n",
    "\n",
    "In this practice lab, you will fit the linear regression parameters $(w,b)$ to your dataset.\n",
    "- The model function for linear regression, which is a function that maps from `x` (city population) to `y` (your restaurant's monthly profit for that city) is represented as \n",
    "    $$f_{w,b}(x) = wx + b$$\n",
    "    \n",
    "\n",
    "- To train a linear regression model, you want to find the best $(w,b)$ parameters that fit your dataset.  \n",
    "\n",
    "    - To compare how one choice of $(w,b)$ is better or worse than another choice, you can evaluate it with a cost function $J(w,b)$\n",
    "      - $J$ is a function of $(w,b)$. That is, the value of the cost $J(w,b)$ depends on the value of $(w,b)$.\n",
    "  \n",
    "    - The choice of $(w,b)$ that fits your data the best is the one that has the smallest cost $J(w,b)$.\n",
    "\n",
    "\n",
    "- To find the values $(w,b)$ that gets the smallest possible cost $J(w,b)$, you can use a method called **gradient descent**. \n",
    "  - With each step of gradient descent, your parameters $(w,b)$ come closer to the optimal values that will achieve the lowest cost $J(w,b)$.\n",
    "  \n",
    "\n",
    "- The trained linear regression model can then take the input feature $x$ (city population) and output a prediction $f_{w,b}(x)$ (predicted monthly profit for a restaurant in that city)."
   ]
  },
  {
   "cell_type": "markdown",
   "id": "e8d4a707",
   "metadata": {},
   "source": [
    "#### 5 - Compute Cost\n",
    "<a name=\"5\"></a>\n",
    "\n",
    "Gradient descent involves repeated steps to adjust the value of your parameter $(w,b)$ to gradually get a smaller and smaller cost $J(w,b)$.\n",
    "- At each step of gradient descent, it will be helpful for you to monitor your progress by computing the cost $J(w,b)$ as $(w,b)$ gets updated. \n",
    "- In this section, you will implement a function to calculate $J(w,b)$ so that you can check the progress of your gradient descent implementation.\n",
    "\n",
    "##### Cost function\n",
    "As you may recall from the lecture, for one variable, the cost function for linear regression $J(w,b)$ is defined as\n",
    "\n",
    "$$J(w,b) = \\frac{1}{2m} \\sum\\limits_{i = 0}^{m-1} (f_{w,b}(x^{(i)}) - y^{(i)})^2$$ \n",
    "\n",
    "- You can think of $f_{w,b}(x^{(i)})$ as the model's prediction of your restaurant's profit, as opposed to $y^{(i)}$, which is the actual profit that is recorded in the data.\n",
    "- $m$ is the number of training examples in the dataset\n",
    "\n",
    "##### Model prediction\n",
    "\n",
    "- For linear regression with one variable, the prediction of the model $f_{w,b}$ for an example $x^{(i)}$ is representented as:\n",
    "\n",
    "$$ f_{w,b}(x^{(i)}) = wx^{(i)} + b$$\n",
    "\n",
    "This is the equation for a line, with an intercept $b$ and a slope $w$\n",
    "\n",
    "##### Implementation\n",
    "\n",
    "Please complete the `compute_cost()` function below to compute the cost $J(w,b)$."
   ]
  },
  {
   "cell_type": "markdown",
   "id": "2ace21c1",
   "metadata": {},
   "source": [
    "#### Exercise 1\n",
    "<a name=\"ex01\"></a>\n",
    "\n",
    "Complete the `compute_cost` below to:\n",
    "\n",
    "* Iterate over the training examples, and for each example, compute:\n",
    "    * The prediction of the model for that example \n",
    "    $$\n",
    "    f_{wb}(x^{(i)}) =  wx^{(i)} + b \n",
    "    $$\n",
    "   \n",
    "    * The cost for that example  $$cost^{(i)} =  (f_{wb} - y^{(i)})^2$$\n",
    "    \n",
    "\n",
    "* Return the total cost over all examples\n",
    "$$J(\\mathbf{w},b) = \\frac{1}{2m} \\sum\\limits_{i = 0}^{m-1} cost^{(i)}$$\n",
    "  * Here, $m$ is the number of training examples and $\\sum$ is the summation operator\n",
    "\n",
    "If you get stuck, you can check out the hints presented after the cell below to help you with the implementation."
   ]
  },
  {
   "cell_type": "code",
   "execution_count": null,
   "id": "b6ece085",
   "metadata": {},
   "outputs": [],
   "source": [
    "# UNQ_C1\n",
    "# GRADED FUNCTION: compute_cost\n",
    "\n",
    "def compute_cost(x, y, w, b): \n",
    "    \"\"\"\n",
    "    Computes the cost function for linear regression.\n",
    "    \n",
    "    Args:\n",
    "        x (ndarray): Shape (m,) Input to the model (Population of cities) \n",
    "        y (ndarray): Shape (m,) Label (Actual profits for the cities)\n",
    "        w, b (scalar): Parameters of the model\n",
    "    \n",
    "    Returns\n",
    "        total_cost (float): The cost of using w,b as the parameters for linear regression\n",
    "               to fit the data points in x and y\n",
    "    \"\"\"\n",
    "    # number of training examples\n",
    "    m = x.shape[0] \n",
    "    \n",
    "    # You need to return this variable correctly\n",
    "    total_cost = 0\n",
    "\n",
    "    ### START CODE HERE ###\n",
    "    cost=0\n",
    "    for i in range(m):\n",
    "        f_wb = w*x[i]+b\n",
    "        cost += (f_wb - y[i])**2\n",
    "    \n",
    "    total_cost = cost/(2*m)\n",
    "    \n",
    "    ### END CODE HERE ### \n",
    "\n",
    "    return total_cost"
   ]
  },
  {
   "cell_type": "markdown",
   "id": "91ec7a60",
   "metadata": {},
   "source": [
    "<details>\n",
    "  <summary><font size=\"2\" color=\"darkgreen\"><b>Click for hints</b></font></summary>\n",
    "    \n",
    "    \n",
    "   * You can represent a summation operator eg: $h = \\sum\\limits_{i = 0}^{m-1} 2i$ in code as follows:\n",
    "  ```python \n",
    "    h = 0\n",
    "    for i in range(m):\n",
    "        h = h + 2*i\n",
    "  ```\n",
    "  \n",
    "   * In this case, you can iterate over all the examples in `x` using a for loop and add the `cost` from each iteration to a variable (`cost_sum`) initialized outside the loop.\n",
    "\n",
    "   * Then, you can return the `total_cost` as `cost_sum` divided by `2m`.\n",
    "     \n",
    "    <details>\n",
    "          <summary><font size=\"2\" color=\"darkblue\"><b> Click for more hints</b></font></summary>\n",
    "        \n",
    "    * Here's how you can structure the overall implementation for this function\n",
    "  ```python \n",
    "    def compute_cost(x, y, w, b):\n",
    "        # number of training examples\n",
    "        m = x.shape[0] \n",
    "    \n",
    "        # You need to return this variable correctly\n",
    "        total_cost = 0\n",
    "    \n",
    "        ### START CODE HERE ###  \n",
    "        # Variable to keep track of sum of cost from each example\n",
    "        cost_sum = 0\n",
    "    \n",
    "        # Loop over training examples\n",
    "        for i in range(m):\n",
    "            # Your code here to get the prediction f_wb for the ith example\n",
    "            f_wb = \n",
    "            # Your code here to get the cost associated with the ith example\n",
    "            cost = \n",
    "        \n",
    "            # Add to sum of cost for each example\n",
    "            cost_sum = cost_sum + cost \n",
    "\n",
    "        # Get the total cost as the sum divided by (2*m)\n",
    "        total_cost = (1 / (2 * m)) * cost_sum\n",
    "        ### END CODE HERE ### \n",
    "\n",
    "        return total_cost\n",
    "  ```\n",
    "    \n",
    "    If you're still stuck, you can check the hints presented below to figure out how to calculate `f_wb` and `cost`.\n",
    "    \n",
    "  <details>\n",
    "    <summary><font size=\"2\" color=\"darkblue\"><b>Hint to calculate f_wb</b></font></summary>&emsp; &emsp; For scalars $a$, $b$ and $c$ (<code>x[i]</code>, <code>w</code> and <code>b</code> are all scalars), you can calculate the equation $h = ab + c$ in code as <code>h = a * b + c</code>\n",
    "     <details>\n",
    "       <summary><font size=\"2\" color=\"blue\"><b>&emsp; &emsp; More hints to calculate f</b></font></summary> &emsp; &emsp; You can compute f_wb as <code>f_wb = w * x[i] + b </code>\n",
    "     </details>\n",
    "    </details>\n",
    "\n",
    "  <details>\n",
    "    <summary><font size=\"2\" color=\"darkblue\"><b>Hint to calculate cost</b></font></summary> &emsp; &emsp; You can calculate the square of a variable z as z**2\n",
    "    <details>\n",
    "      <summary><font size=\"2\" color=\"blue\"><b>&emsp; &emsp; More hints to calculate cost</b></font></summary> &emsp; &emsp; You can compute cost as <code>cost = (f_wb - y[i]) ** 2</code>\n",
    "    </details>\n",
    "    </details>\n",
    "        \n",
    "    \n",
    "</details>\n",
    "\n",
    "    \n"
   ]
  },
  {
   "cell_type": "markdown",
   "id": "db99dec1",
   "metadata": {},
   "source": [
    "You can check if your implementation was correct by running the following test code:"
   ]
  },
  {
   "cell_type": "code",
   "execution_count": null,
   "id": "799e7d69",
   "metadata": {},
   "outputs": [],
   "source": [
    "# Compute cost with some initial values for paramaters w, b\n",
    "initial_w = 2\n",
    "initial_b = 1\n",
    "\n",
    "cost = compute_cost(x_train, y_train, initial_w, initial_b)\n",
    "print(type(cost))\n",
    "print(f'Cost at initial w (zeros): {cost:.3f}')\n",
    "\n",
    "# Public tests\n",
    "from public_tests import *\n",
    "compute_cost_test(compute_cost)"
   ]
  },
  {
   "cell_type": "markdown",
   "id": "a9165465",
   "metadata": {},
   "source": [
    "**Expected Output**:\n",
    "<table>\n",
    "  <tr>\n",
    "    <td> <b>Cost at initial w (zeros):<b> 75.203 </td> \n",
    "  </tr>\n",
    "</table>"
   ]
  },
  {
   "cell_type": "markdown",
   "id": "9452cd73",
   "metadata": {},
   "source": [
    "#### 6 - Gradient descent \n",
    "<a name=\"6\"></a>\n",
    "\n",
    "In this section, you will implement the gradient for parameters $w, b$ for linear regression. "
   ]
  },
  {
   "cell_type": "markdown",
   "id": "2be0556b",
   "metadata": {},
   "source": [
    "As described in the lecture videos, the gradient descent algorithm is:\n",
    "\n",
    "$$\\begin{align*}& \\text{repeat until convergence:} \\; \\lbrace \\newline \\; & \\phantom {0000} b := b -  \\alpha \\frac{\\partial J(w,b)}{\\partial b} \\newline       \\; & \\phantom {0000} w := w -  \\alpha \\frac{\\partial J(w,b)}{\\partial w} \\tag{1}  \\; & \n",
    "\\newline & \\rbrace\\end{align*}$$\n",
    "\n",
    "where, parameters $w, b$ are both updated simultaniously and where  \n",
    "$$\n",
    "\\frac{\\partial J(w,b)}{\\partial b}  = \\frac{1}{m} \\sum\\limits_{i = 0}^{m-1} (f_{w,b}(x^{(i)}) - y^{(i)}) \\tag{2}\n",
    "$$\n",
    "$$\n",
    "\\frac{\\partial J(w,b)}{\\partial w}  = \\frac{1}{m} \\sum\\limits_{i = 0}^{m-1} (f_{w,b}(x^{(i)}) -y^{(i)})x^{(i)} \\tag{3}\n",
    "$$\n",
    "* m is the number of training examples in the dataset\n",
    "\n",
    "    \n",
    "*  $f_{w,b}(x^{(i)})$ is the model's prediction, while $y^{(i)}$, is the target value\n",
    "\n",
    "\n",
    "You will implement a function called `compute_gradient` which calculates $\\frac{\\partial J(w)}{\\partial w}$, $\\frac{\\partial J(w)}{\\partial b}$ "
   ]
  },
  {
   "cell_type": "markdown",
   "id": "6e879e3a",
   "metadata": {},
   "source": [
    "##### Exercise 2\n",
    "<a name=\"ex02\"></a>\n",
    "\n",
    "Please complete the `compute_gradient` function to:\n",
    "\n",
    "* Iterate over the training examples, and for each example, compute:\n",
    "    * The prediction of the model for that example \n",
    "    $$\n",
    "    f_{wb}(x^{(i)}) =  wx^{(i)} + b \n",
    "    $$\n",
    "   \n",
    "    * The gradient for the parameters $w, b$ from that example \n",
    "        $$\n",
    "        \\frac{\\partial J(w,b)}{\\partial b}^{(i)}  =  (f_{w,b}(x^{(i)}) - y^{(i)}) \n",
    "        $$\n",
    "        $$\n",
    "        \\frac{\\partial J(w,b)}{\\partial w}^{(i)}  =  (f_{w,b}(x^{(i)}) -y^{(i)})x^{(i)} \n",
    "        $$\n",
    "    \n",
    "\n",
    "* Return the total gradient update from all the examples\n",
    "    $$\n",
    "    \\frac{\\partial J(w,b)}{\\partial b}  = \\frac{1}{m} \\sum\\limits_{i = 0}^{m-1} \\frac{\\partial J(w,b)}{\\partial b}^{(i)}\n",
    "    $$\n",
    "    \n",
    "    $$\n",
    "    \\frac{\\partial J(w,b)}{\\partial w}  = \\frac{1}{m} \\sum\\limits_{i = 0}^{m-1} \\frac{\\partial J(w,b)}{\\partial w}^{(i)} \n",
    "    $$\n",
    "  * Here, $m$ is the number of training examples and $\\sum$ is the summation operator\n",
    "\n",
    "If you get stuck, you can check out the hints presented after the cell below to help you with the implementation."
   ]
  },
  {
   "cell_type": "code",
   "execution_count": null,
   "id": "bc808c4d",
   "metadata": {},
   "outputs": [],
   "source": [
    "# UNQ_C2\n",
    "# GRADED FUNCTION: compute_gradient\n",
    "def compute_gradient(x, y, w, b): \n",
    "    \"\"\"\n",
    "    Computes the gradient for linear regression \n",
    "    Args:\n",
    "      x (ndarray): Shape (m,) Input to the model (Population of cities) \n",
    "      y (ndarray): Shape (m,) Label (Actual profits for the cities)\n",
    "      w, b (scalar): Parameters of the model  \n",
    "    Returns\n",
    "      dj_dw (scalar): The gradient of the cost w.r.t. the parameters w\n",
    "      dj_db (scalar): The gradient of the cost w.r.t. the parameter b     \n",
    "     \"\"\"\n",
    "    \n",
    "    # Number of training examples\n",
    "    m = x.shape[0]\n",
    "    \n",
    "    # You need to return the following variables correctly\n",
    "    dj_dw = 0\n",
    "    dj_db = 0\n",
    "    \n",
    "    ### START CODE HERE ### \n",
    "    for i in range(m):\n",
    "        f_wb = w*x[i]+b\n",
    "        dj_db += f_wb - y[i]\n",
    "        dj_dw += (f_wb - y[i])*x[i]\n",
    "    dj_dw /= m\n",
    "    dj_db /= m\n",
    "    \n",
    "    ### END CODE HERE ### \n",
    "        \n",
    "    return dj_dw, dj_db"
   ]
  },
  {
   "cell_type": "markdown",
   "id": "6a52fe5e",
   "metadata": {},
   "source": [
    "<details>\n",
    "  <summary><font size=\"2\" color=\"darkgreen\"><b>Click for hints</b></font></summary>\n",
    "       \n",
    "    * You can represent a summation operator eg: $h = \\sum\\limits_{i = 0}^{m-1} 2i$ in code as follows:\n",
    "     ```python \n",
    "    h = 0\n",
    "    for i in range(m):\n",
    "        h = h + 2*i\n",
    "    ```\n",
    "    \n",
    "    * In this case, you can iterate over all the examples in `x` using a for loop and for each example, keep adding the gradient from that example to the variables `dj_dw` and `dj_db` which are initialized outside the loop. \n",
    "\n",
    "   * Then, you can return `dj_dw` and `dj_db` both divided by `m`.    \n",
    "    <details>\n",
    "          <summary><font size=\"2\" color=\"darkblue\"><b> Click for more hints</b></font></summary>\n",
    "        \n",
    "    * Here's how you can structure the overall implementation for this function\n",
    "    ```python \n",
    "    def compute_gradient(x, y, w, b): \n",
    "        \"\"\"\n",
    "        Computes the gradient for linear regression \n",
    "        Args:\n",
    "          x (ndarray): Shape (m,) Input to the model (Population of cities) \n",
    "          y (ndarray): Shape (m,) Label (Actual profits for the cities)\n",
    "          w, b (scalar): Parameters of the model  \n",
    "        Returns\n",
    "          dj_dw (scalar): The gradient of the cost w.r.t. the parameters w\n",
    "          dj_db (scalar): The gradient of the cost w.r.t. the parameter b     \n",
    "         \"\"\"\n",
    "    \n",
    "        # Number of training examples\n",
    "        m = x.shape[0]\n",
    "    \n",
    "        # You need to return the following variables correctly\n",
    "        dj_dw = 0\n",
    "        dj_db = 0\n",
    "    \n",
    "        ### START CODE HERE ### \n",
    "        # Loop over examples\n",
    "        for i in range(m):  \n",
    "            # Your code here to get prediction f_wb for the ith example\n",
    "            f_wb = \n",
    "            \n",
    "            # Your code here to get the gradient for w from the ith example \n",
    "            dj_dw_i = \n",
    "        \n",
    "            # Your code here to get the gradient for b from the ith example \n",
    "            dj_db_i = \n",
    "     \n",
    "            # Update dj_db : In Python, a += 1  is the same as a = a + 1\n",
    "            dj_db += dj_db_i\n",
    "        \n",
    "            # Update dj_dw\n",
    "            dj_dw += dj_dw_i\n",
    "    \n",
    "        # Divide both dj_dw and dj_db by m\n",
    "        dj_dw = dj_dw / m\n",
    "        dj_db = dj_db / m\n",
    "        ### END CODE HERE ### \n",
    "        \n",
    "        return dj_dw, dj_db\n",
    "    ```\n",
    "    \n",
    "    If you're still stuck, you can check the hints presented below to figure out how to calculate `f_wb` and `cost`.\n",
    "    \n",
    "    <details>\n",
    "          <summary><font size=\"2\" color=\"darkblue\"><b>Hint to calculate f_wb</b></font></summary>\n",
    "           &emsp; &emsp; You did this in the previous exercise! For scalars $a$, $b$ and $c$ (<code>x[i]</code>, <code>w</code> and <code>b</code> are all scalars), you can calculate the equation $h = ab + c$ in code as <code>h = a * b + c</code>\n",
    "          <details>\n",
    "              <summary><font size=\"2\" color=\"blue\"><b>&emsp; &emsp; More hints to calculate f</b></font></summary>\n",
    "               &emsp; &emsp; You can compute f_wb as <code>f_wb = w * x[i] + b </code>\n",
    "           </details>\n",
    "    </details>\n",
    "        \n",
    "    <details>\n",
    "          <summary><font size=\"2\" color=\"darkblue\"><b>Hint to calculate dj_dw_i</b></font></summary>\n",
    "           &emsp; &emsp; For scalars $a$, $b$ and $c$ (<code>f_wb</code>, <code>y[i]</code> and <code>x[i]</code> are all scalars), you can calculate the equation $h = (a - b)c$ in code as <code>h = (a-b)*c</code>\n",
    "          <details>\n",
    "              <summary><font size=\"2\" color=\"blue\"><b>&emsp; &emsp; More hints to calculate f</b></font></summary>\n",
    "               &emsp; &emsp; You can compute dj_dw_i as <code>dj_dw_i = (f_wb - y[i]) * x[i] </code>\n",
    "           </details>\n",
    "    </details>\n",
    "        \n",
    "    <details>\n",
    "          <summary><font size=\"2\" color=\"darkblue\"><b>Hint to calculate dj_db_i</b></font></summary>\n",
    "             &emsp; &emsp; You can compute dj_db_i as <code> dj_db_i = f_wb - y[i] </code>\n",
    "    </details>\n",
    "        \n",
    "    </details>\n",
    "\n",
    "</details>\n",
    "\n",
    "    \n"
   ]
  },
  {
   "cell_type": "markdown",
   "id": "f270a6ad",
   "metadata": {},
   "source": [
    "Run the cells below to check your implementation of the `compute_gradient` function with two different initializations of the parameters $w$,$b$."
   ]
  },
  {
   "cell_type": "code",
   "execution_count": null,
   "id": "06795b4c",
   "metadata": {},
   "outputs": [],
   "source": [
    "# Compute and display gradient with w initialized to zeroes\n",
    "initial_w = 0\n",
    "initial_b = 0\n",
    "\n",
    "tmp_dj_dw, tmp_dj_db = compute_gradient(x_train, y_train, initial_w, initial_b)\n",
    "print('Gradient at initial w, b (zeros):', tmp_dj_dw, tmp_dj_db)\n",
    "\n",
    "compute_gradient_test(compute_gradient)"
   ]
  },
  {
   "cell_type": "markdown",
   "id": "4cbaa42a",
   "metadata": {},
   "source": [
    "Now let's run the gradient descent algorithm implemented above on our dataset.\n",
    "\n",
    "**Expected Output**:\n",
    "<table>\n",
    "  <tr>\n",
    "    <td> <b>Gradient at initial , b (zeros)<b></td>\n",
    "    <td> -65.32884975 -5.83913505154639</td> \n",
    "  </tr>\n",
    "</table>"
   ]
  },
  {
   "cell_type": "code",
   "execution_count": null,
   "id": "1ff50519",
   "metadata": {},
   "outputs": [],
   "source": [
    "# Compute and display cost and gradient with non-zero w\n",
    "test_w = 0.2\n",
    "test_b = 0.2\n",
    "tmp_dj_dw, tmp_dj_db = compute_gradient(x_train, y_train, test_w, test_b)\n",
    "\n",
    "print('Gradient at test w, b:', tmp_dj_dw, tmp_dj_db)"
   ]
  },
  {
   "cell_type": "markdown",
   "id": "9ca32593",
   "metadata": {},
   "source": [
    "**Expected Output**:\n",
    "<table>\n",
    "  <tr>\n",
    "    <td> <b>Gradient at test w<b></td>\n",
    "    <td> -47.41610118 -4.007175051546391</td> \n",
    "  </tr>\n",
    "</table>"
   ]
  },
  {
   "cell_type": "markdown",
   "id": "23943be9",
   "metadata": {},
   "source": [
    "##### 6.1 Learning parameters using batch gradient descent \n",
    "<a name=\"6.1\"></a>\n",
    "\n",
    "You will now find the optimal parameters of a linear regression model by using batch gradient descent. Recall batch refers to running all the examples in one iteration.\n",
    "- You don't need to implement anything for this part. Simply run the cells below. \n",
    "\n",
    "- A good way to verify that gradient descent is working correctly is to look\n",
    "at the value of $J(w,b)$ and check that it is decreasing with each step. \n",
    "\n",
    "- Assuming you have implemented the gradient and computed the cost correctly and you have an appropriate value for the learning rate alpha, $J(w,b)$ should never increase and should converge to a steady value by the end of the algorithm."
   ]
  },
  {
   "cell_type": "code",
   "execution_count": null,
   "id": "77adea20",
   "metadata": {},
   "outputs": [],
   "source": [
    "def gradient_descent(x, y, w_in, b_in, cost_function, gradient_function, alpha, num_iters): \n",
    "    \"\"\"\n",
    "    Performs batch gradient descent to learn theta. Updates theta by taking \n",
    "    num_iters gradient steps with learning rate alpha\n",
    "    \n",
    "    Args:\n",
    "      x :    (ndarray): Shape (m,)\n",
    "      y :    (ndarray): Shape (m,)\n",
    "      w_in, b_in : (scalar) Initial values of parameters of the model\n",
    "      cost_function: function to compute cost\n",
    "      gradient_function: function to compute the gradient\n",
    "      alpha : (float) Learning rate\n",
    "      num_iters : (int) number of iterations to run gradient descent\n",
    "    Returns\n",
    "      w : (ndarray): Shape (1,) Updated values of parameters of the model after\n",
    "          running gradient descent\n",
    "      b : (scalar)                Updated value of parameter of the model after\n",
    "          running gradient descent\n",
    "    \"\"\"\n",
    "    \n",
    "    # number of training examples\n",
    "    m = len(x)\n",
    "    \n",
    "    # An array to store cost J and w's at each iteration — primarily for graphing later\n",
    "    J_history = []\n",
    "    w_history = []\n",
    "    w = copy.deepcopy(w_in)  #avoid modifying global w within function\n",
    "    b = b_in\n",
    "    \n",
    "    for i in range(num_iters):\n",
    "\n",
    "        # Calculate the gradient and update the parameters\n",
    "        dj_dw, dj_db = gradient_function(x, y, w, b )  \n",
    "        \n",
    "        # Update Parameters using w, b, alpha and gradient\n",
    "        w = w - alpha * dj_dw               \n",
    "        b = b - alpha * dj_db               \n",
    "\n",
    "        # Save cost J at each iteration\n",
    "        if i<100000:      # prevent resource exhaustion \n",
    "            cost =  cost_function(x, y, w, b)\n",
    "            J_history.append(cost)\n",
    "\n",
    "        # Print cost every at intervals 10 times or as many iterations if < 10\n",
    "        if i% math.ceil(num_iters/10) == 0:\n",
    "            w_history.append(w)\n",
    "            print(f\"Iteration {i:4}: Cost {float(J_history[-1]):8.2f}   \")\n",
    "        \n",
    "    return w, b, J_history, w_history #return w and J,w history for graphing"
   ]
  },
  {
   "cell_type": "markdown",
   "id": "9337801d",
   "metadata": {},
   "source": [
    "Now let's run the gradient descent algorithm above to learn the parameters for our dataset."
   ]
  },
  {
   "cell_type": "code",
   "execution_count": null,
   "id": "93e76230",
   "metadata": {},
   "outputs": [],
   "source": [
    "# initialize fitting parameters. Recall that the shape of w is (n,)\n",
    "initial_w = 20\n",
    "initial_b = 5\n",
    "\n",
    "# some gradient descent settings\n",
    "iterations = 15000\n",
    "alpha = 0.01\n",
    "\n",
    "w,b,_,_ = gradient_descent(x_train ,y_train, initial_w, initial_b, compute_cost, compute_gradient, alpha, iterations)\n",
    "print(\"w,b found by gradient descent:\", w, b)"
   ]
  },
  {
   "cell_type": "markdown",
   "id": "5068a055",
   "metadata": {},
   "source": [
    "**Expected Output**:\n",
    "<table>\n",
    "  <tr>\n",
    "    <td> <b> w, b found by gradient descent<b></td>\n",
    "    <td> 1.16636235 -3.63029143940436</td> \n",
    "  </tr>\n",
    "</table>"
   ]
  },
  {
   "cell_type": "markdown",
   "id": "f6d23f0a",
   "metadata": {},
   "source": [
    "We will now use the final parameters from gradient descent to plot the linear fit. \n",
    "\n",
    "Recall that we can get the prediction for a single example $f(x^{(i)})= wx^{(i)}+b$. \n",
    "\n",
    "To calculate the predictions on the entire dataset, we can loop through all the training examples and calculate the prediction for each example. This is shown in the code block below."
   ]
  },
  {
   "cell_type": "markdown",
   "id": "8822ab04",
   "metadata": {},
   "source": [
    "#####  Assignment2: My solution"
   ]
  },
  {
   "cell_type": "markdown",
   "id": "09b59797",
   "metadata": {},
   "source": [
    "<details>\n",
    "  <summary><font size=\"4\" color=\"darkred\"><b>My Solution</b></font></summary>\n",
    "    \n",
    "  ```python\n",
    "      \n",
    "#my solution: Dictate learning rate automatically,costrain parameter within boundry\n",
    "\n",
    "import sys\n",
    "#add modules from the path\n",
    "sys.path.append(\"/home/amitk/my_web/Machine-Learning-Andrew-Ng/source/source_files/Supervised_Machine_Learning_Regression_and_Classification/week2/C1W2A1\")\n",
    "\n",
    "import numpy as np\n",
    "import matplotlib.pyplot as plt\n",
    "\n",
    "from utils import *\n",
    "import copy\n",
    "import math\n",
    "%matplotlib inline \n",
    "\n",
    "#to show graphs inline\n",
    "# load the dataset\n",
    "#x_train, y_train = load_data()\n",
    "x_train=np.linspace(5,25,100)\n",
    "y_train= 3*x_train-8 + np.random.normal(0,1,len(x_train)) \n",
    "\n",
    "\n",
    "def model(x,theta):\n",
    "    w,b=theta\n",
    "    return w*x+b\n",
    "\n",
    "def dmodel_w(x,theta): \n",
    "    w,b=theta\n",
    "    return x\n",
    "\n",
    "def dmodel_b(x,theta): \n",
    "    w,b=theta\n",
    "    return 1.\n",
    "\n",
    "\n",
    "def cost(x,theta,y):\n",
    "    cf= ( model(x,theta) - y)**2\n",
    "    return np.sum(cf)/2/np.shape(x_train)[0]\n",
    "\n",
    "def dcost_w(x,theta,y):\n",
    "    return np.sum((model(x,theta)-y)*dmodel_w(x,theta))/len(x)\n",
    "\n",
    "def dcost_b(x,theta,y):\n",
    "    return np.sum((model(x,theta)-y)*dmodel_b(x,theta))/len(x)\n",
    "    \n",
    "def compute_gradient(x,theta,y):\n",
    "    return dcost_w(x,theta,y),dcost_b(x,theta,y)\n",
    "\n",
    "np.set_printoptions(precision=2)\n",
    "def gradient_decent(x,y,theta,alpha,niter):\n",
    "    w,b=theta\n",
    "    if theta[1]>0:  #constraining parameters\n",
    "        b=-theta[1]\n",
    "    cost_i=np.zeros(niter)\n",
    "    for i in np.arange(niter):\n",
    "        if i>1:\n",
    "            if np.abs((cost_i[i]-cost_i[i-1])/cost_i[i])<0.05:\n",
    "                alpha/=2\n",
    "                \n",
    "        dcw,dcb= compute_gradient(x,theta,y)\n",
    "        w = w-alpha*dcw\n",
    "        b = b-alpha*dcb\n",
    "        theta=w,b\n",
    "        cost_i[i]=cost(x,theta,y)\n",
    "        if i>1:\n",
    "            if cost_i[i]>cost_i[i-1]:\n",
    "                alpha/=2\n",
    "        #print(cost_i[i],alpha)\n",
    "        #print(theta)    \n",
    "    return cost_i,theta\n",
    "\n",
    " \n",
    "    \n",
    "niter=10000\n",
    "Win=20\n",
    "Bin=5\n",
    "alpha=0.5\n",
    "theta_in=Win,Bin\n",
    "grad_dec_result,theta_f=gradient_decent(x_train,y_train,theta_in,alpha,niter)    \n",
    "\n",
    "wf,bf=theta_f\n",
    "print(wf,bf,grad_dec_result[-1])\n",
    "#print(compute_gradient(x_train,y_train,0.2,0.2))\n",
    "ax=plt.subplot(121)\n",
    "\n",
    "plt.plot(np.arange(niter),grad_dec_result,\".\")\n",
    "plt.yscale(\"log\")\n",
    "plt.xlabel(\"No of steps\")\n",
    "plt.ylabel(\"Cost function\")\n",
    "plt.ylim(bottom=0.01)\n",
    "#plt.xlim(0,100)\n",
    "#plt.show()\n",
    "m = x_train.shape[0]\n",
    "predictedamit = np.zeros(m)\n",
    "\n",
    "for i in range(m):\n",
    "    predictedamit[i] = wf * x_train[i] + bf\n",
    "\n",
    "    \n",
    "ax=plt.subplot(122)    \n",
    "# Plot the linear fit\n",
    "#plt.plot(x_train, predicted, c = \"b\")\n",
    "plt.plot(x_train, predictedamit, c = \"g\",label=\"Predcited model\")\n",
    "\n",
    "# Create a scatter plot of the data. \n",
    "plt.scatter(x_train, y_train, marker='x', c='r') \n",
    "\n",
    "# Set the title\n",
    "plt.title(\"Model fit\")\n",
    "# Set the y-axis label\n",
    "plt.ylabel('training data')\n",
    "# Set the x-axis label\n",
    "plt.xlabel('training input')    \n",
    "plt.legend()\n",
    "plt.tight_layout()\n",
    "    \n",
    "  ```\n",
    "\n",
    "</details>\n",
    "\n",
    "\n",
    "    \n"
   ]
  },
  {
   "cell_type": "markdown",
   "id": "f8b96db8",
   "metadata": {},
   "source": [
    "<details>\n",
    "  <summary><font size=\"4\" color=\"darkred\"><b>How to write summary</b></font></summary>\n",
    "    \n",
    "  ```python\n",
    "      import math\n",
    "      %matplotlib inline \n",
    "      plt.xlabel('Area of triangle')\n",
    "  ```\n",
    "\n",
    "  <details>\n",
    "    <summary><font size=\"2\" color=\"Blue\"><b>See hints</b></font></summary>\n",
    "    \n",
    "  ```python\n",
    "      import math\n",
    "      %matplotlib inline \n",
    "      plt.xlabel('Area of triangle')\n",
    "  ```\n",
    "    \n",
    "  </details>\n",
    "\n",
    "    \n",
    "</details>\n",
    "\n",
    "\n",
    "  <details>\n",
    "    <summary><font size=\"2\" color=\"darkblue\"><b>Hint to calculate f_wb</b></font></summary>&emsp; &emsp; For scalars $a$, $b$ and $c$ (<code>x[i]</code>, <code>w</code> and <code>b</code> are all scalars), you can calculate the equation $h = ab + c$ in code as <code>h = a * b + c</code>\n",
    "       <details>\n",
    "         <summary><font size=\"2\" color=\"blue\"><b>&emsp; &emsp; More hints to calculate f</b></font></summary> &emsp;&emsp;&emsp; &emsp; You can compute f_wb as <code>f_wb = w * x[i] + b </code>\n",
    "       </details>\n",
    "  </details>\n",
    "\n",
    "  <details>\n",
    "    <summary><font size=\"2\" color=\"darkblue\"><b>Hint to calculate cost</b></font></summary> &emsp; &emsp; You can calculate the square of a variable z as z**2\n",
    "        <details>\n",
    "            <summary><font size=\"2\" color=\"blue\"><b>&emsp; &emsp; More hints to calculate cost</b></font></summary> &emsp; &emsp; You can compute cost as <code>cost = (f_wb - y[i]) ** 2</code>\n",
    "        </details>\n",
    "  </details>\n",
    "\n",
    "\n",
    "    \n"
   ]
  },
  {
   "cell_type": "code",
   "execution_count": null,
   "id": "6f143827",
   "metadata": {},
   "outputs": [],
   "source": [
    "m = x_train.shape[0]\n",
    "predicted = np.zeros(m)\n",
    "\n",
    "for i in range(m):\n",
    "    predicted[i] = w * x_train[i] + b\n",
    "    \n",
    "    "
   ]
  },
  {
   "cell_type": "markdown",
   "id": "98952691",
   "metadata": {},
   "source": [
    "We will now plot the predicted values to see the linear fit."
   ]
  },
  {
   "cell_type": "code",
   "execution_count": null,
   "id": "0999c465",
   "metadata": {},
   "outputs": [],
   "source": [
    "# Plot the linear fit\n",
    "plt.plot(x_train, predicted, c = \"b\")\n",
    "#plt.plot(x_train, predictedamit, c = \"g\")\n",
    "\n",
    "# Create a scatter plot of the data. \n",
    "plt.scatter(x_train, y_train, marker='x', c='r') \n",
    "\n",
    "# Set the title\n",
    "plt.title(\"Profits vs. Population per city\")\n",
    "# Set the y-axis label\n",
    "plt.ylabel('Profit in $10,000')\n",
    "# Set the x-axis label\n",
    "plt.xlabel('Population of City in 10,000s')"
   ]
  },
  {
   "cell_type": "markdown",
   "id": "344b43d6",
   "metadata": {},
   "source": [
    "Your final values of $w,b$ can also be used to make predictions on profits. Let's predict what the profit would be in areas of 35,000 and 70,000 people. \n",
    "\n",
    "- The model takes in population of a city in 10,000s as input. \n",
    "\n",
    "- Therefore, 35,000 people can be translated into an input to the model as `np.array([3.5])`\n",
    "\n",
    "- Similarly, 70,000 people can be translated into an input to the model as `np.array([7.])`\n"
   ]
  },
  {
   "cell_type": "code",
   "execution_count": null,
   "id": "4e697938",
   "metadata": {},
   "outputs": [],
   "source": [
    "predict1 = 3.5 * w + b\n",
    "print('For population = 35,000, we predict a profit of $%.2f' % (predict1*10000))\n",
    "\n",
    "predict2 = 7.0 * w + b\n",
    "print('For population = 70,000, we predict a profit of $%.2f' % (predict2*10000))"
   ]
  },
  {
   "cell_type": "markdown",
   "id": "a0d34aa3",
   "metadata": {},
   "source": [
    "**Expected Output**:\n",
    "<table>\n",
    "  <tr>\n",
    "    <td> <b> For population = 35,000, we predict a profit of<b></td>\n",
    "    <td> $4519.77 </td> \n",
    "  </tr>\n",
    "  \n",
    "  <tr>\n",
    "    <td> <b> For population = 70,000, we predict a profit of<b></td>\n",
    "    <td> $45342.45 </td> \n",
    "  </tr>\n",
    "</table>"
   ]
  },
  {
   "cell_type": "markdown",
   "id": "f44fca55",
   "metadata": {},
   "source": [
    "<div style=\"margin-bottom: 8vh;\"> </div>  \n",
    "<hr style=\"height: 3px; background-color: black;\">\n",
    "<div style=\"margin-bottom: 10vh;\"> </div>  \n"
   ]
  },
  {
   "cell_type": "markdown",
   "id": "f4df2e4b",
   "metadata": {},
   "source": [
    "## Module - 3"
   ]
  },
  {
   "cell_type": "markdown",
   "id": "231fd88e",
   "metadata": {},
   "source": [
    "### Optional Lab W3"
   ]
  },
  {
   "cell_type": "markdown",
   "id": "386fd658",
   "metadata": {
    "pycharm": {
     "name": "#%% md\n"
    }
   },
   "source": [
    "#### Optional Lab - 3.1: Classification\n",
    "\n",
    "In this lab, you will contrast regression and classification."
   ]
  },
  {
   "cell_type": "code",
   "execution_count": null,
   "id": "696dde27",
   "metadata": {},
   "outputs": [],
   "source": [
    "import os,sys\n",
    "proj_path=f\"{os.environ['HOME']}/my_web/Machine-Learning-Andrew-Ng\"\n",
    "module3=f\"{proj_path}/source/source_files/Supervised_Machine_Learning_Regression_and_Classification/\"\n",
    "os.chdir(module3)"
   ]
  },
  {
   "cell_type": "code",
   "execution_count": null,
   "id": "649744ec",
   "metadata": {},
   "outputs": [],
   "source": [
    "import matplotlib.pyplot as plt\n",
    "plt.style.use(\"week3/OptionalLabs/deeplearning.mplstyle\")\n",
    "sys.path.append(f\"{module3}/week3/OptionalLabs\")\n",
    "from lab_utils_common import dlc, plot_data\n",
    "from plt_one_addpt_onclick import plt_one_addpt_onclick\n",
    "import numpy as np"
   ]
  },
  {
   "cell_type": "markdown",
   "id": "4f32cc01",
   "metadata": {
    "pycharm": {
     "name": "#%% md\n"
    }
   },
   "source": [
    "##### Classification Problems\n",
    "<img align=\"left\" src=\"week3/OptionalLabs/images/C1_W3_Classification.png\"     style=\" width:380px; padding: 10px; \" > Examples of classification problems are things like: identifying email as Spam or Not Spam or determining if a tumor is malignant or benign. In particular, these are examples of *binary* classification where there are two possible outcomes.  Outcomes can be  described in pairs of 'positive'/'negative' such as 'yes'/'no, 'true'/'false' or '1'/'0'. \n",
    "\n",
    "Plots of classification data sets often use symbols to indicate the outcome of an example. In the plots below, 'X' is used to represent the positive values while 'O' represents negative outcomes. "
   ]
  },
  {
   "cell_type": "code",
   "execution_count": null,
   "id": "43dbf054",
   "metadata": {
    "pycharm": {
     "name": "#%%\n"
    }
   },
   "outputs": [],
   "source": [
    "x_train = np.array([0., 1, 2, 3, 4, 5])\n",
    "y_train = np.array([0,  0, 0, 1, 1, 1])\n",
    "X_train2 = np.array([[0.5, 1.5], [1,1], [1.5, 0.5], [3, 0.5], [2, 2], [1, 2.5]])\n",
    "y_train2 = np.array([0, 0, 0, 1, 1, 1])"
   ]
  },
  {
   "cell_type": "code",
   "execution_count": null,
   "id": "6d854809",
   "metadata": {
    "pycharm": {
     "name": "#%%\n"
    }
   },
   "outputs": [],
   "source": [
    "pos = y_train == 1\n",
    "neg = y_train == 0\n",
    "\n",
    "fig,ax = plt.subplots(1,2,figsize=(8,3))\n",
    "#plot 1, single variable\n",
    "ax[0].scatter(x_train[pos], y_train[pos], marker='x', s=80, c = 'red', label=\"y=1\")\n",
    "ax[0].scatter(x_train[neg], y_train[neg], marker='o', s=100, label=\"y=0\", facecolors='none', edgecolors=dlc[\"dlblue\"],lw=3)\n",
    "\n",
    "ax[0].set_ylim(-0.08,1.1)\n",
    "ax[0].set_ylabel('y', fontsize=12)\n",
    "ax[0].set_xlabel('x', fontsize=12)\n",
    "ax[0].set_title('one variable plot')\n",
    "ax[0].legend()\n",
    "\n",
    "#plot 2, two variables\n",
    "plot_data(X_train2, y_train2, ax[1])\n",
    "ax[1].axis([0, 4, 0, 4])\n",
    "ax[1].set_ylabel('$x_1$', fontsize=12)\n",
    "ax[1].set_xlabel('$x_0$', fontsize=12)\n",
    "ax[1].set_title('two variable plot')\n",
    "ax[1].legend()\n",
    "plt.tight_layout()\n",
    "plt.show()\n"
   ]
  },
  {
   "cell_type": "markdown",
   "id": "c29d47ff",
   "metadata": {
    "pycharm": {
     "name": "#%% md\n"
    }
   },
   "source": [
    "Note in the plots above:\n",
    "- In the single variable plot, positive results are shown both a red 'X's and as y=1. Negative results are blue 'O's and are located at y=0.\n",
    "   - Recall in the case of linear regression, y would not have been limited to two values but could have been any value.\n",
    "- In the two-variable plot, the y axis is not available.  Positive results are shown as red 'X's, while negative results use the blue 'O' symbol.\n",
    "    - Recall in the case of linear regression with multiple variables, y would not have been limited to two values and a similar plot would have been three-dimensional."
   ]
  },
  {
   "cell_type": "markdown",
   "id": "75f12efc",
   "metadata": {
    "pycharm": {
     "name": "#%% md\n"
    }
   },
   "source": [
    "##### Linear Regression approach\n",
    "In the previous week, you applied linear regression to build a prediction model. Let's try that approach here using the simple example that was described in the lecture. The model will predict if a tumor is benign or malignant based on tumor size.  Try the following:\n",
    "- Click on 'Run Linear Regression' to find the best linear regression model for the given data.\n",
    "    - Note the resulting linear model does **not** match the data well. \n",
    "One option to improve the results is to apply a *threshold*. \n",
    "- Tick the box on the 'Toggle 0.5 threshold' to show the predictions if a threshold is applied.\n",
    "    - These predictions look good, the predictions match the data\n",
    "- *Important*: Now, add further 'malignant' data points on the far right, in the large tumor size range (near 10), and re-run linear regression.\n",
    "    - Now, the model predicts the larger tumor, but data point at x=3 is being incorrectly predicted!\n",
    "- to clear/renew the plot, rerun the cell containing the plot command."
   ]
  },
  {
   "cell_type": "code",
   "execution_count": null,
   "id": "a4a1872f",
   "metadata": {
    "pycharm": {
     "name": "#%%\n"
    }
   },
   "outputs": [],
   "source": [
    "w_in = np.zeros((1))\n",
    "b_in = 0\n",
    "plt.close('all') \n",
    "addpt = plt_one_addpt_onclick( x_train,y_train, w_in, b_in, logistic=False)"
   ]
  },
  {
   "cell_type": "markdown",
   "id": "296410ba",
   "metadata": {
    "pycharm": {
     "name": "#%% md\n"
    }
   },
   "source": [
    "The example above demonstrates that the linear model is insufficient to model categorical data. The model can be extended as described in the following lab."
   ]
  },
  {
   "cell_type": "markdown",
   "id": "c6a93ad7",
   "metadata": {
    "pycharm": {
     "name": "#%% md\n"
    }
   },
   "source": [
    "In this lab you:\n",
    "- explored categorical data sets and plotting\n",
    "- determined that linear regression was insufficient for a classification problem."
   ]
  },
  {
   "cell_type": "markdown",
   "id": "a6c0538c",
   "metadata": {
    "pycharm": {
     "name": "#%% md\n"
    }
   },
   "source": [
    "#### Optional Lab - 3.2: Logistic Regression\n",
    "\n",
    "In this ungraded lab, you will \n",
    "- explore the sigmoid function (also known as the logistic function)\n",
    "- explore logistic regression; which uses the sigmoid function"
   ]
  },
  {
   "cell_type": "code",
   "execution_count": null,
   "id": "0d073f16",
   "metadata": {
    "pycharm": {
     "name": "#%%\n"
    }
   },
   "outputs": [],
   "source": [
    "import numpy as np\n",
    "%matplotlib widget\n",
    "import matplotlib.pyplot as plt\n",
    "from plt_one_addpt_onclick import plt_one_addpt_onclick\n",
    "from lab_utils_common import draw_vthresh\n",
    "plt.style.use('week3/OptionalLabs/deeplearning.mplstyle')"
   ]
  },
  {
   "cell_type": "markdown",
   "id": "d715578f",
   "metadata": {
    "pycharm": {
     "name": "#%% md\n"
    }
   },
   "source": [
    "##### Sigmoid or Logistic Function\n",
    "<img align=\"left\" src=\"week3/OptionalLabs/images/C1_W3_LogisticRegression_left.png\"     style=\" width:300px; padding: 10px; \" >As discussed in the lecture videos, for a classification task, we can start by using our linear regression model, $f_{\\mathbf{w},b}(\\mathbf{x}^{(i)}) = \\mathbf{w} \\cdot  \\mathbf{x}^{(i)} + b$, to predict $y$ given $x$. \n",
    "- However, we would like the predictions of our classification model to be between 0 and 1 since our output variable $y$ is either 0 or 1. \n",
    "- This can be accomplished by using a \"sigmoid function\" which maps all input values to values between 0 and 1. \n",
    "\n",
    "\n",
    "Let's implement the sigmoid function and see this for ourselves.\n",
    "\n",
    "##### Formula for Sigmoid function\n",
    "\n",
    "The formula for a sigmoid function is as follows -  \n",
    "\n",
    "$g(z) = \\frac{1}{1+e^{-z}}\\tag{1}$\n",
    "\n",
    "In the case of logistic regression, z (the input to the sigmoid function), is the output of a linear regression model. \n",
    "- In the case of a single example, $z$ is scalar.\n",
    "- in the case of multiple examples, $z$ may be a vector consisting of $m$ values, one for each example. \n",
    "- The implementation of the sigmoid function should cover both of these potential input formats.\n",
    "Let's implement this in Python."
   ]
  },
  {
   "cell_type": "markdown",
   "id": "286fbb11",
   "metadata": {
    "pycharm": {
     "name": "#%% md\n"
    }
   },
   "source": [
    "NumPy has a function called [`exp()`](https://numpy.org/doc/stable/reference/generated/numpy.exp.html), which offers a convenient way to calculate the exponential ( $e^{z}$) of all elements in the input array (`z`).\n",
    " \n",
    "It also works with a single number as an input, as shown below."
   ]
  },
  {
   "cell_type": "code",
   "execution_count": null,
   "id": "8a2c1739",
   "metadata": {
    "pycharm": {
     "name": "#%%\n"
    }
   },
   "outputs": [],
   "source": [
    "# Input is an array. \n",
    "input_array = np.array([1,2,3])\n",
    "exp_array = np.exp(input_array)\n",
    "\n",
    "print(\"Input to exp:\", input_array)\n",
    "print(\"Output of exp:\", exp_array)\n",
    "\n",
    "# Input is a single number\n",
    "input_val = 1  \n",
    "exp_val = np.exp(input_val)\n",
    "\n",
    "print(\"Input to exp:\", input_val)\n",
    "print(\"Output of exp:\", exp_val)"
   ]
  },
  {
   "cell_type": "markdown",
   "id": "e0d4eee7",
   "metadata": {
    "pycharm": {
     "name": "#%% md\n"
    }
   },
   "source": [
    "The `sigmoid` function is implemented in python as shown in the cell below."
   ]
  },
  {
   "cell_type": "code",
   "execution_count": null,
   "id": "6487b66c",
   "metadata": {
    "pycharm": {
     "name": "#%%\n"
    }
   },
   "outputs": [],
   "source": [
    "def sigmoid(z):\n",
    "    \"\"\"\n",
    "    Compute the sigmoid of z\n",
    "\n",
    "    Args:\n",
    "        z (ndarray): A scalar, numpy array of any size.\n",
    "\n",
    "    Returns:\n",
    "        g (ndarray): sigmoid(z), with the same shape as z\n",
    "         \n",
    "    \"\"\"\n",
    "\n",
    "    g = 1/(1+np.exp(-z))\n",
    "   \n",
    "    return g"
   ]
  },
  {
   "cell_type": "markdown",
   "id": "c829c5ed",
   "metadata": {
    "pycharm": {
     "name": "#%% md\n"
    }
   },
   "source": [
    "Let's see what the output of this function is for various value of `z`"
   ]
  },
  {
   "cell_type": "code",
   "execution_count": null,
   "id": "052af03d",
   "metadata": {
    "pycharm": {
     "name": "#%%\n"
    }
   },
   "outputs": [],
   "source": [
    "# Generate an array of evenly spaced values between -10 and 10\n",
    "z_tmp = np.arange(-10,11)\n",
    "\n",
    "# Use the function implemented above to get the sigmoid values\n",
    "y = sigmoid(z_tmp)\n",
    "\n",
    "# Code for pretty printing the two arrays next to each other\n",
    "np.set_printoptions(precision=3) \n",
    "print(\"Input (z), Output (sigmoid(z))\")\n",
    "print(np.c_[z_tmp, y])"
   ]
  },
  {
   "cell_type": "markdown",
   "id": "4602a20f",
   "metadata": {
    "pycharm": {
     "name": "#%% md\n"
    }
   },
   "source": [
    "The values in the left column are `z`, and the values in the right column are `sigmoid(z)`. As you can see, the input values to the sigmoid range from -10 to 10, and the output values range from 0 to 1. \n",
    "\n",
    "Now, let's try to plot this function using the `matplotlib` library."
   ]
  },
  {
   "cell_type": "code",
   "execution_count": null,
   "id": "7ce64584",
   "metadata": {
    "pycharm": {
     "name": "#%%\n"
    }
   },
   "outputs": [],
   "source": [
    "# Plot z vs sigmoid(z)\n",
    "fig,ax = plt.subplots(1,1,figsize=(5,3))\n",
    "ax.plot(z_tmp, y, c=\"b\")\n",
    "\n",
    "ax.set_title(\"Sigmoid function\")\n",
    "ax.set_ylabel('sigmoid(z)')\n",
    "ax.set_xlabel('z')\n",
    "draw_vthresh(ax,0)"
   ]
  },
  {
   "cell_type": "markdown",
   "id": "3b35856d",
   "metadata": {
    "pycharm": {
     "name": "#%% md\n"
    }
   },
   "source": [
    "As you can see, the sigmoid function approaches  `0` as `z` goes to large negative values and approaches `1` as `z` goes to large positive values.\n"
   ]
  },
  {
   "cell_type": "markdown",
   "id": "156fad72",
   "metadata": {
    "pycharm": {
     "name": "#%% md\n"
    }
   },
   "source": [
    "##### Logistic Regression\n",
    "<img align=\"left\" src=\"week3/OptionalLabs/images/C1_W3_LogisticRegression_right.png\"     style=\" width:300px; padding: 10px; \" > A logistic regression model applies the sigmoid to the familiar linear regression model as shown below:\n",
    "\n",
    "$$ f_{\\mathbf{w},b}(\\mathbf{x}^{(i)}) = g(\\mathbf{w} \\cdot \\mathbf{x}^{(i)} + b ) \\tag{2} $$ \n",
    "\n",
    "  where\n",
    "\n",
    "  $g(z) = \\frac{1}{1+e^{-z}}\\tag{3}$\n"
   ]
  },
  {
   "cell_type": "markdown",
   "id": "beb78ba8",
   "metadata": {
    "pycharm": {
     "name": "#%% md\n"
    }
   },
   "source": [
    "  \n",
    "Let's apply logistic regression to the categorical data example of tumor classification.  \n",
    "First, load the examples and initial values for the parameters.\n",
    "  \n"
   ]
  },
  {
   "cell_type": "code",
   "execution_count": null,
   "id": "f84511c6",
   "metadata": {
    "pycharm": {
     "name": "#%%\n"
    },
    "tags": []
   },
   "outputs": [],
   "source": [
    "x_train = np.array([0., 1, 2, 3, 4, 5])\n",
    "y_train = np.array([0,  0, 0, 1, 1, 1])\n",
    "\n",
    "w_in = np.zeros((1))\n",
    "b_in = 0"
   ]
  },
  {
   "cell_type": "markdown",
   "id": "66260d53",
   "metadata": {
    "pycharm": {
     "name": "#%% md\n"
    }
   },
   "source": [
    "Try the following steps:\n",
    "- Click on 'Run Logistic Regression' to find the best logistic regression model for the given training data\n",
    "    - Note the resulting model fits the data quite well.\n",
    "    - Note, the orange line is '$z$' or $\\mathbf{w} \\cdot \\mathbf{x}^{(i)} + b$  above. It does not match the line in a linear regression model.\n",
    "Further improve these results by applying a *threshold*. \n",
    "- Tick the box on the 'Toggle 0.5 threshold' to show the predictions if a threshold is applied.\n",
    "    - These predictions look good. The predictions match the data\n",
    "    - Now, add further data points in the large tumor size range (near 10), and re-run logistic regression.\n",
    "    - unlike the linear regression model, this model continues to make correct predictions"
   ]
  },
  {
   "cell_type": "code",
   "execution_count": null,
   "id": "4b436231",
   "metadata": {
    "pycharm": {
     "name": "#%%\n"
    }
   },
   "outputs": [],
   "source": [
    "plt.close('all') \n",
    "addpt = plt_one_addpt_onclick( x_train,y_train, w_in, b_in, logistic=True)"
   ]
  },
  {
   "cell_type": "markdown",
   "id": "d8462fbc",
   "metadata": {
    "pycharm": {
     "name": "#%% md\n"
    }
   },
   "source": [
    "You have explored the use of the sigmoid function in logistic regression."
   ]
  },
  {
   "cell_type": "markdown",
   "id": "f1cc65d6",
   "metadata": {
    "pycharm": {
     "name": "#%% md\n"
    }
   },
   "source": [
    "#### Optional Lab - 3.3: Logistic Regression, Decision Boundary\n"
   ]
  },
  {
   "cell_type": "markdown",
   "id": "86fe6af0",
   "metadata": {
    "pycharm": {
     "name": "#%% md\n"
    }
   },
   "source": [
    "##### Goals\n",
    "In this lab, you will:\n",
    "- Plot the decision boundary for a logistic regression model. This will give you a better sense of what the model is predicting.\n"
   ]
  },
  {
   "cell_type": "code",
   "execution_count": null,
   "id": "6ee320a5",
   "metadata": {
    "pycharm": {
     "name": "#%%\n"
    }
   },
   "outputs": [],
   "source": [
    "import numpy as np\n",
    "%matplotlib widget\n",
    "import matplotlib.pyplot as plt\n",
    "from lab_utils_common import plot_data, sigmoid, draw_vthresh\n",
    "#plt.style.use('week3/OptionalLabs/deeplearning.mplstyle')"
   ]
  },
  {
   "cell_type": "markdown",
   "id": "7867bf8d",
   "metadata": {
    "pycharm": {
     "name": "#%% md\n"
    }
   },
   "source": [
    "##### Dataset\n",
    "\n",
    "Let's suppose you have following training dataset\n",
    "- The input variable `X` is a numpy array which has 6 training examples, each with two features\n",
    "- The output variable `y` is also a numpy array with 6 examples, and `y` is either `0` or `1`"
   ]
  },
  {
   "cell_type": "code",
   "execution_count": null,
   "id": "9baca38b",
   "metadata": {
    "pycharm": {
     "name": "#%%\n"
    }
   },
   "outputs": [],
   "source": [
    "X = np.array([[0.5, 1.5], [1,1], [1.5, 0.5], [3, 0.5], [2, 2], [1, 2.5]])\n",
    "y = np.array([0, 0, 0, 1, 1, 1]).reshape(-1,1) "
   ]
  },
  {
   "cell_type": "markdown",
   "id": "182b8eb5",
   "metadata": {
    "pycharm": {
     "name": "#%% md\n"
    }
   },
   "source": [
    "##### Plot data \n",
    "\n",
    "Let's use a helper function to plot this data. The data points with label $y=1$ are shown as red crosses, while the data points with label $y=0$ are shown as blue circles. "
   ]
  },
  {
   "cell_type": "code",
   "execution_count": null,
   "id": "89a44af6",
   "metadata": {
    "pycharm": {
     "name": "#%%\n"
    }
   },
   "outputs": [],
   "source": [
    "fig,ax = plt.subplots(1,1,figsize=(4,4))\n",
    "plot_data(X, y, ax)\n",
    "\n",
    "ax.axis([0, 4, 0, 3.5])\n",
    "ax.set_ylabel('$x_1$')\n",
    "ax.set_xlabel('$x_0$')\n",
    "plt.show()"
   ]
  },
  {
   "cell_type": "markdown",
   "id": "bdfd265a",
   "metadata": {
    "pycharm": {
     "name": "#%% md\n"
    }
   },
   "source": [
    "##### Logistic regression model\n",
    "\n",
    "\n",
    "* Suppose you'd like to train a logistic regression model on this data which has the form   \n",
    "\n",
    "  $f(x) = g(w_0x_0+w_1x_1 + b)$\n",
    "  \n",
    "  where $g(z) = \\frac{1}{1+e^{-z}}$, which is the sigmoid function\n",
    "\n",
    "\n",
    "* Let's say that you trained the model and get the parameters as $b = -3, w_0 = 1, w_1 = 1$. That is,\n",
    "\n",
    "  $f(x) = g(x_0+x_1-3)$\n",
    "\n",
    "  (You'll learn how to fit these parameters to the data further in the course)\n",
    "  \n",
    "  \n",
    "Let's try to understand what this trained model is predicting by plotting its decision boundary"
   ]
  },
  {
   "cell_type": "markdown",
   "id": "3251639a",
   "metadata": {
    "pycharm": {
     "name": "#%% md\n"
    }
   },
   "source": [
    "##### Refresher on logistic regression and decision boundary\n",
    "\n",
    "* Recall that for logistic regression, the model is represented as \n",
    "\n",
    "  $$f_{\\mathbf{w},b}(\\mathbf{x}^{(i)}) = g(\\mathbf{w} \\cdot \\mathbf{x}^{(i)} + b) \\tag{1}$$\n",
    "\n",
    "  where $g(z)$ is known as the sigmoid function and it maps all input values to values between 0 and 1:\n",
    "\n",
    "  $g(z) = \\frac{1}{1+e^{-z}}\\tag{2}$\n",
    "  and $\\mathbf{w} \\cdot \\mathbf{x}$ is the vector dot product:\n",
    "  \n",
    "  $$\\mathbf{w} \\cdot \\mathbf{x} = w_0 x_0 + w_1 x_1$$\n",
    "  \n",
    "  \n",
    " * We interpret the output of the model ($f_{\\mathbf{w},b}(x)$) as the probability that $y=1$ given $\\mathbf{x}$ and parameterized by $\\mathbf{w}$ and $b$.\n",
    "* Therefore, to get a final prediction ($y=0$ or $y=1$) from the logistic regression model, we can use the following heuristic -\n",
    "\n",
    "  if $f_{\\mathbf{w},b}(x) >= 0.5$, predict $y=1$\n",
    "  \n",
    "  if $f_{\\mathbf{w},b}(x) < 0.5$, predict $y=0$\n",
    "  \n",
    "  \n",
    "* Let's plot the sigmoid function to see where $g(z) >= 0.5$"
   ]
  },
  {
   "cell_type": "code",
   "execution_count": null,
   "id": "a73f3496",
   "metadata": {
    "pycharm": {
     "name": "#%%\n"
    }
   },
   "outputs": [],
   "source": [
    "# Plot sigmoid(z) over a range of values from -10 to 10\n",
    "z = np.arange(-10,11)\n",
    "\n",
    "fig,ax = plt.subplots(1,1,figsize=(5,3))\n",
    "# Plot z vs sigmoid(z)\n",
    "ax.plot(z, sigmoid(z), c=\"b\")\n",
    "\n",
    "ax.set_title(\"Sigmoid function\")\n",
    "ax.set_ylabel('sigmoid(z)')\n",
    "ax.set_xlabel('z')\n",
    "draw_vthresh(ax,0)"
   ]
  },
  {
   "cell_type": "markdown",
   "id": "7b5bea62",
   "metadata": {
    "pycharm": {
     "name": "#%% md\n"
    }
   },
   "source": [
    "* As you can see, $g(z) >= 0.5$ for $z >=0$\n",
    "\n",
    "* For a logistic regression model, $z = \\mathbf{w} \\cdot \\mathbf{x} + b$. Therefore,\n",
    "\n",
    "  if $\\mathbf{w} \\cdot \\mathbf{x} + b >= 0$, the model predicts $y=1$\n",
    "  \n",
    "  if $\\mathbf{w} \\cdot \\mathbf{x} + b < 0$, the model predicts $y=0$\n",
    "  \n",
    "  \n",
    "  \n",
    "##### Plotting decision boundary\n",
    "\n",
    "Now, let's go back to our example to understand how the logistic regression model is making predictions.\n",
    "\n",
    "* Our logistic regression model has the form\n",
    "\n",
    "  $f(\\mathbf{x}) = g(-3 + x_0+x_1)$\n",
    "\n",
    "\n",
    "* From what you've learnt above, you can see that this model predicts $y=1$ if $-3 + x_0+x_1 >= 0$\n",
    "\n",
    "Let's see what this looks like graphically. We'll start by plotting $-3 + x_0+x_1 = 0$, which is equivalent to $x_1 = 3 - x_0$.\n"
   ]
  },
  {
   "cell_type": "code",
   "execution_count": null,
   "id": "c6047764",
   "metadata": {},
   "outputs": [],
   "source": [
    "#plotting some decision boundry\n",
    "import numpy as np\n",
    "import matplotlib.pyplot as plt\n",
    "x0 = np.arange(0,2.1,0.01)\n",
    "\n",
    "x1 = np.sqrt(4 - x0**2)\n",
    "fig,ax = plt.subplots(1,1,figsize=(5,4))\n",
    "# Plot the decision boundary\n",
    "ax.plot(x0,x1, c=\"b\")\n",
    "ax.axis([0, 4, 0, 4])\n",
    "\n",
    "# Fill the region below the line\n",
    "ax.fill_between(x0,x1, alpha=0.2)\n",
    "\n",
    "# Plot the original data\n",
    "ax.set_ylabel(r'$x_1$')\n",
    "ax.set_xlabel(r'$x_0$')\n",
    "plt.show()"
   ]
  },
  {
   "cell_type": "code",
   "execution_count": null,
   "id": "f3c4a990",
   "metadata": {
    "pycharm": {
     "name": "#%%\n"
    }
   },
   "outputs": [],
   "source": [
    "# Choose values between 0 and 6\n",
    "x0 = np.arange(0,6)\n",
    "\n",
    "x1 = 3 - x0\n",
    "fig,ax = plt.subplots(1,1,figsize=(5,4))\n",
    "# Plot the decision boundary\n",
    "ax.plot(x0,x1, c=\"b\")\n",
    "ax.axis([0, 4, 0, 3.5])\n",
    "\n",
    "# Fill the region below the line\n",
    "ax.fill_between(x0,x1, alpha=0.2)\n",
    "\n",
    "# Plot the original data\n",
    "plot_data(X,y,ax)\n",
    "ax.set_ylabel(r'$x_1$')\n",
    "ax.set_xlabel(r'$x_0$')\n",
    "plt.show()"
   ]
  },
  {
   "cell_type": "markdown",
   "id": "dbb5b861",
   "metadata": {
    "pycharm": {
     "name": "#%% md\n"
    }
   },
   "source": [
    "* In the plot above, the blue line represents the line $x_0 + x_1 - 3 = 0$ and it should intersect the x1 axis at 3 (if we set $x_1$ = 3, $x_0$ = 0) and the x0 axis at 3 (if we set $x_1$ = 0, $x_0$ = 3). \n",
    "\n",
    "\n",
    "* The shaded region represents $-3 + x_0+x_1 < 0$. The region above the line is $-3 + x_0+x_1 > 0$.\n",
    "\n",
    "\n",
    "* Any point in the shaded region (under the line) is classified as $y=0$.  Any point on or above the line is classified as $y=1$. This line is known as the \"decision boundary\".\n",
    "\n",
    "As we've seen in the lectures, by using higher order polynomial terms (eg: $f(x) = g( x_0^2 + x_1 -1)$, we can come up with more complex non-linear boundaries."
   ]
  },
  {
   "cell_type": "markdown",
   "id": "cfde5655",
   "metadata": {
    "pycharm": {
     "name": "#%% md\n"
    }
   },
   "source": [
    "You have explored the decision boundary in the context of logistic regression."
   ]
  },
  {
   "cell_type": "markdown",
   "id": "186f018b",
   "metadata": {
    "pycharm": {
     "name": "#%% md\n"
    }
   },
   "source": [
    "#### Optional Lab - 3.4: Logistic Regression, Logistic Loss\n",
    "\n",
    "In this ungraded lab, you will:\n",
    "- explore the reason the squared error loss is not appropriate for logistic regression\n",
    "- explore the logistic loss function"
   ]
  },
  {
   "cell_type": "code",
   "execution_count": null,
   "id": "4197dbed",
   "metadata": {},
   "outputs": [],
   "source": []
  },
  {
   "cell_type": "code",
   "execution_count": null,
   "id": "8adf0de5",
   "metadata": {
    "pycharm": {
     "name": "#%%\n"
    }
   },
   "outputs": [],
   "source": [
    "import numpy as np\n",
    "%matplotlib widget\n",
    "import matplotlib.pyplot as plt\n",
    "from plt_logistic_loss import  plt_logistic_cost, plt_two_logistic_loss_curves, plt_simple_example\n",
    "from plt_logistic_loss import soup_bowl, plt_logistic_squared_error\n",
    "plt.style.use('week3/OptionalLabs/deeplearning.mplstyle')"
   ]
  },
  {
   "cell_type": "markdown",
   "id": "8f439a55",
   "metadata": {
    "pycharm": {
     "name": "#%% md\n"
    }
   },
   "source": [
    "##### Squared error for logistic regression?\n",
    "<img align=\"left\" src=\"week3/OptionalLabs/images/C1_W3_SqErrorVsLogistic.png\"     style=\" width:400px; padding: 10px; \" > Recall for **Linear** Regression we have used the **squared error cost function**:\n",
    "The equation for the squared error cost with one variable is:\n",
    "  $$J(w,b) = \\frac{1}{2m} \\sum\\limits_{i = 0}^{m-1} (f_{w,b}(x^{(i)}) - y^{(i)})^2 \\tag{1}$$ \n",
    " \n",
    "where \n",
    "  $$f_{w,b}(x^{(i)}) = wx^{(i)} + b \\tag{2}$$\n"
   ]
  },
  {
   "cell_type": "markdown",
   "id": "e58bd809",
   "metadata": {
    "pycharm": {
     "name": "#%% md\n"
    }
   },
   "source": [
    "Recall, the squared error cost had the nice property that following the derivative of the cost leads to the minimum."
   ]
  },
  {
   "cell_type": "code",
   "execution_count": null,
   "id": "7744938d",
   "metadata": {
    "pycharm": {
     "name": "#%%\n"
    }
   },
   "outputs": [],
   "source": [
    "soup_bowl()"
   ]
  },
  {
   "cell_type": "markdown",
   "id": "22b9c3df",
   "metadata": {
    "pycharm": {
     "name": "#%% md\n"
    }
   },
   "source": [
    "This cost function worked well for linear regression, it is natural to consider it for logistic regression as well. However, as the slide above points out, $f_{wb}(x)$ now has a non-linear component, the sigmoid function:   $f_{w,b}(x^{(i)}) = sigmoid(wx^{(i)} + b )$.   Let's try a squared error cost on the example from an earlier lab, now including the sigmoid.\n",
    "\n",
    "Here is our training data:"
   ]
  },
  {
   "cell_type": "code",
   "execution_count": null,
   "id": "fc4c4211",
   "metadata": {
    "pycharm": {
     "name": "#%%\n"
    }
   },
   "outputs": [],
   "source": [
    "x_train = np.array([0., 1, 2, 3, 4, 5],dtype=np.longdouble)\n",
    "y_train = np.array([0,  0, 0, 1, 1, 1],dtype=np.longdouble)\n",
    "plt_simple_example(x_train, y_train)"
   ]
  },
  {
   "cell_type": "markdown",
   "id": "c6496ec5",
   "metadata": {
    "pycharm": {
     "name": "#%% md\n"
    }
   },
   "source": [
    "Now, let's get a surface plot of the cost using a *squared error cost*:\n",
    "  $$J(w,b) = \\frac{1}{2m} \\sum\\limits_{i = 0}^{m-1} (f_{w,b}(x^{(i)}) - y^{(i)})^2 $$ \n",
    " \n",
    "where \n",
    "  $$f_{w,b}(x^{(i)}) = sigmoid(wx^{(i)} + b )$$\n"
   ]
  },
  {
   "cell_type": "markdown",
   "id": "e15ed297",
   "metadata": {},
   "source": [
    "###### Plot logistic squared error "
   ]
  },
  {
   "cell_type": "code",
   "execution_count": null,
   "id": "ad2a5004",
   "metadata": {},
   "outputs": [],
   "source": [
    "import numpy as np\n",
    "import matplotlib.pyplot as plt\n",
    "from matplotlib import cm\n",
    "x_train = np.array([0., 1, 2, 3, 4, 5],dtype=np.longdouble)\n",
    "y_train = np.array([0,  0, 0, 1, 1, 1],dtype=np.longdouble)\n",
    "\n",
    "wx,by=np.meshgrid(np.linspace(-6,12,100),np.linspace(10,-20,100))\n",
    "\n",
    "\n",
    "def logistic_model(x,w,b):\n",
    "    return 1/(1+np.exp(-(w*x+b)))\n",
    "\n",
    "def cost_fn_logistic(x,w,b,y):\n",
    "    return np.sum((logistic_model(x,w,b)-y)**2)/2/len(x)\n",
    "\n",
    "\n",
    "cost_f=np.zeros(wx.shape)\n",
    "for wi in range(wx.shape[0]):\n",
    "    for wj in range(wx.shape[1]):\n",
    "        w,b=wx[wi,wj],by[wi,wj]\n",
    "        #print(cost_fn_logistic(x_train,w,b,y_train))\n",
    "        cost_f[wi,wj]=cost_fn_logistic(x_train,w,b,y_train)\n",
    "        \n",
    "        \n",
    "fig = plt.figure()\n",
    "fig.canvas.toolbar_visible = False\n",
    "fig.canvas.header_visible = False\n",
    "fig.canvas.footer_visible = False\n",
    "ax = fig.add_subplot(1, 1, 1, projection='3d')\n",
    "ax.plot_surface(wx, by, cost_f, alpha=0.6,cmap=cm.coolwarm)\n",
    "        \n"
   ]
  },
  {
   "cell_type": "code",
   "execution_count": null,
   "id": "56c3afa1",
   "metadata": {
    "pycharm": {
     "name": "#%%\n"
    }
   },
   "outputs": [],
   "source": [
    "plt.close('all')\n",
    "plt_logistic_squared_error(x_train,y_train)\n",
    "plt.show()"
   ]
  },
  {
   "cell_type": "markdown",
   "id": "751fb80c",
   "metadata": {
    "pycharm": {
     "name": "#%% md\n"
    }
   },
   "source": [
    "While this produces a pretty interesting plot, the surface above not nearly as smooth as the 'soup bowl' from linear regression!    \n",
    "\n",
    "Logistic regression requires a cost function more suitable to its non-linear nature. This starts with a Loss function. This is described below."
   ]
  },
  {
   "cell_type": "markdown",
   "id": "30e7043e",
   "metadata": {
    "pycharm": {
     "name": "#%% md\n"
    }
   },
   "source": [
    "##### Logistic Loss Function\n",
    "<img align=\"left\" src=\"week3/OptionalLabs/images/C1_W3_LogisticLoss_a.png\"     style=\" width:250px; padding: 2px; \" >\n",
    "<img align=\"left\" src=\"week3/OptionalLabs/images/C1_W3_LogisticLoss_b.png\"     style=\" width:250px; padding: 2px; \" >\n",
    "<img align=\"left\" src=\"week3/OptionalLabs/images/C1_W3_LogisticLoss_c.png\"     style=\" width:250px; padding: 2px; \" > "
   ]
  },
  {
   "cell_type": "markdown",
   "id": "fbd3df42",
   "metadata": {
    "pycharm": {
     "name": "#%% md\n"
    }
   },
   "source": [
    "Logistic Regression uses a loss function more suited to the task of categorization where the target is 0 or 1 rather than any number. \n",
    "\n",
    ">**Definition Note:**   In this course, these definitions are used:  \n",
    "**Loss** is a measure of the difference of a single example to its target value while the  \n",
    "**Cost** is a measure of the losses over the training set\n",
    "\n",
    "\n",
    "This is defined: \n",
    "* $loss(f_{\\mathbf{w},b}(\\mathbf{x}^{(i)}), y^{(i)})$ is the cost for a single data point, which is:\n",
    "\n",
    "\\begin{equation}\n",
    "  loss(f_{\\mathbf{w},b}(\\mathbf{x}^{(i)}), y^{(i)}) = \\begin{cases}\n",
    "    - \\log\\left(f_{\\mathbf{w},b}\\left( \\mathbf{x}^{(i)} \\right) \\right) & \\text{if $y^{(i)}=1$}\\\\\n",
    "    - \\log \\left( 1 - f_{\\mathbf{w},b}\\left( \\mathbf{x}^{(i)} \\right) \\right) & \\text{if $y^{(i)}=0$}\n",
    "  \\end{cases}\n",
    "\\end{equation}\n",
    "\n",
    "\n",
    "*  $f_{\\mathbf{w},b}(\\mathbf{x}^{(i)})$ is the model's prediction, while $y^{(i)}$ is the target value.\n",
    "\n",
    "*  $f_{\\mathbf{w},b}(\\mathbf{x}^{(i)}) = g(\\mathbf{w} \\cdot\\mathbf{x}^{(i)}+b)$ where function $g$ is the sigmoid function.\n",
    "\n",
    "The defining feature of this loss function is the fact that it uses two separate curves. One for the case when the target is zero or ($y=0$) and another for when the target is one ($y=1$). Combined, these curves provide the behavior useful for a loss function, namely, being zero when the prediction matches the target and rapidly increasing in value as the prediction differs from the target. Consider the curves below:"
   ]
  },
  {
   "cell_type": "code",
   "execution_count": null,
   "id": "e611463e",
   "metadata": {
    "pycharm": {
     "name": "#%%\n"
    }
   },
   "outputs": [],
   "source": [
    "plt_two_logistic_loss_curves()"
   ]
  },
  {
   "cell_type": "markdown",
   "id": "f8406b17",
   "metadata": {
    "pycharm": {
     "name": "#%% md\n"
    }
   },
   "source": [
    "Combined, the curves are similar to the quadratic curve of the squared error loss. Note, the x-axis is $f_{\\mathbf{w},b}$ which is the output of a sigmoid. The sigmoid output is strictly between 0 and 1."
   ]
  },
  {
   "cell_type": "markdown",
   "id": "ff141613",
   "metadata": {
    "pycharm": {
     "name": "#%% md\n"
    }
   },
   "source": [
    "The loss function above can be rewritten to be easier to implement.\n",
    "    $$loss(f_{\\mathbf{w},b}(\\mathbf{x}^{(i)}), y^{(i)}) = (-y^{(i)} \\log\\left(f_{\\mathbf{w},b}\\left( \\mathbf{x}^{(i)} \\right) \\right) - \\left( 1 - y^{(i)}\\right) \\log \\left( 1 - f_{\\mathbf{w},b}\\left( \\mathbf{x}^{(i)} \\right) \\right)$$\n",
    "  \n",
    "This is a rather formidable-looking equation. It is less daunting when you consider $y^{(i)}$ can have only two values, 0 and 1. One can then consider the equation in two pieces:  \n",
    "when $ y^{(i)} = 0$, the left-hand term is eliminated:\n",
    "$$\n",
    "\\begin{align}\n",
    "loss(f_{\\mathbf{w},b}(\\mathbf{x}^{(i)}), 0) &= (-(0) \\log\\left(f_{\\mathbf{w},b}\\left( \\mathbf{x}^{(i)} \\right) \\right) - \\left( 1 - 0\\right) \\log \\left( 1 - f_{\\mathbf{w},b}\\left( \\mathbf{x}^{(i)} \\right) \\right) \\\\\n",
    "&= -\\log \\left( 1 - f_{\\mathbf{w},b}\\left( \\mathbf{x}^{(i)} \\right) \\right)\n",
    "\\end{align}\n",
    "$$\n",
    "and when $ y^{(i)} = 1$, the right-hand term is eliminated:\n",
    "$$\n",
    "\\begin{align}\n",
    "  loss(f_{\\mathbf{w},b}(\\mathbf{x}^{(i)}), 1) &=  (-(1) \\log\\left(f_{\\mathbf{w},b}\\left( \\mathbf{x}^{(i)} \\right) \\right) - \\left( 1 - 1\\right) \\log \\left( 1 - f_{\\mathbf{w},b}\\left( \\mathbf{x}^{(i)} \\right) \\right)\\\\\n",
    "  &=  -\\log\\left(f_{\\mathbf{w},b}\\left( \\mathbf{x}^{(i)} \\right) \\right)\n",
    "\\end{align}\n",
    "$$\n",
    "\n",
    "OK, with this new logistic loss function, a cost function can be produced that incorporates the loss from all the examples. This will be the topic of the next lab. For now, let's take a look at the cost vs parameters curve for the simple example we considered above:"
   ]
  },
  {
   "cell_type": "code",
   "execution_count": null,
   "id": "12de0fec",
   "metadata": {
    "pycharm": {
     "name": "#%%\n"
    }
   },
   "outputs": [],
   "source": [
    "plt.close('all')\n",
    "cst = plt_logistic_cost(x_train,y_train)"
   ]
  },
  {
   "cell_type": "markdown",
   "id": "82b58019",
   "metadata": {
    "pycharm": {
     "name": "#%% md\n"
    }
   },
   "source": [
    "This curve is well suited to gradient descent! It does not have plateaus, local minima, or discontinuities. Note, it is not a bowl as in the case of squared error. Both the cost and the log of the cost are plotted to illuminate the fact that the curve, when the cost is small, has a slope and continues to decline. Reminder: you can rotate the above plots using your mouse."
   ]
  },
  {
   "cell_type": "markdown",
   "id": "a1f20d80",
   "metadata": {
    "pycharm": {
     "name": "#%% md\n"
    }
   },
   "source": [
    "You have:\n",
    " - determined a squared error loss function is not suitable for classification tasks\n",
    " - developed and examined the logistic loss function which **is** suitable for classification tasks.\n",
    "\n"
   ]
  },
  {
   "cell_type": "markdown",
   "id": "49244178",
   "metadata": {
    "pycharm": {
     "name": "#%% md\n"
    }
   },
   "source": [
    "#### Optional Lab - 3.5: Cost Function for Logistic Regression\n",
    "\n",
    "##### Goals\n",
    "In this lab, you will:\n",
    "- examine the implementation and utilize the cost function for logistic regression."
   ]
  },
  {
   "cell_type": "code",
   "execution_count": null,
   "id": "43b25820",
   "metadata": {
    "pycharm": {
     "name": "#%%\n"
    }
   },
   "outputs": [],
   "source": [
    "import numpy as np\n",
    "%matplotlib widget\n",
    "import matplotlib.pyplot as plt\n",
    "from lab_utils_common import  plot_data, sigmoid, dlc\n",
    "plt.style.use('week3/OptionalLabs/deeplearning.mplstyle')"
   ]
  },
  {
   "cell_type": "markdown",
   "id": "159f0c17",
   "metadata": {
    "pycharm": {
     "name": "#%% md\n"
    }
   },
   "source": [
    "###### Dataset \n",
    "Let's start with the same dataset as was used in the decision boundary lab."
   ]
  },
  {
   "cell_type": "code",
   "execution_count": null,
   "id": "6556bad9",
   "metadata": {
    "pycharm": {
     "name": "#%%\n"
    },
    "tags": []
   },
   "outputs": [],
   "source": [
    "X_train = np.array([[0.5, 1.5], [1,1], [1.5, 0.5], [3, 0.5], [2, 2], [1, 2.5]])  #(m,n)\n",
    "y_train = np.array([0, 0, 0, 1, 1, 1])                                           #(m,)"
   ]
  },
  {
   "cell_type": "markdown",
   "id": "37292463",
   "metadata": {
    "pycharm": {
     "name": "#%% md\n"
    }
   },
   "source": [
    "We will use a helper function to plot this data. The data points with label $y=1$ are shown as red crosses, while the data points with label $y=0$ are shown as blue circles."
   ]
  },
  {
   "cell_type": "code",
   "execution_count": null,
   "id": "73aa4878",
   "metadata": {
    "pycharm": {
     "name": "#%%\n"
    }
   },
   "outputs": [],
   "source": [
    "fig,ax = plt.subplots(1,1,figsize=(4,4))\n",
    "plot_data(X_train, y_train, ax)\n",
    "\n",
    "# Set both axes to be from 0-4\n",
    "ax.axis([0, 4, 0, 3.5])\n",
    "ax.set_ylabel('$x_1$', fontsize=12)\n",
    "ax.set_xlabel('$x_0$', fontsize=12)\n",
    "plt.show()"
   ]
  },
  {
   "cell_type": "markdown",
   "id": "920356e3",
   "metadata": {
    "pycharm": {
     "name": "#%% md\n"
    }
   },
   "source": [
    "##### Cost function\n",
    "\n",
    "In a previous lab, you developed the *logistic loss* function. Recall, loss is defined to apply to one example. Here you combine the losses to form the **cost**, which includes all the examples.\n",
    "\n",
    "\n",
    "Recall that for logistic regression, the cost function is of the form \n",
    "\n",
    "$$ J(\\mathbf{w},b) = \\frac{1}{m} \\sum_{i=0}^{m-1} \\left[ loss(f_{\\mathbf{w},b}(\\mathbf{x}^{(i)}), y^{(i)}) \\right] \\tag{1}$$\n",
    "\n",
    "where\n",
    "* $loss(f_{\\mathbf{w},b}(\\mathbf{x}^{(i)}), y^{(i)})$ is the cost for a single data point, which is:\n",
    "\n",
    "    $$loss(f_{\\mathbf{w},b}(\\mathbf{x}^{(i)}), y^{(i)}) = -y^{(i)} \\log\\left(f_{\\mathbf{w},b}\\left( \\mathbf{x}^{(i)} \\right) \\right) - \\left( 1 - y^{(i)}\\right) \\log \\left( 1 - f_{\\mathbf{w},b}\\left( \\mathbf{x}^{(i)} \\right) \\right) \\tag{2}$$\n",
    "    \n",
    "*  where m is the number of training examples in the data set and:\n",
    "$$\n",
    "\\begin{align}\n",
    "  f_{\\mathbf{w},b}(\\mathbf{x^{(i)}}) &= g(z^{(i)})\\tag{3} \\\\\n",
    "  z^{(i)} &= \\mathbf{w} \\cdot \\mathbf{x}^{(i)}+ b\\tag{4} \\\\\n",
    "  g(z^{(i)}) &= \\frac{1}{1+e^{-z^{(i)}}}\\tag{5} \n",
    "\\end{align}\n",
    "$$\n",
    " "
   ]
  },
  {
   "cell_type": "markdown",
   "id": "01eaabae",
   "metadata": {
    "pycharm": {
     "name": "#%% md\n"
    }
   },
   "source": [
    "##### Code Description\n",
    "<a name='ex-02'></a>\n",
    "\n",
    "\n",
    "The algorithm for `compute_cost_logistic` loops over all the examples calculating the loss for each example and accumulating the total.\n",
    "\n",
    "Note that the variables X and y are not scalar values but matrices of shape ($m, n$) and ($𝑚$,) respectively, where  $𝑛$ is the number of features and $𝑚$ is the number of training examples.\n"
   ]
  },
  {
   "cell_type": "code",
   "execution_count": null,
   "id": "d7e7dc7e",
   "metadata": {
    "pycharm": {
     "name": "#%%\n"
    }
   },
   "outputs": [],
   "source": [
    "def compute_cost_logistic(X, y, w, b):\n",
    "    \"\"\"\n",
    "    Computes cost\n",
    "\n",
    "    Args:\n",
    "      X (ndarray (m,n)): Data, m examples with n features\n",
    "      y (ndarray (m,)) : target values\n",
    "      w (ndarray (n,)) : model parameters  \n",
    "      b (scalar)       : model parameter\n",
    "      \n",
    "    Returns:\n",
    "      cost (scalar): cost\n",
    "    \"\"\"\n",
    "\n",
    "    m = X.shape[0]\n",
    "    cost = 0.0\n",
    "    for i in range(m):\n",
    "        z_i = np.dot(X[i],w) + b\n",
    "        f_wb_i = sigmoid(z_i)\n",
    "        cost +=  -y[i]*np.log(f_wb_i) - (1-y[i])*np.log(1-f_wb_i)\n",
    "             \n",
    "    cost = cost / m\n",
    "    return cost\n"
   ]
  },
  {
   "cell_type": "markdown",
   "id": "09151564",
   "metadata": {
    "pycharm": {
     "name": "#%% md\n"
    }
   },
   "source": [
    "Check the implementation of the cost function using the cell below."
   ]
  },
  {
   "cell_type": "code",
   "execution_count": null,
   "id": "fc523758",
   "metadata": {
    "pycharm": {
     "name": "#%%\n"
    }
   },
   "outputs": [],
   "source": [
    "w_tmp = np.array([1,1])\n",
    "b_tmp = -3\n",
    "print(compute_cost_logistic(X_train, y_train, w_tmp, b_tmp))"
   ]
  },
  {
   "cell_type": "markdown",
   "id": "5c1e3536",
   "metadata": {
    "pycharm": {
     "name": "#%% md\n"
    }
   },
   "source": [
    "**Expected output**: 0.3668667864055175"
   ]
  },
  {
   "cell_type": "code",
   "execution_count": null,
   "id": "8b0830c6",
   "metadata": {},
   "outputs": [],
   "source": [
    "import numpy as np\n",
    "import matplotlib.pyplot as plt\n",
    "from matplotlib import cm\n",
    "\n",
    "wx,by=np.meshgrid(np.linspace(-6,12,100),np.linspace(10,-20,100))\n",
    "\n",
    "\n",
    "def logistic_model(x,w,b):\n",
    "    return np.array([ (1/(1+np.exp(-(np.dot(w,i)+b)))) for i in x])\n",
    "    \n",
    "def cost_fn_logistic(x,w,b,y):\n",
    "    return np.sum(-y*np.log(logistic_model(x,w,b))-(1-y)*np.log(1-logistic_model(x,w,b)))/len(x)\n",
    "cost_fn_logistic(X_train,np.array([1,1]),-4,y_train)\n"
   ]
  },
  {
   "cell_type": "markdown",
   "id": "49dbfa97",
   "metadata": {
    "pycharm": {
     "name": "#%% md\n"
    }
   },
   "source": [
    "##### Example\n",
    "Now, let's see what the cost function output is for a different value of $w$. \n",
    "\n",
    "* In a previous lab, you plotted the decision boundary for  $b = -3, w_0 = 1, w_1 = 1$. That is, you had `b = -3, w = np.array([1,1])`.\n",
    "\n",
    "* Let's say you want to see if $b = -4, w_0 = 1, w_1 = 1$, or `b = -4, w = np.array([1,1])` provides a better model.\n",
    "\n",
    "Let's first plot the decision boundary for these two different $b$ values to see which one fits the data better.\n",
    "\n",
    "* For $b = -3, w_0 = 1, w_1 = 1$, we'll plot $-3 + x_0+x_1 = 0$ (shown in blue)\n",
    "* For $b = -4, w_0 = 1, w_1 = 1$, we'll plot $-4 + x_0+x_1 = 0$ (shown in magenta)"
   ]
  },
  {
   "cell_type": "code",
   "execution_count": null,
   "id": "f2470a42",
   "metadata": {
    "pycharm": {
     "name": "#%%\n"
    }
   },
   "outputs": [],
   "source": [
    "import matplotlib.pyplot as plt\n",
    "\n",
    "# Choose values between 0 and 6\n",
    "x0 = np.arange(0,6)\n",
    "\n",
    "# Plot the two decision boundaries\n",
    "x1 = 3 - x0\n",
    "x1_other = 4 - x0\n",
    "\n",
    "fig,ax = plt.subplots(1, 1, figsize=(4,4))\n",
    "# Plot the decision boundary\n",
    "ax.plot(x0,x1, c=dlc[\"dlblue\"], label=\"$b$=-3\")\n",
    "ax.plot(x0,x1_other, c=dlc[\"dlmagenta\"], label=\"$b$=-4\")\n",
    "ax.axis([0, 4, 0, 4])\n",
    "\n",
    "# Plot the original data\n",
    "plot_data(X_train,y_train,ax)\n",
    "ax.axis([0, 4, 0, 4])\n",
    "ax.set_ylabel('$x_1$', fontsize=12)\n",
    "ax.set_xlabel('$x_0$', fontsize=12)\n",
    "plt.legend(loc=\"upper right\")\n",
    "plt.title(\"Decision Boundary\")\n",
    "plt.show()"
   ]
  },
  {
   "cell_type": "markdown",
   "id": "91cbd168",
   "metadata": {
    "pycharm": {
     "name": "#%% md\n"
    }
   },
   "source": [
    "You can see from this plot that `b = -4, w = np.array([1,1])` is a worse model for the training data. Let's see if the cost function implementation reflects this."
   ]
  },
  {
   "cell_type": "code",
   "execution_count": null,
   "id": "79923f37",
   "metadata": {
    "pycharm": {
     "name": "#%%\n"
    }
   },
   "outputs": [],
   "source": [
    "w_array1 = np.array([1,1])\n",
    "b_1 = -3\n",
    "w_array2 = np.array([1,1])\n",
    "b_2 = -4\n",
    "\n",
    "print(\"Cost for b = -3 : \", compute_cost_logistic(X_train, y_train, w_array1, b_1))\n",
    "print(\"Cost for b = -4 : \", compute_cost_logistic(X_train, y_train, w_array2, b_2))"
   ]
  },
  {
   "cell_type": "markdown",
   "id": "e55db0ac",
   "metadata": {
    "pycharm": {
     "name": "#%% md\n"
    }
   },
   "source": [
    "**Expected output**\n",
    "\n",
    "Cost for b = -3 :  0.3668667864055175\n",
    "\n",
    "Cost for b = -4 :  0.5036808636748461\n",
    "\n",
    "\n",
    "You can see the cost function behaves as expected and the cost for `b = -4, w = np.array([1,1])` is indeed higher than the cost for `b = -3, w = np.array([1,1])`"
   ]
  },
  {
   "cell_type": "markdown",
   "id": "c563b8b0",
   "metadata": {
    "pycharm": {
     "name": "#%% md\n"
    }
   },
   "source": [
    "In this lab you examined and utilized the cost function for logistic regression."
   ]
  },
  {
   "cell_type": "markdown",
   "id": "20d86499",
   "metadata": {
    "pycharm": {
     "name": "#%% md\n"
    }
   },
   "source": [
    "#### Optional Lab - 3.6: Gradient Descent for Logistic Regression"
   ]
  },
  {
   "cell_type": "markdown",
   "id": "f9c2f590",
   "metadata": {
    "pycharm": {
     "name": "#%% md\n"
    }
   },
   "source": [
    "##### Goals\n",
    "In this lab, you will:\n",
    "- update gradient descent for logistic regression.\n",
    "- explore gradient descent on a familiar data set"
   ]
  },
  {
   "cell_type": "code",
   "execution_count": null,
   "id": "089b3b54",
   "metadata": {
    "pycharm": {
     "name": "#%%\n"
    }
   },
   "outputs": [],
   "source": [
    "import copy, math\n",
    "import numpy as np\n",
    "%matplotlib widget\n",
    "import matplotlib.pyplot as plt\n",
    "from lab_utils_common import  dlc, plot_data, plt_tumor_data, sigmoid, compute_cost_logistic\n",
    "from plt_quad_logistic import plt_quad_logistic, plt_prob\n",
    "plt.style.use('week3/OptionalLabs/deeplearning.mplstyle')"
   ]
  },
  {
   "cell_type": "markdown",
   "id": "b5d75afe",
   "metadata": {
    "pycharm": {
     "name": "#%% md\n"
    }
   },
   "source": [
    "###### Data set \n",
    "Let's start with the same two feature data set used in the decision boundary lab."
   ]
  },
  {
   "cell_type": "code",
   "execution_count": null,
   "id": "8f97bcbe",
   "metadata": {
    "pycharm": {
     "name": "#%%\n"
    }
   },
   "outputs": [],
   "source": [
    "X_train = np.array([[0.5, 1.5], [1,1], [1.5, 0.5], [3, 0.5], [2, 2], [1, 2.5]])\n",
    "y_train = np.array([0, 0, 0, 1, 1, 1])"
   ]
  },
  {
   "cell_type": "markdown",
   "id": "51b8369d",
   "metadata": {
    "pycharm": {
     "name": "#%% md\n"
    }
   },
   "source": [
    "As before, we'll use a helper function to plot this data. The data points with label $y=1$ are shown as red crosses, while the data points with label $y=0$ are shown as blue circles."
   ]
  },
  {
   "cell_type": "code",
   "execution_count": null,
   "id": "962d4315",
   "metadata": {
    "pycharm": {
     "name": "#%%\n"
    }
   },
   "outputs": [],
   "source": [
    "fig,ax = plt.subplots(1,1,figsize=(4,4))\n",
    "plot_data(X_train, y_train, ax)\n",
    "\n",
    "ax.axis([0, 4, 0, 3.5])\n",
    "ax.set_ylabel('$x_1$', fontsize=12)\n",
    "ax.set_xlabel('$x_0$', fontsize=12)\n",
    "plt.show()"
   ]
  },
  {
   "cell_type": "markdown",
   "id": "e597a238",
   "metadata": {
    "pycharm": {
     "name": "#%% md\n"
    }
   },
   "source": [
    "##### Logistic Gradient Descent\n",
    "<img align=\"right\" src=\"week3/OptionalLabs/images/C1_W3_Logistic_gradient_descent.png\"     style=\" width:400px; padding: 10px; \" >\n",
    "\n",
    "Recall the gradient descent algorithm utilizes the gradient calculation:\n",
    "$$\\begin{align*}\n",
    "&\\text{repeat until convergence:} \\; \\lbrace \\\\\n",
    "&  \\; \\; \\;w_j = w_j -  \\alpha \\frac{\\partial J(\\mathbf{w},b)}{\\partial w_j} \\tag{1}  \\; & \\text{for j := 0..n-1} \\\\ \n",
    "&  \\; \\; \\;  \\; \\;b = b -  \\alpha \\frac{\\partial J(\\mathbf{w},b)}{\\partial b} \\\\\n",
    "&\\rbrace\n",
    "\\end{align*}$$\n",
    "\n",
    "Where each iteration performs simultaneous updates on $w_j$ for all $j$, where\n",
    "$$\\begin{align*}\n",
    "\\frac{\\partial J(\\mathbf{w},b)}{\\partial w_j}  &= \\frac{1}{m} \\sum\\limits_{i = 0}^{m-1} (f_{\\mathbf{w},b}(\\mathbf{x}^{(i)}) - y^{(i)})x_{j}^{(i)} \\tag{2} \\\\\n",
    "\\frac{\\partial J(\\mathbf{w},b)}{\\partial b}  &= \\frac{1}{m} \\sum\\limits_{i = 0}^{m-1} (f_{\\mathbf{w},b}(\\mathbf{x}^{(i)}) - y^{(i)}) \\tag{3} \n",
    "\\end{align*}$$\n",
    "\n",
    "* m is the number of training examples in the data set      \n",
    "* $f_{\\mathbf{w},b}(x^{(i)})$ is the model's prediction, while $y^{(i)}$ is the target\n",
    "* For a logistic regression model  \n",
    "    $z = \\mathbf{w} \\cdot \\mathbf{x} + b$  \n",
    "    $f_{\\mathbf{w},b}(x) = g(z)$  \n",
    "    where $g(z)$ is the sigmoid function:  \n",
    "    $g(z) = \\frac{1}{1+e^{-z}}$   \n",
    "    \n"
   ]
  },
  {
   "cell_type": "markdown",
   "id": "a4ebf232",
   "metadata": {
    "pycharm": {
     "name": "#%% md\n"
    }
   },
   "source": [
    "##### Gradient Descent Implementation\n",
    "The gradient descent algorithm implementation has two components: \n",
    "- The loop implementing equation (1) above. This is `gradient_descent` below and is generally provided to you in optional and practice labs.\n",
    "- The calculation of the current gradient, equations (2,3) above. This is `compute_gradient_logistic` below. You will be asked to implement this week's practice lab.\n",
    "\n",
    "###### Calculating the Gradient, Code Description\n",
    "Implements equation (2),(3) above for all $w_j$ and $b$.\n",
    "There are many ways to implement this. Outlined below is this:\n",
    "- initialize variables to accumulate `dj_dw` and `dj_db`\n",
    "- for each example\n",
    "    - calculate the error for that example $g(\\mathbf{w} \\cdot \\mathbf{x}^{(i)} + b) - \\mathbf{y}^{(i)}$\n",
    "    - for each input value $x_{j}^{(i)}$ in this example,  \n",
    "        - multiply the error by the input  $x_{j}^{(i)}$, and add to the corresponding element of `dj_dw`. (equation 2 above)\n",
    "    - add the error to `dj_db` (equation 3 above)\n",
    "\n",
    "- divide `dj_db` and `dj_dw` by total number of examples (m)\n",
    "- note that $\\mathbf{x}^{(i)}$ in numpy `X[i,:]` or `X[i]`  and $x_{j}^{(i)}$ is `X[i,j]`"
   ]
  },
  {
   "cell_type": "code",
   "execution_count": null,
   "id": "9a5ae0cd-3f39-459e-a13e-026ff5c6d005",
   "metadata": {},
   "outputs": [],
   "source": []
  },
  {
   "cell_type": "markdown",
   "id": "8ebcf5c2-899e-4a45-8bce-943daa893b83",
   "metadata": {},
   "source": [
    "#### My solution\n",
    "\n",
    "<details>\n",
    "  <summary> <font size=\"3\" color=\"darkred\"> Logistic regression(1 variable) </font></summary>\n",
    "    \n",
    "  ```python\n",
    "\n",
    "import numpy as np\n",
    "import matplotlib.pyplot as plt\n",
    "from matplotlib import cm\n",
    "x_train = np.array([0., 1, 2, 3, 4, 5],dtype=np.longdouble)\n",
    "y_train = np.array([0,  0, 0, 1, 1, 1],dtype=np.longdouble)\n",
    "\n",
    "#wx,by=np.meshgrid(np.linspace(-6,12,100),np.linspace(10,-20,100))\n",
    "\n",
    "def model(x,theta):\n",
    "    w,b=theta\n",
    "    sigmoid=np.zeros(len(x))\n",
    "    for i in range(len(x)):\n",
    "        if np.isscalar(w):\n",
    "            w=np.array(w)\n",
    "        if w.shape!=x[i].shape:\n",
    "            print(\"Shape of W and X dosn't match\")\n",
    "            sys.exit()            \n",
    "        sigmoid[i]=1/(1+np.exp(-(np.dot(w,x[i])+b)))\n",
    "    return sigmoid\n",
    "\n",
    "def dmodel_w(x,theta): \n",
    "    w,b=theta\n",
    "    return x\n",
    "\n",
    "def dmodel_b(x,theta): \n",
    "    w,b=theta\n",
    "    return 1.\n",
    "\n",
    "def cost(x,theta,y):\n",
    "    w,b=theta\n",
    "    cf=  -y*np.log(model(x,theta))-(1-y)*np.log(1-model(x,theta))\n",
    "    return np.sum(cf)/np.shape(x)[0]\n",
    "\n",
    "def dcost_w(x,theta,y):\n",
    "    return np.sum((model(x,theta)-y)*dmodel_w(x,theta))/len(x)\n",
    "\n",
    "def dcost_b(x,theta,y):\n",
    "    return np.sum((model(x,theta)-y)*dmodel_b(x,theta))/len(x)\n",
    "    \n",
    "def compute_gradient(x,theta,y):\n",
    "    return dcost_w(x,theta,y),dcost_b(x,theta,y)\n",
    "\n",
    "np.set_printoptions(precision=2)\n",
    "def gradient_decent(x,y,theta,alpha,niter):\n",
    "    w,b=theta\n",
    "    if theta[1]>0:  #constraining parameters\n",
    "        b=-theta[1]\n",
    "    cost_i=np.zeros(niter)\n",
    "    for i in np.arange(niter):\n",
    "        if i>1:\n",
    "            if np.abs((cost_i[i]-cost_i[i-1])/cost_i[i])<0.05:\n",
    "                alpha/=2\n",
    "                \n",
    "        dcw,dcb= compute_gradient(x,theta,y)\n",
    "        w = w-alpha*dcw\n",
    "        b = b-alpha*dcb\n",
    "        theta=w,b\n",
    "        cost_i[i]=cost(x,theta,y)\n",
    "        if i>1:\n",
    "            if cost_i[i]>cost_i[i-1]:\n",
    "                alpha/=2\n",
    "        #print(cost_i[i],alpha)\n",
    "        #print(theta)    \n",
    "    return cost_i,theta\n",
    "\n",
    " \n",
    "    \n",
    "niter=1000\n",
    "Win=20\n",
    "Bin=5\n",
    "alpha=0.5\n",
    "theta_in=Win,Bin\n",
    "grad_dec_result,theta_f=gradient_decent(x_train,y_train,theta_in,alpha,niter)    \n",
    "\n",
    "wf,bf=theta_f\n",
    "print(wf,bf,grad_dec_result[-1])\n",
    "\n",
    "\n",
    "\n",
    "plt.figure(figsize=(8,4))\n",
    "ax=plt.subplot(121)\n",
    "plt.plot(np.arange(niter),grad_dec_result,\".\")\n",
    "plt.yscale(\"log\")\n",
    "plt.xlabel(\"No of steps\")\n",
    "plt.ylabel(\"Cost function\")\n",
    "plt.ylim(bottom=0.01)\n",
    "\n",
    "\n",
    "\n",
    "ax=plt.subplot(1,2,2)    \n",
    "plt.plot(x_train, model(x_train,theta_f), c = \"g\",label=\"Predcited model\")\n",
    "plt.scatter(x_train, y_train, marker='x', c='r') \n",
    "# Set the title\n",
    "plt.title(\"Model fit\")\n",
    "# Set the y-axis label\n",
    "plt.ylabel('training data')\n",
    "# Set the x-axis label\n",
    "plt.xlabel('training input')    \n",
    "plt.legend()\n",
    "plt.tight_layout()\n",
    "\n",
    "    \n",
    "  ```\n",
    "</details>\n",
    "\n",
    "\n",
    "\n",
    "<details>\n",
    "  <summary><font size=\"3\" color=\"darkred\"> Logistic regression(2 variables) </font></summary> \n",
    "\n",
    "  ```python\n",
    "\n",
    "import numpy as np,sys\n",
    "import matplotlib.pyplot as plt\n",
    "from matplotlib import cm\n",
    "x_train = np.array([[0.5, 1.5], [1,1], [1.5, 0.5], [3, 0.5], [2, 2],[0.5,0.5],[2.7,1.5], [1, 2.5]])\n",
    "y_train = np.array([1,  1, 1, 1, 1,0,1, 1],dtype=np.longdouble)\n",
    "\n",
    "\n",
    "\n",
    "#wx,by=np.meshgrid(np.linspace(-6,12,100),np.linspace(10,-20,100))\n",
    "\n",
    "def model(x,theta):\n",
    "    w,b=theta\n",
    "    if np.isscalar(x):\n",
    "        x=np.array(x)\n",
    "    if np.isscalar(w):\n",
    "        w=np.array([w])\n",
    "    elif isinstance(w,tuple):\n",
    "        w=np.array(w)\n",
    "    sigmoid=np.zeros(len(x))\n",
    "    for i in range(len(x)):\n",
    "        if w.shape!=x[i].shape:\n",
    "            print(\"Shape of W and X dosn't match\", w.shape,x[i].shape)\n",
    "            sys.exit()            \n",
    "        sigmoid[i]=1/(1+np.exp(-(np.dot(w,x[i])+b)))\n",
    "    return sigmoid\n",
    "\n",
    "def dmodel_w(x,theta):\n",
    "    w,b=theta\n",
    "    return x\n",
    "\n",
    "def dmodel_b(x,theta): \n",
    "    w,b=theta\n",
    "    return 1.\n",
    "\n",
    "def cost(x,theta,y):\n",
    "    w,b=theta\n",
    "    cf=  -y*np.log(model(x,theta))-(1-y)*np.log(1-model(x,theta))\n",
    "    return np.sum(cf)/np.shape(x)[0]\n",
    "\n",
    "def dcost_w(x,theta,y):\n",
    "    w,b=theta\n",
    "    if np.isscalar(w):\n",
    "        w=np.array([w])\n",
    "    elif isinstance(w,tuple):\n",
    "        w=np.array(w)\n",
    "    dcost_w_result=np.zeros(w.shape) \n",
    "    for wi in range(len(w)):\n",
    "        dcost_w_result[wi]=np.sum((model(x,theta)-y)*dmodel_w(x,theta)[:,wi])/len(x) \n",
    "    return  dcost_w_result \n",
    "\n",
    "def dcost_b(x,theta,y):\n",
    "    return np.sum((model(x,theta)-y)*dmodel_b(x,theta))/len(x)\n",
    "    \n",
    "def compute_gradient(x,theta,y):\n",
    "    return dcost_w(x,theta,y),dcost_b(x,theta,y)\n",
    "\n",
    "np.set_printoptions(precision=2)\n",
    "\n",
    "def gradient_decent(x,y,theta,alpha,niter):\n",
    "    w,b=theta\n",
    "    if np.isscalar(w):\n",
    "        w=np.array(w)\n",
    "    elif isinstance(w, tuple):\n",
    "        w=np.array(w)\n",
    "\n",
    "    if theta[1]>0:  #constraining parameters\n",
    "        b=-theta[1]\n",
    "    cost_i=np.zeros(niter)\n",
    "    for i in np.arange(niter):\n",
    "        if i>1:\n",
    "            if np.abs((cost_i[i]-cost_i[i-1])/cost_i[i])<0.05:\n",
    "                alpha/=2\n",
    "        dcw,dcb= compute_gradient(x,theta,y)\n",
    "        \n",
    "        w = w-alpha*dcw\n",
    "        b = b-alpha*dcb\n",
    "        theta=w,b\n",
    "        cost_i[i]=cost(x,theta,y)\n",
    "        if i>1:\n",
    "            if cost_i[i]>cost_i[i-1]:\n",
    "                alpha/=2\n",
    "        #print(cost_i[i],alpha)\n",
    "        #print(theta)    \n",
    "    return cost_i,theta\n",
    "\n",
    " \n",
    "    \n",
    "niter=10000\n",
    "Win=np.array([2.,3.])\n",
    "Bin=1.\n",
    "\n",
    "alpha=0.5\n",
    "theta_in=Win,Bin\n",
    "grad_dec_result,theta_f=gradient_decent(x_train,y_train,theta_in,alpha,niter)    \n",
    "\n",
    "wf,bf=theta_f\n",
    "print(wf,bf,grad_dec_result[-1])\n",
    "\n",
    "\n",
    "\n",
    "plt.figure(figsize=(8,4))\n",
    "ax=plt.subplot(121)\n",
    "plt.plot(np.arange(niter),grad_dec_result,\".\")\n",
    "plt.yscale(\"log\")\n",
    "plt.xlabel(\"No of steps\")\n",
    "plt.ylabel(\"Cost function\")\n",
    "plt.ylim(bottom=0.01)\n",
    "\n",
    "\n",
    "ax=plt.subplot(1,2,2)    \n",
    "#plt.plot(x_train, model(x_train,theta_f), c = \"g\",label=\"Predcited model\")\n",
    "ax.plot((-bf/wf[0],0),(0,-bf/wf[1]),label=\"Predicted model\")\n",
    "pos=y_train>0.5\n",
    "neg=y_train<0.5\n",
    "plt.scatter(x_train[:,0][pos],x_train[:,1][pos] , marker='x', c='r') \n",
    "plt.scatter(x_train[:,0][neg],x_train[:,1][neg] , marker='o', c='b') \n",
    "ax.set_ylabel(r'$x_1$')\n",
    "ax.set_xlabel(r'$x_0$')   \n",
    "ax.axis([0, 4, 0, 3.5])\n",
    "# Set the title\n",
    "plt.title(\"Model fit\")\n",
    "# Set the y-axis label\n",
    "plt.ylabel('training data')\n",
    "# Set the x-axis label\n",
    "plt.xlabel('training input')    \n",
    "plt.legend()\n",
    "plt.tight_layout()\n",
    "\n",
    "\n",
    "x_train, model(x_train,theta_f),y_train\n",
    "\n",
    "  ```\n",
    "</details>\n"
   ]
  },
  {
   "cell_type": "code",
   "execution_count": null,
   "id": "e1f15dd0",
   "metadata": {
    "pycharm": {
     "name": "#%%\n"
    }
   },
   "outputs": [],
   "source": [
    "def compute_gradient_logistic(X, y, w, b): \n",
    "    \"\"\"\n",
    "    Computes the gradient for linear regression \n",
    " \n",
    "    Args:\n",
    "      X (ndarray (m,n): Data, m examples with n features\n",
    "      y (ndarray (m,)): target values\n",
    "      w (ndarray (n,)): model parameters  \n",
    "      b (scalar)      : model parameter\n",
    "    Returns\n",
    "      dj_dw (ndarray (n,)): The gradient of the cost w.r.t. the parameters w. \n",
    "      dj_db (scalar)      : The gradient of the cost w.r.t. the parameter b. \n",
    "    \"\"\"\n",
    "    m,n = X.shape\n",
    "    dj_dw = np.zeros((n,))                           #(n,)\n",
    "    dj_db = 0.\n",
    "\n",
    "    for i in range(m):\n",
    "        f_wb_i = sigmoid(np.dot(X[i],w) + b)          #(n,)(n,)=scalar\n",
    "        err_i  = f_wb_i  - y[i]                       #scalar\n",
    "        for j in range(n):\n",
    "            dj_dw[j] = dj_dw[j] + err_i * X[i,j]      #scalar\n",
    "        dj_db = dj_db + err_i\n",
    "    dj_dw = dj_dw/m                                   #(n,)\n",
    "    dj_db = dj_db/m                                   #scalar\n",
    "        \n",
    "    return dj_db, dj_dw"
   ]
  },
  {
   "cell_type": "markdown",
   "id": "ec5e825f",
   "metadata": {
    "pycharm": {
     "name": "#%% md\n"
    }
   },
   "source": [
    "Check the implementation of the gradient function using the cell below."
   ]
  },
  {
   "cell_type": "code",
   "execution_count": null,
   "id": "4f9757b9",
   "metadata": {
    "pycharm": {
     "name": "#%%\n"
    }
   },
   "outputs": [],
   "source": [
    "X_tmp = np.array([[0.5, 1.5], [1,1], [1.5, 0.5], [3, 0.5], [2, 2], [1, 2.5]])\n",
    "y_tmp = np.array([0, 0, 0, 1, 1, 1])\n",
    "w_tmp = np.array([2.,3.])\n",
    "b_tmp = 1.\n",
    "dj_db_tmp, dj_dw_tmp = compute_gradient_logistic(X_tmp, y_tmp, w_tmp, b_tmp)\n",
    "print(f\"dj_db: {dj_db_tmp}\" )\n",
    "print(f\"dj_dw: {dj_dw_tmp.tolist()}\" )"
   ]
  },
  {
   "cell_type": "markdown",
   "id": "96b6cb39",
   "metadata": {
    "pycharm": {
     "name": "#%% md\n"
    }
   },
   "source": [
    "**Expected output**\n",
    "``` \n",
    "dj_db: 0.49861806546328574\n",
    "dj_dw: [0.498333393278696, 0.49883942983996693]\n",
    "```"
   ]
  },
  {
   "cell_type": "markdown",
   "id": "cba6e0b7",
   "metadata": {
    "pycharm": {
     "name": "#%% md\n"
    }
   },
   "source": [
    "##### Gradient Descent Code \n",
    "The code implementing equation (1) above is implemented below. Take a moment to locate and compare the functions in the routine to the equations above."
   ]
  },
  {
   "cell_type": "code",
   "execution_count": null,
   "id": "bc1e8715",
   "metadata": {
    "pycharm": {
     "name": "#%%\n"
    }
   },
   "outputs": [],
   "source": [
    "def gradient_descent(X, y, w_in, b_in, alpha, num_iters): \n",
    "    \"\"\"\n",
    "    Performs batch gradient descent\n",
    "    \n",
    "    Args:\n",
    "      X (ndarray (m,n)   : Data, m examples with n features\n",
    "      y (ndarray (m,))   : target values\n",
    "      w_in (ndarray (n,)): Initial values of model parameters  \n",
    "      b_in (scalar)      : Initial values of model parameter\n",
    "      alpha (float)      : Learning rate\n",
    "      num_iters (scalar) : number of iterations to run gradient descent\n",
    "      \n",
    "    Returns:\n",
    "      w (ndarray (n,))   : Updated values of parameters\n",
    "      b (scalar)         : Updated value of parameter \n",
    "    \"\"\"\n",
    "    # An array to store cost J and w's at each iteration primarily for graphing later\n",
    "    J_history = []\n",
    "    w = copy.deepcopy(w_in)  #avoid modifying global w within function\n",
    "    b = b_in\n",
    "    \n",
    "    for i in range(num_iters):\n",
    "        # Calculate the gradient and update the parameters\n",
    "        dj_db, dj_dw = compute_gradient_logistic(X, y, w, b)   \n",
    "\n",
    "        # Update Parameters using w, b, alpha and gradient\n",
    "        w = w - alpha * dj_dw               \n",
    "        b = b - alpha * dj_db               \n",
    "      \n",
    "        # Save cost J at each iteration\n",
    "        if i<100000:      # prevent resource exhaustion \n",
    "            J_history.append( compute_cost_logistic(X, y, w, b) )\n",
    "\n",
    "        # Print cost every at intervals 10 times or as many iterations if < 10\n",
    "        if i% math.ceil(num_iters / 10) == 0:\n",
    "            print(f\"Iteration {i:4d}: Cost {J_history[-1]}   \")\n",
    "        \n",
    "    return w, b, J_history         #return final w,b and J history for graphing\n"
   ]
  },
  {
   "cell_type": "markdown",
   "id": "8b74bc5f",
   "metadata": {
    "pycharm": {
     "name": "#%% md\n"
    }
   },
   "source": [
    "Let's run gradient descent on our data set."
   ]
  },
  {
   "cell_type": "code",
   "execution_count": null,
   "id": "bb142578",
   "metadata": {
    "pycharm": {
     "name": "#%%\n"
    }
   },
   "outputs": [],
   "source": [
    "w_tmp  = np.zeros_like(X_train[0])\n",
    "b_tmp  = 0.\n",
    "alph = 0.1\n",
    "iters = 10000\n",
    "\n",
    "w_out, b_out, _ = gradient_descent(X_train, y_train, w_tmp, b_tmp, alph, iters) \n",
    "print(f\"\\nupdated parameters: w:{w_out}, b:{b_out}\")"
   ]
  },
  {
   "cell_type": "markdown",
   "id": "de28098c",
   "metadata": {
    "pycharm": {
     "name": "#%% md\n"
    }
   },
   "source": [
    "##### Let's plot the results of gradient descent:"
   ]
  },
  {
   "cell_type": "code",
   "execution_count": null,
   "id": "c86b4393",
   "metadata": {
    "pycharm": {
     "name": "#%%\n"
    }
   },
   "outputs": [],
   "source": [
    "fig,ax = plt.subplots(1,1,figsize=(5,4))\n",
    "# plot the probability \n",
    "plt_prob(ax, w_out, b_out)\n",
    "\n",
    "# Plot the original data\n",
    "ax.set_ylabel(r'$x_1$')\n",
    "ax.set_xlabel(r'$x_0$')   \n",
    "ax.axis([0, 4, 0, 3.5])\n",
    "plot_data(X_train,y_train,ax)\n",
    "\n",
    "# Plot the decision boundary\n",
    "x0 = -b_out/w_out[0]\n",
    "x1 = -b_out/w_out[1]\n",
    "ax.plot([0,x0],[x1,0], c=dlc[\"dlblue\"], lw=1)\n",
    "plt.show()"
   ]
  },
  {
   "cell_type": "markdown",
   "id": "a2c48d3f",
   "metadata": {
    "pycharm": {
     "name": "#%% md\n"
    }
   },
   "source": [
    "In the plot above:\n",
    " - the shading reflects the probability y=1 (result prior to decision boundary)\n",
    " - the decision boundary is the line at which the probability = 0.5\n",
    " "
   ]
  },
  {
   "cell_type": "markdown",
   "id": "b4c040ba",
   "metadata": {
    "pycharm": {
     "name": "#%% md\n"
    }
   },
   "source": [
    "###### Another Data set\n",
    "Let's return to a one-variable data set. With just two parameters, $w$, $b$, it is possible to plot the cost function using a contour plot to get a better idea of what gradient descent is up to."
   ]
  },
  {
   "cell_type": "code",
   "execution_count": null,
   "id": "c7979248",
   "metadata": {
    "pycharm": {
     "name": "#%%\n"
    }
   },
   "outputs": [],
   "source": [
    "x_train = np.array([0., 1, 2, 3, 4, 5])\n",
    "y_train = np.array([0,  0, 0, 1, 1, 1])"
   ]
  },
  {
   "cell_type": "markdown",
   "id": "3f93d095",
   "metadata": {
    "pycharm": {
     "name": "#%% md\n"
    }
   },
   "source": [
    "As before, we'll use a helper function to plot this data. The data points with label $y=1$ are shown as red crosses, while the data points with label $y=0$ are shown as blue circles."
   ]
  },
  {
   "cell_type": "code",
   "execution_count": null,
   "id": "bd16b2c4",
   "metadata": {
    "pycharm": {
     "name": "#%%\n"
    }
   },
   "outputs": [],
   "source": [
    "fig,ax = plt.subplots(1,1,figsize=(4,3))\n",
    "plt_tumor_data(x_train, y_train, ax)\n",
    "plt.show()"
   ]
  },
  {
   "cell_type": "markdown",
   "id": "0ce848a6",
   "metadata": {
    "pycharm": {
     "name": "#%% md\n"
    }
   },
   "source": [
    "In the plot below, try:\n",
    "- changing $w$ and $b$ by clicking within the contour plot on the upper right.\n",
    "    - changes may take a second or two\n",
    "    - note the changing value of cost on the upper left plot.\n",
    "    - note the cost is accumulated by a loss on each example (vertical dotted lines)\n",
    "- run gradient descent by clicking the orange button.\n",
    "    - note the steadily decreasing cost (contour and cost plot are in log(cost) \n",
    "    - clicking in the contour plot will reset the model for a new run\n",
    "- to reset the plot, rerun the cell"
   ]
  },
  {
   "cell_type": "code",
   "execution_count": null,
   "id": "73fc08a6",
   "metadata": {
    "pycharm": {
     "name": "#%%\n"
    }
   },
   "outputs": [],
   "source": [
    "w_range = np.array([-1, 8])\n",
    "b_range = np.array([1, -18])\n",
    "quad = plt_quad_logistic( x_train, y_train, w_range, b_range )"
   ]
  },
  {
   "cell_type": "markdown",
   "id": "05546ba1",
   "metadata": {
    "pycharm": {
     "name": "#%% md\n"
    }
   },
   "source": [
    "You have:\n",
    "- examined the formulas and implementation of calculating the gradient for logistic regression\n",
    "- utilized those routines in\n",
    "    - exploring a single variable data set\n",
    "    - exploring a two-variable data set"
   ]
  },
  {
   "cell_type": "markdown",
   "id": "71e25179",
   "metadata": {
    "pycharm": {
     "name": "#%% md\n"
    }
   },
   "source": [
    "####  Optional Lab - 3.7: Ungraded Lab:  Logistic Regression using Scikit-Learn\n",
    "\n",
    "\n"
   ]
  },
  {
   "cell_type": "markdown",
   "id": "e1fa09e9",
   "metadata": {
    "pycharm": {
     "name": "#%% md\n"
    }
   },
   "source": [
    "##### Goals\n",
    "In this lab you will:\n",
    "-  Train a logistic regression model using scikit-learn.\n"
   ]
  },
  {
   "cell_type": "markdown",
   "id": "ba72f0b6",
   "metadata": {
    "pycharm": {
     "name": "#%% md\n"
    }
   },
   "source": [
    "###### Dataset \n",
    "Let's start with the same dataset as before."
   ]
  },
  {
   "cell_type": "code",
   "execution_count": null,
   "id": "6d9f2b30",
   "metadata": {
    "pycharm": {
     "name": "#%%\n"
    }
   },
   "outputs": [],
   "source": [
    "import numpy as np\n",
    "\n",
    "X = np.array([[0.5, 1.5], [1,1], [1.5, 0.5], [3, 0.5], [2, 2], [1, 2.5]])\n",
    "y = np.array([0, 0, 0, 1, 1, 1])"
   ]
  },
  {
   "cell_type": "markdown",
   "id": "68e84f12",
   "metadata": {
    "pycharm": {
     "name": "#%% md\n"
    }
   },
   "source": [
    "##### Fit the model\n",
    "\n",
    "The code below imports the [logistic regression model](https://scikit-learn.org/stable/modules/generated/sklearn.linear_model.LogisticRegression.html#sklearn.linear_model.LogisticRegression) from scikit-learn. You can fit this model on the training data by calling `fit` function."
   ]
  },
  {
   "cell_type": "code",
   "execution_count": null,
   "id": "f6c89c5e",
   "metadata": {
    "pycharm": {
     "name": "#%%\n"
    }
   },
   "outputs": [],
   "source": [
    "from sklearn.linear_model import LogisticRegression\n",
    "\n",
    "lr_model = LogisticRegression()\n",
    "lr_model.fit(X, y)"
   ]
  },
  {
   "cell_type": "markdown",
   "id": "f91c596a",
   "metadata": {
    "pycharm": {
     "name": "#%% md\n"
    }
   },
   "source": [
    "##### Make Predictions\n",
    "\n",
    "You can see the predictions made by this model by calling the `predict` function."
   ]
  },
  {
   "cell_type": "code",
   "execution_count": null,
   "id": "35dc47e8",
   "metadata": {
    "pycharm": {
     "name": "#%%\n"
    }
   },
   "outputs": [],
   "source": [
    "y_pred = lr_model.predict(X)\n",
    "\n",
    "print(\"Prediction on training set:\", y_pred)"
   ]
  },
  {
   "cell_type": "markdown",
   "id": "d9c17297",
   "metadata": {
    "pycharm": {
     "name": "#%% md\n"
    }
   },
   "source": [
    "##### Calculate accuracy\n",
    "\n",
    "You can calculate this accuracy of this model by calling the `score` function."
   ]
  },
  {
   "cell_type": "code",
   "execution_count": null,
   "id": "41366d84",
   "metadata": {
    "pycharm": {
     "name": "#%%\n"
    }
   },
   "outputs": [],
   "source": [
    "print(\"Accuracy on training set:\", lr_model.score(X, y))"
   ]
  },
  {
   "cell_type": "code",
   "execution_count": null,
   "id": "b3234711",
   "metadata": {},
   "outputs": [],
   "source": []
  },
  {
   "cell_type": "markdown",
   "id": "0b59e4ea",
   "metadata": {
    "pycharm": {
     "name": "#%% md\n"
    }
   },
   "source": [
    "####  Optional Lab - 3.8: Ungraded Lab:  Logistic Regression using Scikit-Learn\n"
   ]
  },
  {
   "cell_type": "markdown",
   "id": "24f4cdd9",
   "metadata": {},
   "source": [
    "##### Ungraded Lab:  Overfitting \n",
    "\n",
    "<img align=\"left\" src=\"week3/OptionalLabs/images/C1_W3_Overfitting_a.png\"     style=\" width:250px; padding: 10px; \" >\n",
    "<img align=\"left\" src=\"week3/OptionalLabs/images/C1_W3_Overfitting_b.png\"     style=\" width:250px; padding: 10px; \" >\n",
    "<img align=\"left\" src=\"week3/OptionalLabs/images/C1_W3_Overfitting_c.png\"     style=\" width:250px; padding: 10px; \" >\n",
    "\n",
    "###### Goals\n",
    "In this lab, you will explore:\n",
    "- the situations where overfitting can occur\n",
    "- some of the solutions\n",
    "\n",
    "\n",
    "##### Overfitting\n",
    "The week's lecture described situations where overfitting can arise. Run the cell below to generate a plot that will allow you to explore overfitting. There are further instructions below the cell.\n",
    "\n",
    "  ```python\n",
    "plt.close(\"all\")\n",
    "display(output)\n",
    "ofit = overfit_example(False)\n",
    "  ```\n",
    "In the plot above you can:\n",
    "- switch between Regression and Categorization examples\n",
    "- add data\n",
    "- select the degree of the model\n",
    "- fit the model to the data  \n",
    "\n",
    "Here are some things you should try:\n",
    "- Fit the data with degree = 1; Note 'underfitting'.\n",
    "- Fit the data with degree = 6; Note 'overfitting'\n",
    "- tune degree to get the 'best fit'\n",
    "- add data:\n",
    "    - extreme examples can increase overfitting (assuming they are outliers).\n",
    "    - nominal examples can reduce overfitting\n",
    "- switch between `Regression` and `Categorical` to try both examples.\n",
    "\n",
    "To reset the plot, re-run the cell. Click slowly to allow the plot to update before receiving the next click.\n",
    "\n",
    "Notes on implementations:\n",
    "- the 'ideal' curves represent the generator model to which noise was added to achieve the data set\n",
    "- 'fit' does not use pure gradient descent to improve speed. These methods can be used on smaller data sets. \n",
    "\n",
    "You have developed some intuition about the causes and solutions to overfitting. In the next lab, you will explore a commonly used solution, Regularization.\n",
    "\n"
   ]
  },
  {
   "cell_type": "code",
   "execution_count": 1,
   "id": "f1877163-f1aa-4612-bb4a-f324935e68ff",
   "metadata": {
    "scrolled": true
   },
   "outputs": [],
   "source": [
    "%matplotlib widget\n",
    "import matplotlib.pyplot as plt\n",
    "from ipywidgets import Output\n",
    "import sys\n",
    "sys.path.append(\"week3/OptionalLabs\")\n",
    "plt.style.use('week3/OptionalLabs/deeplearning.mplstyle')\n",
    "from plt_overfit import overfit_example, output"
   ]
  },
  {
   "cell_type": "code",
   "execution_count": 3,
   "id": "5d79118d-2f7a-47f4-9bf9-48fe9eead4a8",
   "metadata": {},
   "outputs": [
    {
     "data": {
      "application/vnd.jupyter.widget-view+json": {
       "model_id": "af12f81533e941d494086be48ae8e298",
       "version_major": 2,
       "version_minor": 0
      },
      "text/plain": [
       "Output()"
      ]
     },
     "metadata": {},
     "output_type": "display_data"
    },
    {
     "data": {
      "application/vnd.jupyter.widget-view+json": {
       "model_id": "c4c372a238644bdda01e4f48e2a06862",
       "version_major": 2,
       "version_minor": 0
      },
      "image/png": "[encoded data removed]",
      "text/html": [
       "\n",
       "            <div style=\"display: inline-block;\">\n",
       "                <div class=\"jupyter-widgets widget-label\" style=\"text-align: center;\">\n",
       "                    Figure\n",
       "                </div>\n",
       "                <img src='data:image/png;base64,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' width=800.0/>\n",
       "            </div>\n",
       "        "
      ],
      "text/plain": [
       "Canvas(footer_visible=False, header_visible=False, toolbar=Toolbar(toolitems=[('Home', 'Reset original view', …"
      ]
     },
     "metadata": {},
     "output_type": "display_data"
    }
   ],
   "source": [
    "plt.close(\"all\")\n",
    "display(output)\n",
    "ofit = overfit_example(False)"
   ]
  },
  {
   "cell_type": "markdown",
   "id": "5f32c582",
   "metadata": {
    "pycharm": {
     "name": "#%% md\n"
    }
   },
   "source": [
    "#### Optional Lab - 3.9 - Regularized Cost and Gradient"
   ]
  },
  {
   "cell_type": "markdown",
   "id": "32bb3674",
   "metadata": {
    "pycharm": {
     "name": "#%% md\n"
    }
   },
   "source": [
    "###### Goals\n",
    "In this lab, you will:\n",
    "- extend the previous linear and logistic cost functions with a regularization term.\n",
    "- rerun the previous example of over-fitting with a regularization term added.\n"
   ]
  },
  {
   "cell_type": "code",
   "execution_count": 7,
   "id": "f8282f11",
   "metadata": {
    "pycharm": {
     "name": "#%%\n"
    }
   },
   "outputs": [],
   "source": [
    "import numpy as np,sys,os\n",
    "%matplotlib widget\n",
    "import matplotlib.pyplot as plt\n",
    "proj_path=f\"{os.environ['HOME']}/my_web/Machine-Learning-Andrew-Ng\"\n",
    "os.chdir(f\"{proj_path}/source/source_files/Supervised_Machine_Learning_Regression_and_Classification/\")\n",
    "sys.path.append(\"week3/C1W3A1\")\n",
    "sys.path.append(\"week3/OptionalLabs\")\n",
    "\n",
    "from plt_overfit import overfit_example, output\n",
    "from lab_utils_common import sigmoid\n",
    "np.set_printoptions(precision=5)"
   ]
  },
  {
   "cell_type": "markdown",
   "id": "04223521",
   "metadata": {
    "pycharm": {
     "name": "#%% md\n"
    }
   },
   "source": [
    "##### Adding regularization\n",
    "<img align=\"Left\" src=\"week3/OptionalLabs/images/C1_W3_LinearGradientRegularized.png\"  style=\" width:400px; padding: 10px; \" >\n",
    "<img align=\"Center\" src=\"week3/OptionalLabs/images/C1_W3_LogisticGradientRegularized.png\"  style=\" width:400px; padding: 10px; \" >\n",
    "\n",
    "The slides above show the cost and gradient functions for both linear and logistic regression. Note:\n",
    "- Cost\n",
    "    - The cost functions differ significantly between linear and logistic regression, but adding regularization to the equations is the same.\n",
    "- Gradient\n",
    "    - The gradient functions for linear and logistic regression are very similar. They differ only in the implementation of $f_{wb}$."
   ]
  },
  {
   "cell_type": "markdown",
   "id": "9988a63a",
   "metadata": {
    "pycharm": {
     "name": "#%% md\n"
    }
   },
   "source": [
    "##### Cost functions with regularization\n",
    "###### Cost function for regularized linear regression\n",
    "\n",
    "The equation for the cost function regularized linear regression is:\n",
    "$$J(\\mathbf{w},b) = \\frac{1}{2m} \\sum\\limits_{i = 0}^{m-1} (f_{\\mathbf{w},b}(\\mathbf{x}^{(i)}) - y^{(i)})^2  + \\frac{\\lambda}{2m}  \\sum_{j=0}^{n-1} w_j^2 \\tag{1}$$ \n",
    "where:\n",
    "$$ f_{\\mathbf{w},b}(\\mathbf{x}^{(i)}) = \\mathbf{w} \\cdot \\mathbf{x}^{(i)} + b  \\tag{2} $$ \n",
    "\n",
    "\n",
    "Compare this to the cost function without regularization (which you implemented in  a previous lab), which is of the form:\n",
    "\n",
    "$$J(\\mathbf{w},b) = \\frac{1}{2m} \\sum\\limits_{i = 0}^{m-1} (f_{\\mathbf{w},b}(\\mathbf{x}^{(i)}) - y^{(i)})^2 $$ \n",
    "\n",
    "The difference is the regularization term,  <span style=\"color:blue\">\n",
    "    $\\frac{\\lambda}{2m}  \\sum_{j=0}^{n-1} w_j^2$ </span> \n",
    "    \n",
    "Including this term encourages gradient descent to minimize the size of the parameters. Note, in this example, the parameter $b$ is not regularized. This is standard practice.\n",
    "\n",
    "Below is an implementation of equations (1) and (2). Note that this uses a *standard pattern for this course*,   a `for loop` over all `m` examples."
   ]
  },
  {
   "cell_type": "code",
   "execution_count": null,
   "id": "ec4f87c3",
   "metadata": {
    "pycharm": {
     "name": "#%%\n"
    }
   },
   "outputs": [],
   "source": [
    "def compute_cost_linear_reg(X, y, w, b, lambda_ = 1):\n",
    "    \"\"\"\n",
    "    Computes the cost over all examples\n",
    "    Args:\n",
    "      X (ndarray (m,n): Data, m examples with n features\n",
    "      y (ndarray (m,)): target values\n",
    "      w (ndarray (n,)): model parameters  \n",
    "      b (scalar)      : model parameter\n",
    "      lambda_ (scalar): Controls amount of regularization\n",
    "    Returns:\n",
    "      total_cost (scalar):  cost \n",
    "    \"\"\"\n",
    "\n",
    "    m  = X.shape[0]\n",
    "    n  = len(w)\n",
    "    cost = 0.\n",
    "    for i in range(m):\n",
    "        f_wb_i = np.dot(X[i], w) + b                                   #(n,)(n,)=scalar, see np.dot\n",
    "        cost = cost + (f_wb_i - y[i])**2                               #scalar             \n",
    "    cost = cost / (2 * m)                                              #scalar  \n",
    " \n",
    "    reg_cost = 0\n",
    "    for j in range(n):\n",
    "        reg_cost += (w[j]**2)                                          #scalar\n",
    "    reg_cost = (lambda_/(2*m)) * reg_cost                              #scalar\n",
    "    \n",
    "    total_cost = cost + reg_cost                                       #scalar\n",
    "    return total_cost                                                  #scalar"
   ]
  },
  {
   "cell_type": "markdown",
   "id": "d9138e6a",
   "metadata": {
    "pycharm": {
     "name": "#%% md\n"
    }
   },
   "source": [
    "Run the cell below to see it in action."
   ]
  },
  {
   "cell_type": "code",
   "execution_count": null,
   "id": "88071295",
   "metadata": {
    "pycharm": {
     "name": "#%%\n"
    },
    "tags": []
   },
   "outputs": [],
   "source": [
    "np.random.seed(1)\n",
    "X_tmp = np.random.rand(5,6)\n",
    "y_tmp = np.array([0,1,0,1,0])\n",
    "w_tmp = np.random.rand(X_tmp.shape[1]).reshape(-1,)-0.5\n",
    "b_tmp = 0.5\n",
    "lambda_tmp = 0.7\n",
    "cost_tmp = compute_cost_linear_reg(X_tmp, y_tmp, w_tmp, b_tmp, lambda_tmp)\n",
    "\n",
    "print(\"Regularized cost:\", cost_tmp)"
   ]
  },
  {
   "cell_type": "markdown",
   "id": "c9ec4eae",
   "metadata": {
    "pycharm": {
     "name": "#%% md\n"
    }
   },
   "source": [
    "**Expected Output**:\n",
    "<table>\n",
    "  <tr>\n",
    "    <td> <b>Regularized cost: </b> 0.07917239320214275 </td>\n",
    "  </tr>\n",
    "</table>"
   ]
  },
  {
   "cell_type": "markdown",
   "id": "14a9091a",
   "metadata": {
    "pycharm": {
     "name": "#%% md\n"
    }
   },
   "source": [
    "##### Cost function for regularized logistic regression\n",
    "For regularized **logistic** regression, the cost function is of the form\n",
    "$$J(\\mathbf{w},b) = \\frac{1}{m}  \\sum_{i=0}^{m-1} \\left[ -y^{(i)} \\log\\left(f_{\\mathbf{w},b}\\left( \\mathbf{x}^{(i)} \\right) \\right) - \\left( 1 - y^{(i)}\\right) \\log \\left( 1 - f_{\\mathbf{w},b}\\left( \\mathbf{x}^{(i)} \\right) \\right) \\right] + \\frac{\\lambda}{2m}  \\sum_{j=0}^{n-1} w_j^2 \\tag{3}$$\n",
    "where:\n",
    "$$ f_{\\mathbf{w},b}(\\mathbf{x}^{(i)}) = sigmoid(\\mathbf{w} \\cdot \\mathbf{x}^{(i)} + b)  \\tag{4} $$ \n",
    "\n",
    "Compare this to the cost function without regularization (which you implemented in  a previous lab):\n",
    "\n",
    "$$ J(\\mathbf{w},b) = \\frac{1}{m}\\sum_{i=0}^{m-1} \\left[ (-y^{(i)} \\log\\left(f_{\\mathbf{w},b}\\left( \\mathbf{x}^{(i)} \\right) \\right) - \\left( 1 - y^{(i)}\\right) \\log \\left( 1 - f_{\\mathbf{w},b}\\left( \\mathbf{x}^{(i)} \\right) \\right)\\right] $$\n",
    "\n",
    "As was the case in linear regression above, the difference is the regularization term, which is    <span style=\"color:blue\">\n",
    "    $\\frac{\\lambda}{2m}  \\sum_{j=0}^{n-1} w_j^2$ </span> \n",
    "\n",
    "Including this term encourages gradient descent to minimize the size of the parameters. Note, in this example, the parameter $b$ is not regularized. This is standard practice. "
   ]
  },
  {
   "cell_type": "code",
   "execution_count": null,
   "id": "80b36af3",
   "metadata": {
    "pycharm": {
     "name": "#%%\n"
    }
   },
   "outputs": [],
   "source": [
    "def compute_cost_logistic_reg(X, y, w, b, lambda_ = 1):\n",
    "    \"\"\"\n",
    "    Computes the cost over all examples\n",
    "    Args:\n",
    "    Args:\n",
    "      X (ndarray (m,n): Data, m examples with n features\n",
    "      y (ndarray (m,)): target values\n",
    "      w (ndarray (n,)): model parameters  \n",
    "      b (scalar)      : model parameter\n",
    "      lambda_ (scalar): Controls amount of regularization\n",
    "    Returns:\n",
    "      total_cost (scalar):  cost \n",
    "    \"\"\"\n",
    "\n",
    "    m,n  = X.shape\n",
    "    cost = 0.\n",
    "    for i in range(m):\n",
    "        z_i = np.dot(X[i], w) + b                                      #(n,)(n,)=scalar, see np.dot\n",
    "        f_wb_i = sigmoid(z_i)                                          #scalar\n",
    "        cost +=  -y[i]*np.log(f_wb_i) - (1-y[i])*np.log(1-f_wb_i)      #scalar\n",
    "             \n",
    "    cost = cost/m                                                      #scalar\n",
    "\n",
    "    reg_cost = 0\n",
    "    for j in range(n):\n",
    "        reg_cost += (w[j]**2)                                          #scalar\n",
    "    reg_cost = (lambda_/(2*m)) * reg_cost                              #scalar\n",
    "    \n",
    "    total_cost = cost + reg_cost                                       #scalar\n",
    "    return total_cost                                                  #scalar"
   ]
  },
  {
   "cell_type": "markdown",
   "id": "30ea1bd9",
   "metadata": {
    "pycharm": {
     "name": "#%% md\n"
    }
   },
   "source": [
    "Run the cell below to see it in action."
   ]
  },
  {
   "cell_type": "code",
   "execution_count": null,
   "id": "fc32fac1",
   "metadata": {
    "pycharm": {
     "name": "#%%\n"
    },
    "tags": []
   },
   "outputs": [],
   "source": [
    "np.random.seed(1)\n",
    "X_tmp = np.random.rand(5,6)\n",
    "y_tmp = np.array([0,1,0,1,0])\n",
    "w_tmp = np.random.rand(X_tmp.shape[1]).reshape(-1,)-0.5\n",
    "b_tmp = 0.5\n",
    "lambda_tmp = 0.7\n",
    "cost_tmp = compute_cost_logistic_reg(X_tmp, y_tmp, w_tmp, b_tmp, lambda_tmp)\n",
    "\n",
    "print(\"Regularized cost:\", cost_tmp)"
   ]
  },
  {
   "cell_type": "markdown",
   "id": "523ff44b",
   "metadata": {
    "pycharm": {
     "name": "#%% md\n"
    }
   },
   "source": [
    "**Expected Output**:\n",
    "<table>\n",
    "  <tr>\n",
    "    <td> <b>Regularized cost: </b> 0.6850849138741673 </td>\n",
    "  </tr>\n",
    "</table>"
   ]
  },
  {
   "cell_type": "markdown",
   "id": "91eefd7f",
   "metadata": {
    "pycharm": {
     "name": "#%% md\n"
    }
   },
   "source": [
    "##### Gradient descent with regularization\n",
    "The basic algorithm for running gradient descent does not change with regularization, it is:\n",
    "$$\\begin{align*}\n",
    "&\\text{repeat until convergence:} \\; \\lbrace \\\\\n",
    "&  \\; \\; \\;w_j = w_j -  \\alpha \\frac{\\partial J(\\mathbf{w},b)}{\\partial w_j} \\tag{1}  \\; & \\text{for j := 0..n-1} \\\\ \n",
    "&  \\; \\; \\;  \\; \\;b = b -  \\alpha \\frac{\\partial J(\\mathbf{w},b)}{\\partial b} \\\\\n",
    "&\\rbrace\n",
    "\\end{align*}$$\n",
    "Where each iteration performs simultaneous updates on $w_j$ for all $j$.\n",
    "\n",
    "What changes with regularization is computing the gradients."
   ]
  },
  {
   "cell_type": "markdown",
   "id": "e1be7a3a",
   "metadata": {
    "pycharm": {
     "name": "#%% md\n"
    }
   },
   "source": [
    "##### Computing the Gradient with regularization (both linear/logistic)\n",
    "The gradient calculation for both linear and logistic regression are nearly identical, differing only in computation of $f_{\\mathbf{w}b}$.\n",
    "$$\\begin{align*}\n",
    "\\frac{\\partial J(\\mathbf{w},b)}{\\partial w_j}  &= \\frac{1}{m} \\sum\\limits_{i = 0}^{m-1} (f_{\\mathbf{w},b}(\\mathbf{x}^{(i)}) - y^{(i)})x_{j}^{(i)}  +  \\frac{\\lambda}{m} w_j \\tag{2} \\\\\n",
    "\\frac{\\partial J(\\mathbf{w},b)}{\\partial b}  &= \\frac{1}{m} \\sum\\limits_{i = 0}^{m-1} (f_{\\mathbf{w},b}(\\mathbf{x}^{(i)}) - y^{(i)}) \\tag{3} \n",
    "\\end{align*}$$\n",
    "\n",
    "* m is the number of training examples in the data set      \n",
    "* $f_{\\mathbf{w},b}(x^{(i)})$ is the model's prediction, while $y^{(i)}$ is the target\n",
    "\n",
    "      \n",
    "* For a  <span style=\"color:blue\"> **linear** </span> regression model  \n",
    "    $f_{\\mathbf{w},b}(x) = \\mathbf{w} \\cdot \\mathbf{x} + b$  \n",
    "* For a <span style=\"color:blue\"> **logistic** </span> regression model  \n",
    "    $z = \\mathbf{w} \\cdot \\mathbf{x} + b$  \n",
    "    $f_{\\mathbf{w},b}(x) = g(z)$  \n",
    "    where $g(z)$ is the sigmoid function:  \n",
    "    $g(z) = \\frac{1}{1+e^{-z}}$   \n",
    "    \n",
    "The term which adds regularization is  the <span style=\"color:blue\">$\\frac{\\lambda}{m} w_j $</span>."
   ]
  },
  {
   "cell_type": "markdown",
   "id": "9d41a405",
   "metadata": {
    "pycharm": {
     "name": "#%% md\n"
    }
   },
   "source": [
    "##### Gradient function for regularized linear regression"
   ]
  },
  {
   "cell_type": "code",
   "execution_count": null,
   "id": "cfdc0072",
   "metadata": {
    "pycharm": {
     "name": "#%%\n"
    }
   },
   "outputs": [],
   "source": [
    "def compute_gradient_linear_reg(X, y, w, b, lambda_): \n",
    "    \"\"\"\n",
    "    Computes the gradient for linear regression \n",
    "    Args:\n",
    "      X (ndarray (m,n): Data, m examples with n features\n",
    "      y (ndarray (m,)): target values\n",
    "      w (ndarray (n,)): model parameters  \n",
    "      b (scalar)      : model parameter\n",
    "      lambda_ (scalar): Controls amount of regularization\n",
    "      \n",
    "    Returns:\n",
    "      dj_dw (ndarray (n,)): The gradient of the cost w.r.t. the parameters w. \n",
    "      dj_db (scalar):       The gradient of the cost w.r.t. the parameter b. \n",
    "    \"\"\"\n",
    "    m,n = X.shape           #(number of examples, number of features)\n",
    "    dj_dw = np.zeros((n,))\n",
    "    dj_db = 0.\n",
    "\n",
    "    for i in range(m):                             \n",
    "        err = (np.dot(X[i], w) + b) - y[i]                 \n",
    "        for j in range(n):                         \n",
    "            dj_dw[j] = dj_dw[j] + err * X[i, j]               \n",
    "        dj_db = dj_db + err                        \n",
    "    dj_dw = dj_dw / m                                \n",
    "    dj_db = dj_db / m   \n",
    "    \n",
    "    for j in range(n):\n",
    "        dj_dw[j] = dj_dw[j] + (lambda_/m) * w[j]\n",
    "\n",
    "    return dj_db, dj_dw"
   ]
  },
  {
   "cell_type": "markdown",
   "id": "e544b05d",
   "metadata": {
    "pycharm": {
     "name": "#%% md\n"
    }
   },
   "source": [
    "Run the cell below to see it in action."
   ]
  },
  {
   "cell_type": "code",
   "execution_count": null,
   "id": "d046e615",
   "metadata": {
    "pycharm": {
     "name": "#%%\n"
    }
   },
   "outputs": [],
   "source": [
    "np.random.seed(1)\n",
    "X_tmp = np.random.rand(5,3)\n",
    "y_tmp = np.array([0,1,0,1,0])\n",
    "w_tmp = np.random.rand(X_tmp.shape[1])\n",
    "b_tmp = 0.5\n",
    "lambda_tmp = 0.7\n",
    "dj_db_tmp, dj_dw_tmp =  compute_gradient_linear_reg(X_tmp, y_tmp, w_tmp, b_tmp, lambda_tmp)\n",
    "\n",
    "print(f\"dj_db: {dj_db_tmp}\", )\n",
    "print(f\"Regularized dj_dw:\\n {dj_dw_tmp.tolist()}\", )"
   ]
  },
  {
   "cell_type": "markdown",
   "id": "e34d2072",
   "metadata": {
    "pycharm": {
     "name": "#%% md\n"
    }
   },
   "source": [
    "**Expected Output**\n",
    "```\n",
    "dj_db: 0.6648774569425726\n",
    "Regularized dj_dw:\n",
    " [0.29653214748822276, 0.4911679625918033, 0.21645877535865857]\n",
    " ```"
   ]
  },
  {
   "cell_type": "markdown",
   "id": "8e1a2cd2",
   "metadata": {
    "pycharm": {
     "name": "#%% md\n"
    }
   },
   "source": [
    "##### Gradient function for regularized logistic regression"
   ]
  },
  {
   "cell_type": "code",
   "execution_count": null,
   "id": "5652b057",
   "metadata": {
    "pycharm": {
     "name": "#%%\n"
    }
   },
   "outputs": [],
   "source": [
    "def compute_gradient_logistic_reg(X, y, w, b, lambda_): \n",
    "    \"\"\"\n",
    "    Computes the gradient for linear regression \n",
    " \n",
    "    Args:\n",
    "      X (ndarray (m,n): Data, m examples with n features\n",
    "      y (ndarray (m,)): target values\n",
    "      w (ndarray (n,)): model parameters  \n",
    "      b (scalar)      : model parameter\n",
    "      lambda_ (scalar): Controls amount of regularization\n",
    "    Returns\n",
    "      dj_dw (ndarray Shape (n,)): The gradient of the cost w.r.t. the parameters w. \n",
    "      dj_db (scalar)            : The gradient of the cost w.r.t. the parameter b. \n",
    "    \"\"\"\n",
    "    m,n = X.shape\n",
    "    dj_dw = np.zeros((n,))                            #(n,)\n",
    "    dj_db = 0.0                                       #scalar\n",
    "\n",
    "    for i in range(m):\n",
    "        f_wb_i = sigmoid(np.dot(X[i],w) + b)          #(n,)(n,)=scalar\n",
    "        err_i  = f_wb_i  - y[i]                       #scalar\n",
    "        for j in range(n):\n",
    "            dj_dw[j] = dj_dw[j] + err_i * X[i,j]      #scalar\n",
    "        dj_db = dj_db + err_i\n",
    "    dj_dw = dj_dw/m                                   #(n,)\n",
    "    dj_db = dj_db/m                                   #scalar\n",
    "\n",
    "    for j in range(n):\n",
    "        dj_dw[j] = dj_dw[j] + (lambda_/m) * w[j]\n",
    "\n",
    "    return dj_db, dj_dw  \n"
   ]
  },
  {
   "cell_type": "markdown",
   "id": "df7d3da1",
   "metadata": {
    "pycharm": {
     "name": "#%% md\n"
    }
   },
   "source": [
    "Run the cell below to see it in action."
   ]
  },
  {
   "cell_type": "code",
   "execution_count": null,
   "id": "390de741",
   "metadata": {
    "pycharm": {
     "name": "#%%\n"
    }
   },
   "outputs": [],
   "source": [
    "np.random.seed(1)\n",
    "X_tmp = np.random.rand(5,3)\n",
    "y_tmp = np.array([0,1,0,1,0])\n",
    "w_tmp = np.random.rand(X_tmp.shape[1])\n",
    "b_tmp = 0.5\n",
    "lambda_tmp = 0.7\n",
    "dj_db_tmp, dj_dw_tmp =  compute_gradient_logistic_reg(X_tmp, y_tmp, w_tmp, b_tmp, lambda_tmp)\n",
    "\n",
    "print(f\"dj_db: {dj_db_tmp}\", )\n",
    "print(f\"Regularized dj_dw:\\n {dj_dw_tmp.tolist()}\", )"
   ]
  },
  {
   "cell_type": "markdown",
   "id": "c639cd3e",
   "metadata": {
    "pycharm": {
     "name": "#%% md\n"
    }
   },
   "source": [
    "**Expected Output**\n",
    "```\n",
    "dj_db: 0.341798994972791\n",
    "Regularized dj_dw:\n",
    " [0.17380012933994293, 0.32007507881566943, 0.10776313396851499]\n",
    " ```"
   ]
  },
  {
   "cell_type": "markdown",
   "id": "ce5666be",
   "metadata": {
    "pycharm": {
     "name": "#%% md\n"
    }
   },
   "source": [
    "##### Rerun over-fitting example"
   ]
  },
  {
   "cell_type": "code",
   "execution_count": null,
   "id": "24712d24",
   "metadata": {
    "pycharm": {
     "name": "#%%\n"
    }
   },
   "outputs": [],
   "source": [
    "plt.close(\"all\")\n",
    "display(output)\n",
    "ofit = overfit_example(True)"
   ]
  },
  {
   "cell_type": "markdown",
   "id": "8e278628",
   "metadata": {
    "pycharm": {
     "name": "#%% md\n"
    }
   },
   "source": [
    "In the plot above, try out regularization on the previous example. In particular:\n",
    "- Categorical (logistic regression)\n",
    "    - set degree to 6, lambda to 0 (no regularization), fit the data\n",
    "    - now set lambda to 1 (increase regularization), fit the data, notice the difference.\n",
    "- Regression (linear regression)\n",
    "    - try the same procedure."
   ]
  },
  {
   "cell_type": "markdown",
   "id": "832234b0",
   "metadata": {
    "pycharm": {
     "name": "#%% md\n"
    }
   },
   "source": [
    "You have:\n",
    "- examples of cost and gradient routines with regularization added for both linear and logistic regression\n",
    "- developed some intuition on how regularization can reduce over-fitting"
   ]
  },
  {
   "cell_type": "markdown",
   "id": "b9ef75f8",
   "metadata": {},
   "source": [
    "### Practice Quiz "
   ]
  },
  {
   "cell_type": "markdown",
   "id": "3a12ea53",
   "metadata": {},
   "source": [
    "#### Quiz-1 "
   ]
  },
  {
   "cell_type": "markdown",
   "id": "d97da5fb",
   "metadata": {},
   "source": [
    "<figure>\n",
    "            <center> <img src=\"week3/practice_quiz/gradient_decent_for_logistic.png\"  alt='missing' width=\"800\"  ><center/>\n",
    "<figure/>"
   ]
  },
  {
   "cell_type": "markdown",
   "id": "47592868",
   "metadata": {},
   "source": [
    "#### Quiz-2 "
   ]
  },
  {
   "cell_type": "markdown",
   "id": "aaff5a4b",
   "metadata": {},
   "source": [
    "<figure>\n",
    "            <center> <img src=\"week3/practice_quiz/costfnlogistic.png\"  alt='missing' width=\"800\"  ><center/>\n",
    "<figure/>"
   ]
  },
  {
   "cell_type": "markdown",
   "id": "63813e13",
   "metadata": {},
   "source": [
    "### Assignment W3: \n"
   ]
  },
  {
   "cell_type": "markdown",
   "id": "419097a6",
   "metadata": {},
   "source": [
    "##### Logistic Regression\n",
    "\n",
    "In this exercise, you will implement logistic regression and apply it to two different datasets. \n",
    "\n",
    "\n",
    "###### Outline\n",
    "- [ 1 - Packages ](#1)\n",
    "- [ 2 - Logistic Regression](#2)\n",
    "  - [ 2.1 Problem Statement](#2.1)\n",
    "  - [ 2.2 Loading and visualizing the data](#2.2)\n",
    "  - [ 2.3  Sigmoid function](#2.3)\n",
    "  - [ 2.4 Cost function for logistic regression](#2.4)\n",
    "  - [ 2.5 Gradient for logistic regression](#2.5)\n",
    "  - [ 2.6 Learning parameters using gradient descent ](#2.6)\n",
    "  - [ 2.7 Plotting the decision boundary](#2.7)\n",
    "  - [ 2.8 Evaluating logistic regression](#2.8)\n",
    "- [ 3 - Regularized Logistic Regression](#3)\n",
    "  - [ 3.1 Problem Statement](#3.1)\n",
    "  - [ 3.2 Loading and visualizing the data](#3.2)\n",
    "  - [ 3.3 Feature mapping](#3.3)\n",
    "  - [ 3.4 Cost function for regularized logistic regression](#3.4)\n",
    "  - [ 3.5 Gradient for regularized logistic regression](#3.5)\n",
    "  - [ 3.6 Learning parameters using gradient descent](#3.6)\n",
    "  - [ 3.7 Plotting the decision boundary](#3.7)\n",
    "  - [ 3.8 Evaluating regularized logistic regression model](#3.8)\n"
   ]
  },
  {
   "cell_type": "markdown",
   "id": "fcd50e8f",
   "metadata": {},
   "source": [
    "#### 1 - Packages \n",
    "<a name=\"1\"></a>\n",
    "\n",
    "First, let's run the cell below to import all the packages that you will need during this assignment.\n",
    "- [numpy](www.numpy.org) is the fundamental package for scientific computing with Python.\n",
    "- [matplotlib](http://matplotlib.org) is a famous library to plot graphs in Python.\n",
    "-  ``utils.py`` contains helper functions for this assignment. You do not need to modify code in this file."
   ]
  },
  {
   "cell_type": "code",
   "execution_count": 55,
   "id": "b7b43891",
   "metadata": {},
   "outputs": [],
   "source": [
    "import numpy as np,os,sys\n",
    "import matplotlib.pyplot as plt\n",
    "import subprocess\n",
    "sys.path.append(\"week3/C1W3A1/\")\n",
    "from utils import *\n",
    "import copy\n",
    "import math\n",
    "\n",
    "%matplotlib inline"
   ]
  },
  {
   "cell_type": "markdown",
   "id": "104a6ab7",
   "metadata": {},
   "source": [
    "#### 2 - Logistic Regression\n",
    "<a name=\"2\"></a>\n",
    "\n",
    "In this part of the exercise, you will build a logistic regression model to predict whether a student gets admitted into a university.\n",
    "\n",
    "##### 2.1 Problem Statement\n",
    "<a name=\"2.1\"></a>\n",
    "\n",
    "Suppose that you are the administrator of a university department and you want to determine each applicant’s chance of admission based on their results on two exams. \n",
    "* You have historical data from previous applicants that you can use as a training set for logistic regression. \n",
    "* For each training example, you have the applicant’s scores on two exams and the admissions decision. \n",
    "* Your task is to build a classification model that estimates an applicant’s probability of admission based on the scores from those two exams. \n",
    "\n",
    "##### 2.2 Loading and visualizing the data\n",
    "<a name=\"2.2\"></a>\n",
    "\n",
    "You will start by loading the dataset for this task. \n",
    "- The `load_dataset()` function shown below loads the data into variables `X_train` and `y_train`\n",
    "  - `X_train` contains exam scores on two exams for a student\n",
    "  - `y_train` is the admission decision \n",
    "      - `y_train = 1` if the student was admitted \n",
    "      - `y_train = 0` if the student was not admitted \n",
    "  - Both `X_train` and `y_train` are numpy arrays.\n"
   ]
  },
  {
   "cell_type": "code",
   "execution_count": 56,
   "id": "75439042",
   "metadata": {},
   "outputs": [],
   "source": [
    "# load dataset\n",
    "X_train, y_train = load_data(\"week3/C1W3A1/data/ex2data1.txt\")"
   ]
  },
  {
   "cell_type": "markdown",
   "id": "221209b8",
   "metadata": {},
   "source": [
    "###### View the variables\n",
    "Let's get more familiar with your dataset.  \n",
    "- A good place to start is to just print out each variable and see what it contains.\n",
    "\n",
    "The code below prints the first five values of `X_train` and the type of the variable."
   ]
  },
  {
   "cell_type": "code",
   "execution_count": 57,
   "id": "3f538641",
   "metadata": {},
   "outputs": [
    {
     "name": "stdout",
     "output_type": "stream",
     "text": [
      "First five elements in X_train are:\n",
      " [[34.62 78.02]\n",
      " [30.29 43.89]\n",
      " [35.85 72.9 ]\n",
      " [60.18 86.31]\n",
      " [79.03 75.34]]\n",
      "Type of X_train: <class 'numpy.ndarray'>\n"
     ]
    }
   ],
   "source": [
    "print(\"First five elements in X_train are:\\n\", X_train[:5])\n",
    "print(\"Type of X_train:\",type(X_train))"
   ]
  },
  {
   "cell_type": "markdown",
   "id": "b152d25c",
   "metadata": {},
   "source": [
    "Now print the first five values of `y_train`"
   ]
  },
  {
   "cell_type": "code",
   "execution_count": 58,
   "id": "f9fe21e5",
   "metadata": {},
   "outputs": [
    {
     "name": "stdout",
     "output_type": "stream",
     "text": [
      "First five elements in y_train are:\n",
      " [0. 0. 0. 1. 1.]\n",
      "Type of y_train: <class 'numpy.ndarray'>\n"
     ]
    }
   ],
   "source": [
    "print(\"First five elements in y_train are:\\n\", y_train[:5])\n",
    "print(\"Type of y_train:\",type(y_train))"
   ]
  },
  {
   "cell_type": "markdown",
   "id": "1d14a8a9",
   "metadata": {},
   "source": [
    "###### Check the dimensions of your variables\n",
    "\n",
    "Another useful way to get familiar with your data is to view its dimensions. Let's print the shape of `X_train` and `y_train` and see how many training examples we have in our dataset."
   ]
  },
  {
   "cell_type": "code",
   "execution_count": 59,
   "id": "8d9f45db",
   "metadata": {},
   "outputs": [
    {
     "ename": "SyntaxError",
     "evalue": "unterminated string literal (detected at line 2) (57947540.py, line 2)",
     "output_type": "error",
     "traceback": [
      "\u001b[0;36m  Cell \u001b[0;32mIn[59], line 2\u001b[0;36m\u001b[0m\n\u001b[0;31m    print ('The shape\u001b[0m\n\u001b[0m           ^\u001b[0m\n\u001b[0;31mSyntaxError\u001b[0m\u001b[0;31m:\u001b[0m unterminated string literal (detected at line 2)\n"
     ]
    }
   ],
   "source": [
    "print ('The shape of X_train is: ' + str(X_train.shape))\n",
    "print ('The shape\n",
    "of y_train is: ' + str(y_train.shape))\n",
    "print ('We have m = %d training examples' % (len(y_train)))"
   ]
  },
  {
   "cell_type": "markdown",
   "id": "63b9b385",
   "metadata": {},
   "source": [
    "###### \n",
    "Visualize your data\n",
    "\n",
    "Before starting to implement any learning algorithm, it is always good to visualize the data if possible.\n",
    "- The code below displays the data on a 2D plot (as shown below), where the axes are the two exam scores, and the positive and negative examples are shown with different markers.\n",
    "- We use a helper function in the ``utils.py`` file to generate this plot. \n",
    "\n",
    "<img src=\"week3/C1W3A1/images/figure 1.png\" width=\"450\" height=\"450\">\n",
    "\n"
   ]
  },
  {
   "cell_type": "code",
   "execution_count": 60,
   "id": "c8831f8e",
   "metadata": {},
   "outputs": [
    {
     "data": {
      "image/png": "[encoded data removed]",
      "text/plain": [
       "<Figure size 640x480 with 1 Axes>"
      ]
     },
     "metadata": {},
     "output_type": "display_data"
    }
   ],
   "source": [
    "# Plot examples\n",
    "plot_data(X_train, y_train[:], pos_label=\"Admitted\", neg_label=\"Not admitted\")\n",
    "\n",
    "# Set the y-axis label\n",
    "plt.ylabel('Exam 2 score') \n",
    "# Set the x-axis label\n",
    "plt.xlabel('Exam 1 score') \n",
    "plt.legend(loc=\"upper right\")\n",
    "plt.show()"
   ]
  },
  {
   "cell_type": "markdown",
   "id": "973bd40d",
   "metadata": {},
   "source": [
    "Your goal is to build a logistic regression model to fit this data.\n",
    "- With this model, you can then predict if a new student will be admitted based on their scores on the two exams."
   ]
  },
  {
   "cell_type": "markdown",
   "id": "79d112c4",
   "metadata": {},
   "source": [
    "##### 2.3  Sigmoid function\n",
    "<a name=\"2.3\"></a>\n",
    "\n",
    "Recall that for logistic regression, the model is represented as\n",
    "\n",
    "$$ f_{\\mathbf{w},b}(x) = g(\\mathbf{w}\\cdot \\mathbf{x} + b)$$\n",
    "where function $g$ is the sigmoid function. The sigmoid function is defined as:\n",
    "\n",
    "$$g(z) = \\frac{1}{1+e^{-z}}$$\n",
    "\n",
    "Let's implement the sigmoid function first, so it can be used by the rest of this assignment.\n",
    "\n",
    "###### Exercise 1\n",
    "<a name='ex-01'></a>\n",
    "\n",
    "Please complete  the `sigmoid` function to calculate\n",
    "\n",
    "$$g(z) = \\frac{1}{1+e^{-z}}$$\n",
    "\n",
    "Note that \n",
    "- `z` is not always a single number, but can also be an array of numbers. \n",
    "- If the input is an array of numbers, we'd like to apply the sigmoid function to each value in the input array.\n",
    "\n",
    "If you get stuck, you can check out the hints presented after the cell below to help you with the implementation."
   ]
  },
  {
   "cell_type": "code",
   "execution_count": 61,
   "id": "a2eee9fb",
   "metadata": {},
   "outputs": [],
   "source": [
    "# UNQ_C1\n",
    "# GRADED FUNCTION: sigmoid\n",
    "\n",
    "def sigmoid(z):\n",
    "    \"\"\"\n",
    "    Compute the sigmoid of z\n",
    "\n",
    "    Args:\n",
    "        z (ndarray): A scalar, numpy array of any size.\n",
    "\n",
    "    Returns:\n",
    "        g (ndarray): sigmoid(z), with the same shape as z\n",
    "         \n",
    "    \"\"\"\n",
    "          \n",
    "    ### START CODE HERE ### \n",
    "    g = 1/(1+np.exp(-z))\n",
    "    ### END SOLUTION ###  \n",
    "    \n",
    "    return g"
   ]
  },
  {
   "cell_type": "markdown",
   "id": "3e5f3d06",
   "metadata": {},
   "source": [
    "<details>\n",
    "  <summary><font size=\"3\" color=\"darkgreen\"><b>Click for hints</b></font></summary>\n",
    "       \n",
    "`numpy` has a function called [`np.exp()`](https://numpy.org/doc/stable/reference/generated/numpy.exp.html), which offers a convinient way to calculate the exponential ( $e^{z}$) of all elements in the input array (`z`).\n",
    " \n",
    "<details>\n",
    "          <summary><font size=\"2\" color=\"darkblue\"><b> Click for more hints</b></font></summary>\n",
    "        \n",
    "  - You can translate $e^{-z}$ into code as `np.exp(-z)` \n",
    "    \n",
    "  - You can translate $1/e^{-z}$ into code as `1/np.exp(-z)` \n",
    "    \n",
    "    If you're still stuck, you can check the hints presented below to figure out how to calculate `g` \n",
    "    \n",
    "    <details>\n",
    "          <summary><font size=\"2\" color=\"darkblue\"><b>Hint to calculate g</b></font></summary>\n",
    "        <code>g = 1 / (1 + np.exp(-z))</code>\n",
    "    </details>\n",
    "\n",
    "\n",
    "</details>"
   ]
  },
  {
   "cell_type": "markdown",
   "id": "42e17431",
   "metadata": {},
   "source": [
    "When you are finished, try testing a few values by calling `sigmoid(x)` in the cell below. \n",
    "- For large positive values of x, the sigmoid should be close to 1, while for large negative values, the sigmoid should be close to 0. \n",
    "- Evaluating `sigmoid(0)` should give you exactly 0.5. \n"
   ]
  },
  {
   "cell_type": "code",
   "execution_count": 62,
   "id": "e26c1f78",
   "metadata": {},
   "outputs": [
    {
     "name": "stdout",
     "output_type": "stream",
     "text": [
      "sigmoid(0) = 0.5\n"
     ]
    }
   ],
   "source": [
    "print (\"sigmoid(0) = \" + str(sigmoid(0)))"
   ]
  },
  {
   "cell_type": "markdown",
   "id": "f55ce439",
   "metadata": {},
   "source": [
    "**Expected Output**:\n",
    "<table>\n",
    "  <tr>\n",
    "    <td> <b>sigmoid(0)<b></td>\n",
    "    <td> 0.5 </td> \n",
    "  </tr>\n",
    "</table>\n",
    "    \n",
    "- As mentioned before, your code should also work with vectors and matrices. For a matrix, your function should perform the sigmoid function on every element."
   ]
  },
  {
   "cell_type": "code",
   "execution_count": 63,
   "id": "f9900412",
   "metadata": {},
   "outputs": [
    {
     "name": "stdout",
     "output_type": "stream",
     "text": [
      "sigmoid([ -1, 0, 1, 2]) = [0.27 0.5  0.73 0.88]\n",
      "\u001b[92mAll tests passed!\n"
     ]
    }
   ],
   "source": [
    "print (\"sigmoid([ -1, 0, 1, 2]) = \" + str(sigmoid(np.array([-1, 0, 1, 2]))))\n",
    "\n",
    "# UNIT TESTS\n",
    "from public_tests import *\n",
    "sigmoid_test(sigmoid)"
   ]
  },
  {
   "cell_type": "markdown",
   "id": "3929ee73",
   "metadata": {},
   "source": [
    "**Expected Output**:\n",
    "<table>\n",
    "  <tr>\n",
    "    <td><b>sigmoid([-1, 0, 1, 2])<b></td> \n",
    "    <td>[0.26894142        0.5           0.73105858        0.88079708]</td> \n",
    "  </tr>    \n",
    "  \n",
    "</table>"
   ]
  },
  {
   "cell_type": "markdown",
   "id": "d4ee669d",
   "metadata": {},
   "source": [
    "##### 2.4 Cost function for logistic regression\n",
    "<a name=\"2.4\"></a>\n",
    "\n",
    "In this section, you will implement the cost function for logistic regression.\n",
    "\n",
    "###### Exercise 2\n",
    "<a name='ex-02'></a>\n",
    "\n",
    "Please complete the `compute_cost` function using the equations below.\n",
    "\n",
    "Recall that for logistic regression, the cost function is of the form \n",
    "\n",
    "$$ J(\\mathbf{w},b) = \\frac{1}{m}\\sum_{i=0}^{m-1} \\left[ loss(f_{\\mathbf{w},b}(\\mathbf{x}^{(i)}), y^{(i)}) \\right] \\tag{1}$$\n",
    "\n",
    "where\n",
    "* m is the number of training examples in the dataset\n",
    "\n",
    "\n",
    "* $loss(f_{\\mathbf{w},b}(\\mathbf{x}^{(i)}), y^{(i)})$ is the cost for a single data point, which is - \n",
    "\n",
    "    $$loss(f_{\\mathbf{w},b}(\\mathbf{x}^{(i)}), y^{(i)}) = (-y^{(i)} \\log\\left(f_{\\mathbf{w},b}\\left( \\mathbf{x}^{(i)} \\right) \\right) - \\left( 1 - y^{(i)}\\right) \\log \\left( 1 - f_{\\mathbf{w},b}\\left( \\mathbf{x}^{(i)} \\right) \\right) \\tag{2}$$\n",
    "    \n",
    "    \n",
    "*  $f_{\\mathbf{w},b}(\\mathbf{x}^{(i)})$ is the model's prediction, while $y^{(i)}$, which is the actual label\n",
    "\n",
    "*  $f_{\\mathbf{w},b}(\\mathbf{x}^{(i)}) = g(\\mathbf{w} \\cdot \\mathbf{x^{(i)}} + b)$ where function $g$ is the sigmoid function.\n",
    "    * It might be helpful to first calculate an intermediate variable $z_{\\mathbf{w},b}(\\mathbf{x}^{(i)}) = \\mathbf{w} \\cdot \\mathbf{x^{(i)}} + b = w_0x^{(i)}_0 + ... + w_{n-1}x^{(i)}_{n-1} + b$ where $n$ is the number of features, before calculating $f_{\\mathbf{w},b}(\\mathbf{x}^{(i)}) = g(z_{\\mathbf{w},b}(\\mathbf{x}^{(i)}))$\n",
    "\n",
    "Note:\n",
    "* As you are doing this, remember that the variables `X_train` and `y_train` are not scalar values but matrices of shape ($m, n$) and ($𝑚$,1) respectively, where  $𝑛$ is the number of features and $𝑚$ is the number of training examples.\n",
    "* You can use the sigmoid function that you implemented above for this part.\n",
    "\n",
    "If you get stuck, you can check out the hints presented after the cell below to help you with the implementation."
   ]
  },
  {
   "cell_type": "code",
   "execution_count": 64,
   "id": "5fde9cc8",
   "metadata": {},
   "outputs": [],
   "source": [
    "# UNQ_C2\n",
    "# GRADED FUNCTION: compute_cost\n",
    "def compute_cost(X, y, w, b, lambda_= 1):\n",
    "    \"\"\"\n",
    "    Computes the cost over all examples\n",
    "    Args:\n",
    "      X : (ndarray Shape (m,n)) data, m examples by n features\n",
    "      y : (array_like Shape (m,)) target value \n",
    "      w : (array_like Shape (n,)) Values of parameters of the model      \n",
    "      b : scalar Values of bias parameter of the model\n",
    "      lambda_: unused placeholder\n",
    "    Returns:\n",
    "      total_cost: (scalar)         cost \n",
    "    \"\"\"\n",
    "\n",
    "    m, n = X.shape\n",
    "    \n",
    "    ### START CODE HERE ###\n",
    "    cost = 0\n",
    "    for i in range(m):\n",
    "        z = np.dot(X[i],w) + b\n",
    "        f_wb = sigmoid(z)\n",
    "        cost += -y[i]*np.log(f_wb) - (1-y[i])*np.log(1-f_wb)\n",
    "    total_cost = cost/m\n",
    "    \n",
    "    ### END CODE HERE ### \n",
    "\n",
    "    return total_cost"
   ]
  },
  {
   "cell_type": "markdown",
   "id": "dd5499c7",
   "metadata": {},
   "source": [
    "<details>\n",
    "  <summary><font size=\"3\" color=\"darkgreen\"><b>Click for hints</b></font></summary>\n",
    "    \n",
    "    \n",
    "   * You can represent a summation operator eg: $h = \\sum\\limits_{i = 0}^{m-1} 2i$ in code as follows:\n",
    "    ```python \n",
    "        h = 0\n",
    "        for i in range(m):\n",
    "            h = h + 2*i\n",
    "    ```\n",
    "  \n",
    "   * In this case, you can iterate over all the examples in `X` using a for loop and add the `loss` from each iteration to a variable (`loss_sum`) initialized outside the loop.\n",
    "\n",
    "   * Then, you can return the `total_cost` as `loss_sum` divided by `m`.\n",
    "     \n",
    "    <details>\n",
    "          <summary><font size=\"2\" color=\"darkblue\"><b> Click for more hints</b></font></summary>\n",
    "        \n",
    "    * Here's how you can structure the overall implementation for this function\n",
    "    ```python \n",
    "    def compute_cost(X, y, w, b, lambda_= 1):\n",
    "        m, n = X.shape\n",
    "    \n",
    "        ### START CODE HERE ###\n",
    "        loss_sum = 0 \n",
    "        \n",
    "        # Loop over each training example\n",
    "        for i in range(m): \n",
    "            \n",
    "            # First calculate z_wb = w[0]*X[i][0]+...+w[n-1]*X[i][n-1]+b\n",
    "            z_wb = 0 \n",
    "            # Loop over each feature\n",
    "            for j in range(n): \n",
    "                # Add the corresponding term to z_wb\n",
    "                z_wb_ij = # Your code here to calculate w[j] * X[i][j]\n",
    "                z_wb += z_wb_ij # equivalent to z_wb = z_wb + z_wb_ij\n",
    "            # Add the bias term to z_wb\n",
    "            z_wb += b # equivalent to z_wb = z_wb + b\n",
    "        \n",
    "            f_wb = # Your code here to calculate prediction f_wb for a training example\n",
    "            loss =  # Your code here to calculate loss for a training example\n",
    "            \n",
    "            loss_sum += loss # equivalent to loss_sum = loss_sum + loss\n",
    "        \n",
    "        total_cost = (1 / m) * loss_sum  \n",
    "        ### END CODE HERE ### \n",
    "        \n",
    "        return total_cost\n",
    "    ```\n",
    "    \n",
    "    If you're still stuck, you can check the hints presented below to figure out how to calculate `z_wb_ij`, `f_wb` and `cost`.\n",
    "    <details>\n",
    "          <summary><font size=\"2\" color=\"darkblue\"><b>Hint to calculate z_wb_ij</b></font></summary>\n",
    "           &emsp; &emsp; <code>z_wb_ij = w[j]*X[i][j] </code>\n",
    "    </details>\n",
    "        \n",
    "    <details>\n",
    "          <summary><font size=\"2\" color=\"darkblue\"><b>Hint to calculate f_wb</b></font></summary>\n",
    "           &emsp; &emsp; $f_{\\mathbf{w},b}(\\mathbf{x}^{(i)}) = g(z_{\\mathbf{w},b}(\\mathbf{x}^{(i)}))$ where $g$ is the sigmoid function. You can simply call the `sigmoid` function implemented above.\n",
    "          <details>\n",
    "              <summary><font size=\"2\" color=\"blue\"><b>&emsp; &emsp; More hints to calculate f</b></font></summary>\n",
    "               &emsp; &emsp; You can compute f_wb as <code>f_wb = sigmoid(z_wb) </code>\n",
    "           </details>\n",
    "    </details>\n",
    "\n",
    "     <details>\n",
    "          <summary><font size=\"2\" color=\"darkblue\"><b>Hint to calculate loss</b></font></summary>\n",
    "          &emsp; &emsp; You can use the <a href=\"https://numpy.org/doc/stable/reference/generated/numpy.log.html\">np.log</a> function to calculate the log\n",
    "          <details>\n",
    "              <summary><font size=\"2\" color=\"blue\"><b>&emsp; &emsp; More hints to calculate loss</b></font></summary>\n",
    "              &emsp; &emsp; You can compute loss as <code>loss =  -y[i] * np.log(f_wb) - (1 - y[i]) * np.log(1 - f_wb)</code>\n",
    "          </details>\n",
    "    </details>\n",
    "        \n",
    "    </details>\n",
    "\n",
    "</details>"
   ]
  },
  {
   "cell_type": "markdown",
   "id": "891c6b28",
   "metadata": {},
   "source": [
    "Run the cells below to check your implementation of the `compute_cost` function with two different initializations of the parameters $w$"
   ]
  },
  {
   "cell_type": "code",
   "execution_count": 65,
   "id": "f546d54e",
   "metadata": {},
   "outputs": [
    {
     "name": "stdout",
     "output_type": "stream",
     "text": [
      "Cost at initial w (zeros): 0.693\n"
     ]
    }
   ],
   "source": [
    "m, n = X_train.shape\n",
    "\n",
    "# Compute and display cost with w initialized to zeroes\n",
    "initial_w = np.zeros(n)\n",
    "initial_b = 0.\n",
    "cost = compute_cost(X_train, y_train, initial_w, initial_b)\n",
    "print('Cost at initial w (zeros): {:.3f}'.format(cost))"
   ]
  },
  {
   "cell_type": "markdown",
   "id": "6d0f0dda",
   "metadata": {},
   "source": [
    "**Expected Output**:\n",
    "<table>\n",
    "  <tr>\n",
    "    <td> <b>Cost at initial w (zeros)<b></td>\n",
    "    <td> 0.693 </td> \n",
    "  </tr>\n",
    "</table>"
   ]
  },
  {
   "cell_type": "code",
   "execution_count": 66,
   "id": "72ea27f9",
   "metadata": {},
   "outputs": [
    {
     "name": "stdout",
     "output_type": "stream",
     "text": [
      "Cost at test w,b: 0.218\n",
      "\u001b[92mAll tests passed!\n"
     ]
    }
   ],
   "source": [
    "# Compute and display cost with non-zero w\n",
    "test_w = np.array([0.2, 0.2])\n",
    "test_b = -24.\n",
    "cost = compute_cost(X_train, y_train, test_w, test_b)\n",
    "\n",
    "print('Cost at test w,b: {:.3f}'.format(cost))\n",
    "\n",
    "\n",
    "# UNIT TESTS\n",
    "compute_cost_test(compute_cost)\n"
   ]
  },
  {
   "cell_type": "markdown",
   "id": "fc2d8ab7",
   "metadata": {},
   "source": [
    "**Expected Output**:\n",
    "<table>\n",
    "  <tr>\n",
    "    <td> <b>Cost at test w,b<b></td>\n",
    "    <td> 0.218 </td> \n",
    "  </tr>\n",
    "</table>"
   ]
  },
  {
   "cell_type": "markdown",
   "id": "ea892eb8",
   "metadata": {},
   "source": [
    "##### 2.5 Gradient for logistic regression\n",
    "<a name=\"2.5\"></a>\n",
    "\n",
    "In this section, you will implement the gradient for logistic regression.\n",
    "\n",
    "Recall that the gradient descent algorithm is:\n",
    "\n",
    "$$\\begin{align*}& \\text{repeat until convergence:} \\; \\lbrace \\newline \\; & b := b -  \\alpha \\frac{\\partial J(\\mathbf{w},b)}{\\partial b} \\newline       \\; & w_j := w_j -  \\alpha \\frac{\\partial J(\\mathbf{w},b)}{\\partial w_j} \\tag{1}  \\; & \\text{for j := 0..n-1}\\newline & \\rbrace\\end{align*}$$\n",
    "\n",
    "where, parameters $b$, $w_j$ are all updated simultaniously"
   ]
  },
  {
   "cell_type": "markdown",
   "id": "b8e8335c",
   "metadata": {},
   "source": [
    "###### Exercise 3\n",
    "<a name='ex-03'></a>\n",
    "\n",
    "\n",
    "Please complete the `compute_gradient` function to compute $\\frac{\\partial J(\\mathbf{w},b)}{\\partial w}$, $\\frac{\\partial J(\\mathbf{w},b)}{\\partial b}$ from equations (2) and (3) below.\n",
    "\n",
    "$$\n",
    "\\frac{\\partial J(\\mathbf{w},b)}{\\partial b}  = \\frac{1}{m} \\sum\\limits_{i = 0}^{m-1} (f_{\\mathbf{w},b}(\\mathbf{x}^{(i)}) - \\mathbf{y}^{(i)}) \\tag{2}\n",
    "$$\n",
    "$$\n",
    "\\frac{\\partial J(\\mathbf{w},b)}{\\partial w_j}  = \\frac{1}{m} \\sum\\limits_{i = 0}^{m-1} (f_{\\mathbf{w},b}(\\mathbf{x}^{(i)}) - \\mathbf{y}^{(i)})x_{j}^{(i)} \\tag{3}\n",
    "$$\n",
    "* m is the number of training examples in the dataset\n",
    "\n",
    "    \n",
    "*  $f_{\\mathbf{w},b}(x^{(i)})$ is the model's prediction, while $y^{(i)}$ is the actual label\n",
    "\n",
    "\n",
    "- **Note**: While this gradient looks identical to the linear regression gradient, the formula is actually different because linear and logistic regression have different definitions of $f_{\\mathbf{w},b}(x)$.\n",
    "\n",
    "As before, you can use the sigmoid function that you implemented above and if you get stuck, you can check out the hints presented after the cell below to help you with the implementation."
   ]
  },
  {
   "cell_type": "code",
   "execution_count": 67,
   "id": "7763d1b6",
   "metadata": {},
   "outputs": [],
   "source": [
    "# UNQ_C3\n",
    "# GRADED FUNCTION: compute_gradient\n",
    "def compute_gradient(X, y, w, b, lambda_=None): \n",
    "    \"\"\"\n",
    "    Computes the gradient for logistic regression \n",
    " \n",
    "    Args:\n",
    "      X : (ndarray Shape (m,n)) variable such as house size \n",
    "      y : (array_like Shape (m,1)) actual value \n",
    "      w : (array_like Shape (n,1)) values of parameters of the model      \n",
    "      b : (scalar)                 value of parameter of the model \n",
    "      lambda_: unused placeholder.\n",
    "    Returns\n",
    "      dj_dw: (array_like Shape (n,1)) The gradient of the cost w.r.t. the parameters w. \n",
    "      dj_db: (scalar)                The gradient of the cost w.r.t. the parameter b. \n",
    "    \"\"\"\n",
    "    m, n = X.shape\n",
    "    dj_dw = np.zeros(w.shape)\n",
    "    dj_db = 0.\n",
    "\n",
    "    ### START CODE HERE ### \n",
    "    for i in range(m):\n",
    "        f_wb_i = sigmoid(np.dot(X[i],w) + b)          \n",
    "        err_i  = f_wb_i  - y[i]                       \n",
    "        for j in range(n):\n",
    "            dj_dw[j] = dj_dw[j] + err_i * X[i,j]      \n",
    "        dj_db = dj_db + err_i\n",
    "    dj_dw = dj_dw/m                                   \n",
    "    dj_db = dj_db/m                                   \n",
    "        \n",
    "    ### END CODE HERE ###\n",
    "\n",
    "        \n",
    "    return dj_db, dj_dw"
   ]
  },
  {
   "cell_type": "markdown",
   "id": "852a462b",
   "metadata": {},
   "source": [
    " <details>\n",
    "  <summary><font size=\"3\" color=\"darkgreen\"><b>Click for hints</b></font></summary>\n",
    "    \n",
    "    \n",
    "* Here's how you can structure the overall implementation for this function\n",
    "    ```python \n",
    "       def compute_gradient(X, y, w, b, lambda_=None): \n",
    "            m, n = X.shape\n",
    "            dj_dw = np.zeros(w.shape)\n",
    "            dj_db = 0.\n",
    "        \n",
    "            ### START CODE HERE ### \n",
    "            for i in range(m):\n",
    "                # Calculate f_wb (exactly as you did in the compute_cost function above)\n",
    "                f_wb = \n",
    "        \n",
    "                # Calculate the  gradient for b from this example\n",
    "                dj_db_i = # Your code here to calculate the error\n",
    "        \n",
    "                # add that to dj_db\n",
    "                dj_db += dj_db_i\n",
    "        \n",
    "                # get dj_dw for each attribute\n",
    "                for j in range(n):\n",
    "                    # You code here to calculate the gradient from the i-th example for j-th attribute\n",
    "                    dj_dw_ij =  \n",
    "                    dj_dw[j] += dj_dw_ij\n",
    "        \n",
    "            # divide dj_db and dj_dw by total number of examples\n",
    "            dj_dw = dj_dw / m\n",
    "            dj_db = dj_db / m\n",
    "            ### END CODE HERE ###\n",
    "       \n",
    "            return dj_db, dj_dw\n",
    "    ```\n",
    "  \n",
    "    If you're still stuck, you can check the hints presented below to figure out how to calculate `f_wb`, `dj_db_i` and `dj_dw_ij` \n",
    "    \n",
    "    <details>\n",
    "          <summary><font size=\"2\" color=\"darkblue\"><b>Hint to calculate f_wb</b></font></summary>\n",
    "           &emsp; &emsp; Recall that you calculated f_wb in <code>compute_cost</code> above — for detailed hints on how to calculate each intermediate term, check out the hints section below that exercise\n",
    "           <details>\n",
    "              <summary><font size=\"2\" color=\"blue\"><b>&emsp; &emsp; More hints to calculate f_wb</b></font></summary>\n",
    "              &emsp; &emsp; You can calculate f_wb as\n",
    "               <pre>\n",
    "               for i in range(m):   \n",
    "                   # Calculate f_wb (exactly how you did it in the compute_cost function above)\n",
    "                   z_wb = 0\n",
    "                   # Loop over each feature\n",
    "                   for j in range(n): \n",
    "                       # Add the corresponding term to z_wb\n",
    "                       z_wb_ij = X[i, j] * w[j]\n",
    "                       z_wb += z_wb_ij\n",
    "            \n",
    "                   # Add bias term \n",
    "                   z_wb += b\n",
    "        \n",
    "                   # Calculate the prediction from the model\n",
    "                   f_wb = sigmoid(z_wb)\n",
    "    </details>\n",
    "        \n",
    "    </details>\n",
    "    <details>\n",
    "          <summary><font size=\"2\" color=\"darkblue\"><b>Hint to calculate dj_db_i</b></font></summary>\n",
    "           &emsp; &emsp; You can calculate dj_db_i as <code>dj_db_i = f_wb - y[i]</code>\n",
    "    </details>\n",
    "        \n",
    "    <details>\n",
    "          <summary><font size=\"2\" color=\"darkblue\"><b>Hint to calculate dj_dw_ij</b></font></summary>\n",
    "        &emsp; &emsp; You can calculate dj_dw_ij as <code>dj_dw_ij = (f_wb - y[i])* X[i][j]</code>\n",
    "    </details>\n",
    "\n",
    "</details>"
   ]
  },
  {
   "cell_type": "markdown",
   "id": "b0726d76",
   "metadata": {},
   "source": [
    "Run the cells below to check your implementation of the `compute_gradient` function with two different initializations of the parameters $w$"
   ]
  },
  {
   "cell_type": "code",
   "execution_count": 68,
   "id": "91804136",
   "metadata": {},
   "outputs": [
    {
     "name": "stdout",
     "output_type": "stream",
     "text": [
      "dj_db at initial w (zeros):-0.1\n",
      "dj_dw at initial w (zeros):[-12.00921658929115, -11.262842205513591]\n"
     ]
    }
   ],
   "source": [
    "# Compute and display gradient with w initialized to zeroes\n",
    "initial_w = np.zeros(n)\n",
    "initial_b = 0.\n",
    "\n",
    "dj_db, dj_dw = compute_gradient(X_train, y_train, initial_w, initial_b)\n",
    "print(f'dj_db at initial w (zeros):{dj_db}' )\n",
    "print(f'dj_dw at initial w (zeros):{dj_dw.tolist()}' )"
   ]
  },
  {
   "cell_type": "markdown",
   "id": "bf19e154",
   "metadata": {},
   "source": [
    "**Expected Output**:\n",
    "<table>\n",
    "  <tr>\n",
    "    <td> <b>dj_db at initial w (zeros)<b></td>\n",
    "    <td> -0.1 </td> \n",
    "  </tr>\n",
    "  <tr>\n",
    "    <td> <b>ddj_dw at initial w (zeros):<b></td>\n",
    "    <td> [-12.00921658929115, -11.262842205513591] </td> \n",
    "  </tr>\n",
    "</table>"
   ]
  },
  {
   "cell_type": "code",
   "execution_count": 69,
   "id": "b0af2f4e",
   "metadata": {},
   "outputs": [
    {
     "name": "stdout",
     "output_type": "stream",
     "text": [
      "dj_db at test_w: -0.5999999999991071\n",
      "dj_dw at test_w: [-44.831353617873795, -44.37384124953978]\n",
      "\u001b[92mAll tests passed!\n"
     ]
    }
   ],
   "source": [
    "# Compute and display cost and gradient with non-zero w\n",
    "test_w = np.array([ 0.2, -0.5])\n",
    "test_b = -24\n",
    "dj_db, dj_dw  = compute_gradient(X_train, y_train, test_w, test_b)\n",
    "\n",
    "print('dj_db at test_w:', dj_db)\n",
    "print('dj_dw at test_w:', dj_dw.tolist())\n",
    "\n",
    "# UNIT TESTS    \n",
    "compute_gradient_test(compute_gradient)\n"
   ]
  },
  {
   "cell_type": "markdown",
   "id": "f01193e1",
   "metadata": {},
   "source": [
    "**Expected Output**:\n",
    "<table>\n",
    "  <tr>\n",
    "    <td> <b>dj_db at initial w (zeros)<b></td>\n",
    "    <td> -0.5999999999991071 </td> \n",
    "  </tr>\n",
    "  <tr>\n",
    "    <td> <b>ddj_dw at initial w (zeros):<b></td>\n",
    "    <td>  [-44.8313536178737957, -44.37384124953978] </td> \n",
    "  </tr>\n",
    "</table>"
   ]
  },
  {
   "cell_type": "markdown",
   "id": "b837fc6b",
   "metadata": {},
   "source": [
    "##### 2.6 Learning parameters using gradient descent \n",
    "<a name=\"2.6\"></a>\n",
    "\n",
    "Similar to the previous assignment, you will now find the optimal parameters of a logistic regression model by using gradient descent. \n",
    "- You don't need to implement anything for this part. Simply run the cells below. \n",
    "\n",
    "- A good way to verify that gradient descent is working correctly is to look\n",
    "at the value of $J(\\mathbf{w},b)$ and check that it is decreasing with each step. \n",
    "\n",
    "- Assuming you have implemented the gradient and computed the cost correctly, your value of $J(\\mathbf{w},b)$ should never increase, and should converge to a steady value by the end of the algorithm."
   ]
  },
  {
   "cell_type": "code",
   "execution_count": 70,
   "id": "0c898dc2",
   "metadata": {},
   "outputs": [],
   "source": [
    "def gradient_descent(X, y, w_in, b_in, cost_function, gradient_function, alpha, num_iters, lambda_): \n",
    "    \"\"\"\n",
    "    Performs batch gradient descent to learn theta. Updates theta by taking \n",
    "    num_iters gradient steps with learning rate alpha\n",
    "    \n",
    "    Args:\n",
    "      X :    (array_like Shape (m, n)\n",
    "      y :    (array_like Shape (m,))\n",
    "      w_in : (array_like Shape (n,))  Initial values of parameters of the model\n",
    "      b_in : (scalar)                 Initial value of parameter of the model\n",
    "      cost_function:                  function to compute cost\n",
    "      alpha : (float)                 Learning rate\n",
    "      num_iters : (int)               number of iterations to run gradient descent\n",
    "      lambda_ (scalar, float)         regularization constant\n",
    "      \n",
    "    Returns:\n",
    "      w : (array_like Shape (n,)) Updated values of parameters of the model after\n",
    "          running gradient descent\n",
    "      b : (scalar)                Updated value of parameter of the model after\n",
    "          running gradient descent\n",
    "    \"\"\"\n",
    "    \n",
    "    # number of training examples\n",
    "    m = len(X)\n",
    "    \n",
    "    # An array to store cost J and w's at each iteration primarily for graphing later\n",
    "    J_history = []\n",
    "    w_history = []\n",
    "    \n",
    "    for i in range(num_iters):\n",
    "\n",
    "        # Calculate the gradient and update the parameters\n",
    "        dj_db, dj_dw = gradient_function(X, y, w_in, b_in, lambda_)   \n",
    "\n",
    "        # Update Parameters using w, b, alpha and gradient\n",
    "        w_in = w_in - alpha * dj_dw               \n",
    "        b_in = b_in - alpha * dj_db              \n",
    "       \n",
    "        # Save cost J at each iteration\n",
    "        if i<100000:      # prevent resource exhaustion \n",
    "            cost =  cost_function(X, y, w_in, b_in, lambda_)\n",
    "            J_history.append(cost)\n",
    "\n",
    "        # Print cost every at intervals 10 times or as many iterations if < 10\n",
    "        if i% math.ceil(num_iters/10) == 0 or i == (num_iters-1):\n",
    "            w_history.append(w_in)\n",
    "            print(f\"Iteration {i:4}: Cost {float(J_history[-1]):8.2f}   \")\n",
    "        \n",
    "    return w_in, b_in, J_history, w_history #return w and J,w history for graphing"
   ]
  },
  {
   "cell_type": "markdown",
   "id": "57d23f5c",
   "metadata": {},
   "source": [
    "Now let's run the gradient descent algorithm above to learn the parameters for our dataset.\n",
    "\n",
    "**Note**\n",
    "\n",
    "The code block below takes a couple of minutes to run, especially with a non-vectorized version. You can reduce the `iterations` to test your implementation and iterate faster. If you have time, try running 100,000 iterations for better results."
   ]
  },
  {
   "cell_type": "code",
   "execution_count": 71,
   "id": "f74d8d47",
   "metadata": {},
   "outputs": [
    {
     "name": "stdout",
     "output_type": "stream",
     "text": [
      "Iteration    0: Cost     1.01   \n",
      "Iteration 1000: Cost     0.31   \n",
      "Iteration 2000: Cost     0.30   \n",
      "Iteration 3000: Cost     0.30   \n",
      "Iteration 4000: Cost     0.30   \n",
      "Iteration 5000: Cost     0.30   \n",
      "Iteration 6000: Cost     0.30   \n",
      "Iteration 7000: Cost     0.30   \n",
      "Iteration 8000: Cost     0.30   \n",
      "Iteration 9000: Cost     0.30   \n",
      "Iteration 9999: Cost     0.30   \n"
     ]
    }
   ],
   "source": [
    "np.random.seed(1)\n",
    "intial_w = 0.01 * (np.random.rand(2).reshape(-1,1) - 0.5)\n",
    "initial_b = -8\n",
    "\n",
    "\n",
    "# Some gradient descent settings\n",
    "iterations = 10000\n",
    "alpha = 0.001\n",
    "\n",
    "w,b, J_history,_ = gradient_descent(X_train ,y_train, initial_w, initial_b, \n",
    "                                   compute_cost, compute_gradient, alpha, iterations, 0)"
   ]
  },
  {
   "cell_type": "markdown",
   "id": "ab028a67",
   "metadata": {},
   "source": [
    "<details>\n",
    "<summary>\n",
    "    <b>Expected Output: Cost     0.30, (Click to see details):</b>\n",
    "</summary>\n",
    "\n",
    "    # With the following settings\n",
    "    np.random.seed(1)\n",
    "    intial_w = 0.01 * (np.random.rand(2).reshape(-1,1) - 0.5)\n",
    "    initial_b = -8\n",
    "    iterations = 10000\n",
    "    alpha = 0.001\n",
    "    #\n",
    "\n",
    "```\n",
    "Iteration    0: Cost     1.01   \n",
    "Iteration 1000: Cost     0.31   \n",
    "Iteration 2000: Cost     0.30   \n",
    "Iteration 3000: Cost     0.30   \n",
    "Iteration 4000: Cost     0.30   \n",
    "Iteration 5000: Cost     0.30   \n",
    "Iteration 6000: Cost     0.30   \n",
    "Iteration 7000: Cost     0.30   \n",
    "Iteration 8000: Cost     0.30   \n",
    "Iteration 9000: Cost     0.30   \n",
    "Iteration 9999: Cost     0.30   \n",
    "```"
   ]
  },
  {
   "cell_type": "markdown",
   "id": "b8068774",
   "metadata": {},
   "source": [
    "##### 2.7 Plotting the decision boundary\n",
    "<a name=\"2.7\"></a>\n",
    "\n",
    "We will now use the final parameters from gradient descent to plot the linear fit. If you implemented the previous parts correctly, you should see the following plot:   \n",
    "<img src=\"week3/C1W3A1/images/figure 2.png\"  width=\"450\" height=\"450\">\n",
    "\n",
    "We will use a helper function in the `utils.py` file to create this plot."
   ]
  },
  {
   "cell_type": "code",
   "execution_count": 72,
   "id": "8d21d527",
   "metadata": {},
   "outputs": [
    {
     "data": {
      "image/png": "[encoded data removed]",
      "text/plain": [
       "<Figure size 640x480 with 1 Axes>"
      ]
     },
     "metadata": {},
     "output_type": "display_data"
    }
   ],
   "source": [
    "plot_decision_boundary(w, b, X_train, y_train)"
   ]
  },
  {
   "cell_type": "markdown",
   "id": "44067640",
   "metadata": {},
   "source": [
    "##### 2.8 Evaluating logistic regression\n",
    "<a name=\"2.8\"></a>\n",
    "\n",
    "We can evaluate the quality of the parameters we have found by seeing how well the learned model predicts on our training set. \n",
    "\n",
    "You will implement the `predict` function below to do this.\n"
   ]
  },
  {
   "cell_type": "markdown",
   "id": "ebcbd5d1",
   "metadata": {},
   "source": [
    "##### Exercise 4\n",
    "<a name='ex-04'></a>\n",
    "\n",
    "\n",
    "Please complete the `predict` function to produce `1` or `0` predictions given a dataset and a learned parameter vector $w$ and $b$.\n",
    "- First you need to compute the prediction from the model $f(x^{(i)}) = g(w \\cdot x^{(i)})$ for every example \n",
    "    - You've implemented this before in the parts above\n",
    "- We interpret the output of the model ($f(x^{(i)})$) as the probability that $y^{(i)}=1$ given $x^{(i)}$ and parameterized by $w$.\n",
    "- Therefore, to get a final prediction ($y^{(i)}=0$ or $y^{(i)}=1$) from the logistic regression model, you can use the following heuristic -\n",
    "\n",
    "  if $f(x^{(i)}) >= 0.5$, predict $y^{(i)}=1$\n",
    "  \n",
    "  if $f(x^{(i)}) < 0.5$, predict $y^{(i)}=0$\n",
    "    \n",
    "If you get stuck, you can check out the hints presented after the cell below to help you with the implementation."
   ]
  },
  {
   "cell_type": "code",
   "execution_count": 73,
   "id": "3f93dbd7",
   "metadata": {},
   "outputs": [],
   "source": [
    "# UNQ_C4\n",
    "# GRADED FUNCTION: predict\n",
    "\n",
    "def predict(X, w, b): \n",
    "    \"\"\"\n",
    "    Predict whether the label is 0 or 1 using learned logistic\n",
    "    regression parameters w\n",
    "    \n",
    "    Args:\n",
    "    X : (ndarray Shape (m, n))\n",
    "    w : (array_like Shape (n,))      Parameters of the model\n",
    "    b : (scalar, float)              Parameter of the model\n",
    "\n",
    "    Returns:\n",
    "    p: (ndarray (m,1))\n",
    "        The predictions for X using a threshold at 0.5\n",
    "    \"\"\"\n",
    "    # number of training examples\n",
    "    m, n = X.shape   \n",
    "    p = np.zeros(m)\n",
    "   \n",
    "    ### START CODE HERE ### \n",
    "    # Loop over each example\n",
    "    for i in range(m):   \n",
    "        z_wb = np.dot(X[i],w) \n",
    "        # Loop over each feature\n",
    "        for j in range(n): \n",
    "            # Add the corresponding term to z_wb\n",
    "            z_wb += 0\n",
    "        \n",
    "        # Add bias term \n",
    "        z_wb += b\n",
    "        \n",
    "        # Calculate the prediction for this example\n",
    "        f_wb = sigmoid(z_wb)\n",
    "\n",
    "        # Apply the threshold\n",
    "        p[i] = 1 if f_wb>0.5 else 0\n",
    "        \n",
    "    ### END CODE HERE ### \n",
    "    return p"
   ]
  },
  {
   "cell_type": "markdown",
   "id": "6744c058",
   "metadata": {},
   "source": [
    "<details>\n",
    "  <summary><font size=\"3\" color=\"darkgreen\"><b>Click for hints</b></font></summary>\n",
    "    \n",
    "    \n",
    "* Here's how you can structure the overall implementation for this function\n",
    "    ```python \n",
    "       def predict(X, w, b): \n",
    "            # number of training examples\n",
    "            m, n = X.shape   \n",
    "            p = np.zeros(m)\n",
    "   \n",
    "            ### START CODE HERE ### \n",
    "            # Loop over each example\n",
    "            for i in range(m):   \n",
    "                \n",
    "                # Calculate f_wb (exactly how you did it in the compute_cost function above) \n",
    "                # using a couple of lines of code\n",
    "                f_wb = \n",
    "\n",
    "                # Calculate the prediction for that training example \n",
    "                p[i] = # Your code here to calculate the prediction based on f_wb\n",
    "        \n",
    "            ### END CODE HERE ### \n",
    "            return p\n",
    "    ```\n",
    "  \n",
    "    If you're still stuck, you can check the hints presented below to figure out how to calculate `f_wb` and `p[i]` \n",
    "    \n",
    "    <details>\n",
    "          <summary><font size=\"2\" color=\"darkblue\"><b>Hint to calculate f_wb</b></font></summary>\n",
    "           &emsp; &emsp; Recall that you calculated f_wb in <code>compute_cost</code> above — for detailed hints on how to calculate each intermediate term, check out the hints section below that exercise\n",
    "           <details>\n",
    "              <summary><font size=\"2\" color=\"blue\"><b>&emsp; &emsp; More hints to calculate f_wb</b></font></summary>\n",
    "              &emsp; &emsp; You can calculate f_wb as\n",
    "               <pre>\n",
    "               for i in range(m):   \n",
    "                   # Calculate f_wb (exactly how you did it in the compute_cost function above)\n",
    "                   z_wb = 0\n",
    "                   # Loop over each feature\n",
    "                   for j in range(n): \n",
    "                       # Add the corresponding term to z_wb\n",
    "                       z_wb_ij = X[i, j] * w[j]\n",
    "                       z_wb += z_wb_ij\n",
    "            \n",
    "                   # Add bias term \n",
    "                   z_wb += b\n",
    "        \n",
    "                   # Calculate the prediction from the model\n",
    "                   f_wb = sigmoid(z_wb)\n",
    "    </details>\n",
    "        \n",
    "    </details>\n",
    "    <details>\n",
    "          <summary><font size=\"2\" color=\"darkblue\"><b>Hint to calculate p[i]</b></font></summary>\n",
    "           &emsp; &emsp; As an example, if you'd like to say x = 1 if y is less than 3 and 0 otherwise, you can express it in code as <code>x = y < 3 </code>. Now do the same for p[i] = 1 if f_wb >= 0.5 and 0 otherwise. \n",
    "           <details>\n",
    "              <summary><font size=\"2\" color=\"blue\"><b>&emsp; &emsp; More hints to calculate p[i]</b></font></summary>\n",
    "              &emsp; &emsp; You can compute p[i] as <code>p[i] = f_wb >= 0.5</code>\n",
    "          </details>\n",
    "    </details>\n",
    "\n",
    "</details>"
   ]
  },
  {
   "cell_type": "markdown",
   "id": "c71469aa",
   "metadata": {},
   "source": [
    "Once you have completed the function `predict`, let's run the code below to report the training accuracy of your classifier by computing the percentage of examples it got correct."
   ]
  },
  {
   "cell_type": "code",
   "execution_count": 74,
   "id": "8e5db903",
   "metadata": {},
   "outputs": [
    {
     "name": "stdout",
     "output_type": "stream",
     "text": [
      "Output of predict: shape (4,), value [0. 1. 1. 1.]\n",
      "\u001b[92mAll tests passed!\n"
     ]
    }
   ],
   "source": [
    "# Test your predict code\n",
    "np.random.seed(1)\n",
    "tmp_w = np.random.randn(2)\n",
    "tmp_b = 0.3    \n",
    "tmp_X = np.random.randn(4, 2) - 0.5\n",
    "\n",
    "tmp_p = predict(tmp_X, tmp_w, tmp_b)\n",
    "print(f'Output of predict: shape {tmp_p.shape}, value {tmp_p}')\n",
    "\n",
    "# UNIT TESTS        \n",
    "predict_test(predict)"
   ]
  },
  {
   "cell_type": "markdown",
   "id": "f64365fa",
   "metadata": {},
   "source": [
    "**Expected output** \n",
    "\n",
    "<table>\n",
    "  <tr>\n",
    "    <td> <b>Output of predict: shape (4,),value [0. 1. 1. 1.]<b></td>\n",
    "  </tr>\n",
    "</table>"
   ]
  },
  {
   "cell_type": "markdown",
   "id": "4f5e4b1f",
   "metadata": {},
   "source": [
    "Now let's use this to compute the accuracy on the training set"
   ]
  },
  {
   "cell_type": "code",
   "execution_count": 75,
   "id": "4b9cf864",
   "metadata": {},
   "outputs": [
    {
     "name": "stdout",
     "output_type": "stream",
     "text": [
      "Train Accuracy: 92.000000\n"
     ]
    }
   ],
   "source": [
    "#Compute accuracy on our training set\n",
    "p = predict(X_train, w,b)\n",
    "print('Train Accuracy: %f'%(np.mean(p == y_train) * 100))"
   ]
  },
  {
   "cell_type": "markdown",
   "id": "858a9d5e",
   "metadata": {},
   "source": [
    "<table>\n",
    "  <tr>\n",
    "    <td> <b>Train Accuracy (approx):<b></td>\n",
    "    <td> 92.00 </td> \n",
    "  </tr>\n",
    "</table>"
   ]
  },
  {
   "cell_type": "markdown",
   "id": "80b327be",
   "metadata": {},
   "source": [
    "#### 3 - Regularized Logistic Regression\n",
    "<a name=\"3\"></a>\n",
    "\n",
    "In this part of the exercise, you will implement regularized logistic regression to predict whether microchips from a fabrication plant passes quality assurance (QA). During QA, each microchip goes through various tests to ensure it is functioning correctly. \n",
    "\n",
    "##### 3.1 Problem Statement\n",
    "<a name=\"3.1\"></a>\n",
    "\n",
    "Suppose you are the product manager of the factory and you have the test results for some microchips on two different tests. \n",
    "- From these two tests, you would like to determine whether the microchips should be accepted or rejected. \n",
    "- To help you make the decision, you have a dataset of test results on past microchips, from which you can build a logistic regression model.\n",
    "\n",
    "##### 3.2 Loading and visualizing the data\n",
    "<a name=\"3.2\"></a>\n",
    "\n",
    "\n",
    "Similar to previous parts of this exercise, let's start by loading the dataset for this task and visualizing it. \n",
    "\n",
    "- The `load_dataset()` function shown below loads the data into variables `X_train` and `y_train`\n",
    "  - `X_train` contains the test results for the microchips from two tests\n",
    "  - `y_train` contains the results of the QA  \n",
    "      - `y_train = 1` if the microchip was accepted \n",
    "      - `y_train = 0` if the microchip was rejected \n",
    "  - Both `X_train` and `y_train` are numpy arrays."
   ]
  },
  {
   "cell_type": "code",
   "execution_count": null,
   "id": "509cbd3c-0797-4c41-8505-87a7af648afa",
   "metadata": {},
   "outputs": [],
   "source": []
  },
  {
   "cell_type": "code",
   "execution_count": 1,
   "id": "298f9184",
   "metadata": {},
   "outputs": [],
   "source": [
    "# load dataset\n",
    "%matplotlib widget\n",
    "import matplotlib.pyplot as plt\n",
    "import sys\n",
    "sys.path.append(\"week3/OptionalLabs\")\n",
    "sys.path.append(\"week3/C1W3A1\")\n",
    "from utils import *\n",
    "plt.style.use('week3/OptionalLabs/deeplearning.mplstyle')\n",
    "from plt_overfit import overfit_example, output\n",
    "\n",
    "X_train, y_train = load_data(\"week3/C1W3A1/data/ex2data2.txt\")"
   ]
  },
  {
   "cell_type": "markdown",
   "id": "7c2c618f",
   "metadata": {},
   "source": [
    "###### View the variables\n",
    "\n",
    "The code below prints the first five values of `X_train` and `y_train` and the type of the variables.\n"
   ]
  },
  {
   "cell_type": "code",
   "execution_count": 47,
   "id": "b1254557",
   "metadata": {},
   "outputs": [
    {
     "name": "stdout",
     "output_type": "stream",
     "text": [
      "X_train: [[ 0.05  0.7 ]\n",
      " [-0.09  0.68]\n",
      " [-0.21  0.69]\n",
      " [-0.38  0.5 ]\n",
      " [-0.51  0.47]]\n",
      "Type of X_train: <class 'numpy.ndarray'>\n",
      "y_train: [1. 1. 1. 1. 1.]\n",
      "Type of y_train: <class 'numpy.ndarray'>\n"
     ]
    }
   ],
   "source": [
    "# print X_train\n",
    "print(\"X_train:\", X_train[:5])\n",
    "print(\"Type of X_train:\",type(X_train))\n",
    "\n",
    "# print y_train\n",
    "print(\"y_train:\", y_train[:5])\n",
    "print(\"Type of y_train:\",type(y_train))"
   ]
  },
  {
   "cell_type": "markdown",
   "id": "3f60dc3a",
   "metadata": {},
   "source": [
    "###### Check the dimensions of your variables\n",
    "\n",
    "Another useful way to get familiar with your data is to view its dimensions. Let's print the shape of `X_train` and `y_train` and see how many training examples we have in our dataset."
   ]
  },
  {
   "cell_type": "code",
   "execution_count": 77,
   "id": "c43971eb",
   "metadata": {},
   "outputs": [
    {
     "name": "stdout",
     "output_type": "stream",
     "text": [
      "The shape of X_train is: (118, 2)\n",
      "The shape of y_train is: (118,)\n",
      "We have m = 118 training examples\n"
     ]
    }
   ],
   "source": [
    "print ('The shape of X_train is: ' + str(X_train.shape))\n",
    "print ('The shape of y_train is: ' + str(y_train.shape))\n",
    "print ('We have m = %d training examples' % (len(y_train)))"
   ]
  },
  {
   "cell_type": "markdown",
   "id": "a14a3270",
   "metadata": {},
   "source": [
    "###### Visualize your data\n",
    "\n",
    "The helper function `plot_data` (from `utils.py`) is used to generate a figure like Figure 3, where the axes are the two test scores, and the positive (y = 1, accepted) and negative (y = 0, rejected) examples are shown with different markers.\n",
    "\n",
    "<img src=\"week3/C1W3A1/images/figure 3.png\"  width=\"450\" height=\"450\">"
   ]
  },
  {
   "cell_type": "code",
   "execution_count": 78,
   "id": "0d8b9a45",
   "metadata": {},
   "outputs": [
    {
     "data": {
      "application/vnd.jupyter.widget-view+json": {
       "model_id": "ec69572a491941fc866b2028c415a2e7",
       "version_major": 2,
       "version_minor": 0
      },
      "image/png": "[encoded data removed]",
      "text/html": [
       "\n",
       "            <div style=\"display: inline-block;\">\n",
       "                <div class=\"jupyter-widgets widget-label\" style=\"text-align: center;\">\n",
       "                    Figure\n",
       "                </div>\n",
       "                <img src='data:image/png;base64,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' width=640.0/>\n",
       "            </div>\n",
       "        "
      ],
      "text/plain": [
       "Canvas(toolbar=Toolbar(toolitems=[('Home', 'Reset original view', 'home', 'home'), ('Back', 'Back to previous …"
      ]
     },
     "metadata": {},
     "output_type": "display_data"
    }
   ],
   "source": [
    "# Plot examples\n",
    "plot_data(X_train, y_train[:], pos_label=\"Accepted\", neg_label=\"Rejected\")\n",
    "\n",
    "# Set the y-axis label\n",
    "plt.ylabel('Microchip Test 2') \n",
    "# Set the x-axis label\n",
    "plt.xlabel('Microchip Test 1') \n",
    "plt.legend(loc=\"upper right\")\n",
    "plt.show()"
   ]
  },
  {
   "cell_type": "markdown",
   "id": "1060b1a1",
   "metadata": {},
   "source": [
    "Figure 3 shows that our dataset cannot be separated into positive and negative examples by a straight-line through the plot. Therefore, a straight forward application of logistic regression will not perform well on this dataset since logistic regression will only be able to find a linear decision boundary.\n"
   ]
  },
  {
   "cell_type": "markdown",
   "id": "21a9330d",
   "metadata": {},
   "source": [
    "##### 3.3 Feature mapping\n",
    "<a name=\"3.3\"></a>\n",
    "\n",
    "One way to fit the data better is to create more features from each data point. In the provided function `map_feature`, we will map the features into all polynomial terms of $x_1$ and $x_2$ up to the sixth power.\n",
    "\n",
    "$$\\mathrm{map\\_feature}(x) = \n",
    "\\left[\\begin{array}{c}\n",
    "x_1\\\\\n",
    "x_2\\\\\n",
    "x_1^2\\\\\n",
    "x_1 x_2\\\\\n",
    "x_2^2\\\\\n",
    "x_1^3\\\\\n",
    "\\vdots\\\\\n",
    "x_1 x_2^5\\\\\n",
    "x_2^6\\end{array}\\right]$$\n",
    "\n",
    "As a result of this mapping, our vector of two features (the scores on two QA tests) has been transformed into a 27-dimensional vector. \n",
    "\n",
    "- A logistic regression classifier trained on this higher-dimension feature vector will have a more complex decision boundary and will be nonlinear when drawn in our 2-dimensional plot. \n",
    "- We have provided the `map_feature` function for you in utils.py. "
   ]
  },
  {
   "cell_type": "code",
   "execution_count": 79,
   "id": "20311c96",
   "metadata": {},
   "outputs": [
    {
     "name": "stdout",
     "output_type": "stream",
     "text": [
      "Original shape of data: (118, 2)\n",
      "Shape after feature mapping: (118, 27)\n"
     ]
    }
   ],
   "source": [
    "print(\"Original shape of data:\", X_train.shape)\n",
    "\n",
    "mapped_X =  map_feature(X_train[:, 0], X_train[:, 1])\n",
    "print(\"Shape after feature mapping:\", mapped_X.shape)"
   ]
  },
  {
   "cell_type": "markdown",
   "id": "01ace79b",
   "metadata": {},
   "source": [
    "Let's also print the first elements of `X_train` and `mapped_X` to see the tranformation."
   ]
  },
  {
   "cell_type": "code",
   "execution_count": 80,
   "id": "a99522f6",
   "metadata": {},
   "outputs": [
    {
     "name": "stdout",
     "output_type": "stream",
     "text": [
      "X_train[0]: [0.05 0.7 ]\n",
      "mapped X_train[0]: [5.13e-02 7.00e-01 2.63e-03 3.59e-02 4.89e-01 1.35e-04 1.84e-03 2.51e-02\n",
      " 3.42e-01 6.91e-06 9.43e-05 1.29e-03 1.76e-02 2.39e-01 3.54e-07 4.83e-06\n",
      " 6.59e-05 9.00e-04 1.23e-02 1.68e-01 1.82e-08 2.48e-07 3.38e-06 4.61e-05\n",
      " 6.29e-04 8.59e-03 1.17e-01]\n"
     ]
    }
   ],
   "source": [
    "print(\"X_train[0]:\", X_train[0])\n",
    "print(\"mapped X_train[0]:\", mapped_X[0])"
   ]
  },
  {
   "cell_type": "markdown",
   "id": "4f902132",
   "metadata": {},
   "source": [
    "While the feature mapping allows us to build a more expressive classifier, it is also more susceptible to overfitting. In the next parts of the exercise, you will implement regularized logistic regression to fit the data and also see for yourself how regularization can help combat the overfitting problem.\n",
    "\n",
    "##### 3.4 Cost function for regularized logistic regression\n",
    "<a name=\"3.4\"></a>\n",
    "\n",
    "In this part, you will implement the cost function for regularized logistic regression.\n",
    "\n",
    "Recall that for regularized logistic regression, the cost function is of the form\n",
    "$$J(\\mathbf{w},b) = \\frac{1}{m}  \\sum_{i=0}^{m-1} \\left[ -y^{(i)} \\log\\left(f_{\\mathbf{w},b}\\left( \\mathbf{x}^{(i)} \\right) \\right) - \\left( 1 - y^{(i)}\\right) \\log \\left( 1 - f_{\\mathbf{w},b}\\left( \\mathbf{x}^{(i)} \\right) \\right) \\right] + \\frac{\\lambda}{2m}  \\sum_{j=0}^{n-1} w_j^2$$\n",
    "\n",
    "Compare this to the cost function without regularization (which you implemented above), which is of the form \n",
    "\n",
    "$$ J(\\mathbf{w}.b) = \\frac{1}{m}\\sum_{i=0}^{m-1} \\left[ (-y^{(i)} \\log\\left(f_{\\mathbf{w},b}\\left( \\mathbf{x}^{(i)} \\right) \\right) - \\left( 1 - y^{(i)}\\right) \\log \\left( 1 - f_{\\mathbf{w},b}\\left( \\mathbf{x}^{(i)} \\right) \\right)\\right]$$\n",
    "\n",
    "The difference is the regularization term, which is $$\\frac{\\lambda}{2m}  \\sum_{j=0}^{n-1} w_j^2$$ \n",
    "Note that the $b$ parameter is not regularized."
   ]
  },
  {
   "cell_type": "markdown",
   "id": "9f65bbff",
   "metadata": {},
   "source": [
    "###### Exercise 5\n",
    "<a name='ex-05'></a>\n",
    "\n",
    "Please complete the `compute_cost_reg` function below to calculate the following term for each element in $w$ \n",
    "$$\\frac{\\lambda}{2m}  \\sum_{j=0}^{n-1} w_j^2$$\n",
    "\n",
    "The starter code then adds this to the cost without regularization (which you computed above in `compute_cost`) to calculate the cost with regulatization.\n",
    "\n",
    "If you get stuck, you can check out the hints presented after the cell below to help you with the implementation."
   ]
  },
  {
   "cell_type": "code",
   "execution_count": 81,
   "id": "507bdbe4",
   "metadata": {},
   "outputs": [],
   "source": [
    "# UNQ_C5\n",
    "def compute_cost_reg(X, y, w, b, lambda_ = 1):\n",
    "    \"\"\"\n",
    "    Computes the cost over all examples\n",
    "    Args:\n",
    "      X : (array_like Shape (m,n)) data, m examples by n features\n",
    "      y : (array_like Shape (m,)) target value \n",
    "      w : (array_like Shape (n,)) Values of parameters of the model      \n",
    "      b : (array_like Shape (n,)) Values of bias parameter of the model\n",
    "      lambda_ : (scalar, float)    Controls amount of regularization\n",
    "    Returns:\n",
    "      total_cost: (scalar)         cost \n",
    "    \"\"\"\n",
    "\n",
    "    m, n = X.shape\n",
    "    \n",
    "    # Calls the compute_cost function that you implemented above\n",
    "    cost_without_reg = compute_cost(X, y, w, b) \n",
    "    \n",
    "    # You need to calculate this value\n",
    "    reg_cost = 0.\n",
    "    \n",
    "    ### START CODE HERE ###\n",
    "    reg_cost = sum(np.square(w))\n",
    "    ### END CODE HERE ### \n",
    "    \n",
    "    # Add the regularization cost to get the total cost\n",
    "    total_cost = cost_without_reg + (lambda_/(2 * m)) * reg_cost\n",
    "\n",
    "    return total_cost"
   ]
  },
  {
   "cell_type": "markdown",
   "id": "c2988b5d",
   "metadata": {},
   "source": [
    "<details>\n",
    "  <summary><font size=\"3\" color=\"darkgreen\"><b>Click for hints</b></font></summary>\n",
    "    \n",
    "    \n",
    "* Here's how you can structure the overall implementation for this function\n",
    "    ```python \n",
    "       def compute_cost_reg(X, y, w, b, lambda_ = 1):\n",
    "   \n",
    "           m, n = X.shape\n",
    "    \n",
    "            # Calls the compute_cost function that you implemented above\n",
    "            cost_without_reg = compute_cost(X, y, w, b) \n",
    "    \n",
    "            # You need to calculate this value\n",
    "            reg_cost = 0.\n",
    "    \n",
    "            ### START CODE HERE ###\n",
    "            for j in range(n):\n",
    "                reg_cost_j = # Your code here to calculate the cost from w[j]\n",
    "                reg_cost = reg_cost + reg_cost_j\n",
    "\n",
    "            ### END CODE HERE ### \n",
    "    \n",
    "            # Add the regularization cost to get the total cost\n",
    "            total_cost = cost_without_reg + (lambda_/(2 * m)) * reg_cost\n",
    "\n",
    "        return total_cost\n",
    "    ```\n",
    "  \n",
    "    If you're still stuck, you can check the hints presented below to figure out how to calculate `reg_cost_j` \n",
    "    \n",
    "    <details>\n",
    "          <summary><font size=\"2\" color=\"darkblue\"><b>Hint to calculate reg_cost_j</b></font></summary>\n",
    "           &emsp; &emsp; You can use calculate reg_cost_j as <code>reg_cost_j = w[j]**2 </code> \n",
    "    </details>\n",
    "        \n",
    "    </details>\n",
    "\n",
    "</details>\n",
    "\n",
    "    "
   ]
  },
  {
   "cell_type": "markdown",
   "id": "94e0d2e7",
   "metadata": {},
   "source": [
    "Run the cell below to check your implementation of the `compute_cost_reg` function."
   ]
  },
  {
   "cell_type": "code",
   "execution_count": 2,
   "id": "3c58c863",
   "metadata": {},
   "outputs": [
    {
     "ename": "NameError",
     "evalue": "name 'compute_cost_reg' is not defined",
     "output_type": "error",
     "traceback": [
      "\u001b[0;31m---------------------------------------------------------------------------\u001b[0m",
      "\u001b[0;31mNameError\u001b[0m                                 Traceback (most recent call last)",
      "Cell \u001b[0;32mIn[2], line 6\u001b[0m\n\u001b[1;32m      4\u001b[0m initial_b \u001b[38;5;241m=\u001b[39m \u001b[38;5;241m0.5\u001b[39m\n\u001b[1;32m      5\u001b[0m lambda_ \u001b[38;5;241m=\u001b[39m \u001b[38;5;241m0.5\u001b[39m\n\u001b[0;32m----> 6\u001b[0m cost \u001b[38;5;241m=\u001b[39m \u001b[43mcompute_cost_reg\u001b[49m(X_mapped, y_train, initial_w, initial_b, lambda_)\n\u001b[1;32m      8\u001b[0m \u001b[38;5;28mprint\u001b[39m(\u001b[38;5;124m\"\u001b[39m\u001b[38;5;124mRegularized cost :\u001b[39m\u001b[38;5;124m\"\u001b[39m, cost)\n\u001b[1;32m     10\u001b[0m \u001b[38;5;66;03m# UNIT TEST    \u001b[39;00m\n",
      "\u001b[0;31mNameError\u001b[0m: name 'compute_cost_reg' is not defined"
     ]
    }
   ],
   "source": [
    "X_mapped = map_feature(X_train[:, 0], X_train[:, 1])\n",
    "np.random.seed(1)\n",
    "initial_w = np.random.rand(X_mapped.shape[1]) - 0.5\n",
    "initial_b = 0.5\n",
    "lambda_ = 0.5\n",
    "cost = compute_cost_reg(X_mapped, y_train, initial_w, initial_b, lambda_)\n",
    "\n",
    "print(\"Regularized cost :\", cost)\n",
    "\n",
    "# UNIT TEST    \n",
    "compute_cost_reg_test(compute_cost_reg)\n"
   ]
  },
  {
   "cell_type": "markdown",
   "id": "0bba3ab8",
   "metadata": {},
   "source": [
    "**Expected Output**:\n",
    "<table>\n",
    "  <tr>\n",
    "    <td> <b>Regularized cost : <b></td>\n",
    "    <td> 0.6618252552483948 </td> \n",
    "  </tr>\n",
    "</table>"
   ]
  },
  {
   "cell_type": "markdown",
   "id": "98b33076",
   "metadata": {},
   "source": [
    "##### 3.5 Gradient for regularized logistic regression\n",
    "<a name=\"3.5\"></a>\n",
    "\n",
    "In this section, you will implement the gradient for regularized logistic regression.\n",
    "\n",
    "\n",
    "The gradient of the regularized cost function has two components. The first, $\\frac{\\partial J(\\mathbf{w},b)}{\\partial b}$ is a scalar, the other is a vector with the same shape as the parameters $\\mathbf{w}$, where the $j^\\mathrm{th}$ element is defined as follows:\n",
    "\n",
    "$$\\frac{\\partial J(\\mathbf{w},b)}{\\partial b} = \\frac{1}{m}  \\sum_{i=0}^{m-1} (f_{\\mathbf{w},b}(\\mathbf{x}^{(i)}) - y^{(i)})  $$\n",
    "\n",
    "$$\\frac{\\partial J(\\mathbf{w},b)}{\\partial w_j} = \\left( \\frac{1}{m}  \\sum_{i=0}^{m-1} (f_{\\mathbf{w},b}(\\mathbf{x}^{(i)}) - y^{(i)}) x_j^{(i)} \\right) + \\frac{\\lambda}{m} w_j  \\quad\\, \\mbox{for $j=0...(n-1)$}$$\n",
    "\n",
    "Compare this to the gradient of the cost function without regularization (which you implemented above), which is of the form \n",
    "$$\n",
    "\\frac{\\partial J(\\mathbf{w},b)}{\\partial b}  = \\frac{1}{m} \\sum\\limits_{i = 0}^{m-1} (f_{\\mathbf{w},b}(\\mathbf{x}^{(i)}) - \\mathbf{y}^{(i)}) \\tag{2}\n",
    "$$\n",
    "$$\n",
    "\\frac{\\partial J(\\mathbf{w},b)}{\\partial w_j}  = \\frac{1}{m} \\sum\\limits_{i = 0}^{m-1} (f_{\\mathbf{w},b}(\\mathbf{x}^{(i)}) - \\mathbf{y}^{(i)})x_{j}^{(i)} \\tag{3}\n",
    "$$\n",
    "\n",
    "\n",
    "As you can see,$\\frac{\\partial J(\\mathbf{w},b)}{\\partial b}$ is the same, the difference is the following term in $\\frac{\\partial J(\\mathbf{w},b)}{\\partial w}$, which is $$\\frac{\\lambda}{m} w_j  \\quad\\, \\mbox{for $j=0...(n-1)$}$$ \n",
    "\n",
    "\n",
    "\n"
   ]
  },
  {
   "cell_type": "markdown",
   "id": "69ad0b02",
   "metadata": {},
   "source": [
    "###### Exercise 6\n",
    "<a name='ex-06'></a>\n",
    "\n",
    "Please complete the `compute_gradient_reg` function below to modify the code below to calculate the following term\n",
    "\n",
    "$$\\frac{\\lambda}{m} w_j  \\quad\\, \\mbox{for $j=0...(n-1)$}$$\n",
    "\n",
    "The starter code will add this term to the $\\frac{\\partial J(\\mathbf{w},b)}{\\partial w}$ returned from `compute_gradient` above to get the gradient for the regularized cost function.\n",
    "\n",
    "\n",
    "If you get stuck, you can check out the hints presented after the cell below to help you with the implementation."
   ]
  },
  {
   "cell_type": "code",
   "execution_count": 83,
   "id": "153d67dc",
   "metadata": {},
   "outputs": [],
   "source": [
    "# UNQ_C6\n",
    "def compute_gradient_reg(X, y, w, b, lambda_ = 1): \n",
    "    \"\"\"\n",
    "    Computes the gradient for linear regression \n",
    " \n",
    "    Args:\n",
    "      X : (ndarray Shape (m,n))   variable such as house size \n",
    "      y : (ndarray Shape (m,))    actual value \n",
    "      w : (ndarray Shape (n,))    values of parameters of the model      \n",
    "      b : (scalar)                value of parameter of the model  \n",
    "      lambda_ : (scalar,float)    regularization constant\n",
    "    Returns\n",
    "      dj_db: (scalar)             The gradient of the cost w.r.t. the parameter b. \n",
    "      dj_dw: (ndarray Shape (n,)) The gradient of the cost w.r.t. the parameters w. \n",
    "\n",
    "    \"\"\"\n",
    "    m, n = X.shape\n",
    "    \n",
    "    dj_db, dj_dw = compute_gradient(X, y, w, b)\n",
    "\n",
    "    ### START CODE HERE ###     \n",
    "    for j in range(n):\n",
    "        dj_dw[j] = dj_dw[j] + (lambda_/m) * w[j]\n",
    "    ### END CODE HERE ###         \n",
    "        \n",
    "    return dj_db, dj_dw"
   ]
  },
  {
   "cell_type": "markdown",
   "id": "2fae91c1",
   "metadata": {},
   "source": [
    "<details>\n",
    "  <summary><font size=\"3\" color=\"darkgreen\"><b>Click for hints</b></font></summary>\n",
    "    \n",
    "    \n",
    "* Here's how you can structure the overall implementation for this function\n",
    "    ```python \n",
    "    def compute_gradient_reg(X, y, w, b, lambda_ = 1): \n",
    "        m, n = X.shape\n",
    "    \n",
    "        dj_db, dj_dw = compute_gradient(X, y, w, b)\n",
    "\n",
    "        ### START CODE HERE ###     \n",
    "        # Loop over the elements of w\n",
    "        for j in range(n): \n",
    "            \n",
    "            dj_dw_j_reg = # Your code here to calculate the regularization term for dj_dw[j]\n",
    "            \n",
    "            # Add the regularization term  to the correspoding element of dj_dw\n",
    "            dj_dw[j] = dj_dw[j] + dj_dw_j_reg\n",
    "        \n",
    "        ### END CODE HERE ###         \n",
    "        \n",
    "        return dj_db, dj_dw\n",
    "    ```\n",
    "  \n",
    "    If you're still stuck, you can check the hints presented below to figure out how to calculate `dj_dw_j_reg` \n",
    "    \n",
    "    <details>\n",
    "          <summary><font size=\"2\" color=\"darkblue\"><b>Hint to calculate dj_dw_j_reg</b></font></summary>\n",
    "           &emsp; &emsp; You can use calculate dj_dw_j_reg as <code>dj_dw_j_reg = (lambda_ / m) * w[j] </code> \n",
    "    </details>\n",
    "        \n",
    "    </details>\n",
    "\n",
    "</details>\n",
    "\n",
    "    \n"
   ]
  },
  {
   "cell_type": "markdown",
   "id": "2f578636",
   "metadata": {},
   "source": [
    "Run the cell below to check your implementation of the `compute_gradient_reg` function."
   ]
  },
  {
   "cell_type": "code",
   "execution_count": 84,
   "id": "7a47362c",
   "metadata": {},
   "outputs": [
    {
     "name": "stdout",
     "output_type": "stream",
     "text": [
      "dj_db: 0.07138288792343662\n",
      "First few elements of regularized dj_dw:\n",
      " [-0.010386028450548701, 0.011409852883280122, 0.0536273463274574, 0.003140278267313462]\n",
      "\u001b[92mAll tests passed!\n"
     ]
    }
   ],
   "source": [
    "X_mapped = map_feature(X_train[:, 0], X_train[:, 1])\n",
    "np.random.seed(1) \n",
    "initial_w  = np.random.rand(X_mapped.shape[1]) - 0.5 \n",
    "initial_b = 0.5\n",
    " \n",
    "lambda_ = 0.5\n",
    "dj_db, dj_dw = compute_gradient_reg(X_mapped, y_train, initial_w, initial_b, lambda_)\n",
    "\n",
    "print(f\"dj_db: {dj_db}\", )\n",
    "print(f\"First few elements of regularized dj_dw:\\n {dj_dw[:4].tolist()}\", )\n",
    "\n",
    "# UNIT TESTS    \n",
    "compute_gradient_reg_test(compute_gradient_reg)\n"
   ]
  },
  {
   "cell_type": "markdown",
   "id": "36d3f09d",
   "metadata": {},
   "source": [
    "**Expected Output**:\n",
    "<table>\n",
    "  <tr>\n",
    "    <td> <b>dj_db:</b>0.07138288792343656</td> </tr>\n",
    "  <tr>\n",
    "      <td> <b> First few elements of regularized dj_dw:</b> </td> </tr>\n",
    "   <tr>\n",
    "   <td> [[-0.010386028450548701], [0.01140985288328012], [0.0536273463274574], [0.003140278267313462]] </td> \n",
    "  </tr>\n",
    "</table>"
   ]
  },
  {
   "cell_type": "markdown",
   "id": "5da82e47",
   "metadata": {},
   "source": [
    "##### 3.6 Learning parameters using gradient descent\n",
    "<a name=\"3.6\"></a>\n",
    "\n",
    "Similar to the previous parts, you will use your gradient descent function implemented above to learn the optimal parameters $w$,$b$. \n",
    "- If you have completed the cost and gradient for regularized logistic regression correctly, you should be able to step through the next cell to learn the parameters $w$. \n",
    "- After training our parameters, we will use it to plot the decision boundary. \n",
    "\n",
    "**Note**\n",
    "\n",
    "The code block below takes quite a while to run, especially with a non-vectorized version. You can reduce the `iterations` to test your implementation and iterate faster. If you have time, run for 100,000 iterations to see better results."
   ]
  },
  {
   "cell_type": "markdown",
   "id": "23149122-79f1-4dc6-8283-2699f2afe434",
   "metadata": {},
   "source": [
    "###### Regularised Gradient Descent "
   ]
  },
  {
   "cell_type": "code",
   "execution_count": 33,
   "id": "546144f9-8b33-4fde-8dfe-0d5d59e41554",
   "metadata": {
    "scrolled": true
   },
   "outputs": [
    {
     "name": "stdout",
     "output_type": "stream",
     "text": [
      "[0.01 0.01 0.01 0.01 0.01 0.01 0.01 0.01 0.01 0.01 0.01 0.01 0.01 0.01\n",
      " 0.01 0.01 0.01 0.01 0.01 0.01 0.01 0.01 0.01 0.01 0.01 0.01 0.01]\n",
      "[0.01 0.01 0.01 0.01 0.01 0.01 0.01 0.01 0.01 0.01 0.01 0.01 0.01 0.01\n",
      " 0.01 0.01 0.01 0.01 0.01 0.01 0.01 0.01 0.01 0.01 0.01 0.01 0.01]\n"
     ]
    },
    {
     "name": "stderr",
     "output_type": "stream",
     "text": [
      "/tmp/ipykernel_7350/3281116716.py:84: RuntimeWarning: divide by zero encountered in scalar divide\n",
      "  if np.abs((cost_i[i]-cost_i[i-1])/cost_i[i])<0.05:\n"
     ]
    },
    {
     "name": "stdout",
     "output_type": "stream",
     "text": [
      "[0.01 0.01 0.01 0.01 0.01 0.01 0.01 0.01 0.01 0.01 0.01 0.01 0.01 0.01\n",
      " 0.01 0.01 0.01 0.01 0.01 0.01 0.01 0.01 0.01 0.01 0.01 0.01 0.01]\n",
      "[0.01 0.01 0.01 0.01 0.01 0.01 0.01 0.01 0.01 0.01 0.01 0.01 0.01 0.01\n",
      " 0.01 0.01 0.01 0.01 0.01 0.01 0.01 0.01 0.01 0.01 0.01 0.01 0.01]\n",
      "[0.01 0.01 0.01 0.01 0.01 0.01 0.01 0.01 0.01 0.01 0.01 0.01 0.01 0.01\n",
      " 0.01 0.01 0.01 0.01 0.01 0.01 0.01 0.01 0.01 0.01 0.01 0.01 0.01]\n",
      "[0.01 0.01 0.01 0.01 0.01 0.01 0.01 0.01 0.01 0.01 0.01 0.01 0.01 0.01\n",
      " 0.01 0.01 0.01 0.01 0.01 0.01 0.01 0.01 0.01 0.01 0.01 0.01 0.01]\n",
      "[0.01 0.01 0.01 0.01 0.01 0.01 0.01 0.01 0.01 0.01 0.01 0.01 0.01 0.01\n",
      " 0.01 0.01 0.01 0.01 0.01 0.01 0.01 0.01 0.01 0.01 0.01 0.01 0.01]\n",
      "[0.01 0.01 0.01 0.01 0.01 0.01 0.01 0.01 0.01 0.01 0.01 0.01 0.01 0.01\n",
      " 0.01 0.01 0.01 0.01 0.01 0.01 0.01 0.01 0.01 0.01 0.01 0.01 0.01]\n",
      "[0.   0.   0.01 0.01 0.01 0.01 0.01 0.01 0.01 0.01 0.01 0.01 0.01 0.01\n",
      " 0.01 0.01 0.01 0.01 0.01 0.01 0.01 0.01 0.01 0.01 0.01 0.01 0.01]\n",
      "[0.   0.   0.01 0.01 0.   0.01 0.01 0.01 0.01 0.01 0.01 0.01 0.01 0.01\n",
      " 0.01 0.01 0.01 0.01 0.01 0.01 0.01 0.01 0.01 0.01 0.01 0.01 0.01]\n",
      "[0.   0.   0.01 0.01 0.   0.01 0.01 0.01 0.   0.01 0.01 0.01 0.01 0.\n",
      " 0.01 0.01 0.01 0.01 0.01 0.   0.01 0.01 0.01 0.01 0.01 0.01 0.  ]\n",
      "[0.   0.   0.   0.01 0.   0.01 0.01 0.01 0.   0.01 0.01 0.01 0.01 0.\n",
      " 0.01 0.01 0.01 0.01 0.01 0.   0.01 0.01 0.01 0.01 0.01 0.01 0.  ]\n",
      "[0.   0.   0.   0.01 0.   0.01 0.01 0.01 0.   0.01 0.01 0.01 0.01 0.\n",
      " 0.01 0.01 0.01 0.01 0.01 0.   0.01 0.01 0.01 0.01 0.01 0.01 0.  ]\n",
      "[0.   0.   0.   0.01 0.   0.   0.01 0.01 0.   0.   0.01 0.01 0.01 0.\n",
      " 0.01 0.01 0.01 0.01 0.01 0.   0.01 0.01 0.01 0.01 0.01 0.01 0.  ]\n",
      "[0.   0.   0.   0.01 0.   0.   0.01 0.01 0.   0.   0.01 0.01 0.01 0.\n",
      " 0.01 0.01 0.01 0.01 0.01 0.   0.01 0.01 0.01 0.01 0.01 0.01 0.  ]\n",
      "[0.   0.   0.   0.01 0.   0.   0.01 0.01 0.   0.   0.01 0.01 0.01 0.\n",
      " 0.   0.01 0.01 0.01 0.01 0.   0.   0.01 0.01 0.01 0.01 0.01 0.  ]\n",
      "[0.   0.   0.   0.01 0.   0.   0.01 0.01 0.   0.   0.01 0.01 0.01 0.\n",
      " 0.   0.01 0.01 0.01 0.01 0.   0.   0.01 0.01 0.01 0.01 0.01 0.  ]\n",
      "[0.   0.   0.   0.01 0.   0.   0.01 0.01 0.   0.   0.01 0.01 0.01 0.\n",
      " 0.   0.01 0.01 0.01 0.01 0.   0.   0.01 0.01 0.01 0.01 0.01 0.  ]\n",
      "[0.   0.   0.   0.   0.   0.   0.01 0.01 0.   0.   0.01 0.01 0.01 0.\n",
      " 0.   0.01 0.01 0.01 0.01 0.   0.   0.01 0.01 0.01 0.01 0.01 0.  ]\n",
      "[0.   0.   0.   0.   0.   0.   0.01 0.01 0.   0.   0.01 0.01 0.01 0.\n",
      " 0.   0.01 0.01 0.01 0.01 0.   0.   0.01 0.01 0.01 0.01 0.01 0.  ]\n",
      "[0.   0.   0.   0.   0.   0.   0.01 0.01 0.   0.   0.01 0.01 0.01 0.\n",
      " 0.   0.01 0.01 0.01 0.01 0.   0.   0.01 0.01 0.01 0.01 0.01 0.  ]\n",
      "[0.   0.   0.   0.   0.   0.   0.01 0.01 0.   0.   0.01 0.01 0.01 0.\n",
      " 0.   0.01 0.01 0.01 0.01 0.   0.   0.01 0.01 0.01 0.01 0.01 0.  ]\n",
      "[-9.33e-05  1.40e-03  2.20e-03  4.21e-03  2.22e-03  2.82e-03  5.85e-03\n",
      "  5.76e-03  1.76e-03  2.81e-03  6.51e-03  6.15e-03  6.38e-03  1.66e-03\n",
      "  3.68e-03  6.78e-03  6.91e-03  6.66e-03  6.74e-03  1.83e-03  3.54e-03\n",
      "  7.08e-03  6.94e-03  7.32e-03  6.77e-03  7.03e-03  1.64e-03]\n",
      "[-0.    0.    0.    0.    0.    0.    0.01  0.01  0.    0.    0.01  0.01\n",
      "  0.01  0.    0.    0.01  0.01  0.01  0.01  0.    0.    0.01  0.01  0.01\n",
      "  0.01  0.01  0.  ]\n",
      "[-0.    0.    0.    0.    0.    0.    0.01  0.01  0.    0.    0.01  0.01\n",
      "  0.01  0.    0.    0.01  0.01  0.01  0.01  0.    0.    0.01  0.01  0.01\n",
      "  0.01  0.01  0.  ]\n",
      "[-0.    0.    0.    0.    0.    0.    0.01  0.01  0.    0.    0.01  0.01\n",
      "  0.01  0.    0.    0.01  0.01  0.01  0.01  0.    0.    0.01  0.01  0.01\n",
      "  0.01  0.01  0.  ]\n",
      "[-0.    0.    0.    0.    0.    0.    0.01  0.01  0.    0.    0.01  0.01\n",
      "  0.01  0.    0.    0.01  0.01  0.01  0.01  0.    0.    0.01  0.01  0.01\n",
      "  0.01  0.01  0.  ]\n",
      "[-0.    0.    0.    0.    0.    0.    0.01  0.01  0.    0.    0.01  0.01\n",
      "  0.01  0.    0.    0.01  0.01  0.01  0.01  0.    0.    0.01  0.01  0.01\n",
      "  0.01  0.01  0.  ]\n",
      "[-0.    0.    0.    0.    0.    0.    0.01  0.01  0.    0.    0.01  0.01\n",
      "  0.01  0.    0.    0.01  0.01  0.01  0.01  0.    0.    0.01  0.01  0.01\n",
      "  0.01  0.01  0.  ]\n",
      "[-0.    0.    0.    0.    0.    0.    0.01  0.    0.    0.    0.01  0.01\n",
      "  0.01  0.    0.    0.01  0.01  0.01  0.01  0.    0.    0.01  0.01  0.01\n",
      "  0.01  0.01  0.  ]\n",
      "[-0.    0.    0.    0.    0.    0.    0.01  0.    0.    0.    0.01  0.01\n",
      "  0.01  0.    0.    0.01  0.01  0.01  0.01  0.    0.    0.01  0.01  0.01\n",
      "  0.01  0.01  0.  ]\n",
      "[-2.01e-03  4.82e-04  4.12e-04  2.61e-03  1.09e-03  1.44e-03  5.01e-03\n",
      "  4.80e-03  4.66e-04  1.10e-03  5.78e-03  5.42e-03  5.54e-03  1.32e-04\n",
      "  2.39e-03  6.16e-03  6.38e-03  6.07e-03  6.03e-03  3.60e-04  2.03e-03\n",
      "  6.56e-03  6.42e-03  6.87e-03  6.22e-03  6.41e-03  1.51e-05]\n",
      "[-2.17e-03  4.23e-04  2.28e-04  2.45e-03  9.85e-04  1.32e-03  4.92e-03\n",
      "  4.70e-03  3.56e-04  9.28e-04  5.70e-03  5.34e-03  5.46e-03 -9.45e-06\n",
      "  2.27e-03  6.10e-03  6.32e-03  6.01e-03  5.96e-03  2.28e-04  1.88e-03\n",
      "  6.50e-03  6.36e-03  6.82e-03  6.16e-03  6.34e-03 -1.35e-04]\n",
      "[-2.31e-03  3.71e-04  4.65e-05  2.29e-03  8.85e-04  1.21e-03  4.83e-03\n",
      "  4.61e-03  2.51e-04  7.59e-04  5.63e-03  5.27e-03  5.37e-03 -1.47e-04\n",
      "  2.15e-03  6.03e-03  6.27e-03  5.95e-03  5.89e-03  1.02e-04  1.73e-03\n",
      "  6.45e-03  6.30e-03  6.78e-03  6.10e-03  6.28e-03 -2.80e-04]\n",
      "[-2.45e-03  3.27e-04 -1.32e-04  2.14e-03  7.87e-04  1.10e-03  4.75e-03\n",
      "  4.51e-03  1.52e-04  5.94e-04  5.56e-03  5.19e-03  5.29e-03 -2.79e-04\n",
      "  2.04e-03  5.97e-03  6.21e-03  5.89e-03  5.81e-03 -1.91e-05  1.59e-03\n",
      "  6.40e-03  6.25e-03  6.73e-03  6.04e-03  6.22e-03 -4.21e-04]\n",
      "[-2.58e-03  2.88e-04 -3.08e-04  1.98e-03  6.92e-04  9.95e-04  4.67e-03\n",
      "  4.42e-03  5.69e-05  4.32e-04  5.49e-03  5.12e-03  5.20e-03 -4.08e-04\n",
      "  1.94e-03  5.91e-03  6.16e-03  5.83e-03  5.74e-03 -1.35e-04  1.45e-03\n",
      "  6.35e-03  6.19e-03  6.68e-03  5.99e-03  6.15e-03 -5.57e-04]\n",
      "[-2.69e-03  2.55e-04 -4.82e-04  1.84e-03  6.00e-04  8.97e-04  4.59e-03\n",
      "  4.33e-03 -3.31e-05  2.73e-04  5.42e-03  5.04e-03  5.12e-03 -5.33e-04\n",
      "  1.83e-03  5.84e-03  6.11e-03  5.77e-03  5.67e-03 -2.47e-04  1.31e-03\n",
      "  6.30e-03  6.14e-03  6.64e-03  5.93e-03  6.09e-03 -6.88e-04]\n",
      "[-0.    0.   -0.    0.    0.    0.    0.    0.   -0.    0.    0.01  0.\n",
      "  0.01 -0.    0.    0.01  0.01  0.01  0.01 -0.    0.    0.01  0.01  0.01\n",
      "  0.01  0.01 -0.  ]\n",
      "[-2.90e-03  2.07e-04 -8.22e-04  1.55e-03  4.22e-04  7.17e-04  4.43e-03\n",
      "  4.16e-03 -2.00e-04 -3.44e-05  5.28e-03  4.90e-03  4.96e-03 -7.72e-04\n",
      "  1.64e-03  5.72e-03  6.01e-03  5.66e-03  5.53e-03 -4.58e-04  1.05e-03\n",
      "  6.20e-03  6.03e-03  6.55e-03  5.82e-03  5.97e-03 -9.38e-04]\n",
      "[-0.    0.   -0.    0.    0.    0.    0.    0.   -0.   -0.    0.01  0.\n",
      "  0.   -0.    0.    0.01  0.01  0.01  0.01 -0.    0.    0.01  0.01  0.01\n",
      "  0.01  0.01 -0.  ]\n",
      "[-0.    0.   -0.    0.    0.    0.    0.    0.   -0.   -0.    0.01  0.\n",
      "  0.   -0.    0.    0.01  0.01  0.01  0.01 -0.    0.    0.01  0.01  0.01\n",
      "  0.01  0.01 -0.  ]\n",
      "[-0.    0.   -0.    0.    0.    0.    0.    0.   -0.   -0.    0.01  0.\n",
      "  0.   -0.    0.    0.01  0.01  0.01  0.01 -0.    0.    0.01  0.01  0.01\n",
      "  0.01  0.01 -0.  ]\n",
      "[-3.22e-03  1.67e-04 -1.47e-03  1.00e-03  8.84e-05  4.13e-04  4.12e-03\n",
      "  3.83e-03 -4.86e-04 -6.15e-04  5.03e-03  4.61e-03  4.66e-03 -1.21e-03\n",
      "  1.30e-03  5.49e-03  5.82e-03  5.43e-03  5.26e-03 -8.32e-04  5.58e-04\n",
      "  6.01e-03  5.82e-03  6.38e-03  5.60e-03  5.73e-03 -1.39e-03]\n",
      "[-3.28e-03  1.68e-04 -1.63e-03  8.75e-04  9.12e-06  3.48e-04  4.05e-03\n",
      "  3.75e-03 -5.49e-04 -7.53e-04  4.97e-03  4.54e-03  4.59e-03 -1.31e-03\n",
      "  1.23e-03  5.43e-03  5.77e-03  5.38e-03  5.20e-03 -9.17e-04  4.42e-04\n",
      "  5.96e-03  5.77e-03  6.34e-03  5.55e-03  5.68e-03 -1.50e-03]\n",
      "[-3.33e-03  1.73e-04 -1.79e-03  7.49e-04 -6.88e-05  2.87e-04  3.98e-03\n",
      "  3.68e-03 -6.09e-04 -8.89e-04  4.91e-03  4.47e-03  4.52e-03 -1.41e-03\n",
      "  1.16e-03  5.37e-03  5.72e-03  5.33e-03  5.14e-03 -9.99e-04  3.28e-04\n",
      "  5.92e-03  5.72e-03  6.30e-03  5.50e-03  5.62e-03 -1.60e-03]\n",
      "[-0.    0.   -0.    0.   -0.    0.    0.    0.   -0.   -0.    0.    0.\n",
      "  0.   -0.    0.    0.01  0.01  0.01  0.01 -0.    0.    0.01  0.01  0.01\n",
      "  0.01  0.01 -0.  ]\n",
      "[-0.    0.   -0.    0.   -0.    0.    0.    0.   -0.   -0.    0.    0.\n",
      "  0.   -0.    0.    0.01  0.01  0.01  0.01 -0.    0.    0.01  0.01  0.01\n",
      "  0.01  0.01 -0.  ]\n",
      "[-3.46e-03  2.06e-04 -2.24e-03  3.87e-04 -2.95e-04  1.25e-04  3.77e-03\n",
      "  3.46e-03 -7.72e-04 -1.28e-03  4.74e-03  4.27e-03  4.32e-03 -1.70e-03\n",
      "  9.53e-04  5.21e-03  5.59e-03  5.17e-03  4.95e-03 -1.23e-03  2.43e-06\n",
      "  5.79e-03  5.57e-03  6.18e-03  5.34e-03  5.46e-03 -1.89e-03]\n",
      "[-3.49e-03  2.24e-04 -2.39e-03  2.71e-04 -3.68e-04  7.81e-05  3.70e-03\n",
      "  3.39e-03 -8.21e-04 -1.41e-03  4.68e-03  4.20e-03  4.25e-03 -1.79e-03\n",
      "  8.91e-04  5.16e-03  5.55e-03  5.12e-03  4.89e-03 -1.30e-03 -1.02e-04\n",
      "  5.74e-03  5.52e-03  6.14e-03  5.29e-03  5.41e-03 -1.99e-03]\n",
      "[-3.52e-03  2.44e-04 -2.54e-03  1.58e-04 -4.40e-04  3.39e-05  3.63e-03\n",
      "  3.32e-03 -8.68e-04 -1.53e-03  4.63e-03  4.14e-03  4.19e-03 -1.88e-03\n",
      "  8.32e-04  5.10e-03  5.51e-03  5.07e-03  4.83e-03 -1.37e-03 -2.04e-04\n",
      "  5.70e-03  5.47e-03  6.10e-03  5.24e-03  5.36e-03 -2.08e-03]\n",
      "[-3.54e-03  2.67e-04 -2.68e-03  4.64e-05 -5.11e-04 -7.22e-06  3.57e-03\n",
      "  3.25e-03 -9.12e-04 -1.65e-03  4.57e-03  4.07e-03  4.12e-03 -1.97e-03\n",
      "  7.75e-04  5.05e-03  5.46e-03  5.02e-03  4.78e-03 -1.43e-03 -3.04e-04\n",
      "  5.66e-03  5.42e-03  6.06e-03  5.19e-03  5.31e-03 -2.16e-03]\n",
      "[-3.55e-03  2.92e-04 -2.82e-03 -6.24e-05 -5.82e-04 -4.56e-05  3.50e-03\n",
      "  3.19e-03 -9.54e-04 -1.77e-03  4.52e-03  4.01e-03  4.06e-03 -2.05e-03\n",
      "  7.20e-04  5.00e-03  5.42e-03  4.97e-03  4.72e-03 -1.50e-03 -4.01e-04\n",
      "  5.62e-03  5.38e-03  6.03e-03  5.14e-03  5.26e-03 -2.25e-03]\n",
      "[-3.57e-03  3.19e-04 -2.96e-03 -1.69e-04 -6.51e-04 -8.13e-05  3.44e-03\n",
      "  3.12e-03 -9.94e-04 -1.89e-03  4.47e-03  3.94e-03  4.00e-03 -2.14e-03\n",
      "  6.67e-04  4.95e-03  5.38e-03  4.92e-03  4.66e-03 -1.56e-03 -4.97e-04\n",
      "  5.58e-03  5.33e-03  5.99e-03  5.10e-03  5.21e-03 -2.33e-03]\n",
      "[-0.    0.   -0.   -0.   -0.   -0.    0.    0.   -0.   -0.    0.    0.\n",
      "  0.   -0.    0.    0.    0.01  0.    0.   -0.   -0.    0.01  0.01  0.01\n",
      "  0.01  0.01 -0.  ]\n",
      "[-0.    0.   -0.   -0.   -0.   -0.    0.    0.   -0.   -0.    0.    0.\n",
      "  0.   -0.    0.    0.    0.01  0.    0.   -0.   -0.    0.01  0.01  0.01\n",
      "  0.    0.01 -0.  ]\n",
      "[-0.    0.   -0.   -0.   -0.   -0.    0.    0.   -0.   -0.    0.    0.\n",
      "  0.   -0.    0.    0.    0.01  0.    0.   -0.   -0.    0.01  0.01  0.01\n",
      "  0.    0.01 -0.  ]\n",
      "[-0.    0.   -0.   -0.   -0.   -0.    0.    0.   -0.   -0.    0.    0.\n",
      "  0.   -0.    0.    0.    0.01  0.    0.   -0.   -0.    0.01  0.01  0.01\n",
      "  0.    0.01 -0.  ]\n",
      "[-0.    0.   -0.   -0.   -0.   -0.    0.    0.   -0.   -0.    0.    0.\n",
      "  0.   -0.    0.    0.    0.01  0.    0.   -0.   -0.    0.01  0.01  0.01\n",
      "  0.    0.   -0.  ]\n",
      "[-0.    0.   -0.   -0.   -0.   -0.    0.    0.   -0.   -0.    0.    0.\n",
      "  0.   -0.    0.    0.    0.01  0.    0.   -0.   -0.    0.01  0.01  0.01\n",
      "  0.    0.   -0.  ]\n",
      "[-0.    0.   -0.   -0.   -0.   -0.    0.    0.   -0.   -0.    0.    0.\n",
      "  0.   -0.    0.    0.    0.01  0.    0.   -0.   -0.    0.01  0.01  0.01\n",
      "  0.    0.   -0.  ]\n",
      "[-0.    0.   -0.   -0.   -0.   -0.    0.    0.   -0.   -0.    0.    0.\n",
      "  0.   -0.    0.    0.    0.01  0.    0.   -0.   -0.    0.01  0.    0.01\n",
      "  0.    0.   -0.  ]\n",
      "[-0.    0.   -0.   -0.   -0.   -0.    0.    0.   -0.   -0.    0.    0.\n",
      "  0.   -0.    0.    0.    0.01  0.    0.   -0.   -0.    0.01  0.    0.01\n",
      "  0.    0.   -0.  ]\n",
      "[-0.    0.   -0.   -0.   -0.   -0.    0.    0.   -0.   -0.    0.    0.\n",
      "  0.   -0.    0.    0.    0.01  0.    0.   -0.   -0.    0.01  0.    0.01\n",
      "  0.    0.   -0.  ]\n",
      "[-0.    0.   -0.   -0.   -0.   -0.    0.    0.   -0.   -0.    0.    0.\n",
      "  0.   -0.    0.    0.    0.    0.    0.   -0.   -0.    0.01  0.    0.01\n",
      "  0.    0.   -0.  ]\n",
      "[-0.    0.   -0.   -0.   -0.   -0.    0.    0.   -0.   -0.    0.    0.\n",
      "  0.   -0.    0.    0.    0.    0.    0.   -0.   -0.    0.01  0.    0.01\n",
      "  0.    0.   -0.  ]\n",
      "[-0.    0.   -0.   -0.   -0.   -0.    0.    0.   -0.   -0.    0.    0.\n",
      "  0.   -0.    0.    0.    0.    0.    0.   -0.   -0.    0.01  0.    0.01\n",
      "  0.    0.   -0.  ]\n",
      "[-0.    0.   -0.   -0.   -0.   -0.    0.    0.   -0.   -0.    0.    0.\n",
      "  0.   -0.    0.    0.    0.    0.    0.   -0.   -0.    0.01  0.    0.01\n",
      "  0.    0.   -0.  ]\n",
      "[-3.36e-03  9.29e-04 -4.89e-03 -1.54e-03 -1.61e-03 -3.75e-04  2.58e-03\n",
      "  2.28e-03 -1.41e-03 -3.45e-03  3.79e-03  3.04e-03  3.19e-03 -3.22e-03\n",
      "  7.68e-05  4.24e-03  4.83e-03  4.24e-03  3.90e-03 -2.28e-03 -1.75e-03\n",
      "  5.04e-03  4.65e-03  5.47e-03  4.41e-03  4.55e-03 -3.38e-03]\n",
      "[-3.32e-03  9.78e-04 -5.01e-03 -1.62e-03 -1.67e-03 -3.83e-04  2.53e-03\n",
      "  2.23e-03 -1.43e-03 -3.54e-03  3.75e-03  2.98e-03  3.15e-03 -3.28e-03\n",
      "  4.77e-05  4.20e-03  4.80e-03  4.19e-03  3.85e-03 -2.32e-03 -1.82e-03\n",
      "  5.01e-03  4.61e-03  5.44e-03  4.37e-03  4.51e-03 -3.43e-03]\n",
      "[-3.29e-03  1.03e-03 -5.13e-03 -1.70e-03 -1.73e-03 -3.89e-04  2.48e-03\n",
      "  2.18e-03 -1.44e-03 -3.64e-03  3.71e-03  2.93e-03  3.10e-03 -3.34e-03\n",
      "  1.96e-05  4.16e-03  4.76e-03  4.15e-03  3.81e-03 -2.35e-03 -1.89e-03\n",
      "  4.98e-03  4.57e-03  5.41e-03  4.33e-03  4.47e-03 -3.49e-03]\n",
      "[-3.25e-03  1.08e-03 -5.24e-03 -1.78e-03 -1.79e-03 -3.95e-04  2.43e-03\n",
      "  2.14e-03 -1.46e-03 -3.73e-03  3.67e-03  2.87e-03  3.05e-03 -3.40e-03\n",
      " -7.66e-06  4.12e-03  4.73e-03  4.11e-03  3.76e-03 -2.39e-03 -1.96e-03\n",
      "  4.95e-03  4.53e-03  5.38e-03  4.28e-03  4.43e-03 -3.55e-03]\n",
      "[-3.22e-03  1.13e-03 -5.35e-03 -1.85e-03 -1.85e-03 -3.99e-04  2.38e-03\n",
      "  2.09e-03 -1.47e-03 -3.81e-03  3.63e-03  2.82e-03  3.01e-03 -3.47e-03\n",
      " -3.40e-05  4.07e-03  4.70e-03  4.07e-03  3.72e-03 -2.42e-03 -2.03e-03\n",
      "  4.92e-03  4.49e-03  5.35e-03  4.24e-03  4.39e-03 -3.60e-03]\n",
      "[-3.18e-03  1.18e-03 -5.47e-03 -1.93e-03 -1.90e-03 -4.03e-04  2.33e-03\n",
      "  2.04e-03 -1.49e-03 -3.90e-03  3.60e-03  2.76e-03  2.96e-03 -3.52e-03\n",
      " -5.95e-05  4.03e-03  4.67e-03  4.03e-03  3.68e-03 -2.46e-03 -2.10e-03\n",
      "  4.89e-03  4.45e-03  5.32e-03  4.20e-03  4.35e-03 -3.66e-03]\n",
      "[-3.14e-03  1.24e-03 -5.58e-03 -2.00e-03 -1.96e-03 -4.06e-04  2.28e-03\n",
      "  2.00e-03 -1.50e-03 -3.99e-03  3.56e-03  2.71e-03  2.92e-03 -3.58e-03\n",
      " -8.42e-05  3.99e-03  4.63e-03  3.99e-03  3.63e-03 -2.49e-03 -2.17e-03\n",
      "  4.85e-03  4.41e-03  5.29e-03  4.16e-03  4.32e-03 -3.71e-03]\n",
      "[-0.    0.   -0.01 -0.   -0.   -0.    0.    0.   -0.   -0.    0.    0.\n",
      "  0.   -0.   -0.    0.    0.    0.    0.   -0.   -0.    0.    0.    0.01\n",
      "  0.    0.   -0.  ]\n",
      "[-0.    0.   -0.01 -0.   -0.   -0.    0.    0.   -0.   -0.    0.    0.\n",
      "  0.   -0.   -0.    0.    0.    0.    0.   -0.   -0.    0.    0.    0.01\n",
      "  0.    0.   -0.  ]\n",
      "[-0.    0.   -0.01 -0.   -0.   -0.    0.    0.   -0.   -0.    0.    0.\n",
      "  0.   -0.   -0.    0.    0.    0.    0.   -0.   -0.    0.    0.    0.01\n",
      "  0.    0.   -0.  ]\n",
      "[-0.    0.   -0.01 -0.   -0.   -0.    0.    0.   -0.   -0.    0.    0.\n",
      "  0.   -0.   -0.    0.    0.    0.    0.   -0.   -0.    0.    0.    0.01\n",
      "  0.    0.   -0.  ]\n",
      "[-0.    0.   -0.01 -0.   -0.   -0.    0.    0.   -0.   -0.    0.    0.\n",
      "  0.   -0.   -0.    0.    0.    0.    0.   -0.   -0.    0.    0.    0.01\n",
      "  0.    0.   -0.  ]\n",
      "[-0.    0.   -0.01 -0.   -0.   -0.    0.    0.   -0.   -0.    0.    0.\n",
      "  0.   -0.   -0.    0.    0.    0.    0.   -0.   -0.    0.    0.    0.01\n",
      "  0.    0.   -0.  ]\n",
      "[-0.    0.   -0.01 -0.   -0.   -0.    0.    0.   -0.   -0.    0.    0.\n",
      "  0.   -0.   -0.    0.    0.    0.    0.   -0.   -0.    0.    0.    0.01\n",
      "  0.    0.   -0.  ]\n",
      "[-0.    0.   -0.01 -0.   -0.   -0.    0.    0.   -0.   -0.    0.    0.\n",
      "  0.   -0.   -0.    0.    0.    0.    0.   -0.   -0.    0.    0.    0.01\n",
      "  0.    0.   -0.  ]\n",
      "[-0.    0.   -0.01 -0.   -0.   -0.    0.    0.   -0.   -0.    0.    0.\n",
      "  0.   -0.   -0.    0.    0.    0.    0.   -0.   -0.    0.    0.    0.01\n",
      "  0.    0.   -0.  ]\n",
      "[-0.    0.   -0.01 -0.   -0.   -0.    0.    0.   -0.   -0.    0.    0.\n",
      "  0.   -0.   -0.    0.    0.    0.    0.   -0.   -0.    0.    0.    0.01\n",
      "  0.    0.   -0.  ]\n",
      "[-0.    0.   -0.01 -0.   -0.   -0.    0.    0.   -0.   -0.    0.    0.\n",
      "  0.   -0.   -0.    0.    0.    0.    0.   -0.   -0.    0.    0.    0.01\n",
      "  0.    0.   -0.  ]\n",
      "[-0.    0.   -0.01 -0.   -0.   -0.    0.    0.   -0.   -0.    0.    0.\n",
      "  0.   -0.   -0.    0.    0.    0.    0.   -0.   -0.    0.    0.    0.01\n",
      "  0.    0.   -0.  ]\n",
      "[-0.    0.   -0.01 -0.   -0.   -0.    0.    0.   -0.   -0.    0.    0.\n",
      "  0.   -0.   -0.    0.    0.    0.    0.   -0.   -0.    0.    0.    0.01\n",
      "  0.    0.   -0.  ]\n",
      "[-0.    0.   -0.01 -0.   -0.   -0.    0.    0.   -0.   -0.    0.    0.\n",
      "  0.   -0.   -0.    0.    0.    0.    0.   -0.   -0.    0.    0.    0.01\n",
      "  0.    0.   -0.  ]\n",
      "[-0.    0.   -0.01 -0.   -0.   -0.    0.    0.   -0.   -0.    0.    0.\n",
      "  0.   -0.   -0.    0.    0.    0.    0.   -0.   -0.    0.    0.    0.01\n",
      "  0.    0.   -0.  ]\n",
      "[-0.    0.   -0.01 -0.   -0.   -0.    0.    0.   -0.   -0.    0.    0.\n",
      "  0.   -0.   -0.    0.    0.    0.    0.   -0.   -0.    0.    0.    0.01\n",
      "  0.    0.   -0.  ]\n",
      "[-0.    0.   -0.01 -0.   -0.   -0.    0.    0.   -0.   -0.    0.    0.\n",
      "  0.   -0.   -0.    0.    0.    0.    0.   -0.   -0.    0.    0.    0.01\n",
      "  0.    0.   -0.  ]\n",
      "[-0.    0.   -0.01 -0.   -0.   -0.    0.    0.   -0.   -0.    0.    0.\n",
      "  0.   -0.   -0.    0.    0.    0.    0.   -0.   -0.    0.    0.    0.01\n",
      "  0.    0.   -0.  ]\n",
      "[-0.    0.   -0.01 -0.   -0.   -0.    0.    0.   -0.   -0.    0.    0.\n",
      "  0.   -0.   -0.    0.    0.    0.    0.   -0.   -0.    0.    0.    0.01\n",
      "  0.    0.   -0.  ]\n",
      "[-0.    0.   -0.01 -0.   -0.   -0.    0.    0.   -0.   -0.    0.    0.\n",
      "  0.   -0.   -0.    0.    0.    0.    0.   -0.   -0.    0.    0.    0.01\n",
      "  0.    0.   -0.  ]\n",
      "[-0.    0.   -0.01 -0.   -0.   -0.    0.    0.   -0.   -0.    0.    0.\n",
      "  0.   -0.   -0.    0.    0.    0.    0.   -0.   -0.    0.    0.    0.01\n",
      "  0.    0.   -0.  ]\n",
      "[-0.    0.   -0.01 -0.   -0.   -0.    0.    0.   -0.   -0.    0.    0.\n",
      "  0.   -0.   -0.    0.    0.    0.    0.   -0.   -0.    0.    0.    0.01\n",
      "  0.    0.   -0.  ]\n",
      "[-0.    0.   -0.01 -0.   -0.   -0.    0.    0.   -0.   -0.    0.    0.\n",
      "  0.   -0.   -0.    0.    0.    0.    0.   -0.   -0.    0.    0.    0.01\n",
      "  0.    0.   -0.  ]\n",
      "[-0.    0.   -0.01 -0.   -0.   -0.    0.    0.   -0.   -0.    0.    0.\n",
      "  0.   -0.   -0.    0.    0.    0.    0.   -0.   -0.    0.    0.    0.01\n",
      "  0.    0.   -0.  ]\n",
      "[-0.    0.   -0.01 -0.   -0.   -0.    0.    0.   -0.   -0.    0.    0.\n",
      "  0.   -0.   -0.    0.    0.    0.    0.   -0.   -0.    0.    0.    0.01\n",
      "  0.    0.   -0.  ]\n",
      "[-0.    0.   -0.01 -0.   -0.   -0.    0.    0.   -0.   -0.    0.    0.\n",
      "  0.   -0.   -0.    0.    0.    0.    0.   -0.   -0.    0.    0.    0.01\n",
      "  0.    0.   -0.  ]\n",
      "[-0.34  0.18 -0.73 -0.28 -0.27 -0.05  0.24  0.2  -0.19 -0.53  0.4   0.28\n",
      "  0.31 -0.46 -0.03  0.44  0.53  0.44  0.4  -0.32 -0.3   0.55  0.49  0.6\n",
      "  0.46  0.48 -0.47] 0.3499985218344349 260.61872511912435\n",
      "[[ 5.13e-02  7.00e-01  2.63e-03 ...  6.29e-04  8.59e-03  1.17e-01]\n",
      " [-9.27e-02  6.85e-01  8.60e-03 ...  1.89e-03 -1.40e-02  1.03e-01]\n",
      " [-2.14e-01  6.92e-01  4.57e-02 ...  1.05e-02 -3.40e-02  1.10e-01]\n",
      " ...\n",
      " [-4.84e-01  9.99e-01  2.35e-01 ...  2.34e-01 -4.83e-01  9.96e-01]\n",
      " [-6.34e-03  9.99e-01  4.01e-05 ...  4.00e-05 -6.31e-03  9.96e-01]\n",
      " [ 6.33e-01 -3.06e-02  4.00e-01 ...  3.51e-07 -1.70e-08  8.23e-10]] [0.51 0.53 0.52 0.59 0.58 0.58 0.59 0.58 0.56 0.54 0.48 0.44 0.41 0.35\n",
      " 0.5  0.53 0.55 0.44 0.52 0.54 0.53 0.56 0.56 0.56 0.56 0.51 0.46 0.36\n",
      " 0.58 0.46 0.26 0.45 0.54 0.59 0.6  0.6  0.58 0.58 0.57 0.53 0.54 0.48\n",
      " 0.41 0.5  0.45 0.48 0.46 0.55 0.51 0.51 0.55 0.59 0.57 0.6  0.6  0.6\n",
      " 0.59 0.57 0.34 0.47 0.53 0.5  0.52 0.51 0.47 0.35 0.37 0.22 0.22 0.26\n",
      " 0.22 0.24 0.24 0.27 0.37 0.44 0.48 0.49 0.46 0.49 0.52 0.56 0.54 0.56\n",
      " 0.47 0.53 0.51 0.45 0.51 0.3  0.3  0.49 0.47 0.34 0.23 0.1  0.2  0.47\n",
      " 0.54 0.54 0.52 0.13 0.54 0.52 0.57 0.55 0.57 0.59 0.55 0.51 0.5  0.5\n",
      " 0.47 0.5  0.56 0.18 0.24 0.43] [1. 1. 1. 1. 1. 1. 1. 1. 1. 1. 1. 1. 1. 1. 1. 1. 1. 1. 1. 1. 1. 1. 1. 1.\n",
      " 1. 1. 1. 1. 1. 1. 1. 1. 1. 1. 1. 1. 1. 1. 1. 1. 1. 1. 1. 1. 1. 1. 1. 1.\n",
      " 1. 1. 1. 1. 1. 1. 1. 1. 1. 1. 0. 0. 0. 0. 0. 0. 0. 0. 0. 0. 0. 0. 0. 0.\n",
      " 0. 0. 0. 0. 0. 0. 0. 0. 0. 0. 0. 0. 0. 0. 0. 0. 0. 0. 0. 0. 0. 0. 0. 0.\n",
      " 0. 0. 0. 0. 0. 0. 0. 0. 0. 0. 0. 0. 0. 0. 0. 0. 0. 0. 0. 0. 0. 0.]\n"
     ]
    },
    {
     "data": {
      "application/vnd.jupyter.widget-view+json": {
       "model_id": "e8b160ad4a674fac9aeeb8e1b5c3bd1d",
       "version_major": 2,
       "version_minor": 0
      },
      "image/png": "[encoded data removed]",
      "text/html": [
       "\n",
       "            <div style=\"display: inline-block;\">\n",
       "                <div class=\"jupyter-widgets widget-label\" style=\"text-align: center;\">\n",
       "                    Figure\n",
       "                </div>\n",
       "                <img src='data:image/png;base64,iVBORw0KGgoAAAANSUhEUgAAAyAAAAGQCAYAAABWJQQ0AAAAOXRFWHRTb2Z0d2FyZQBNYXRwbG90bGliIHZlcnNpb24zLjUuMSwgaHR0cHM6Ly9tYXRwbG90bGliLm9yZy/YYfK9AAAACXBIWXMAAA9hAAAPYQGoP6dpAABaWklEQVR4nO3dfXzN9f/H8efZRS5nc03bbMyIGnJRriIqzeWSy6h05SI2o1DfUL4hJJfpqyi/iJr4UuPrIhVfhORqRLJhs02hNBtfyuz8/jjt2Nnl2XZ2ztn2uN9ubs75fD77nNc5377ee573lSEpKckoAAAAALADF0cXAAAAAKD0IIAAAAAAsBsCCAAAAAC7IYAAAAAAsBsCCAAAAAC7IYAAAAAAsBsCCAAAAAC7IYAAAAAAsBsCCAAAAAC7IYAAAAAAsBsCCAAAAAC7IYAAAIBSb9WqVfLy8pKXl5diYmKynN+1a5f5/I4dO2zymnFxcfLy8tKuXbvy/bNBQUGaMWNGntdt3rxZbdu2Vc2aNeXl5aWkpCR1795dL774ovmaXbt2acaMGUpLS8t3HUBBEEAAAAD+5uHhoYiIiCzHIyIi5OHh4YCKCi41NVXDhg1T7dq1tW7dOm3btk0eHh6aM2eOJkyYYL5u9+7dmjVrFgEEdkMAAQAA+FuPHj30+eefy2g0mo9dv35dGzZsUM+ePR1YWf6dP39eKSkpeuyxx9SuXTu1atVKrq6uuuuuu1S3bl1Hl4dSjAACAADwt4EDByo+Pl579+41H9u4caNu3bqlXr16Zfszq1evVrt27VSzZk3Vq1dPw4YN06+//mpxzf/+9z+9/PLLqlu3rry9vTVw4ECdP38+2/tFRkbq4YcfVu3atVWnTh0NGTJE8fHx+XofM2bMUJMmTSRJYWFh8vLyMg+7yjgEa8aMGZo1a5YkqVq1auZhZkBRIoAAAAD8zdfXV23bttXq1avNxyIiItS9e3dVqFAhy/Uff/yxhg8froYNG+qTTz7RlClT9O2336p79+66evWq+boxY8ZoxYoVGjVqlD755BMFBgZq6NChWe63bNkyPf3007rrrru0YsUKzZ8/Xz/99JO6d++ulJQUq9/H008/reXLl0uSxo0bp23btlkMu8p43VNPPSVJ2rJli7Zt26Zt27ZZ/TpAQbg5ugAAAABnMnDgQE2aNEmzZs1SUlKSduzYobVr12a57tatW5o+fbrat2+vZcuWmY8HBgaqa9euWrlypUaMGKHo6GitXbtWkydP1tixYyVJnTt31rVr1yx+7urVq5oyZYoGDx6sRYsWmY+3aNFCLVu21CeffKKRI0da9R68vb31559/SpLq1q2rVq1a5XjdnXfeKUlq2bKl3Nz41RBFjx4QAACADB577DH99ddf2rJli9asWaOaNWuqY8eOWa6Ljo7WpUuX1L9/f4vjbdq0ka+vr7777jtJ0oEDB5SWlqbevXtbXPf4449bPP/hhx+UnJys/v37KzU11fzH29tbgYGB2rNnj43fKeAYxFwAAIAMPDw81L17d0VEROjcuXPq16+fXFyyfmf7xx9/SJJq1qyZ5VzNmjXN5y9cuCBJql69usU1NWrUsHh+6dIlSVJISEi2dTE3AyUFAQQAACCTgQMHqn///kpLS9NHH32U7TWVK1eWdDtgZHThwgXde++9km4HlEuXLlnMI7l48aLFz1SpUkWS9K9//UuNGjXKcs+KFSsW4J0AzocAAgAAkEmnTp3Uu3dveXp6ZhsGJNNcjxo1amjdunV6+umnzce///57xcfHKzQ0VJJpboWLi4vWr19vngMiSevWrbO433333ScPDw+dOXNGgwYNKoJ3lb0yZcpIMi03XNz2OkHxRAABAADIxNXVNceej4zXvPbaaxozZoyGDRum/v376/z585o2bZoCAgI0ePBgSaag0rdvX7311ltKS0tT8+bNtX37dn311VcW96tUqZLefPNNjRs3Tr///rsefvhhVapUSb/88ot2796tBx98MMu8EVto2LChJGnRokV65JFH5Orqau69AYoCAQQAAKCAnnnmGZUrV04LFy7UoEGDVKFCBT3yyCN68803LYZMzZ8/XxUrVtS7776rmzdv6oEHHtCHH36o4OBgi/s9++yz8vb21sKFC7V27VrdvHlTtWvXVtu2bXXPPfcUyXsIDg7WCy+8oI8++khvv/22jEajkpKSiuS1AEkyJCUlGfO+DAAAAAAKj2V4AQAAANgNAQQAAACA3RBAAAAAANgNk9ABAMVC7969deHCBbm4uMjDw0OzZs1SkyZNLK7ZtWuX+vfvr4CAAPOxbdu2qVy5cvYuFwCQAwIIAKBY+L//+z/zTtAbN25UaGiodu7cmeW6hg0baseOHfYtDgBgNYZgAQCKhfTwIUnJyclycaEJA4DiiB4QAECxMXz4cO3evVuStHbt2myviYmJUYcOHeTq6qrBgwfrhRdesGeJAIA8sA8IAKDY+fTTT7V+/XqtWbPG4nhycrKMRqM8PT2VmJiofv36afz48erdu7eDKgUAZEYAAQAUS7Vq1dKJEydUpUqVHK+ZO3eufvnlF82ePduOlQEAcsMQLEkVKlSwaizxL9eke9dKadlENheDNKet1PlO6UyyVK+SVLtCERQLAHaQlpama9euOboMs+TkZF27dk21a9eWJG3YsEFVqlRR5cqVLa779ddfVaNGDbm4uCglJUVbt27Vk08+mef9rW0HAKA0KOo2gAAiycXFxaqG51SydOlGzueHfCsZJKXJFEiWdJSeb2SzMgGg1EpOTtbTTz+tGzduyGAwqFq1aoqIiJDBYFBYWJi6du2qbt26KTIyUsuWLZOrq6tu3bqlkJAQqwKIte0AAKDwGIIlycPDw6qGJ+Gq5Lcy+x6Q7LhI+uwRqW0tyadi4WoEAHtKS0tTSkqKo8uwG2vbAQAoDYq6DeBf23zwqWjq1XA1WHd9mqQB20yhZfZhaXuiKcQAAAAApRU9IMr/N18JV6WYK9KBi9Kr30u3jKYkZ/z7T24YmgWgOKAHBChdkpOTdeXKFUeXAQfy9PRUpUqVJBV9G0AAUeEanvQwUt9T2hovDf+vKZDkhqFZAJwdAQQoPS5evGieW2UwWDnMAyWK0WjUb7/9JqPRqBo1ahBA7MGWDU/CVWnvr9LAbaYhWLlxMUgz75da1pACPQkjAJwHAQQoPeLj4+Xr6+voMuAE0v9bKOo2gFWwbMynotSvvpR8M+/ekDSjNGGf6TFhBAAAAKVBify658SJExo7dqyGDRumESNGyGi0fyfP842k2Cel7b2k2a3znrieHkY6R5omrX/0k33qBAAAcDb+/v6666671KxZMzVu3Fjvvfdeoe+5Y8cOtWzZUpJ04MABDR48OM+fmTJliv76668Cvd6DDz6ojRs3Fuhni/L1/P399eOPP9qhopw5fQ/IhAkTtHnzZsXHx2vPnj1q3Lix+dzp06f14osv6vfff5enp6f+9a9/6a677lLjxo01b948SdKQIUN07do1Vaxo/y4Fn4qmPw96SwMDrR+alWaUhu2QPNyZJwIAAOyvzbqiue/ex62/du3atbrnnnsUHx+voKAgPfDAA2rSpIn5fFqa6TeqggyfbNmypVatWpXndf/85z81btw43XHHHfl+DeTM6QNISEiIwsPDFRwcnOXcmDFjNGTIEA0ePFhffvmlwsLCtG3bNknS9u3btWrVKlWtWlXly5e3d9lZ5GdolnR7CV+GZgEAAHvbd8HRFdzm6+urBg0a6NSpU1q3bp1Onz6ta9euKSYmRps3b9aPP/6oqVOn6vr163Jzc9Ps2bPVoUMHSdKkSZMUEREhb29vtWrVynzPHTt2aNy4cTpw4IAk6T//+Y+5t8NgMOiDDz7Q//3f/0mS2rZtKxcXF3311VcqV66cXnrpJUVFRenGjRtq27at3n33Xbm7u+vEiRN69tlndfPmTTVq1Eg3bmS/e/WOHTs0ZswYtW7dWt99953c3d21YsUKTZ06VceOHZO3t7fWr1+vihUr6urVqxo9erT2798vSerXr5/eeOMNScr19X799VeNHj1asbGxunHjhh577DG9+eabtv8fp4CcfghWu3bt5O3tneX4pUuXFBUVpQEDBkiSevXqpbi4OMXFxUmSOnXqpA8//FAuLi46evSoXWvOTWGHZrGfCAAAKE2OHTumkydPqmnTppJMXzK///77Onr0qP7880/985//1KZNm3Tw4EGtWrVKTzzxhG7evKkNGzYoMjJSR44c0bfffqtTp05le/9Tp07p+eef16pVqxQVFaUffvhBd911l95//31J0p49e3TkyBHVqFFDL7/8sjp06KD9+/crKipKqampWrRokSTpqaee0siRI3Xo0CGFhYXphx9+yPE9HT9+XCNGjNCxY8fUpk0bBQcHa86cOTpx4oTc3d316aefSpKmTp2qv/76S0ePHtX333+vL774QmvWrMnz9YYMGaLQ0FDt379fhw4d0v79+7V+/frC/49hI07fA5KTxMRE1a5dW25uprdgMBjk4+OjhIQEnTlzRv/5z3+UmpoqSbr77rsdWWoWmYdmZd5TJCdMWgcAAKVF3759VbZsWZUvX17Lli1TYGCgJKlHjx6qUaOGJGnLli2KiYkx93iki4+P1/bt2zVgwADzMPznnntO06ZNy/I627ZtU7du3dSgQQNJkru7uzw9PbOt6YsvvtC+ffs0Z84cSdL169d1xx13KDk5WT/++KOeeuopSVLr1q0VFBSU43tr2LChmjVrJklq3ry54uLi5OPjI0lq0aKFzpw5I0n6+uuvtWDBArm4uKhChQp6+umn9fXXX+vRRx/N8fWuXbumb7/9Vhcu3O7Gunr1qk6ePJljPfZWbAOIpCxrVadPNu/UqZM6derkiJLyrTDzRDKGETY3BAAAJUn6HJDMMs7rNRqNCg4O1ooVK7JcVxSLEBmNRn3xxReqV6+exfHk5OR87aFStmxZ82NXV9csz69fv25+vcz3TX+e0+ulpaXJYDDohx9+kLu7u9U12ZPTD8HKibe3t86fP2/u5TAajUpMTDSnx+IofZ7IkgfzHpqVUfqk9c9jGJoFAAAKr3XNovlja126dNGWLVssVnVKny/x0EMP6fPPP9e1a9d069Ytffzxx9ne49FHH9XmzZvNQ7Ru3rxp3hXew8PDYof4Xr16aebMmebfP//44w/FxMSoUqVKuueee8wT2/fv369jx44V+v098sgjWrp0qYxGo65du6aVK1fq4YcfzvX1PDw89MADD2jmzJnm+5w/f14JCQmFrsdWim0PSPXq1RUUFKTVq1dr8ODBioyMVJ06deTn5+fo0grt+UbSo77WD82SmLQOAABsJz+rVTlSYGCgVq5cqRdeeEHXr1/XX3/9pebNm2vVqlXq0aOH9u7dq6ZNm8rb21sdO3bM9pfw+vXr66OPPjLPHXF1ddUHH3yg++67Ty+//LI6d+6scuXK6auvvtL8+fP1yiuvqFmzZnJxcZG7u7tmzZql+vXra8WKFXr22Wc1b948NW/eXPfff3+h39/kyZMVFhZmHl7Vr18/9e3bV5Jyfb1Vq1bppZdeMv9cxYoV9f777zvNF/VOvxP6uHHjtGnTJl24cEFVq1ZVhQoVdPjwYUlSdHS0Ro4cqcuXL8vDw0OLFy9Wo0b5H4fk7DvgJlzNXxhJRxgBUFDshA6UHuyEjnT22gnd6QOIPRSnhocwAsAeCCBA6UEAQTp7BZBiOwSrtLLVpHXCCAAAAByBAFKM5Xdzw3SEEQAAADgKAaQEKMik9XSEEQAAANgTAaSEKOjmhhkRRgAAAFDUmISukj35sKCT1jMijAClD5PQgdLj4sWLMhgMqlatWr4200PJYTQa9dtvv8loNKpGjRqsgmUPpaXhIYwAsBYBBChdkpOTLTbcQ+nj6empSpUqSSr6NoAAotLZ8BBGAOSGAAIApRcBxA5Ke8NDGAGQGQEEAEovAogd0PDcRhgBIBFAAKA0I4DYAQ1P9ggjQOlFAAGA0osAYgc0PHkjjAClCwEEAEovAogd0PDkT1GEEUmKvkIwAZwFAQQASi8CiB3Q8BScLcJI+orjRtFLAjgLAggAlF4EEDug4bENW4SRjLILIwlX6SkB7IEAAgClFwHEDmh4bK8owshTDaRPTklpRnpKgKJGAAGA0osAYgc0PEXL1mEkM+aTALZHAAGA0osAYgc0PPaTXRgxyPQnzQb3Zz4JYBsEEAAovQggdkDD4xjpYaT+370W9JIAzoMAAgClFwHEDmh4nEt2vSSuBunJBtLKU4UPJ7n1kkgEE0AigABAaUYAsQMaHueVsZckfRWsouopIZgAtxFAAKD0IoDYAQ1P8VTU80nSEUxQGhFAAKD0IoDYAQ1P8WfP+STprA0mGR8TUlBcEEAAoPQigNgBDU/JZa9ekowyBhNCCoorZwwgvXv31oULF+Ti4iIPDw/NmjVLTZo0yXLdihUrNH/+fKWlpaljx46aM2eO3Nzccr037QAA3EYAsQMantIhr16Sog4mGRFS4OycMYAkJSXJy8tLkrRx40a9/fbb2rlzp8U1sbGxCg4O1s6dO1W9enU98cQTevTRR/Xss8/mem/aAQC4rajbgNy/EgJKEJ+Klr+4+1SUHvSWBgbaP5gYc3icZpQm7DM9LmxIyfiYwIKSID18SFJycnK2gSEyMlI9evRQjRo1JEnPPfecFixYkGcAAQDYDwEEpZ4zBZOMChNS8jNxPuEqAQbFx/Dhw7V7925J0tq1a7Ocj4+Pl6+vr/l5nTp1lJCQYLf6AAB5I4AAObBFMHFUSLEmsLgYpKcaSJ+cMl1jyx4XWz0m+CCzDz74QJL06aef6vXXX9eaNWuyXGMwGMyPjcZSP8oYAJwOAQTIp/wEE2cIKRllDibLf87+XGF6XGz12JHBpzCPre1VcmR9JcGgQYP00ksv6fLly6pSpYr5uK+vr86dO2d+Hh8fLx8fH0eUCADIAQEEsJHsgknGx8UlpOTGmh4XWz12VPApbGiyplfJkfUt6Sg930jFTnJysq5du6batWtLkjZs2KAqVaqocuXKFtf16tVLwcHBmjBhgqpXr65ly5apT58+jigZAJADVsESq5/AuWS3Wld+Q4qzBBY4H1eDFPtk3j0hzrYKVkJCgp5++mnduHFDBoNB1apV09SpU9WkSROFhYWpa9eu6tatmyRp+fLl5mV4O3TooLlz58rd3T3X+9MOAMBtLMNrBzQ8KG7yCinWBBZXg/RkA2nlKeftcUHR2N7L1COXG2cLIEWNdgAAbiOA2AEND0q6nAJL+nwFW/a42OoxikZx7QEparQDAHAbAcQOaHiA3OWnx8VWjx0VfArz2NpeJUfW94GVc0AIIABQehFA7ICGB3BOjgg+hX1sTa+So+uzBgEEAEovAogd0PAAgCUCCACUXkXdBvCvLQAAAAC7IYAAAAAAsBsCCAAAAAC7IYAAAAAAsBsCCAAAAAC7IYAAAAAAsBsCCAAAAAC7IYAAAAAAsBsCCAAAAAC7IYAAAAAAsBsCCAAAAAC7IYAAAAAAsBsCCAAAAAC7IYAAAAAAsBsCCAAAAAC7IYAAAAAAsBs3RxdQFHbv3q2IiAj9+eef8vLy0uzZsx1dEgAAAAAVgx6QCRMmKCgoSF5eXjpx4oTFudOnT6tLly5q0aKFOnfurJMnT0qS2rdvr0WLFmnp0qWKj49XSkqKI0oHAAAAkInTB5CQkBBt2bJFvr6+Wc6NGTNGQ4YM0cGDBxUeHq6wsDCL81999ZUaNmwoDw8Pe5ULAAAAIBdOH0DatWsnb2/vLMcvXbqkqKgoDRgwQJLUq1cvxcXFKS4uTpK0fPlyHTx4UP/85z/tWi8AAACAnDl9AMlJYmKiateuLTc30zQWg8EgHx8fJSQk6Msvv9Tbb7+tixcvauzYsfrtt98cXC0AAAAAqZhPQjcYDBbPjUajJNOwrZCQEEeUBAAAACAXxbYHxNvbW+fPn1dqaqokU/hITEyUj4+PgysDAAAAkJNiG0CqV6+uoKAgrV69WpIUGRmpOnXqyM/Pz8GVAQAAAMiJISkpyejoInIzbtw4bdq0SRcuXFDVqlVVoUIFHT58WJIUHR2tkSNH6vLly/Lw8NDixYvVqFGjfL+Gh4eHXFyKbRYDAJtLS0srVUuY0w4AwG1F3QY4fQCxBxoeALBEAAGA0quo2wD+tQUAAABgNwQQAAAAAHZDAAEAAABgNwQQAAAAAHZDAAEAAABgNwQQAAAAAHZDAAEAAABgN26OLgAAgLzcuHFDzz33nH7++WeVK1dONWvW1Ny5c+Xn52dx3a5du9S/f38FBASYj23btk3lypWzd8kAgBwQQAAAxcIzzzyjRx55RAaDQUuWLNGYMWO0fv36LNc1bNhQO3bssH+BAACrMAQLAOD0ypYtqy5dushgMEiSWrVqpdjYWMcWBQAoEAIIAKDYef/99xUcHJztuZiYGHXo0EGdOnXShx9+aOfKAAB5YQgWAKBYmTNnjs6cOaN58+ZlOde0aVMdP35cnp6eSkxMVL9+/VS1alX17t3bAZUCALJDDwgAoNh49913tWHDBq1Zs0bly5fPcr5SpUry9PSUJHl7e6tv377as2ePvcsEAOSCAAIAKBYWLVqktWvX6osvvpCXl1e21/z6669KS0uTJKWkpGjr1q1q0qSJHasEAOTFkJSUZHR0EY7m4eEhFxeyGACkS0tLU0pKiqPLMEtMTNTdd98tf39/VaxYUZJUpkwZffPNNwoLC1PXrl3VrVs3LVmyRMuWLZOrq6tu3bqlkJAQvfrqq+bJ6zmhHQCA24q6DSCAiIYHADJztgBS1GgHAOC2om4D+NcWAAAAgN0QQAAAAADYDQEEAAAAgN0QQAAAAADYDQEEAAAAgN0QQAAAAADYDQEEAAAAgN0QQAAAAADYDQEEAAAAgN0QQAAAAADYDQEEAAAAgN0QQAAAAADYDQEEAAAAgN0QQAAAAADYDQEEAAAAgN0QQAAAAADYDQEEAAAAgN0QQAAAAADYDQEEAAAAgN0QQAAAAADYDQEEAAAAgN24FeaHU1NTFRMTo0uXLiktLc3iXMeOHQtVGAAAAICSp8ABZOfOnRoxYoR++eWXLOcMBoMuX75cqMIAAAAAlDwFDiDjx49Xly5d9I9//EM1a9a0ZU0AgBLg+vXrmjVrlr788kslJiYqNTXV4jxfVAFA6VTgOSAJCQkKDw8nfAAAsjV58mRt2bJFkydPlqurq+bPn69XX31VtWvX1sKFCx1dHgDAQQocQB555BH98MMPtqwFAFCC/Oc//9G8efP0+OOPy83NTe3atdOECRM0depUrVmzxtHlAQAcpMBDsFq2bKnJkyfrhx9+UOPGjeXmZnmrp556qtDFAQCKr6tXr8rb21uS5OnpqUuXLikgIEDNmzdXaGiog6sDADhKgQPIkiVLVKZMGW3dulVbt261OGcwGAggAFDK3XXXXfrpp59Up04dNWvWTP/6179UsWJFLV++XHfeeaejywMAOEiBA8jRo0dtWQcAoIR56aWXdOPGDUmm+SBPPPGEHnjgAXl5eWnp0qUOrg4A4CiGpKQkY2FvkpSUJEny8vIq7K0cwsPDQy4u7MkIAOnS0tKUkpJi8/tevnxZXl5eTvdvLu0AANxWVG1AugL/a5uWlqZ58+YpMDBQ9erVU7169dSgQQPNnz8/y6aEAIDSp2fPnuYvqNJVqVJFV69eVc+ePR1TFADA4Qo8BGvKlCmKiIjQa6+9platWkmS9u/fr5kzZyopKUlTpkyxVY0AgGJo9+7dunnzZpbjN27c0Pfff++AigAAzqDAASQiIkKLFy/WQw89ZD52zz33yNfXV6NGjSKAAEAp9dlnn5kfr1+/Xh4eHubnt27d0p49e1S3bl1HlAYAcAIFDiApKSnm5RUz8vHx0dWrVwtVFACg+Jo2bZr58bx58yzmVri5ucnX11dz5sxxRGkAACdQ4EnovXv3Vrly5bR48WJ5enpKMk1GHzlypG7cuKF169bZtNCixORDALBkiwmIPXr00MqVK4vFAiW0AwBwW1FPQi9wADlz5oyeeOIJxcfHq169euZjfn5++vTTT4tV9zoNDwBYKurGx9nQDgDAbU4bQCRTcd9++61iYmJkNBrVoEEDde7cWQaDwZY15ltSUpImTZqk7du36/jx43leT8MDAJZs1fj89NNP2rhxoxITE7NMSH/vvfcKfX9boR0AgNucdhleSXJxcdHDDz+sESNG6MUXX9RDDz1k8/AxYcIEBQUFycvLSydOnLA4d/r0aXXp0kUtWrRQ586ddfLkSUmm/UgWLVqk+vXr27QWAID11q9frwcffFDff/+9Pv30U128eFHff/+9NmzYkO3qWLm5ceOGBg0apBYtWqh9+/bq06eP4uLisr12xYoVat68uZo1a6bw8HClpqba4u0AAGwkX5PQp0+frrFjx6p8+fKaPn16rtdOnDixUIWlCwkJUXh4uIKDg7OcGzNmjIYMGaLBgwfryy+/VFhYmLZt22aT1wUAFM7s2bM1a9YsPfPMM/Lx8dHs2bPl5+enCRMmWKyMZa1nnnlGjzzyiAwGg5YsWaIxY8Zo/fr1FtfExsbqrbfe0s6dO1W9enU98cQT+uSTT/Tss8/a6m0BAAopXz0ge/fu1V9//WV+nNOfffv22azAdu3aZbva1qVLlxQVFaUBAwZIknr16qW4uLgcvxEDANhXbGysOnXqJEkqU6aMrl69KoPBoOHDh2v58uX5ulfZsmXVpUsXcy97q1atFBsbm+W6yMhI9ejRQzVq1JDBYNBzzz2ntWvXFvq9AABsJ189IBs3bsz2sSMkJiaqdu3acnMzvQWDwSAfHx8lJCTIz89PY8eOVXR0tMaOHavRo0cXq0nxAFAS1KhRQ3/88Yf8/PxUp04d7dmzR/fcc49Onz6ttLS0Qt37/fffz7ZnPD4+Xr6+vubnderUUUJCQqFeCwBgWwWeAzJq1KhsJ6dcu3ZNo0aNKlRR1so838RovD2fft68eTpx4oTmzZtH+AAAB+jatau+/vprSdLQoUM1adIkdejQQc8++6y597og5syZozNnzmjy5MnZns/YNmRsFwAAzqHAGxF+9tlnmjJlSpZxvNevX9fq1auLfHUTb29vnT9/XqmpqXJzc5PRaFRiYqJ8fHyK9HUBANaZMWOG+fGgQYPk7++vgwcPqm7duurRo0eB7vnuu+9qw4YN+uKLL1S+fPks5319fXXu3Dnz8/j4eNoFAHAy+Q4g3333nSTTt0r79++32GDq1q1b2rlzp+68806bFZiT6tWrKygoSKtXr9bgwYMVGRmpOnXqyM/Pr8hfGwCQf23btlXbtm0L/POLFi3S2rVr9eWXX+a4uWGvXr0UHBysCRMmqHr16lq2bJn69OlT4NcEANhevvcBqVy5sukHDYYsXdsuLi7y9vbW1KlTFRISYpMCx40bp02bNunChQuqWrWqKlSooMOHD0uSoqOjNXLkSF2+fFkeHh5avHixGjVqlO/XYP13ALBU0DXgZ82aZfW1r7zyitXXJiYm6u6775a/v78qVqwoyTSx/ZtvvlFYWJi6du2qbt26SZKWL1+u+fPnKy0tTR06dNDcuXPl7u6e6/1pBwDgNqfbiPDWrVsyGo1q3ry5vv76a1WtWtV8ztXV1eYF2gMNDwBYKmjj07VrV4vnP/74o27dumWei3f27Fm5ubnp7rvv1ubNm21Sqy3QDgDAbUUdQPI9BCs9ZBw9etTmxQAAireMoWLhwoWqVq2a3n33XfOQqaSkJIWHh+vee+91UIUAAEfLdw9IuvHjx6tBgwYaOnSoxfGlS5cqJiYmX93wjsY3XwBgyRbffgUGBmrjxo1q2LChxfGff/5Z3bt3V0xMTKHub0u0AwBwW1H3gBT4X9vIyEjdf//9WY63bt1aX3zxRWFqAgCUADdv3tTPP/+c5fjJkyeVmprqgIoAAM6gwMvwXrlyReXKlctyvGzZsrpy5UqhigIAFH/PP/+8QkNDFRUVpXvvvVcGg0GHDh3S0qVLs/SeAwBKjwIHkHvuuUeff/65Jk6caHF89erVBVqJCgBQskyePFkBAQFatmyZPvzwQ0lS/fr1NWPGDA0ePNjB1QEAHKXAc0C2b9+uAQMGqHPnzmrfvr0kaffu3dq+fbsiIiLUqVMnmxZalBj7CwCWinr8r7OhHQCA25x2DkinTp20c+dOVa5cWWvXrtWaNWtUuXJl7dy5s1iFDwAAAAD2U+AekJKEb74AwBI9IABQejndPiAZpaamKiYmRpcuXVJaWprFuY4dOxaqMAAAAAAlT4EDyM6dOzVixAj98ssvWc4ZDAZdvny5UIUBAAAAKHkK3N88fvx4denSRSdPntQff/xh8YfwAQAAACA7Be4BSUhIUHh4uGrWrGnLegAAJUSPHj1kMBiyHDcYDCpTpoz8/f01YMAAtWzZ0gHVAQAcpcA9II888oh++OEHW9YCAChB7r33XkVFRemvv/5S48aN1bhxY928eVNHjhyRv7+/oqOj9eijj2rTpk2OLhUAYEcF7gFp2bKlJk+erB9++EGNGzeWm5vlrZ566qlCFwcAKL5+++03hYeH6+WXX7Y4Pm/ePJ06dUpffPGF3nnnHc2cOVPdunVzUJUAAHsr8DK8TZo0yfmmBoOioqIKXJS9sfwiAFiyxRKMPj4++u9//6uAgACL46dPn1bHjh2VkJCg06dPq0OHDkpMTCzUaxUW7QAA3Oa0y/AePXrUlnUAAEoYLy8vbdy4UeHh4RbHN27cKC8vL0nS//73P1WsWNEB1QEAHKVQ+4AAAJCTN998U8OGDdOWLVvUrFkzGQwGHTlyRPv379eSJUskSfv27VPXrl0dXCkAwJ4KPARr+PDhuZ7/4IMPClSQI9D1DgCWbNX9fvr0aa1YsUIxMTEyGo0KDAzUkCFDVK9ePRtUaTu0AwBwm9MOwXJ1dbV4npqaquPHjys+Pl49evQodGEAgOIvICBA//znPx1dBgDAiRQ4gPzrX//K9vjUqVNlNBaoUwUAUML8/vvvOnjwoC5duqS0tDSLc6yWCAClU4GHYOXkzJkz6ty5s2JjY2152yJF1zsAWLJF9/u6des0atQoubi4qEqVKhabEjrbaom0AwBwm9MOwcrJjh07VL58eVvfFgBQzEyZMkXh4eEaP358lmG7AIDSq8ABJLtVSy5cuKDY2Fi99dZbhSoKAFD8/fHHHxo4cCDhAwBgocABpGPHjhbPXVxcVK1aNbVp00aNGjUqdGEAgOKtb9++2rJli0aMGOHoUgAATiRfAWTUqFGaOXOmPDw85Ofnp8cff1xlypQpqtoAAMVYpUqVNGPGDG3fvl2NGzeWm5tlkzNx4kQHVQYAcKR8TUKvUaOGjh49qlq1aqlKlSr6+eefVb169aKszy6YfAgAlmwxATG3JdkNBoM2bNhQqPvbEu0AANzmVJPQAwMDNWXKFHXo0EFGo1Hr16+Xh4dHttc+8cQTNikQAFA8bdy40dElAACcUL56QA4dOqQpU6YoNjZWCQkJqlmzZrbfGBkMBv344482LbQo8c0XAFgq6m+/nA3tAADcVtRtQIH3AalcubJOnTrFECwAKIEK2vh07dpVn332mby8vLJdLTGjzZs3F7Q8m6MdAIDbnGoIVkZ//PGHLesAAJQAHTt21B133GF+DABAZjbfCb044psvALDEECwAKL2ctgcEAABr/O9//9OlS5dkNFp+3+Xv7++YggAADkUAAQAUiePHjys0NFRRUVGSJKPRKIPBYP778uXLDq4QAOAIBQ4g8fHx8vHxkcFgsDhuNBqVkJAgX1/fQhcHACi+Ro0apVq1amnr1q2qUaNGlvYCAFA6FXgOSE4bEV6+fFn169cvVt9sMfYXACzZYvzvnXfeqd27d6tevXo2qqro0A4AwG1FPQekwP/apnehZ/b777+rQoUKhSoKAFD83XfffTp16pSjywAAOJl8D8Hq0aOHDAaDDAaDnnzySbm7u5vP3bp1SzExMWrXrp1NiwQAFD/9+/fXP/7xD0VHR6tx48Zyc7NsclimFwBKp3wPwZo2bZokac6cOXrxxRdVvnx58zl3d3f5+voqJCSkWPWC0PUOAJZs0f1euXLlHM/ldxL6hAkTtHnzZsXHx2vPnj1q3Lhxlmt27dql/v37KyAgwHxs27ZtKleuXJ73px0AgNucbhneSZMmSZLq1aunPn36qEyZMjYvCgBQ/Nlyw9qQkBCFh4crODg41+saNmyoHTt22Ox1AQC2V+Cve9q2batff/3V/Hzfvn0aP368lixZkmWtdwAACqNdu3by9vZ2dBkAABso8DK8Q4cO1fDhw+Xn56fExET17dtXbdu21aZNm/TLL7/ojTfesGWdAIBiYPr06Ro7dqzKly+v6dOn53rtxIkTbf76MTEx6tChg1xdXTV48GC98MILNn8NAEDhFDiA/Pzzz2revLkkad26dWrZsqU+//xz7dmzR8OGDSOAAEAptHfvXo0aNUrly5fX3r17c7yuKPYEadq0qY4fPy5PT08lJiaqX79+qlq1qnr37m3z1wIAFJxNdkLfsWOHunbtKkny8fHR77//bovbAgCKmY0bN2b72B4qVapkfuzt7a2+fftqz549BBAAcDIFngNy33336Z133tHnn3+u3bt3mycGnj17VrVq1bJZgQAAWOPXX39VWlqaJCklJUVbt25VkyZNHFwVACCzAveAvPPOO5owYYLmz5+vGTNmyM/PT5K0detWPfzwwzYrEABQfH399df68ssvlZiYqJs3b1qc27Bhg9X3GTdunDZt2qQLFy7oscceU4UKFXT48GGFhYWpa9eu6tatmyIjI7Vs2TK5urrq1q1bCgkJ0ZNPPmnrtwQAKKR87wNSErH+OwBYssUa8B988IGmTZumfv36aeXKlRo4cKDi4uJ0+PBhPfvss/rnP/9po2oLj3YAAG5zun1AMrp69apWr16t6OhoSVKDBg3Uv39/VaxY0SbFAQCKr6VLl2rRokUKCQnR559/rrFjx6pu3bqaPXu2EhISHF0eAMBBCvx1z6FDh9S0aVPNmzdPCQkJSkhI0Ny5c9WsWTMdOXLEhiUCAIqj8+fP695775UklS9fXleuXJEk9e3bV+vXr3dkaQAABypwAHnllVfUs2dPRUVFaeXKlVq5cqWioqLUvXt3TZgwwZY1AgCKIV9fX/OGtQEBAdqyZYsk01K9ZcuWdWRpAAAHKnAAOXr0qEaNGiVXV1fzMVdXV4WGhuro0aM2KQ4AUHwNHDhQBw4ckCSNGTNG8+bNk7+/v8LCwjRy5EgHVwcAcJQCzwGpXr26jh49qsDAQIvjUVFRqlatWqELAwAUb2PHjjU/fvTRR/X9998rKipKdevWZXlcACjFChxAhg0bptGjR+vHH39UixYtJEkHDhzQRx995PAhWH/++afGjBkjDw8PpaWl6Z133nFoPQBQ2ty8eVMPPfSQPvroI/MXVf7+/vL393dsYQAAhyvwEKzRo0dr/vz52r17t0JDQxUaGqrvvvtO8+fPV1hYmM0KnDBhgoKCguTl5aUTJ05YnDt9+rS6dOmiFi1aqHPnzjp58qQk09ry7dq109tvvy0vLy/t37/fZvUAAPLm7u6uS5cumTcGBAAgXaEWPe/Xr5+2bdum2NhYxcbGatu2berTp4+tapMkhYSEaMuWLfL19c1ybsyYMRoyZIgOHjyo8PBwc/CJj49XnTp1JEl+fn6Kj4+3aU0AgLyFhoZq9uzZun79uqNLAQA4kXwHkPPnz2vy5MlKTk7Oci45OVmTJ082r3piC+3atZO3t3eW45cuXVJUVJQGDBggSerVq5fi4uIUFxcnb29vc+g4d+6cfHx8bFYPAMA6Gzdu1JYtW9SwYUM9+OCD6tq1q8UfAEDplO85IAsWLFBaWpoqVaqU5VylSpX0559/av78+Zo5c6ZNCsxJYmKiateuLTc301swGAzy8fFRQkKCevXqpbFjx+r48eO6ceOG7r///iKtBQCQVceOHdWxY0dHlwEAcDL5DiDffvutFi9enOP5AQMGaPjw4YUqyloGg8HiudFolCSVLVs21xoBAEXv1VdfdXQJAAAnlO8hWPHx8brzzjtzPF+9enUlJiYWqihreHt76/z580pNTZVkCh+JiYkMtwIAJ9G0aVNdvnw5y/GkpCQ1bdrUARUBAJxBvgNI5cqVc53UfebMGXl5eRWmJqtUr15dQUFBWr16tSQpMjJSderUkZ+fX5G/NgAgb+fOndOtW7eyHL9+/bpN5woCAIqXfA/B6tSpk+bPn6/PPvss2/Pz589Xp06dCl1YunHjxmnTpk26cOGCHnvsMVWoUEGHDx82v9bIkSM1d+5ceXh4MOwKAJzArFmzJJmGyb777ruqUKGC+dytW7d04MABNWrUyFHlAQAczJCUlGTMzw+cO3dOnTp1UkBAgEaNGqWAgABJUkxMjBYvXqzo6Ght3769WPVEeHh4yMWlUCsSA0CJkpaWppSUlAL9bPoKV/v27VOLFi3k7u5uPufm5iZfX1+FhYU5VQihHQCA2wrTBlgj3wFEkqKjozVu3Djt2rXL4vgDDzyg2bNnq0GDBjYr0B5oeADAki0an5EjR2rmzJnZrprobGgHAOA2pwwg6S5fvqyzZ89KkurWrasqVarYrDB7ouEBAEtF3fg4G9oBALitqNuAfM8ByahKlSrFNnQAAAAAsD++7gEAAABgNwQQAAAAAHZDAAEAAABgNwQQAAAAAHZDAAEAAABgNwQQAAAAAHZDAAEAAABgNwQQAAAAAHZDAAEAAABgNwQQAAAAAHZDAAEAoAgYjY6uAACcEwEEAAAbSUmRRo+W6taVfH1Nf48ebToOADAxJCUllfrvaDw8POTiQhYDgHRpaWlKKUW/NduiHUhJkdq0kX76SUpLu33cxUVq1Ejau1fy8ChkoQBgB0XdBvBbNwAANjBxYtbwIZme//STNGmSY+oCAGdDAAEAwAY2bMgaPtKlpUmRkfatBwCcFQEEAIBCMhqlmzdzv+bmTSamA4BEAAEAoNAMBsndPfdr3N1N1wFAaUcAAQDABnr2NE04z46Li9Srl33rAQBnRQABAMAGpk83rXaVOYSkr4I1bZpj6gIAZ0MAAQA4vQkTJigoKEheXl46ceJEjtetWLFCzZs3V7NmzRQeHq7U1FSr7n/1auFr9PAwLbUbGir5+0ve3qa/Q0NZghcAMiKAAACcXkhIiLZs2SJfX98cr4mNjdVbb72lLVu26PDhw7pw4YI++eQTq+7frZttNgv08JAWLJDOnpXi401/L1hA+ACAjAggAACn165dO3l7e+d6TWRkpHr06KEaNWrIYDDoueee09q1a626/6lTtt+ngwnnAJA9AggAoESIj4+36CGpU6eOEhISrPpZ9ukAAPshgAAASgxDhm4HYz433WCfDgCwDwIIAKBE8PX11blz58zP4+Pj5ePjY/XP53efDsIKABQMAQQAUCL06tVLGzdu1MWLF2U0GrVs2TL16dPHqp9N36cjr1CRkiKNHi3VrSv5+pr+Hj3aNhPYAaC0MCQlJZX673A8PDzkktPuUQBQCqWlpSnFiX6rHjdunDZt2qQLFy6oatWqqlChgg4fPqywsDB17dpV3bp1kyQtX75c8+fPV1pamjp06KC5c+fKPa8tyiW1bOmhv/5y0a1bpp6Qnj1N+3pkXL0qJUVq00b66SfTnJF06ft8sNQugJKiqNsAAogIIACQmbMFkKJWv76HfvvtdjuQXagYPVp67z3L8JHx+tBQ05K7AFDcFXUbwG/dAIBSL/PQq7Q0U09HxqV5N2zIPnykX+8Mq2gxLwVAcUAAAQAgGxlDhdFoWiUrN45aRYt5KQCKGzdHFwAAgLNKDxUGg2luSG7yu4qWLeQ0L+W996Rvv2VeCgDnRA8IAAA5yBgqevY0zfXITvoqWvY2cWLW8CFlP4QMAJwFAQQAgGxkDhXTp5smpmcOIekT1qdNs299UvGYlwIAmRFAAAClnjWhwsPDNKQpNFTy95e8vU1/h4Y6ZqiTM89LAYDcMAcEAFDqPf+8FBFh+oXd3d3U8zFtWtZQ4eFhWmp3wYLbc0MKozD3cNZ5KQCQF3pAAACl3vTp0tmzUny86e8FC/Lu0SjoL/a2XLXKGeelAEBe2IhQbEQIAJmVto0I7dUO2Ho3dXZnB1AU2IgQAICiZqewZetVq5xtXgoAWIMeENEDAgCZlboekG++kcvjj2c5bu0cDWuvq1tXio3N+by/v2kIWEHZYl4KANADAgBAUXvsMfNDa+do5Hcuhz1WrSJ8ACgO6AERPSAAkFmp6wH5ux2wdk5FQedeFKQHhF4NAPZGDwgAAHZi7RyNgs7lsHbVKluulAUAzoYeENEDAgCZlboekL/ngFjbQ1HQuRzW9JxIrGwFwLHoAQEAoKg99JDVczTS0go+l8OaVasK0rvCbucAihMCCAAA33xj9c7iLi6F24E8fTf1nDY+3LAha/hIl5YmRUaaHjNMC0BxRQABAGDYMGnhQtMcDcOtbC/JOEfDqrkcV65IERGWJyMiTMf/ljmkWNsLk5xsGqb13numoWCJiaa/33vPdJwQAsCZEUAAAJCk8HBN39hUjYw/yUWpFqfS519Mm2Z6Pn266XnmEGK+bvwVKThYeuIJaeFC08mFC03Pg4MtQkhG1vbCTJpk2w0NAcCeCCAAAPzN4+xR7VUbhWqR/HVG3kqQ/x3nFTr0T4vJ37nO5dhyRR79gqV9+0wXh4dL9eub/pZMxzOGkEw9JabelezHYKX3rlg7TAsAnBGrYIlVsAAgs1K3ClZAgFx+/z3LcaMkgyR99pk0cGCOP2/eq+PK3z0f6eEjN61bS6tXSwMGmK5fsEAaPVopby9Wm1ce0E9qpDS5mi9P713Zs0dq3Ng07Con3t6m+SXsHwKgIFgFqwCSkpIUGhqqu+++29GlAACKMYNkCga5hA8pwy/6mzdbFz4k03UPPZSlp8TjlZF/98K8K/87zsu7dprFSlmVKhVuEnxuWE0LgD04TQCZMGGCgoKC5OXlpRMnTlicO336tLp06aIWLVqoc+fOOnnyZK738vLy0qJFi1S/fv2iLBkAUNIFBJiWlrLWwIGmwGINPz8pJsby2OnTkiQPXdUCjdXZv7wVX6edzh65YrFSlrUbGlqD1bQA2JvTBJCQkBBt2bJFvr6+Wc6NGTNGQ4YM0cGDBxUeHq6wsDBJ0sWLFxUSEmLx5/XXX7d36QCAkur06duTyK01erQpuOSmZk0pLs6q2xm+32fqWckgz0nw06zrzUjfGJHVtADYk5ujC0jXrl27bI9funRJUVFRWr9+vSSpV69eGj9+vOLi4uTn56cvv/zSnmUCAEqb8HCpRo08h2GZLVxo7snI0YUL0uOPS+vW5X2/bIaApU+CnzTJNOH85k3TsKvgYFPwaNLk9rGePU2BJbvd063Z9NDaDh0AsJbT9IDkJDExUbVr15abmykrGQwG+fj4KCEhIdefGzt2rKKjozV27FidPXvWHqUCAEqi1q2lrl2tuzYi4vZqVzJNYs/RunWmYJObXIaAZd7Q8OhRadcuaelS63szWE0LgCM4fQCRTKEjI6MV/crz5s3TiRMnNG/ePNWtW7eoSgMAlCSZh061bi1t2SJ5elr38127KqVVZ43WfNXVGfkqXnV1RqM1XymqaHmtv7908WLu97NyCJjBYF1vRkbWbnrIxHQAtub0AcTb21vnz59XaqppUyij0ajExET5+Pg4uDIAQImyYIFpUnj6mKP8hg9JKS6eapPyld5TqGJVV4nyUazq6j2NUhvtvR1CAgNN3RPWCA/PuqN6JkZj/nszrN30kKV8Adia0weQ6tWrKygoSKtXr5YkRUZGqk6dOvLz83NwZQCAEmPJkttDnUaPNu37sWWL6XnmX/4jInLcyXziROmnU64W+3dIUprc9JMaaZKmShUrmoZftW5tXW05DAHLuHqVj49pGFZusuvNsOVqWgBgLafZiHDcuHHatGmTLly4oKpVq6pChQo6fPiwJCk6OlojR47U5cuX5eHhocWLF6tRo0Y2e202IgQAS6VuI8Ls2oGMmwr+vUmgFi409Ujk0DtSt27uHRv+OqOzCsi6CWG6gADLCew5vE766lXZDbnK8bX9TfNFrLlP+mpaGXd/B1B6FHUb4DQBxJEIIABgqdQHkOx2NM8jHBiNkq93mhJ/ybk98VaC4uVr2uAwh53Q8wo5kumy996zPny4uJg2MsxuRauUlKyrafXqZVrKl/ABlE4EEDsggACApVIdQLILHzlp1Urats0cEurWuKrYSxVzvNxfZ3VW9W4f+Owz0/CqzZstl9qNiDAdz2H+SV49LRnlpzfDaGTOB4CibwP4rRsAgIw2b7YufEjSDz9I//63+WnP5olyMdzK9lIXpaqXMuxdlb6/h6dn1j1G0o9nw5rVq1xdJW9v07Cr0FDrh1IRPgDYAz0gogcEADIr1T0g0u1hUNbw85OioqTly5USPlFtyh3RT9f9lJZhr18XpaqRftJetZWHrpqGc8XEFLjePOea+EtnzhAoABQMPSAAANhb+vJS1oiLk2rWlMLD5aGr2nu9mUK1SP46I28lyF9nFKpFt8OHZPX+HjmxZvUqwgcAZ0UPiOgBAYDM6AHJRw9ILoyScs0Bn32WdfiVFWyxehXzPQDkhB4QAADsKSLCJuFDyiN85LC/R7auXLHYj8TDQ9r78lqFDv1T/v7Wz/fIuHeIr6/p79GjTccBwF7oARE9IACQmTP2gJw+fVovvviifv/9d3l6eupf//qX7rrrLotrdu3apf79+ysgIMB8bNu2bSpXrlyu9y7wKljWsnJ/j2xZsR+JsZJnnr0Z7PkBwFr0gAAAIGnMmDEaMmSIDh48qPDwcIWFhWV7XcOGDbV7927zn7zCRxaenqZwYO1O5dmpW/f2zy9YYJpwnr4JR0HDh2QKHfXr3+6h2bdPCg6WITn7ndkzmjgx+40L09JMxydNsvK9AUAhEUAAAE7v0qVLioqK0oABAyRJvXr1UlxcnOLi4ormBT09paFDC/7zZ89Kjz1mmuMxerTp2OjRpucFDR/pMvakSOYQoiu5h5ANG3LeuDAtzbQRIQDYAwEEAOD0EhMTVbt2bbm5mZa2NRgM8vHxUUJCQpZrY2Ji1KFDB3Xq1EkffvhhwV+0Tx+pZcuC//yrr2Y9lsv+HlnkZz+SfftM12fnyhUZP4vIc++QmzdNE9MBoKi55X0JAACOZ8g0ycGYzW/LTZs21fHjx+Xp6anExET169dPVatWVe/evfP/gp6e0tdfZ+2FKFNG+vPPvH8+P5PMszNwoHTxonUT4tM3Nczs714Uw759cq/SVVLO4cfdnVWxANgHPSAAAKfn7e2t8+fPKzU1VZIpfCQmJsrHx8fiukqVKsnz7x4Gb29v9e3bV3v27Cn4C2eeD7JggXThgmnJqYwyTHqXlL95HrkZPTrrvTMLCLg9zCujTEO4el7+WC5KzfYW6XuHAIA9EEAAAE6vevXqCgoK0urVqyVJkZGRqlOnjvz8/Cyu+/XXX5X290SHlJQUbd26VU2aNCnci6eHkPT5HJ6e0pEjUmCg6XxhJpnnZeHCrHM+MstuU8Ns5o9M1yQ10sksIcRFt9So4S1Nm1b4cgHAGizDK5bhBYDMnHEZ3ujoaI0cOVKXL1+Wh4eHFi9erEaNGiksLExdu3ZVt27dtGTJEi1btkyurq66deuWQkJC9Oqrr2YZvpWZhySX/AaGK1dM8y4yDn2KiDANu7JF+IiIkJ54wvrrM25qmMPPpqiiJmmqItVLN3WH3PWXeilS05b5yOPZvoWvGUCJUNRtAAFEBBAAyMwZA0hR8hgwQC6rV9smONhKfvYjya7XJY/d3M27tKfvLQIAf2MfEAAAitqBA1YtZWtXOe1HYu18kzzmjxjS70X4AGBnBBAAACSr99Owq+wmwVs736Sg80cAoIgxBEsMwQKAzErdEKyAALn8/rvpSca5FM4iv/NNCjN/JBdGI0v1AqUBQ7AAALCXnPbTcDRPz6x15bapYdeuWYdu5SSP/UpSUkyjtOrWlXx9TX+PHm06DgAFQQ+I6AEBgMxKZQ+Il5dpeFNJkd0k9oAAy2FZeSwZnJIitWkj/fST9PfqxpJM+4Y0aiTt3St5eBRR/QAchh4QAADsoaTNhyjM/JG/TZyYNXxIpuc//SRNmlREtQMo0egBET0gAJBZqewBceY5IIVRiP1K6taVYmNzPu/vL509a5MqATiRom4D3IrszgAAFDd5zIcolnKaP5IHo1G6eTP3a27eZGI6gPzja38AACSrhiSVJgaD5O6e+zXu7oQPAPlHAAEAoGVLwkc2evY0TTjPjouL1KuXfesBUDIQQAAAWL26eISPK1dM8zcyioiw2eaJxkyzQqdPN612lTmEpK+CNW2aTV4WQClDAAEAoDisJZu+rO4TT9xerWvhQtPzQuzgnts+Hx4epqV2Q0NNE869vU1/h4ayBC+AgmMVLLEKFgBkVupWwXL2dsAGe3pkJ7/7fDDhHCgd2AcEAIDSLLvwIVmGD8l0Pp89Ifnd54PwAcAWCCAAADizzZuzho+c7Ntnut5KGzZkDR/p0tKkyEirbwUAViOAAADgzAYOvL17eV4WLLB6E8X87PMBALZEAAEAwNmNHm2a85GbgADTdVZinw8AjkIAAQDA2S1cmHXOR2anT99eHctK7PMBwBFYBUvFYPUTALAzVsFyIhERpqV2rfXZZ1YPw8rvKlgASgdWwQIAoDTr2tW0xK41Wrc2XW8l9vkA4Aj0gMjJv/kCAAegB8TJ5GcfkM2bTSGkADu7s88HAIkeEAAA4OlpChfpPSELFkgHD0p+fqbn/v6m88uXF2pndMIHAHugB0TF4JsvALAzekCc1JUrt3s4imBndACQ6AEBAADpPD2zDx+STXZGBwB7IIAAAFCcFOHO6ABgDwQQAACKkyLaGR0A7IU5ICpGY38BwE6YA1IM1K+f++aEAQFSTIz96skGq2oBxRNzQAAAgKUi2hndFlJSpNGjpbp1JV9f09+jR5uOA4BED4ikYvrNFwAUIXpAnFgR7oyeH9n1brCzOlAy0AMCAABuK8Kd0fOSV+/GxIlZw4dkev7TT9KkSTYrBUAxRg+Iitk3XwBgB/SAOLn87Ixuo31ArOndaNJEio3N+R7+/tLZszYpB0ARogcEAABYym5n9JiY26tjFcEmhHn1bkycKN28mfs9bt40Dd0CULq5OboAAABQAOkhZPPm23M8Ro+WatQwDbuy8Q7oGzZkDR/p0tJM593dc7+HuzurYgGgBwQAAOdw5YppgnlGERG572Tu6Zl1gvnAgTYPH0ajdb0bPXuahmRlx8VF6tXLpmUBKKYIIAAAOFr6nI4nnri9dO7ChabnwcG5hxA7MBis692YPt00HyRzCEmfJzJtWtHVCKD4IIAAAOBImSeUh4ebNhkMDzc937fP4SEkJUWqVCnn8+m9Gx4epsnooaGmCefe3qa/Q0NZghfAbSVyFazdu3crIiJCf/75p7y8vDR79uxcry92q58AQBFjFSw7yW41q5wUwcRya+S0+lU6g0Fq3Dj7gMFO6EDxVGpWwZowYYKCgoLk5eWlEydOWJw7ffq0unTpohYtWqhz5846efJkrvdq3769Fi1apKVLlyo+Pr5UNaIAUFJZ2xasWLFCzZs3V7NmzRQeHq7U1FQ7V5oPmzdbFz4k03WbNxdtPdnIafWrdE2a5Ny7QfgAkB2nWQUrJCRE4eHhCg4OznJuzJgxGjJkiAYPHqwvv/xSYWFh2rZtmy5evKihQ4daXNu0aVO9+eabkqSvvvpKDRs2lEcefb5pOf2rCgCllDP+u5hTW5BRbGys3nrrLe3cuVPVq1fXE088oU8++UTPPvtsrvd22Pvt39/UCzJxYt7XTp9uuj6XWouix2H3bqly5ZzPu7hIFSrkWhaAYqao/010uiFYQUFBWr16tRo3bixJunTpklq0aKEzZ87Izc1NRqNRDRs21LZt2+Tn55fjfZYvX67z58/rH//4h71KBwAUEWvbgoULF+rcuXN65513JJm+iFqwYIH+85//OKp0AEAmTjMEKyeJiYmqXbu23NxMnTUGg0E+Pj5KSEjI8We+/PJLvf3227p48aLGjh2r3377zV7lAgCKgLVtQXx8vHx9fc3P69Spk2t7AQCwP6cZgpUbQ6b+ZGMe26iGhIQoJCSkKEsCANiZtW1Bxuvyai8AAPbn9D0g3t7eOn/+vHkSodFoVGJionx8fBxcGQDAXqxtC3x9fXXu3Dnz8/j4eNoLAHAyTh9Aqlevbp4XIkmRkZGqU6dOrvM/AAAli7VtQa9evbRx40ZdvHhRRqNRy5YtU58+fRxRMgAgB04zCX3cuHHatGmTLly4oKpVq6pChQo6fPiwJCk6OlojR47U5cuX5eHhocWLF6tRo0YOrhgAYE85tQVhYWHq2rWrunXrJsm0CMn8+fOVlpamDh06aO7cuXLPaxtvAIDdOE0PyDvvvKMTJ07o999/16lTp8zhQ5ICAwO1bds2HTx4UDt27HB4+MjvviTFzY0bNzRo0CC1aNFC7du3V58+fRQXFyfJtBJNnz591Lx5c7Vp00Z79+51cLW2NXPmTIu9aEry+/3zzz81fvx4NW/eXK1bt9awYcMklez3/M0336hjx4564IEH1KZNG3366aeSSs57zmk/pdze3//+9z89//zzuvfee9WiRQtFRkY6onSr5NQWvPvuu+bwIUlDhgzR4cOHFRUVpTFjxqh79+5Ov3eINe3Krl27VLt2bbVv39785/r163arMbf9ujJy5GdpTY2O/hxza2Mzc9RnaW2Njv4se/furbZt26p9+/bq2rWrjh49mu11jv7/tzV1OvqzTJf596DMbPVZOk0AKU7S16I/ePCgwsPDFRYW5uiSbO6ZZ57RgQMHtHv3bj366KMaM2aMJGnKlClq2bKlDh06pPfee09Dhw517k2+8uHIkSM6cOCAxXjxkvx+p0yZIoPBoIMHD2rfvn3m/XNK6ns2Go164YUX9N5772nXrl2KiIjQ2LFjlZKSUmLec0hIiLZs2WKxCpSU+/+m7777ru644w4dPnxY//73vzVu3DglJSU5oPqiYc2/1+l7h2zZskWHDx/WhQsX9MknnzhdnZLUsGFD7d692/ynXLlydqsxp/++MnL0Z2lNjZJjP0cp5zY2I0d/ltbUKDn2s/y///s/7dmzR7t379aoUaMUGhqa5RpHf47W1ik5/r/L7H4PysiWnyUBJJ8uXbqkqKgoDRgwQJJpvHFcXFyO314UR2XLllWXLl3MK8m0atVKsbGxkqQvvvjCvPlj8+bNVaNGjWL7bXFG6b0B77zzjsUKOiX1/V67dk2rVq3S66+/bn6/tWrVklRy33O6K1euSJJSUlJUpUoVlSlTpsS853bt2snb2zvL8dze3/r1683n/P391bZt2xKzZ4a1/15HRkaqR48eqlGjhgwGg5577jmtXbvW6ep0tJz++8rI0Z+lNTU6Wm5tbEaO/CytrdHRvLy8zI+Tk5Pl4pL111pH/zcpWVeno+X0e1BGtvwsi8UyvM4kt7XoS+rE+Pfff1/BwcG6fPmy0tLSVK1aNfO5krLG/ltvvaX+/fvL39/ffKwkv9+zZ8+qSpUqeuedd7Rjxw6VK1dOr776qoKCgkrsezYYDPr444/11FNPqXz58rpy5Yo++eQTXb16tcS+Zynv/44TEhJK7L4Z1v577ei9Q/LTrsTExKhDhw5ydXXV4MGD9cILL9itTms4+rO0ljN9jultbGbO9FnmVKPk+M9y+PDh2r17tyRl+8uws3yOedUpOfazzO73oMxs+VkSQAogv/uSFGdz5szRmTNnNG/ePN24caNEvvf9+/fr0KFDmjJlSpZzJfH9SlJqaqpiY2PVsGFDTZkyRceOHdNjjz2mvXv3luj3PHfuXH366adq3bq1Dh06pMGDB+u7774rse85XV7vryTvm1Fc9g6xps6mTZvq+PHj8vT0VGJiovr166eqVauqd+/e9irTKo7+LPPiTJ9jxjY2O87wWeZWozN8lh988IEk6dNPP9Xrr7+uNWvWZLnGGT7HvOp05GeZ2+9Bmdnqs3S+PiAnV5r2JXn33Xe1YcMGrVmzRuXLl1eVKlUkyWJn+ZKwxv53332n6OhoNWnSREFBQTp//rz69OmjgwcPSip571cy7ZXg4uKi/v37S5KCgoLk5+enn3/+WVLJfM/Hjh3Tr7/+qtatW0syDUWqVauWfvzxR0kl8z1LyvP/tz4+PiV234zisneItXVWqlRJnp6e5p/p27ev9uzZY7c6reHoz9IazvI5Zm5jM3OGzzKvGp3ls5SkQYMGadeuXbp8+bLFcWf4HDPKqU5HfpY5/R60bds2i+ts+VkSQPKptOxLsmjRIq1du1ZffPGFxdjFkJAQLV26VJJ06NAhXbx4UW3atHFQlbYxduxYnTx5UseOHdOxY8d055136t///rceeeSREvl+Jalq1arq2LGjvvnmG0nSuXPnFBcXp8DAwBL7ntN/yYuOjpYknTlzRmfPnlX9+vVL7HtOl9v7y3guNjZW3333ncWKUsVZcdk7xNo6f/31V6WlpUkyzWHaunWrmjRpYrc6reHoz9IazvA55tTGZuToz9KaGh35WSYnJ+uXX34xP9+wYYOqVKmiypUrW1zn6M/R2jod+Vnm9ntQRrb8LJ1mH5DipKTvS5KYmKi7775b/v7+qlixoiSpTJky+uabb3Tx4kUNHz5ccXFxuuOOO/TOO++offv2Dq7YttJ/EWjcuHGJfr+xsbEaNWqU/vjjD7m4uOiVV15Rz549S/R7Xrt2rebOnSuDwSCj0aiXX35Zffr0KTHvOaf9lHJ7f9euXVNoaKiOHDkiFxcXvf766woJCXHwO7Gd4rJ3iDV1LlmyRMuWLZOrq6tu3bqlkJAQvfrqqzlOGLW1nP77cqbP0poaHf055tbGOstnaW2NjvwsExIS9PTTT5uHh1erVk1Tp05VkyZNnOZzzE+djv7vMqOMvwcV1WdJAAEAAABgNwzBAgAAAGA3BBAAAAAAdkMAAQAAAGA3BBAAAAAAdkMAAQAAAGA3BBAAAAAAdkMAAQAAAGA3BBDAQebMmaP69evLy8tLu3btcnQ5AIBcdO/eXdOmTbP6+hkzZig4OLgIK7LPawBFgY0IUap1795d3333ndatW6fOnTubjw8bNkyurq5avHhxkbzuuXPn1LRpU33yySdq1aqVKleurDvuuMPqny/q+gCgJAgODlbHjh31j3/8o9D3+uOPP+Tu7m7eGTwvV69e1c2bN1W5cuVCv7YjXyOzHTt26LHHHlNSUpLdXhMlj5ujCwAcrWzZspo2bZpFAClqcXFxMhqN6t69uwwGg91eFwBg6a+//rLqC6D8/pJvbVApDHu8BlAUGIKFUm/AgAH6+eeftXHjxhyvuXjxop5++ml5e3vLz89PoaGhunbtWq73Xbhwoe6++27VqFFDDz/8sA4ePChJWrVqlXr27CnJ1KB5eXll+/NHjhxRcHCw7rzzTvn5+albt25KSkrSjBkz9Pnnn+uzzz6Tl5eXxc/v2LFDDz74oGrVqqUWLVpo6dKl5nNxcXHy8vLS+vXr1b59e9WsWVM9e/ZUQkKC+Zrt27frgQceUK1atVSvXj31798/r48PAJzSiy++qH379mnWrFny8vJSUFCQpNvDlhYtWqS77rrL/OXT3Llzdd9996l27dpq3ry53n//fYv7ZR6C5eXlpVWrVikkJES1a9dWx44d9eOPP5rPZx4e1b17d73++usaM2aMfHx8FBQUpH//+98Wr7Fu3Trdc889uvPOOzVixAhNmjRJ3bt3z/E95vc1du3aJS8vL3311Vdq0aKFatWqpSeffNKiNyMoKEgrVqyweB0vLy/t2LFDcXFxeuyxx8zH0j8DIL8IICj1qlevrhEjRuitt95SWlpattcMHz5ciYmJ+s9//qOIiAjt2bNHr732Wo73XLNmjWbOnKk33nhDu3bt0t13361+/fopOTlZjz/+uD7++GNJ0s8//6yff/45x9e8//77tWfPHm3ZssUcBsLCwtSrVy/17t3b4uejo6P11FNP6bnnntO+ffs0ffp0zZo1S+vWrbO479SpU/Xmm2/q66+/VmpqqoYPHy5JSk1N1ZAhQzRo0CDt379fkZGRevDBB/PzUQKA05g5c6ZatGih0NBQ/fzzz9q+fbv53LFjx3To0CGtX79eH330kSTpjjvu0IIFC7R3715NnjxZU6dO1VdffZXra7z99tsaNmyYdu3apVq1amnUqFG5Xv/xxx8rMDBQO3fu1KBBgzRq1ChdunRJknT69GkNHTpUzz33nP773/+qfv36Wr58eb7fd26vkW7GjBlavHixNmzYoOjoaKuHqPn4+GRpvx5//PF81wgQQACZfqlPTEzM8m2UJJ06dUrbt2/Xe++9p2bNmqlNmzZ6++23tWrVKl25ciXb+33wwQd64YUX1L9/fzVs2FBz5sxRuXLltHr1apUrV87ca1GzZk3VrFkz23skJibq0Ucflb+/vxo1aqRnnnlGXl5eqlixosqWLauyZcta/Pz8+fM1ZMgQPf300/L391dwcLBefPHFLA1YaGioOnfurKCgIL333nv67rvvdOLECSUnJys5OVk9e/ZUnTp1dM8992jkyJGF+FQBwHE8PT3l7u6uChUqqGbNmqpWrZr5nMFg0MKFC9WoUSM1bNhQkunfxjZt2sjf31+9e/dW//799eWXX+b6Gs8995y6d++u+vXr6+WXX1ZUVJSuXr2a4/X333+/Ro0apXr16mn8+PFycXEx944vX75crVq10ksvvaTAwECNGzdOjRo1yvf7zu010k2cOFH33XefWrVqpVmzZmnNmjVWzelwdXXN0n6VK1cu3zUCBBBApq7ksLAwzZgxQ6mpqRbnoqOj5eHhobvuust8rFWrVkpNTdXZs2ezvV90dLRatmxpfu7m5qZmzZopOjra6pqGDh2qxx9/XIMGDdLSpUv1+++/53r9iRMntHTpUnl7e5v/vP3224qNjbW4rnnz5ubH9erVk5eXl6Kjo1WlShX16dNHbdu21XPPPaeVK1fm2pACQHFVr169LPMntm7dquDgYAUGBsrb21srV65UYmJirvdp3Lix+XGNGjUkSb/99ptV17u5ualKlSrm3omYmBg1bdrU4vpmzZpZ9X6sfY10LVq0MD9u3ry5UlNTs7QVQFEigAB/GzFihJKTk/Xpp59aHDcasy4UZ4+J42+88Ya+/fZbtWrVSqtXr1bLli11+vTpHK+/du2aRo0apV27dpn/7N27V5GRkRbX5Vb7Rx99pHXr1ql+/fpatGiR2rRpo8uXL9vsPQGAMyhfvrzF89jYWD311FN64IEH9Pnnn2vnzp0aOHCgbt68met93N3dzY/T/23NaShv5uvTfya9jTEajTZpW3J7jcy1Zn4sSS4uLhbX5/UZAAVBAAH+VrFiRY0dO1Zvv/22/vzzT/PxBg0aKCUlRSdPnjQf279/v9zc3FS3bt1s7xUYGKgDBw6Yn6empurIkSNq0KBBvmpq3Lixxo4dq6+//lo1a9Y0T5R3c3PTrVu3LK695557FB0drXr16ln88fPzs7ju0KFD5sdnz55VUlKSAgMDzcdatmyp1157TTt37tSVK1f03//+N181A4CzyO7fyuxERUWpbNmymjhxou69914FBAQoLi7ODhXeFhgYqKioqCx1FYWMQ7IOHTokNzc3+fv7S5KqVaumCxcumM8fP37c4mfd3EwLqFrzuQI5IYAAGTz//PMyGo3aunWr+ViDBg3UuXNnhYaG6siRI9q3b59eeeUVDR48WJ6entneZ8SIEfroo4+0Zs0anTp1Si+//LKuX79u9apS169f14QJE7Rnzx6dO3dOX331lRISElS/fn1Jkq+vr44dO6a4uDjz0KzRo0dr69atmjZtmk6ePKmffvpJq1at0ocffmhx70WLFmnHjh06duyYQkND1bZtWzVu3FixsbGaOnWqDhw4oHPnzumLL77QtWvXVK9evYJ8lADgcL6+vjpw4IDOnz+f6xwHf39/paSkaNWqVTpz5oxmz56tw4cP269QSUOGDNH+/fs1f/58xcTEaN68eTpx4kSR9LhPnz5dBw4c0IEDB/Tqq6+qb9++5rkdbdu21cqVK3Xo0CEdOnRIb7zxhsXP+vr6SpK++uor/f777xZf2AHWIoAAGZQtW1bjxo3TjRs3LI6///77ql27trp3767+/furTZs2euutt3K8T9++ffXKK6/ojTfeUPv27XX8+HGtWbNGlSpVsqoOV1dX/fbbb3rhhRfUsmVLjR8/XhMmTDAvxzhkyBB5eXmpdevWCggIkGQaK7x+/Xp99913evDBBxUcHKxVq1apTp06Fvd+7bXX9Nprr+mhhx4yvzfJNCThxIkTGjRokFq1aqU5c+Zo0aJFWcYkA0BxERYWpsuXL6tZs2Z64IEHcryuadOmmjx5st544w117NhR586d0zPPPGO/QiUFBATogw8+0IcffqgOHTro5MmTGjBggMqUKWPz1xo/fryGDh2q7t27q27dupo5c6b53Msvv6ygoCD16tVLw4YN00svvWTxs35+fhozZoxGjRqlgIAArV271ub1oeRjJ3SglIiLi1PTpk116NAhejUAoBgICQlRYGCg3nnnHZvcb9euXerZs6d+++0381AqwBH4rw8AAMAJLFmyRK1bt1aFChW0fv167dy5M9c9p4DiigACAADgBI4fP67Zs2fr6tWrCggI0IoVK3T//fc7uizA5hiCBQAAAMBumIQOAAAAwG4IIAAAAADshgACAAAAwG4IIAAAAADshgACAAAAwG4IIAAAAADshgACAAAAwG4IIAAAAADshgACAAAAwG4IIAAAAADshgACAAAAwG7+H1+7p8XeBHlJAAAAAElFTkSuQmCC' width=800.0/>\n",
       "            </div>\n",
       "        "
      ],
      "text/plain": [
       "Canvas(toolbar=Toolbar(toolitems=[('Home', 'Reset original view', 'home', 'home'), ('Back', 'Back to previous …"
      ]
     },
     "metadata": {},
     "output_type": "display_data"
    }
   ],
   "source": []
  },
  {
   "cell_type": "code",
   "execution_count": 6,
   "id": "83bc0777-9c7f-4e1a-ad64-7b03c627d953",
   "metadata": {},
   "outputs": [
    {
     "data": {
      "text/plain": [
       "(27,)"
      ]
     },
     "execution_count": 6,
     "metadata": {},
     "output_type": "execute_result"
    }
   ],
   "source": []
  },
  {
   "cell_type": "code",
   "execution_count": 85,
   "id": "a23c4107",
   "metadata": {},
   "outputs": [
    {
     "name": "stdout",
     "output_type": "stream",
     "text": [
      "Iteration    0: Cost     0.72   \n",
      "Iteration 1000: Cost     0.59   \n",
      "Iteration 2000: Cost     0.56   \n",
      "Iteration 3000: Cost     0.53   \n",
      "Iteration 4000: Cost     0.51   \n",
      "Iteration 5000: Cost     0.50   \n",
      "Iteration 6000: Cost     0.48   \n",
      "Iteration 7000: Cost     0.47   \n",
      "Iteration 8000: Cost     0.46   \n",
      "Iteration 9000: Cost     0.45   \n",
      "Iteration 9999: Cost     0.45   \n"
     ]
    }
   ],
   "source": [
    "# Initialize fitting parameters\n",
    "np.random.seed(1)\n",
    "initial_w = np.random.rand(X_mapped.shape[1])-0.5\n",
    "initial_b = 1.\n",
    "\n",
    "# Set regularization parameter lambda_ to 1 (you can try varying this)\n",
    "lambda_ = 0.01;                                          \n",
    "# Some gradient descent settings\n",
    "iterations = 10000\n",
    "alpha = 0.01\n",
    "\n",
    "w,b, J_history,_ = gradient_descent(X_mapped, y_train, initial_w, initial_b, \n",
    "                                    compute_cost_reg, compute_gradient_reg, \n",
    "                                    alpha, iterations, lambda_)"
   ]
  },
  {
   "cell_type": "markdown",
   "id": "9f5ffd38",
   "metadata": {},
   "source": [
    "<details>\n",
    "<summary>\n",
    "    <b>Expected Output: Cost < 0.5  (Click for details)</b>\n",
    "</summary>\n",
    "\n",
    "```\n",
    "# Using the following settings\n",
    "#np.random.seed(1)\n",
    "#initial_w = np.random.rand(X_mapped.shape[1])-0.5\n",
    "#initial_b = 1.\n",
    "#lambda_ = 0.01;                                          \n",
    "#iterations = 10000\n",
    "#alpha = 0.01\n",
    "Iteration    0: Cost     0.72   \n",
    "Iteration 1000: Cost     0.59   \n",
    "Iteration 2000: Cost     0.56   \n",
    "Iteration 3000: Cost     0.53   \n",
    "Iteration 4000: Cost     0.51   \n",
    "Iteration 5000: Cost     0.50   \n",
    "Iteration 6000: Cost     0.48   \n",
    "Iteration 7000: Cost     0.47   \n",
    "Iteration 8000: Cost     0.46   \n",
    "Iteration 9000: Cost     0.45   \n",
    "Iteration 9999: Cost     0.45       \n",
    "    \n",
    "```"
   ]
  },
  {
   "cell_type": "markdown",
   "id": "adb8bb8b",
   "metadata": {},
   "source": [
    "##### 3.7 Plotting the decision boundary\n",
    "<a name=\"3.7\"></a>\n",
    "\n",
    "To help you visualize the model learned by this classifier, we will use our `plot_decision_boundary` function which plots the (non-linear) decision boundary that separates the positive and negative examples. \n",
    "\n",
    "- In the function, we plotted the non-linear decision boundary by computing the classifier’s predictions on an evenly spaced grid and then drew a contour plot of where the predictions change from y = 0 to y = 1.\n",
    "\n",
    "- After learning the parameters $w$,$b$, the next step is to plot a decision boundary similar to Figure 4.\n",
    "\n",
    "<img src=\"week3/C1W3A1/images/figure 4.png\"  width=\"450\" height=\"450\">"
   ]
  },
  {
   "cell_type": "code",
   "execution_count": 111,
   "id": "5c62056e",
   "metadata": {},
   "outputs": [
    {
     "name": "stdout",
     "output_type": "stream",
     "text": [
      "[[5.50e-04 9.54e-04 1.55e-03 ... 8.74e-12 1.50e-13 1.42e-15]\n",
      " [8.40e-04 1.47e-03 2.42e-03 ... 2.46e-11 4.51e-13 4.57e-15]\n",
      " [1.21e-03 2.14e-03 3.55e-03 ... 6.07e-11 1.18e-12 1.28e-14]\n",
      " ...\n",
      " [6.07e-11 1.68e-10 3.98e-10 ... 4.08e-22 8.97e-24 1.24e-25]\n",
      " [9.91e-13 2.80e-12 6.75e-12 ... 2.68e-24 5.64e-26 7.42e-28]\n",
      " [8.07e-15 2.33e-14 5.73e-14 ... 8.60e-27 1.72e-28 2.16e-30]] (50, 50)\n"
     ]
    },
    {
     "data": {
      "application/vnd.jupyter.widget-view+json": {
       "model_id": "ec69572a491941fc866b2028c415a2e7",
       "version_major": 2,
       "version_minor": 0
      },
      "image/png": "[encoded data removed]",
      "text/html": [
       "\n",
       "            <div style=\"display: inline-block;\">\n",
       "                <div class=\"jupyter-widgets widget-label\" style=\"text-align: center;\">\n",
       "                    Figure 1\n",
       "                </div>\n",
       "                <img src='data:image/png;base64,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' width=640.0/>\n",
       "            </div>\n",
       "        "
      ],
      "text/plain": [
       "Canvas(toolbar=Toolbar(toolitems=[('Home', 'Reset original view', 'home', 'home'), ('Back', 'Back to previous …"
      ]
     },
     "metadata": {},
     "output_type": "display_data"
    }
   ],
   "source": [
    "plot_decision_boundary(w, b, X_mapped, y_train)"
   ]
  },
  {
   "cell_type": "code",
   "execution_count": 110,
   "id": "9c71e31d-ddba-4d47-8691-9dcd286375a1",
   "metadata": {},
   "outputs": [],
   "source": [
    "def sig(z):\n",
    "    return 1/(1+np.exp(-z))\n",
    "\n",
    "def plot_decision_boundary(w, b, X, y):\n",
    "    # Credit to dibgerge on Github for this plotting code\n",
    "\n",
    "    plot_data(X[:, 0:2], y)\n",
    "\n",
    "    if X.shape[1] <= 2:\n",
    "        print(\"HI\")\n",
    "        plot_x = np.array([min(X[:, 0]), max(X[:, 0])])\n",
    "        plot_y = (-1. / w[1]) * (w[0] * plot_x + b)\n",
    "\n",
    "        plt.plot(plot_x, plot_y, c=\"b\")\n",
    "\n",
    "    else:\n",
    "        u = np.linspace(-1, 1.5, 50)\n",
    "        v = np.linspace(-1, 1.5, 50)\n",
    "\n",
    "        z = np.zeros((len(u), len(v)))\n",
    "\n",
    "        # Evaluate z = theta*x over the grid\n",
    "        for i in range(len(u)):\n",
    "            for j in range(len(v)):\n",
    "                z[i,j] = sig(np.dot(map_feature(u[i], v[j]), w) + b)\n",
    "\n",
    "        # important to transpose z before calling contour       \n",
    "        z = z.T\n",
    "        print(z,z.shape)\n",
    "        # Plot z = 0\n",
    "        plt.contour(u,v,z, levels = [0.5], colors=\"g\")\n",
    "        plt.show()"
   ]
  },
  {
   "cell_type": "code",
   "execution_count": 112,
   "id": "88313446-8755-484e-b211-020b79a2a399",
   "metadata": {},
   "outputs": [
    {
     "data": {
      "text/plain": [
       "array([ 0.91,  1.49, -2.59, -1.02, -1.71, -0.1 , -0.71, -0.46, -0.26,\n",
       "       -1.5 , -0.14, -0.44, -0.52, -0.86, -0.62, -0.07, -0.12, -0.23,\n",
       "       -0.62, -0.82, -0.81,  0.47, -0.49,  0.2 ,  0.04,  0.28, -1.43])"
      ]
     },
     "execution_count": 112,
     "metadata": {},
     "output_type": "execute_result"
    }
   ],
   "source": [
    "w"
   ]
  },
  {
   "cell_type": "markdown",
   "id": "5ad1f620",
   "metadata": {
    "jp-MarkdownHeadingCollapsed": true
   },
   "source": [
    "##### 3.8 Evaluating regularized logistic regression model\n",
    "<a name=\"3.8\"></a>\n",
    "\n",
    "You will use the `predict` function that you implemented above to calculate the accuracy of the regulaized logistic regression model on the training set"
   ]
  },
  {
   "cell_type": "code",
   "execution_count": 87,
   "id": "0278e0d9",
   "metadata": {},
   "outputs": [
    {
     "name": "stdout",
     "output_type": "stream",
     "text": [
      "Train Accuracy: 82.203390\n"
     ]
    }
   ],
   "source": [
    "#Compute accuracy on the training set\n",
    "p = predict(X_mapped, w, b)\n",
    "\n",
    "print('Train Accuracy: %f'%(np.mean(p == y_train) * 100))"
   ]
  },
  {
   "cell_type": "markdown",
   "id": "d5d57961",
   "metadata": {},
   "source": [
    "**Expected Output**:\n",
    "<table>\n",
    "  <tr>\n",
    "    <td> <b>Train Accuracy:</b>~ 80%</td> </tr>\n",
    "</table>"
   ]
  },
  {
   "cell_type": "markdown",
   "id": "fb4cbcd1-4ab0-4d7a-af86-6762dfcd8931",
   "metadata": {},
   "source": [
    "##### My Solution"
   ]
  },
  {
   "cell_type": "code",
   "execution_count": 2,
   "id": "a96ff80b-2c9c-4236-b1fc-93e40b0ad40e",
   "metadata": {},
   "outputs": [
    {
     "name": "stdout",
     "output_type": "stream",
     "text": [
      "The cost is 2.0028840493199764\n"
     ]
    },
    {
     "name": "stderr",
     "output_type": "stream",
     "text": [
      "/tmp/ipykernel_6366/1875243168.py:82: RuntimeWarning: divide by zero encountered in scalar divide\n",
      "  if np.abs((cost_i[i]-cost_i[i-1])/cost_i[i])<0.05:\n"
     ]
    },
    {
     "name": "stdout",
     "output_type": "stream",
     "text": [
      "The cost is 0.6893248648821225\n",
      "The cost is 0.5947327181536963\n",
      "The cost is 0.5594964140290553\n",
      "The cost is 0.5439204525169686\n",
      "The cost is 0.5365941656209957\n",
      "The cost is 0.5329892209020973\n",
      "The cost is 0.5311518234465994\n",
      "The cost is 0.5301878305603884\n",
      "The cost is 0.5296693737410955\n",
      "The cost is 0.5293843854020753\n",
      "The cost is 0.5292246537838604\n",
      "The cost is 0.5291335540683393\n",
      "The cost is 0.5290807827627604\n",
      "The cost is 0.5290497884840468\n",
      "The cost is 0.5290313609587369\n",
      "The cost is 0.5290202869125287\n",
      "The cost is 0.5290135693988894\n",
      "The cost is 0.5290094612865763\n",
      "The cost is 0.5290069311969307\n",
      "[ 0.62  1.18 -2.02 -0.92 -1.43  0.13 -0.37 -0.36 -0.17 -1.46 -0.05 -0.61\n",
      " -0.27 -1.19 -0.24 -0.2  -0.04 -0.27 -0.29 -0.46 -1.04  0.03 -0.28  0.02\n",
      " -0.32 -0.14 -0.93] 1.2715618096527268 0.5290053880660263\n"
     ]
    },
    {
     "name": "stderr",
     "output_type": "stream",
     "text": [
      "No artists with labels found to put in legend.  Note that artists whose label start with an underscore are ignored when legend() is called with no argument.\n"
     ]
    },
    {
     "name": "stdout",
     "output_type": "stream",
     "text": [
      "(array([ 0.62,  1.18, -2.02, -0.92, -1.43,  0.13, -0.37, -0.36, -0.17,\n",
      "       -1.46, -0.05, -0.61, -0.27, -1.19, -0.24, -0.2 , -0.04, -0.27,\n",
      "       -0.29, -0.46, -1.04,  0.03, -0.28,  0.02, -0.32, -0.14, -0.93]), 1.2715618096527268)\n"
     ]
    },
    {
     "data": {
      "application/vnd.jupyter.widget-view+json": {
       "model_id": "8bf27f6f239b4731b03af6f11e8110c7",
       "version_major": 2,
       "version_minor": 0
      },
      "image/png": "[encoded data removed]",
      "text/html": [
       "\n",
       "            <div style=\"display: inline-block;\">\n",
       "                <div class=\"jupyter-widgets widget-label\" style=\"text-align: center;\">\n",
       "                    Figure\n",
       "                </div>\n",
       "                <img src='data:image/png;base64,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' width=800.0/>\n",
       "            </div>\n",
       "        "
      ],
      "text/plain": [
       "Canvas(toolbar=Toolbar(toolitems=[('Home', 'Reset original view', 'home', 'home'), ('Back', 'Back to previous …"
      ]
     },
     "metadata": {},
     "output_type": "display_data"
    }
   ],
   "source": [
    "# load dataset\n",
    "%matplotlib widget\n",
    "import matplotlib.pyplot as plt\n",
    "import sys\n",
    "sys.path.append(\"week3/OptionalLabs\")\n",
    "sys.path.append(\"week3/C1W3A1\")\n",
    "from utils import *\n",
    "plt.style.use('week3/OptionalLabs/deeplearning.mplstyle')\n",
    "from plt_overfit import overfit_example, output\n",
    "import numpy as np\n",
    "from matplotlib import cm\n",
    "X_train, y_train = load_data(\"week3/C1W3A1/data/ex2data2.txt\")\n",
    "x_train= map_feature(X_train[:, 0], X_train[:, 1])\n",
    "\n",
    "\n",
    "def model(x,theta):\n",
    "    w,b=theta\n",
    "    x=np.atleast_1d(x)\n",
    "    w=np.atleast_1d(w)\n",
    "    sigmoid=np.zeros(len(x))\n",
    "    for i in range(len(x)):\n",
    "        if w.shape!=x[i].shape:\n",
    "            print(\"Shape of W and X dosn't match\", w.shape,x[i].shape)\n",
    "            sys.exit()            \n",
    "        sigmoid[i]=1/(1+np.exp(-(np.dot(w,x[i])+b)))\n",
    "    return sigmoid\n",
    "\n",
    "def dmodel_w(x,theta):\n",
    "    w,b=theta\n",
    "    return x\n",
    "\n",
    "def dmodel_w_reg(x,theta,lam):\n",
    "    w,b=theta\n",
    "    return w\n",
    "\n",
    "def dmodel_b(x,theta): \n",
    "    w,b=theta\n",
    "    return 1.\n",
    "\n",
    "def cost(x,theta,y):\n",
    "    w,b=theta\n",
    "    cf=  -y*np.log(model(x,theta))-(1-y)*np.log(1-model(x,theta))\n",
    "    return np.sum(cf)/np.shape(x)[0]\n",
    "def cost_reg(x,theta,y,lam):\n",
    "    w,b=theta\n",
    "    return (lam/2/np.shape(x)[0])*(np.sum(w**2))\n",
    "\n",
    "\n",
    "def dcost_w(x,theta,y):\n",
    "    w,b=theta\n",
    "    if np.isscalar(w):\n",
    "        w=np.array([w])\n",
    "    elif isinstance(w,tuple):\n",
    "        w=np.array(w)\n",
    "    dcost_w_result=np.zeros(w.shape) \n",
    "    for wi in range(len(w)):\n",
    "        dcost_w_result[wi]=np.sum((model(x,theta)-y)*dmodel_w(x,theta)[:,wi])/len(x) \n",
    "    return  dcost_w_result \n",
    "\n",
    "def dcost_w_reg(x,theta,y,lam):\n",
    "    w,b=theta\n",
    "    w=np.atleast_1d(w)\n",
    "    return (lam/np.shape(x)[0])*w \n",
    "\n",
    "def dcost_b(x,theta,y):\n",
    "    return np.sum((model(x,theta)-y)*dmodel_b(x,theta))/len(x)\n",
    "    \n",
    "def compute_gradient(x,theta,y):\n",
    "    return dcost_w(x,theta,y),dcost_b(x,theta,y)\n",
    "\n",
    "def compute_gradient_reg(x,theta,y,lam):\n",
    "    return dcost_w_reg(x,theta,y,lam)\n",
    "\n",
    "np.set_printoptions(precision=2)\n",
    "\n",
    "def gradient_decent(x,y,theta,alpha,lam,niter):\n",
    "    w,b=theta\n",
    "    w=np.atleast_1d(w)\n",
    "    cost_i=np.zeros(niter)\n",
    "    for i in np.arange(niter):\n",
    "        if i>1:\n",
    "            if np.abs((cost_i[i]-cost_i[i-1])/cost_i[i])<0.05:\n",
    "                alpha/=2\n",
    "        dcw,dcb= compute_gradient(x,theta,y)\n",
    "        dcw_reg= compute_gradient_reg(x,theta,y,lam)\n",
    "        #print(dcw_reg)\n",
    "        \n",
    "        w = w-alpha*(dcw+dcw_reg)\n",
    "        b = b-alpha*dcb\n",
    "        theta=w,b\n",
    "        cost_i[i]=cost(x,theta,y)+cost_reg(x,theta,y,lam)\n",
    "        #if i>1:\n",
    "        #    if cost_i[i]>cost_i[i-1]:\n",
    "        #        alpha/=2\n",
    "        if i%50==0:\n",
    "            print(\"The cost is\",cost_i[i])\n",
    "        #print(theta)    \n",
    "    return cost_i,theta\n",
    "\n",
    " \n",
    "    \n",
    "niter=1000\n",
    "Win=np.ones(x_train.shape[-1])\n",
    "Bin=1.\n",
    "lam_in=1.\n",
    "alpha=0.5\n",
    "theta_in=Win,Bin\n",
    "grad_dec_result,theta_f=gradient_decent(x_train,y_train,theta_in,alpha,lam_in,niter)    \n",
    "\n",
    "wf,bf=theta_f\n",
    "print(wf,bf,grad_dec_result[-1])\n",
    "\n",
    "\n",
    "\n",
    "\n",
    "\n",
    "plt.figure(figsize=(8,4))\n",
    "ax=plt.subplot(121)\n",
    "plt.plot(np.arange(niter),grad_dec_result,\".\")\n",
    "plt.yscale(\"log\")\n",
    "plt.xlabel(\"No of steps\")\n",
    "plt.ylabel(\"Cost function\")\n",
    "plt.ylim(bottom=0.01)\n",
    "\n",
    "\n",
    "\n",
    "ax=plt.subplot(1,2,2)  \n",
    "x_plot=np.linspace(-1,1,20)\n",
    "y_plot=np.linspace(-1,1,20)\n",
    "z_plot=np.zeros((len(x_plot),len(y_plot)))\n",
    "for i in range(len(x_plot)):\n",
    "    for j in range(len(y_plot)):\n",
    "        z_plot[i,j]=sig(np.dot(map_feature(x_plot[i],y_plot[j]),theta_f[0])+theta_f[1])\n",
    "plt.contour(x_plot,y_plot,z_plot, levels = [0.5], colors=\"g\")\n",
    "#plt.plot(x_train, model(x_train,theta_f), c = \"g\",label=\"Predcited model\")\n",
    "#ax.plot((-bf/wf[0],0),(0,-bf/wf[1]),label=\"Predicted model\")\n",
    "pos=y_train>0.5\n",
    "neg=y_train<0.5\n",
    "plt.scatter(x_train[:,0][pos],x_train[:,1][pos] , marker='x', c='r') \n",
    "plt.scatter(x_train[:,0][neg],x_train[:,1][neg] , marker='o', c='b') \n",
    "ax.set_ylabel(r'$x_1$')\n",
    "ax.set_xlabel(r'$x_0$')   \n",
    "ax.axis([X_train[:,0].min()-0.1, X_train[:,0].max()+0.1,X_train[:,1].min()-0.1 , X_train[:,1].max()+0.1])\n",
    "# Set the title\n",
    "plt.title(\"Model fit\")\n",
    "# Set the y-axis label\n",
    "plt.ylabel('training data')\n",
    "# Set the x-axis label\n",
    "plt.xlabel('training input')    \n",
    "plt.legend()\n",
    "plt.tight_layout()\n",
    "\n",
    "\n",
    "print(theta_f)"
   ]
  },
  {
   "cell_type": "code",
   "execution_count": null,
   "id": "85becc41-d47c-41dd-8fdd-813a45f6871b",
   "metadata": {},
   "outputs": [],
   "source": []
  }
 ],
 "metadata": {
  "kernelspec": {
   "display_name": "Python 3 (ipykernel)",
   "language": "python",
   "name": "python3"
  },
  "language_info": {
   "codemirror_mode": {
    "name": "ipython",
    "version": 3
   },
   "file_extension": ".py",
   "mimetype": "text/x-python",
   "name": "python",
   "nbconvert_exporter": "python",
   "pygments_lexer": "ipython3",
   "version": "3.10.12"
  }
 },
 "nbformat": 4,
 "nbformat_minor": 5
}
